{
 "cells": [
  {
   "cell_type": "code",
   "execution_count": 344,
   "id": "4caa570a",
   "metadata": {},
   "outputs": [],
   "source": [
    "using CUDA, Flux, JLD2, Random, Statistics, LinearAlgebra, FFTW, ProgressMeter, Dates\n",
    "using Flux: @epochs, train!, throttle, Zygote"
   ]
  },
  {
   "cell_type": "code",
   "execution_count": 345,
   "id": "6a8c42f5",
   "metadata": {},
   "outputs": [],
   "source": [
    "using Plots"
   ]
  },
  {
   "cell_type": "code",
   "execution_count": 346,
   "id": "38c06b51",
   "metadata": {},
   "outputs": [
    {
     "data": {
      "text/plain": [
       "\"0809_0958-0505_1536\""
      ]
     },
     "execution_count": 346,
     "metadata": {},
     "output_type": "execute_result"
    }
   ],
   "source": [
    "#if not nothing, train from a simpler model; if nothing, train from tabula rasa\n",
    "pretrain_prefix = \"0809_0958-0505_1536\" #\"0709_0956-0705_0839\"#\"0709_0956-0605_1727\""
   ]
  },
  {
   "cell_type": "code",
   "execution_count": 347,
   "id": "aae61a33",
   "metadata": {},
   "outputs": [
    {
     "data": {
      "text/plain": [
       "true"
      ]
     },
     "execution_count": 347,
     "metadata": {},
     "output_type": "execute_result"
    }
   ],
   "source": [
    "train = true\n",
    "retrain = false\n",
    "cubic = true #true if the measured pulses have a cubic phase\n",
    "chirp = true #true if the measured pulses have a chirp\n",
    "augment = true #true if the data is to be augmented\n",
    "ssh = false\n",
    "corr_pars = !ssh #if true, the first parameter resolved by NN is the true band gap; if false, t[0]\n",
    "logamp = true #if true, logarithmic amplitudes are used; if false, absolute\n",
    "learn_pars = true #false if the network doesn't have to resolve the crystal bands"
   ]
  },
  {
   "cell_type": "code",
   "execution_count": 458,
   "id": "94e74393",
   "metadata": {},
   "outputs": [
    {
     "data": {
      "text/plain": [
       "\"0809_0958\""
      ]
     },
     "execution_count": 458,
     "metadata": {},
     "output_type": "execute_result"
    }
   ],
   "source": [
    "#\"0809_0958\": unchirped\n",
    "#\"0709_0956\": chirped\n",
    "#\"1209_1232\": chirped with cubic phase\n",
    "#\"2605_1021\": 50 mrad phase noise\n",
    "#\"2605_1457\": 200 mrad phase noise\n",
    "\n",
    "prefix = \"0809_0958\""
   ]
  },
  {
   "cell_type": "code",
   "execution_count": 349,
   "id": "826937c8",
   "metadata": {},
   "outputs": [
    {
     "data": {
      "text/plain": [
       "cep_err (generic function with 1 method)"
      ]
     },
     "execution_count": 349,
     "metadata": {},
     "output_type": "execute_result"
    }
   ],
   "source": [
    "function cep_err(model, test_data)\n",
    "    if size(test_data[2], 1) > 1\n",
    "        cep_eval = test_data[2][1:2, :] |> cpu\n",
    "    else\n",
    "        cep_eval = vcat(cos.(test_data[2]), sin.(test_data[2])) |> cpu\n",
    "    end\n",
    "    cep_infd = (test_data[1] |> model |> cpu)[1:2, :]\n",
    "\n",
    "    nrms = mapslices(norm, cep_infd, dims=1)\n",
    "    cep_infd .= cep_infd./nrms\n",
    "\n",
    "    cθ = diag(cep_eval'cep_infd)\n",
    "    δφ = sqrt(2*mean(1.0 .- cθ))\n",
    "    return δφ\n",
    "end"
   ]
  },
  {
   "cell_type": "code",
   "execution_count": 350,
   "id": "87d7455e",
   "metadata": {},
   "outputs": [
    {
     "data": {
      "text/plain": [
       "disp_cep_err (generic function with 1 method)"
      ]
     },
     "execution_count": 350,
     "metadata": {},
     "output_type": "execute_result"
    }
   ],
   "source": [
    "function disp_cep_err(model, test_data; show_full = false)\n",
    "    println(\"CEP error:\")\n",
    "    println(round(cep_err(model, test_data), sigdigits=3))\n",
    "\n",
    "    if (cubic || chirp) && show_full\n",
    "        pulse_eval = test_data[2][3:end, :] |> cpu\n",
    "        pulse_infd = (test_data[1] |> model |> cpu)[3:end, :]\n",
    "\n",
    "        Δ = pulse_eval .- pulse_infd\n",
    "\n",
    "        println(\"Absolute pulse parameter errors:\")\n",
    "        println(round.(vec(std(Δ, dims=2)), sigdigits=3))\n",
    "        println(\"\")\n",
    "    end\n",
    "    return nothing\n",
    "end"
   ]
  },
  {
   "cell_type": "code",
   "execution_count": 354,
   "id": "c46c9aee",
   "metadata": {},
   "outputs": [
    {
     "data": {
      "text/plain": [
       "rev_norm (generic function with 1 method)"
      ]
     },
     "execution_count": 354,
     "metadata": {},
     "output_type": "execute_result"
    }
   ],
   "source": [
    "function rev_norm(x; minmax = nothing) \n",
    "    if minmax == nothing\n",
    "        return x\n",
    "    else\n",
    "        pars_min, pars_max = minmax\n",
    "        return x.*(pars_max .- pars_min) .+ pars_min\n",
    "    end\n",
    "end"
   ]
  },
  {
   "cell_type": "code",
   "execution_count": 355,
   "id": "0603add6",
   "metadata": {},
   "outputs": [
    {
     "data": {
      "text/plain": [
       "disp_par_err (generic function with 1 method)"
      ]
     },
     "execution_count": 355,
     "metadata": {},
     "output_type": "execute_result"
    }
   ],
   "source": [
    "function disp_par_err(model, test_data; minmax = nothing)\n",
    "    pars_eval = rev_norm(test_data[2] |> cpu, minmax=minmax)\n",
    "    pars_infd = rev_norm(test_data[1] |> model |> cpu, minmax=minmax)\n",
    "        \n",
    "\n",
    "    Δ = pars_eval .- pars_infd\n",
    "    Δ_rel = (pars_infd .- pars_eval)./pars_eval\n",
    "\n",
    "    println(\"Absolute parameter errors:\")\n",
    "    println(round.(vec(std(Δ, dims=2)), sigdigits=3))\n",
    "    println(\"\")\n",
    "\n",
    "    println(\"Relative parameter errors:\")\n",
    "    println(round.(vec(std(Δ_rel, dims=2)), sigdigits=3))\n",
    "    println(\"\")\n",
    "    return nothing\n",
    "end"
   ]
  },
  {
   "cell_type": "code",
   "execution_count": 356,
   "id": "52088e4e",
   "metadata": {},
   "outputs": [
    {
     "data": {
      "text/plain": [
       "train_NN! (generic function with 1 method)"
      ]
     },
     "execution_count": 356,
     "metadata": {},
     "output_type": "execute_result"
    }
   ],
   "source": [
    "function train_NN!(N, model, loader, test_data, L; showbar=true, doplot=false, debug=false)\n",
    "    loss_best = L(test_data...)\n",
    "    pars_best = copy(collect(params(model)))\n",
    "\n",
    "    showbar && (prog = Progress(N))\n",
    "    doplot && (loss_test = zeros(N); loss = zeros(N))\n",
    "\n",
    "    for i=1:N\n",
    "        for d in loader\n",
    "            ps = params(model)\n",
    "            gs = Zygote.gradient(()->L(d...), ps)\n",
    "            Flux.Optimise.update!(opt, ps, gs)\n",
    "        end\n",
    "        \n",
    "        loss_curr, loss_train = Zygote.ignore() do\n",
    "            L(test_data...; training=false), mean([L(d...; training=false) for d in loader])\n",
    "        end\n",
    "        \n",
    "        showbar && next!(prog, showvalues=[(:epoch, i), (:loss, loss_train), (:loss_test, loss_curr)])\n",
    "        \n",
    "        loss_test[i] = loss_curr\n",
    "        loss[i] = loss_train\n",
    "        \n",
    "        if loss_best > loss_curr\n",
    "            loss_best = loss_curr\n",
    "            pars_best = copy(collect(params(model)))\n",
    "        end\n",
    "    end\n",
    "    \n",
    "    if doplot\n",
    "        return pars_best, (loss, loss_test)\n",
    "    else \n",
    "        return pars_best\n",
    "    end\n",
    "end"
   ]
  },
  {
   "cell_type": "code",
   "execution_count": 357,
   "id": "81004964",
   "metadata": {},
   "outputs": [
    {
     "data": {
      "text/plain": [
       "split (generic function with 2 methods)"
      ]
     },
     "execution_count": 357,
     "metadata": {},
     "output_type": "execute_result"
    }
   ],
   "source": [
    "function split(x::AbstractArray{T, 2} where T, ind::Int)\n",
    "    return x[:,1:ind], x[:,ind+1:end]\n",
    "end\n",
    "\n",
    "function split(x::AbstractArray{T, 3} where T, ind::Int)\n",
    "    return x[:,:,1:ind], x[:,:,ind+1:end]\n",
    "end"
   ]
  },
  {
   "cell_type": "code",
   "execution_count": 361,
   "id": "73a12f62",
   "metadata": {},
   "outputs": [
    {
     "data": {
      "text/plain": [
       "circpad (generic function with 2 methods)"
      ]
     },
     "execution_count": 361,
     "metadata": {},
     "output_type": "execute_result"
    }
   ],
   "source": [
    "function circpad(x::AbstractArray{T, 3} where T, k::NTuple{1, Int})\n",
    "    k1 = k[1]\n",
    "\n",
    "    x_low = x[1:k1, :, :]\n",
    "    x_high = x[end-k1+1:end, :, :]\n",
    "\n",
    "    x = cat(x_high, x, x_low, dims=1)\n",
    "\n",
    "    return x\n",
    "end"
   ]
  },
  {
   "cell_type": "code",
   "execution_count": 362,
   "id": "16980f2f",
   "metadata": {},
   "outputs": [
    {
     "data": {
      "text/plain": [
       "circpad (generic function with 2 methods)"
      ]
     },
     "execution_count": 362,
     "metadata": {},
     "output_type": "execute_result"
    }
   ],
   "source": [
    "function circpad(x::AbstractArray{T, 4} where T, k::NTuple{2, Int})\n",
    "    k1, k2 = k\n",
    "\n",
    "    x_low = x[1:k1, :, :, :]\n",
    "    x_high = x[end-k1+1:end, :, :, :]\n",
    "\n",
    "    x = cat(x_high, x, x_low, dims=1)\n",
    "\n",
    "    x_right = x[:,1:k2,:,:]\n",
    "    x_left = x[:,end-k2+1:end,:,:]\n",
    "\n",
    "    x = cat(x_left, x, x_right, dims=2)\n",
    "    return x\n",
    "end"
   ]
  },
  {
   "cell_type": "code",
   "execution_count": 363,
   "id": "76e2084e",
   "metadata": {},
   "outputs": [],
   "source": [
    "struct CircPad{N}\n",
    "    k::NTuple{N,Int}\n",
    "end\n",
    "\n",
    "function (c::CircPad)(x) where T\n",
    "    return circpad(x, c.k)\n",
    "end"
   ]
  },
  {
   "cell_type": "code",
   "execution_count": 364,
   "id": "0b814a64",
   "metadata": {},
   "outputs": [
    {
     "data": {
      "text/plain": [
       "disassemble (generic function with 2 methods)"
      ]
     },
     "execution_count": 364,
     "metadata": {},
     "output_type": "execute_result"
    }
   ],
   "source": [
    "function disassemble(model::Chain, seq=[])\n",
    "    for layer=model\n",
    "        if layer isa Chain\n",
    "            seq = disassemble(layer, seq)\n",
    "        else\n",
    "            append!(seq, [layer])\n",
    "        end\n",
    "    end\n",
    "    return seq\n",
    "end"
   ]
  },
  {
   "cell_type": "code",
   "execution_count": 366,
   "id": "87c67a3b",
   "metadata": {},
   "outputs": [
    {
     "data": {
      "text/plain": [
       "load_models (generic function with 1 method)"
      ]
     },
     "execution_count": 366,
     "metadata": {},
     "output_type": "execute_result"
    }
   ],
   "source": [
    "function load_models(filename; band_key=\"M1\", pulse_key=\"M2\")\n",
    "    file = jldopen(filename)\n",
    "    band_model = file[band_key] |> copy\n",
    "    pulse_model = file[pulse_key] |> copy\n",
    "\n",
    "    M_pars = file[\"par_model\"] |> gpu\n",
    "    M_cep = file[\"cep_model\"] |> gpu\n",
    "    \n",
    "    Flux.loadparams!(M_pars, band_model)\n",
    "    Flux.loadparams!(M_cep, pulse_model)\n",
    "\n",
    "    return M_pars, M_cep\n",
    "end"
   ]
  },
  {
   "cell_type": "code",
   "execution_count": 367,
   "id": "261b0c6f",
   "metadata": {},
   "outputs": [
    {
     "data": {
      "text/plain": [
       "unnest (generic function with 2 methods)"
      ]
     },
     "execution_count": 367,
     "metadata": {},
     "output_type": "execute_result"
    }
   ],
   "source": [
    "function unnest(model, out_dim::Int=0)\n",
    "    seq = disassemble(model)\n",
    "\n",
    "    if out_dim != 0\n",
    "        av_dim = size(seq[end].W, 1)\n",
    "        @assert seq[end] isa Dense\n",
    "        dim = min(av_dim, out_dim)\n",
    "        rep = Dense(size(seq[end].W, 2), out_dim) |> gpu\n",
    "        rep.W[1:dim, :] .= seq[end].W[1:dim, :]\n",
    "        rep.b[1:dim] .= seq[end].b[1:dim]\n",
    "        seq[end] = rep\n",
    "    end\n",
    "\n",
    "    return Chain(seq...)\n",
    "end"
   ]
  },
  {
   "cell_type": "code",
   "execution_count": 368,
   "id": "87ee3ad3",
   "metadata": {},
   "outputs": [
    {
     "data": {
      "text/plain": [
       "L_pars_aug (generic function with 2 methods)"
      ]
     },
     "execution_count": 368,
     "metadata": {},
     "output_type": "execute_result"
    }
   ],
   "source": [
    "L_pars(x, y; training=false) = Flux.mse(M_pars(x), y)\n",
    "\n",
    "function L_pars_aug(x::AbstractArray{T, 4}, y::AbstractArray{T, 2}; training = true, model = M_pars) where T\n",
    "    out = (training ? circshift(x, (0, rand(0:Nφ-1), 0, 0)) : x) |> model\n",
    "    Flux.mse(out, y)\n",
    "end\n",
    "\n",
    "function L_pars_aug(x::AbstractArray{T, 3}, y::AbstractArray{T, 2}; training = true, model = M_pars) where T\n",
    "    out = (training ? circshift(x, (rand(0:Nφ-1), 0, 0)) : x) |> model\n",
    "    Flux.mse(out, y)\n",
    "end"
   ]
  },
  {
   "cell_type": "code",
   "execution_count": 369,
   "id": "3be62e5b",
   "metadata": {},
   "outputs": [
    {
     "data": {
      "text/plain": [
       "L_cep_aug (generic function with 1 method)"
      ]
     },
     "execution_count": 369,
     "metadata": {},
     "output_type": "execute_result"
    }
   ],
   "source": [
    "L_cep(x, y) = Flux.mse(M_cep(x), y)\n",
    "\n",
    "function L_cep_aug(x, y; training = true)\n",
    "    if training\n",
    "        j = rand(1:Nφ)\n",
    "        x_aug = circshift(x, (0, j-1, 0, 0))\n",
    "        φ = φ_aug[j]\n",
    "        rm = Zygote.ignore() do\n",
    "            rm = Matrix(I, size(y, 1), size(y, 1)) |> Array{Float64}\n",
    "            rm[1:2, 1:2] .= [[cos(φ), -sin(φ)] [sin(φ), cos(φ)]]\n",
    "            gpu(rm)\n",
    "        end\n",
    "        return Flux.mse(M_cep(x_aug), rm*y)\n",
    "    else\n",
    "        return Flux.mse(M_cep(x), y)\n",
    "    end\n",
    "end"
   ]
  },
  {
   "cell_type": "code",
   "execution_count": 419,
   "id": "bb8d3bc1",
   "metadata": {},
   "outputs": [],
   "source": [
    "if train\n",
    "    file = jldopen(\"nn-cep-2h/resps-cep-$prefix.jld2\")\n",
    "\n",
    "    cep = permutedims(file[\"cep\"])\n",
    "    if chirp\n",
    "        try\n",
    "            global chp = permutedims(file[\"chirp\"])\n",
    "        catch\n",
    "            global chirp = false\n",
    "        end\n",
    "\n",
    "        if sum(abs2, chp) ≈ 0\n",
    "            chirp = false\n",
    "        end\n",
    "    end\n",
    "    if cubic\n",
    "        try\n",
    "            global cbp = permutedims(file[\"cbp\"])#).^(1//3)\n",
    "        catch\n",
    "            global cubic = false\n",
    "        end\n",
    "\n",
    "        if sum(abs2, cbp) ≈ 0\n",
    "            cubic = false\n",
    "        end\n",
    "    end\n",
    "end"
   ]
  },
  {
   "cell_type": "code",
   "execution_count": 426,
   "id": "842b301c",
   "metadata": {},
   "outputs": [],
   "source": [
    "if train\n",
    "    data = file[\"data_freq\"][:,1:2:end,:]\n",
    "    Nω, Nφ, N_pars = size(data)\n",
    "    \n",
    "    ξ = 0.0 #multiplicative noise magnitude\n",
    "    \n",
    "    data .= data.*(1.0-ξ .+ 2ξ.*rand(eltype(data), size(data)))\n",
    "    \n",
    "    if logamp\n",
    "        data .= log10.(data)\n",
    "    end\n",
    "    \n",
    "    data = (data .- mean(data, dims=(1, 2)))./std(data, dims=(1, 2))\n",
    "end;"
   ]
  },
  {
   "cell_type": "code",
   "execution_count": 427,
   "id": "c3a5c38c",
   "metadata": {},
   "outputs": [
    {
     "name": "stderr",
     "output_type": "stream",
     "text": [
      "\u001b[32mProgress: 100%|█████████████████████████████████████████| Time: 0:00:20\u001b[39m\n"
     ]
    }
   ],
   "source": [
    "if train\n",
    "    pars = ssh ? permutedims(hcat(file[\"delta\"], file[\"h1\"], file[\"h2\"])) : file[\"pars\"] |> copy\n",
    "\n",
    "    if N_pars < 2^17\n",
    "        aug_step = 2\n",
    "    else\n",
    "        aug_step = 2\n",
    "    end\n",
    "\n",
    "    ord = size(pars)[1]\n",
    "\n",
    "    if corr_pars\n",
    "        κ = range(-π, stop=π, length=101)\n",
    "\n",
    "        @showprogress for j=1:N_pars\n",
    "            pars[1, j] += minimum([sum(pars[i,j]*cos((i-1)*κ) for i=2:ord) for κ=κ])\n",
    "        end\n",
    "    end\n",
    "end"
   ]
  },
  {
   "cell_type": "code",
   "execution_count": 428,
   "id": "5d477729",
   "metadata": {},
   "outputs": [],
   "source": [
    "if train\n",
    "    ratio = 0.01\n",
    "    N_train = N_pars*(1-ratio) |> round |> Int\n",
    "\n",
    "    data_trn, data_tst = split(data, N_train)\n",
    "    #data_c_trn, data_c_tst = split(data_cor, N_train)\n",
    "    pars_trn, pars_tst = split(pars, N_train)\n",
    "    cep_trn, cep_tst = split(cep, N_train)\n",
    "    if chirp\n",
    "        chp_trn, chp_tst = split(chp, N_train)\n",
    "    end\n",
    "    if cubic\n",
    "        cbp_trn, cbp_tst = split(cbp, N_train)\n",
    "    end\n",
    "    \n",
    "    data_trn = Flux.unsqueeze(data_trn, 3)\n",
    "    data_tst = Flux.unsqueeze(data_tst, 3)\n",
    "end;"
   ]
  },
  {
   "cell_type": "code",
   "execution_count": 429,
   "id": "56dca251",
   "metadata": {},
   "outputs": [],
   "source": [
    "if train\n",
    "    φ_aug = collect(range(0.0, stop=2π, length=Nφ+1))[1:end-1]\n",
    "end;"
   ]
  },
  {
   "cell_type": "code",
   "execution_count": 430,
   "id": "6cde3744",
   "metadata": {},
   "outputs": [],
   "source": [
    "if train\n",
    "    data_y = pars_trn\n",
    "    data_y_tst = pars_tst\n",
    "    data_yφ = vcat(cos.(cep_trn), sin.(cep_trn), eval.([:chp_trn, :cbp_trn][BitArray([chirp, cubic])])...)#, pars_trn)\n",
    "    data_yφ_tst = vcat(cos.(cep_tst), sin.(cep_tst), eval.([:chp_tst, :cbp_tst][BitArray([chirp, cubic])])...)#, pars_tst)\n",
    "    \n",
    "    Q = data_y |> gpu\n",
    "    R = data_yφ |> gpu\n",
    "\n",
    "    P = data_trn |> gpu\n",
    "    P_c = permutedims(data_trn[:,:,1,:], (2, 1, 3)) |> gpu\n",
    "    data_c_tst = permutedims(data_tst[:,:,1,:], (2, 1, 3)) |> gpu\n",
    "\n",
    "    test_data_p = (gpu(data_tst), gpu(data_y_tst))\n",
    "    test_data_cep = (gpu(data_tst), gpu(data_yφ_tst))\n",
    "end;"
   ]
  },
  {
   "cell_type": "code",
   "execution_count": 377,
   "id": "94c9f997",
   "metadata": {},
   "outputs": [
    {
     "data": {
      "text/plain": [
       "conv_link_zp (generic function with 1 method)"
      ]
     },
     "execution_count": 377,
     "metadata": {},
     "output_type": "execute_result"
    }
   ],
   "source": [
    "conv_link_zp(k, n1, n2; zero_init=false, stride=1) = Chain(Conv((k, k), n1=>n2, pad=(k÷2, k÷2), \n",
    "        stride=stride, init=zero_init ? zeros : Flux.glorot_uniform), \n",
    "    BatchNorm(n2, swish)) |> gpu"
   ]
  },
  {
   "cell_type": "code",
   "execution_count": 378,
   "id": "f39a4c2a",
   "metadata": {},
   "outputs": [
    {
     "data": {
      "text/plain": [
       "conv_stack_zp (generic function with 1 method)"
      ]
     },
     "execution_count": 378,
     "metadata": {},
     "output_type": "execute_result"
    }
   ],
   "source": [
    "conv_stack_zp(k, n1, n2, r) = Chain(conv_link_zp(k, n1, n2), [conv_link_zp(k, n2, n2; zero_init=true) for _=1:r-1]...)"
   ]
  },
  {
   "cell_type": "code",
   "execution_count": 379,
   "id": "ea0160bc",
   "metadata": {},
   "outputs": [
    {
     "data": {
      "text/plain": [
       "conv_link (generic function with 1 method)"
      ]
     },
     "execution_count": 379,
     "metadata": {},
     "output_type": "execute_result"
    }
   ],
   "source": [
    "conv_link(k, n1, n2; zero_init=false, stride=1) = Chain(CircPad((0, k÷2)), \n",
    "    Conv((k, k), n1=>n2, pad=(k÷2, 0),\n",
    "        stride=stride, init=zero_init ? zeros : Flux.glorot_uniform), \n",
    "    BatchNorm(n2, swish)) |> gpu"
   ]
  },
  {
   "cell_type": "code",
   "execution_count": 380,
   "id": "2f6c6c38",
   "metadata": {},
   "outputs": [
    {
     "data": {
      "text/plain": [
       "add_pad (generic function with 1 method)"
      ]
     },
     "execution_count": 380,
     "metadata": {},
     "output_type": "execute_result"
    }
   ],
   "source": [
    "function add_pad(x::AbstractArray{T, 4}, y::AbstractArray{T, 4}) where T\n",
    "    (x, y) = size(x, 3) >= size(y, 3) ? (x, y) : (y, x) \n",
    "    \n",
    "    return x + cat(y, gpu(zeros(size(y)[1:2]..., size(x, 3) - size(y, 3), size(x, 4))), dims = 3)\n",
    "end"
   ]
  },
  {
   "cell_type": "code",
   "execution_count": 381,
   "id": "252ed47b",
   "metadata": {},
   "outputs": [
    {
     "data": {
      "text/plain": [
       "res_link (generic function with 2 methods)"
      ]
     },
     "execution_count": 381,
     "metadata": {},
     "output_type": "execute_result"
    }
   ],
   "source": [
    "function res_link(n_in, n_out=n_in)\n",
    "    if n_out == n_in\n",
    "        m = Chain(conv_link(3, n_in, n_out), \n",
    "            conv_link(3, n_out, n_out, zero_init=true)) |> gpu |> unnest\n",
    "        return SkipConnection(m, +)\n",
    "    else\n",
    "        m = Chain(conv_link(3, n_in, n_out, stride=2), \n",
    "            conv_link(3, n_out, n_out, zero_init=true)) |> gpu |> unnest\n",
    "        \n",
    "        m_linc = Conv((1, 1), n_in=>n_out, bias=false, stride=2) #option B\n",
    "        return Parallel(+, m, m_linc)\n",
    "    end\n",
    "end"
   ]
  },
  {
   "cell_type": "code",
   "execution_count": 240,
   "id": "3d14b64c",
   "metadata": {},
   "outputs": [
    {
     "data": {
      "text/plain": [
       "add_noise (generic function with 1 method)"
      ]
     },
     "execution_count": 240,
     "metadata": {},
     "output_type": "execute_result"
    }
   ],
   "source": [
    "function add_noise(x::AbstractArray{T, N} where N, ξ::T; dist=:gaussian) where T\n",
    "    if dist == :gaussian\n",
    "        return x.*typeof(x)(one(T) .+ ξ.*randn(T, size(x)))\n",
    "    elseif dist == :uniform\n",
    "        return x.*typeof(x)(one(T)-ξ .+ 2ξ.*rand(T, size(x)))\n",
    "    else\n",
    "        throw(ErrorException)\n",
    "    end\n",
    "end"
   ]
  },
  {
   "cell_type": "code",
   "execution_count": 382,
   "id": "292b4371",
   "metadata": {},
   "outputs": [
    {
     "data": {
      "text/plain": [
       "conv_stack (generic function with 1 method)"
      ]
     },
     "execution_count": 382,
     "metadata": {},
     "output_type": "execute_result"
    }
   ],
   "source": [
    "conv_stack(k, n1, n2, r; mp_k=2, mp_stride=2) = Chain(conv_link(k, n1, n2), [conv_link(k, n2, n2) for _=1:r-1]..., MaxPool((mp_k, mp_k), stride=mp_stride))"
   ]
  },
  {
   "cell_type": "code",
   "execution_count": 383,
   "id": "d493d233",
   "metadata": {},
   "outputs": [
    {
     "data": {
      "text/plain": [
       "cat3 (generic function with 1 method)"
      ]
     },
     "execution_count": 383,
     "metadata": {},
     "output_type": "execute_result"
    }
   ],
   "source": [
    "cat3(args...) = cat(args..., dims=3)"
   ]
  },
  {
   "cell_type": "code",
   "execution_count": 384,
   "id": "46dde42a",
   "metadata": {},
   "outputs": [
    {
     "data": {
      "text/plain": [
       "conv_link_dn (generic function with 1 method)"
      ]
     },
     "execution_count": 384,
     "metadata": {},
     "output_type": "execute_result"
    }
   ],
   "source": [
    "conv_link_dn(k, n1, n2; stride=1) = Chain(BatchNorm(n1, swish), \n",
    "    CircPad((0, k÷2)),\n",
    "    Conv((k, k), n1=>n2, pad=(k÷2, 0), stride=stride)) |> gpu"
   ]
  },
  {
   "cell_type": "code",
   "execution_count": 385,
   "id": "71687175",
   "metadata": {},
   "outputs": [],
   "source": [
    "#the original DenseNet paper states that a memory-optimal realization would have 2 caches, and anyone who tinkers with this code is encouraged to screw around and find out if that makes it better\n",
    "\n",
    "struct DenseBlock\n",
    "    blocks::Array{Any}\n",
    "    k0::Int\n",
    "    m::Int\n",
    "    k::Int\n",
    "end\n",
    "\n",
    "function DenseBlock(k0, m, k=12)\n",
    "    blocks = [Chain(conv_link_dn(1, k0+(i-1)*k, k), conv_link_dn(3, k, k)) |> gpu |> unnest for i=1:m]\n",
    "    return DenseBlock(blocks, k0, m, k)\n",
    "end\n",
    "\n",
    "function (db::DenseBlock)(x)\n",
    "    outs = Zygote.Buffer(x, size(x)[1:2]..., db.k0+db.m*db.k, size(x)[end])\n",
    "    outs[:,:,1:db.k0,:] = x\n",
    "    \n",
    "    for (i, block) = enumerate(db.blocks)\n",
    "        fst = db.k0 + (i-1)*db.k\n",
    "        outs[:,:,fst + 1: fst + db.k,:] = outs[:,:,1:fst,:] |> copy |> block\n",
    "    end\n",
    "    \n",
    "    return copy(outs)\n",
    "end"
   ]
  },
  {
   "cell_type": "code",
   "execution_count": 387,
   "id": "96890148",
   "metadata": {},
   "outputs": [
    {
     "data": {
      "text/plain": [
       "TransBlock (generic function with 1 method)"
      ]
     },
     "execution_count": 387,
     "metadata": {},
     "output_type": "execute_result"
    }
   ],
   "source": [
    "TransBlock(k0; θ=0.5) = Chain(BatchNorm(k0, swish), Conv((1, 1), k0=>Int(round(k0*θ))), MeanPool((2, 2))) |> gpu"
   ]
  },
  {
   "cell_type": "code",
   "execution_count": 388,
   "id": "74996d07",
   "metadata": {
    "scrolled": true
   },
   "outputs": [],
   "source": [
    "CUDA.allowscalar(false)"
   ]
  },
  {
   "cell_type": "code",
   "execution_count": 389,
   "id": "e4233cdf",
   "metadata": {},
   "outputs": [],
   "source": [
    "if train\n",
    "    D2 = 1024\n",
    "    D3 = 512\n",
    "\n",
    "    dummy = randn(Nω, Nφ, 1, 1) |> gpu\n",
    "    d_par = size(data_y, 1)\n",
    "    d_cep = size(data_yφ, 1)\n",
    "    \n",
    "    @assert dummy isa CuArray #Flux sometimes works weirdly with IJulia\n",
    "end;"
   ]
  },
  {
   "cell_type": "code",
   "execution_count": 390,
   "id": "d96e805e",
   "metadata": {},
   "outputs": [
    {
     "data": {
      "text/plain": [
       "Dict{Int64, Any} with 1 entry:\n",
       "  390 => Dict{Int64, Any}(#= circular reference @-1 =#)"
      ]
     },
     "execution_count": 390,
     "metadata": {},
     "output_type": "execute_result"
    }
   ],
   "source": [
    "empty!(Out)"
   ]
  },
  {
   "cell_type": "code",
   "execution_count": 391,
   "id": "58d42a77",
   "metadata": {
    "scrolled": true
   },
   "outputs": [
    {
     "data": {
      "text/plain": [
       "(2, 1, 512, 1)"
      ]
     },
     "execution_count": 391,
     "metadata": {},
     "output_type": "execute_result"
    }
   ],
   "source": [
    "if train\n",
    "    if isnothing(pretrain_prefix)\n",
    "        M_cep_conv = Chain(conv_link(9, 1, 64),\n",
    "            MaxPool((3, 3), stride=2),\n",
    "            conv_link(7, 64, 128),\n",
    "            MaxPool((2, 2)),\n",
    "            conv_link(5, 128, 256),\n",
    "            MaxPool((2, 2)),\n",
    "            conv_link(3, 256, 512),\n",
    "            MaxPool((2, 2)),\n",
    "            flatten) |> gpu |> unnest\n",
    "        M_cep_dense = Chain(Dense(size(M_cep_conv(dummy), 1), D3, swish), Dense(D3, d_cep)) |> gpu\n",
    "        M_cep = Chain(M_cep_conv, M_cep_dense) |> unnest\n",
    "\n",
    "        k_gr = 24\n",
    "        ns = [1, k_gr]\n",
    "        ks = [7]\n",
    "        reps = [1]\n",
    "        \n",
    "        ch_res = [64, 128, 256, 512] #this can and will resemble ResNet18, save for minor details\n",
    "        reps_res = [2, 2, 2, 2]\n",
    "        \n",
    "        reps_dn = [6, 12, 24, 16] #[6, 12, 24, 16] for DenseNet-121\n",
    "        #[6, 12, 32, 32] for DenseNet-169\n",
    "        #[6, 12, 48, 32] for DenseNet-201\n",
    "        #[6, 12, 64, 48] for DenseNet-264\n",
    "        \n",
    "        ns_res = vcat(ns[end], [Iterators.repeated(ch_res[i], reps_res[i]) |> collect for i=eachindex(ch_res)]...)\n",
    "\n",
    "        #=denseblocks = []\n",
    "        d_run = k_gr\n",
    "        θ = 0.5\n",
    "        for i in 1:length(reps_dn)-1\n",
    "            push!(denseblocks, DenseBlock(d_run, reps_dn[i], k_gr))\n",
    "            d_run = d_run+k_gr*reps_dn[i]\n",
    "            push!(denseblocks, TransBlock(d_run; θ=θ))\n",
    "            d_run = Int(round(θ*d_run))\n",
    "        end\n",
    "        \n",
    "        push!(denseblocks, DenseBlock(d_run, reps_dn[end], k_gr))=#\n",
    "        \n",
    "        M_pars_conv = Chain(conv_link(9, 1, 64),\n",
    "            MaxPool((3, 3), stride=2),\n",
    "            conv_link(7, 64, 128),\n",
    "            MaxPool((2, 2)),\n",
    "            conv_link(5, 128, 256),\n",
    "            MaxPool((2, 2)),\n",
    "            conv_link(3, 256, 512),\n",
    "            MaxPool((2, 2)),\n",
    "            flatten) |> gpu |> unnest\n",
    "        \n",
    "        M_pars_dense = Chain(Dense(size(M_pars_conv(dummy), 1), D3, swish), Dense(D3, d_par)) |> gpu\n",
    "        M_pars = Chain(M_pars_conv, M_pars_dense) |> unnest\n",
    "        preloaded = false\n",
    "    else\n",
    "        M_pars, M_cep = unnest.(load_models(\"trained-weights/results-$pretrain_prefix.jld2\"))\n",
    "\n",
    "        preloaded = true\n",
    "    end\n",
    "    \n",
    "    dummy |> M_pars[1:end-3] |> size\n",
    "end"
   ]
  },
  {
   "cell_type": "code",
   "execution_count": 392,
   "id": "a779583a",
   "metadata": {},
   "outputs": [
    {
     "data": {
      "text/plain": [
       "((41, 32, 1, 655), (4, 655))"
      ]
     },
     "execution_count": 392,
     "metadata": {},
     "output_type": "execute_result"
    }
   ],
   "source": [
    "size.(test_data_p)"
   ]
  },
  {
   "cell_type": "code",
   "execution_count": 431,
   "id": "8ebe95e4",
   "metadata": {},
   "outputs": [
    {
     "name": "stdout",
     "output_type": "stream",
     "text": [
      "Absolute parameter errors:\n",
      "Float32[0.0241, 0.0301, 0.0367, 0.0252]\n",
      "\n",
      "Relative parameter errors:\n",
      "Float32[0.00442, 0.0123, 1.65, 5.34]\n",
      "\n",
      "CEP error:\n",
      "0.0179\n"
     ]
    }
   ],
   "source": [
    "if preloaded\n",
    "    disp_par_err(M_pars, test_data_p)\n",
    "    disp_cep_err(M_cep, test_data_cep)\n",
    "end"
   ]
  },
  {
   "cell_type": "code",
   "execution_count": 51,
   "id": "1da1f4e3",
   "metadata": {},
   "outputs": [],
   "source": [
    "if train && learn_pars\n",
    "    N_epochs = preloaded ? 50 : 200\n",
    "    train_loader_p = Flux.Data.DataLoader((P, Q), batchsize=256, shuffle=true)\n",
    "    opt = Flux.Optimiser(Flux.ExpDecay(0.001, 0.1, Int(length(train_loader_p)*N_epochs*0.75)), AdaBelief())\n",
    "\n",
    "    band_model, loss = train_NN!(N_epochs, M_pars, train_loader_p, test_data_p, L_pars_aug, doplot=true)\n",
    "    disp_par_err(M_pars, test_data_p)\n",
    "\n",
    "    Flux.loadparams!(M_pars, band_model)\n",
    "    \n",
    "    plot([loss[1], loss[2]], yscale=:log10, label=[\"train\" \"test\"])\n",
    "end"
   ]
  },
  {
   "cell_type": "code",
   "execution_count": 459,
   "id": "3fe50c96",
   "metadata": {},
   "outputs": [
    {
     "name": "stdout",
     "output_type": "stream",
     "text": [
      "Absolute parameter errors:\n",
      "Float32[0.0241, 0.0301, 0.0367, 0.0252]\n",
      "\n",
      "Relative parameter errors:\n",
      "Float32[0.00442, 0.0123, 1.65, 5.34]\n",
      "\n"
     ]
    }
   ],
   "source": [
    "train && disp_par_err(M_pars, test_data_p)"
   ]
  },
  {
   "cell_type": "code",
   "execution_count": 53,
   "id": "e83833c9",
   "metadata": {},
   "outputs": [],
   "source": [
    "if train\n",
    "    M_cep = unnest(M_cep, size(data_yφ, 1))\n",
    "    \n",
    "    N_epochs = preloaded ? 50 : 200\n",
    "    opt = Flux.Optimiser(Flux.ExpDecay(0.001, 0.1, Int(length(train_loader_p)*N_epochs*0.75)), AdaBelief())\n",
    "    \n",
    "    train_loader_cep = Flux.Data.DataLoader((P, R), batchsize=256, shuffle=true)\n",
    "    pulse_model, loss = train_NN!(N_epochs, M_cep, train_loader_cep, test_data_cep, L_cep_aug; doplot=true)\n",
    "    disp_cep_err(M_cep, test_data_cep)\n",
    "\n",
    "    Flux.loadparams!(M_cep, pulse_model)\n",
    "    \n",
    "    plot([loss[1], loss[2]], yscale=:log10, label=[\"train\" \"test\"])\n",
    "end"
   ]
  },
  {
   "cell_type": "code",
   "execution_count": 460,
   "id": "accd5b56",
   "metadata": {},
   "outputs": [
    {
     "name": "stdout",
     "output_type": "stream",
     "text": [
      "CEP error:\n",
      "0.0179\n"
     ]
    }
   ],
   "source": [
    "if train\n",
    "    disp_cep_err(M_cep, test_data_cep)\n",
    "end"
   ]
  },
  {
   "cell_type": "code",
   "execution_count": 432,
   "id": "a8bba02e",
   "metadata": {},
   "outputs": [],
   "source": [
    "if train\n",
    "    pulse_true = test_data_cep[2] |> cpu\n",
    "    pulse_infd = test_data_cep[1] |> M_cep |> cpu\n",
    "\n",
    "    pars_eval = test_data_p[2] |> cpu\n",
    "    pars_infd = test_data_p[1] |> M_pars |> cpu\n",
    "\n",
    "    mrk = Dates.format(now(), \"ddmm_HHMM\")\n",
    "\n",
    "    jldopen(\"trained-weights/results-$prefix-$mrk.jld2\", true, true, true, IOStream) do io\n",
    "        write(io, \"logamp\", logamp)\n",
    "        write(io, \"data_tst\", data_tst)\n",
    "        write(io, \"pars_true\", pars_eval)\n",
    "        write(io, \"pars_infd\", pars_infd)\n",
    "        write(io, \"pulse_true\", pulse_true)\n",
    "        write(io, \"pulse_infd\", pulse_infd)\n",
    "        write(io, \"M1\", cpu(collect(band_model)))\n",
    "        write(io, \"M2\", cpu(collect(pulse_model)))\n",
    "        write(io, \"cep_model\", cpu(M_cep))\n",
    "        write(io, \"par_model\", cpu(M_pars))\n",
    "    end\n",
    "else\n",
    "    prefix= \"0809_0958\"\n",
    "    mrk = \"0505_1536\"\n",
    "    M_pars, M_cep = load_models(\"trained-weights/results-$prefix-$mrk.jld2\")\n",
    "end"
   ]
  },
  {
   "cell_type": "markdown",
   "id": "84f1f36b",
   "metadata": {},
   "source": [
    "The below cells run the transfer learning sequence"
   ]
  },
  {
   "cell_type": "code",
   "execution_count": 228,
   "id": "2c427844",
   "metadata": {},
   "outputs": [],
   "source": [
    "using HDF5"
   ]
  },
  {
   "cell_type": "code",
   "execution_count": 449,
   "id": "76c905fd",
   "metadata": {},
   "outputs": [
    {
     "data": {
      "text/plain": [
       "🗂️ HDF5.File: (read-only) data.random.h5\n",
       "├─ 🔢 data\n",
       "└─ 🔢 parameters"
      ]
     },
     "execution_count": 449,
     "metadata": {},
     "output_type": "execute_result"
    }
   ],
   "source": [
    "fid = h5open(\"data.random.h5\", \"r\")"
   ]
  },
  {
   "cell_type": "code",
   "execution_count": 450,
   "id": "6e2a5a10",
   "metadata": {},
   "outputs": [],
   "source": [
    "Nφ = size(fid[\"data\"], 1)\n",
    "Nω = size(fid[\"data\"], 2)\n",
    "N_trans = size(fid[\"data\"], 3)\n",
    "\n",
    "ind_c = 1:N_trans #.! (536 .<= (1:N_trans) .<= 540)\n",
    "\n",
    "data_fid = fid[\"data\"] |> Array |> x->reshape(x, Nφ, Nω, :) |> x->permutedims(x, (2, 1, 3))\n",
    "pars_fid = fid[\"parameters\"] |> Array |> x->reshape(x, size(fid[\"parameters\"], 1), :)\n",
    "\n",
    "fid_add = [h5open(filename, \"r\") for filename=[]] #\"data.random.h5\"\n",
    "\n",
    "for f in fid_add\n",
    "    data_f = f[\"data\"] |> Array |> x->reshape(x, Nφ, Nω, :) |> x->permutedims(x, (2, 1, 3))\n",
    "    global data_fid = cat(data_fid, data_f, dims=3)\n",
    "    pars_f = f[\"parameters\"] |> Array |> x->reshape(x, size(fid[\"parameters\"], 1), :)\n",
    "    global pars_fid = cat(pars_fid, pars_f, dims=2)\n",
    "end\n",
    "\n",
    "if logamp\n",
    "    data_fid .= data_fid./2\n",
    "else\n",
    "    data_fid .= exp10.(data_fid./2)\n",
    "end\n",
    "\n",
    "data_fid = data_fid[:,:,ind_c]\n",
    "pars_fid = pars_fid[:,ind_c]\n",
    "\n",
    "data_fid = (data_fid .- mean(data_fid, dims=(1, 2)))./std(data_fid, dims=(1, 2));"
   ]
  },
  {
   "cell_type": "code",
   "execution_count": 451,
   "id": "3733e5eb",
   "metadata": {},
   "outputs": [
    {
     "data": {
      "text/plain": [
       "50"
      ]
     },
     "execution_count": 451,
     "metadata": {},
     "output_type": "execute_result"
    }
   ],
   "source": [
    "ratio = 0.2\n",
    "N_train = Int(round(N_trans*(1-ratio)))\n",
    "N_test = N_trans - N_train"
   ]
  },
  {
   "cell_type": "code",
   "execution_count": 452,
   "id": "bcc9ba45",
   "metadata": {},
   "outputs": [],
   "source": [
    "N_pars = size(data_fid, 3)\n",
    "inds = randperm(N_pars)\n",
    "data_fid = data_fid[:, :, inds]\n",
    "pars_fid = pars_fid[:, inds];"
   ]
  },
  {
   "cell_type": "code",
   "execution_count": 453,
   "id": "daff4cb9",
   "metadata": {},
   "outputs": [],
   "source": [
    "pars_min = minimum(pars_fid[1:2, :], dims=2)\n",
    "pars_max = maximum(pars_fid[1:2, :], dims=2)\n",
    "\n",
    "data_trn, data_tst = split(data_fid, N_train)\n",
    "pars_trn, pars_tst = split((pars_fid[1:2,:] .- pars_min)./(pars_max .- pars_min), N_train); #the parameters are normalized here"
   ]
  },
  {
   "cell_type": "code",
   "execution_count": 457,
   "id": "ce73ebf8",
   "metadata": {},
   "outputs": [
    {
     "data": {
      "text/plain": [
       "3×1 Matrix{Tuple{Float64, Float64}}:\n",
       " (4.0086, 7.2521)\n",
       " (0.08, 0.15943)\n",
       " (0.0, 6.248278722139699)"
      ]
     },
     "execution_count": 457,
     "metadata": {},
     "output_type": "execute_result"
    }
   ],
   "source": [
    "extrema(pars_fid, dims=2)"
   ]
  },
  {
   "cell_type": "code",
   "execution_count": 259,
   "id": "59d3585f",
   "metadata": {},
   "outputs": [],
   "source": [
    "cep_trn, cep_tst = split(permutedims(pars_fid[3,:]), N_train);"
   ]
  },
  {
   "cell_type": "code",
   "execution_count": 260,
   "id": "6bc90021",
   "metadata": {},
   "outputs": [],
   "source": [
    "φ_aug = collect(range(0.0, stop=2π, length=Nφ+1))[1:end-1];"
   ]
  },
  {
   "cell_type": "code",
   "execution_count": 261,
   "id": "fc51ddf9",
   "metadata": {},
   "outputs": [],
   "source": [
    "data_y = pars_trn\n",
    "\n",
    "data_yφ, data_yφ_tst = [vcat(cos.(cep), sin.(cep)) for cep=[cep_trn, cep_tst]] |> Tuple #\n",
    "#data_yφ_tst = vcat(cos.(cep_tst), sin.(cep_tst))\n",
    "\n",
    "Q = data_y |> gpu\n",
    "R = data_yφ |> gpu\n",
    "\n",
    "P = Flux.unsqueeze(data_trn, 3) |> gpu\n",
    "\n",
    "test_data_p = (Flux.unsqueeze(gpu(data_tst), 3), gpu(pars_tst))\n",
    "\n",
    "test_data_cep = (Flux.unsqueeze(gpu(data_tst), 3), gpu(data_yφ_tst));\n",
    "train_loader_cep = Flux.Data.DataLoader((P, R), batchsize=512, shuffle=true, partial=false);"
   ]
  },
  {
   "cell_type": "code",
   "execution_count": 237,
   "id": "ce13fdf5",
   "metadata": {},
   "outputs": [],
   "source": [
    "file_source = jldopen(\"trained-weights/results-$prefix-$mrk.jld2\")\n",
    "\n",
    "pulse_model = file_source[\"M2\"] |> copy;"
   ]
  },
  {
   "cell_type": "code",
   "execution_count": 238,
   "id": "72abd0c8",
   "metadata": {},
   "outputs": [],
   "source": [
    "#M_pars, M_cep = load_models(\"trained-weights/results-transfer-0809_0958-0906_1426.jld2\", band_key=\"M1t\", pulse_key=\"M2t\")"
   ]
  },
  {
   "cell_type": "code",
   "execution_count": 247,
   "id": "175ca442",
   "metadata": {},
   "outputs": [],
   "source": [
    "band_model = file_source[\"M1\"];\n",
    "M_pars = unnest(M_pars, 4)\n",
    "Flux.loadparams!(M_pars, band_model)\n",
    "M_pars = unnest(M_pars, size(pars_trn, 1));"
   ]
  },
  {
   "cell_type": "code",
   "execution_count": 241,
   "id": "31b73b4d",
   "metadata": {},
   "outputs": [],
   "source": [
    "using LaTeXStrings, Plots.PlotMeasures"
   ]
  },
  {
   "cell_type": "markdown",
   "id": "f353a969",
   "metadata": {},
   "source": [
    "The training data are not affected by multiplicative noise here. This doesn't seem to worsen the NN's performance on noisy data."
   ]
  },
  {
   "cell_type": "code",
   "execution_count": 286,
   "id": "883e9e77",
   "metadata": {},
   "outputs": [
    {
     "name": "stdout",
     "output_type": "stream",
     "text": [
      "0.018391090701486826\n",
      "[0.021143642033617103; 0.000534142101417639]\n"
     ]
    },
    {
     "data": {
      "image/svg+xml": [
       "<?xml version=\"1.0\" encoding=\"utf-8\"?>\n",
       "<svg xmlns=\"http://www.w3.org/2000/svg\" xmlns:xlink=\"http://www.w3.org/1999/xlink\" width=\"1800\" height=\"400\" viewBox=\"0 0 7200 1600\">\n",
       "<defs>\n",
       "  <clipPath id=\"clip300\">\n",
       "    <rect x=\"0\" y=\"0\" width=\"7200\" height=\"1600\"/>\n",
       "  </clipPath>\n",
       "</defs>\n",
       "<path clip-path=\"url(#clip300)\" d=\"\n",
       "M0 1600 L7200 1600 L7200 0 L0 0  Z\n",
       "  \" fill=\"#ffffff\" fill-rule=\"evenodd\" fill-opacity=\"1\"/>\n",
       "<defs>\n",
       "  <clipPath id=\"clip301\">\n",
       "    <rect x=\"1440\" y=\"0\" width=\"5041\" height=\"1600\"/>\n",
       "  </clipPath>\n",
       "</defs>\n",
       "<defs>\n",
       "  <clipPath id=\"clip302\">\n",
       "    <rect x=\"5089\" y=\"47\" width=\"2064\" height=\"1292\"/>\n",
       "  </clipPath>\n",
       "</defs>\n",
       "<path clip-path=\"url(#clip300)\" d=\"\n",
       "M411.884 1338.42 L2474.64 1338.42 L2474.64 47.2441 L411.884 47.2441  Z\n",
       "  \" fill=\"#ffffff\" fill-rule=\"evenodd\" fill-opacity=\"1\"/>\n",
       "<defs>\n",
       "  <clipPath id=\"clip303\">\n",
       "    <rect x=\"411\" y=\"47\" width=\"2064\" height=\"1292\"/>\n",
       "  </clipPath>\n",
       "</defs>\n",
       "<polyline clip-path=\"url(#clip303)\" style=\"stroke:#000000; stroke-width:2; stroke-opacity:0.1; fill:none\" points=\"\n",
       "  470.264,1338.42 470.264,47.2441 \n",
       "  \"/>\n",
       "<polyline clip-path=\"url(#clip303)\" style=\"stroke:#000000; stroke-width:2; stroke-opacity:0.1; fill:none\" points=\"\n",
       "  956.8,1338.42 956.8,47.2441 \n",
       "  \"/>\n",
       "<polyline clip-path=\"url(#clip303)\" style=\"stroke:#000000; stroke-width:2; stroke-opacity:0.1; fill:none\" points=\"\n",
       "  1443.34,1338.42 1443.34,47.2441 \n",
       "  \"/>\n",
       "<polyline clip-path=\"url(#clip303)\" style=\"stroke:#000000; stroke-width:2; stroke-opacity:0.1; fill:none\" points=\"\n",
       "  1929.87,1338.42 1929.87,47.2441 \n",
       "  \"/>\n",
       "<polyline clip-path=\"url(#clip303)\" style=\"stroke:#000000; stroke-width:2; stroke-opacity:0.1; fill:none\" points=\"\n",
       "  2416.41,1338.42 2416.41,47.2441 \n",
       "  \"/>\n",
       "<polyline clip-path=\"url(#clip300)\" style=\"stroke:#000000; stroke-width:4; stroke-opacity:1; fill:none\" points=\"\n",
       "  411.884,1338.42 2474.64,1338.42 \n",
       "  \"/>\n",
       "<polyline clip-path=\"url(#clip300)\" style=\"stroke:#000000; stroke-width:4; stroke-opacity:1; fill:none\" points=\"\n",
       "  470.264,1338.42 470.264,1322.93 \n",
       "  \"/>\n",
       "<polyline clip-path=\"url(#clip300)\" style=\"stroke:#000000; stroke-width:4; stroke-opacity:1; fill:none\" points=\"\n",
       "  956.8,1338.42 956.8,1322.93 \n",
       "  \"/>\n",
       "<polyline clip-path=\"url(#clip300)\" style=\"stroke:#000000; stroke-width:4; stroke-opacity:1; fill:none\" points=\"\n",
       "  1443.34,1338.42 1443.34,1322.93 \n",
       "  \"/>\n",
       "<polyline clip-path=\"url(#clip300)\" style=\"stroke:#000000; stroke-width:4; stroke-opacity:1; fill:none\" points=\"\n",
       "  1929.87,1338.42 1929.87,1322.93 \n",
       "  \"/>\n",
       "<polyline clip-path=\"url(#clip300)\" style=\"stroke:#000000; stroke-width:4; stroke-opacity:1; fill:none\" points=\"\n",
       "  2416.41,1338.42 2416.41,1322.93 \n",
       "  \"/>\n",
       "<path clip-path=\"url(#clip300)\" d=\"M 0 0 M416.792 1420.66 L446.468 1420.66 L446.468 1424.6 L416.792 1424.6 L416.792 1420.66 Z\" fill=\"#000000\" fill-rule=\"evenodd\" fill-opacity=\"1\" /><path clip-path=\"url(#clip300)\" d=\"M 0 0 M457.371 1433.56 L465.01 1433.56 L465.01 1407.19 L456.699 1408.86 L456.699 1404.6 L464.963 1402.93 L469.639 1402.93 L469.639 1433.56 L477.278 1433.56 L477.278 1437.49 L457.371 1437.49 L457.371 1433.56 Z\" fill=\"#000000\" fill-rule=\"evenodd\" fill-opacity=\"1\" /><path clip-path=\"url(#clip300)\" d=\"M 0 0 M486.722 1431.61 L491.607 1431.61 L491.607 1437.49 L486.722 1437.49 L486.722 1431.61 Z\" fill=\"#000000\" fill-rule=\"evenodd\" fill-opacity=\"1\" /><path clip-path=\"url(#clip300)\" d=\"M 0 0 M511.792 1406.01 Q508.181 1406.01 506.352 1409.58 Q504.546 1413.12 504.546 1420.25 Q504.546 1427.35 506.352 1430.92 Q508.181 1434.46 511.792 1434.46 Q515.426 1434.46 517.231 1430.92 Q519.06 1427.35 519.06 1420.25 Q519.06 1413.12 517.231 1409.58 Q515.426 1406.01 511.792 1406.01 M511.792 1402.31 Q517.602 1402.31 520.657 1406.91 Q523.736 1411.5 523.736 1420.25 Q523.736 1428.97 520.657 1433.58 Q517.602 1438.16 511.792 1438.16 Q505.982 1438.16 502.903 1433.58 Q499.847 1428.97 499.847 1420.25 Q499.847 1411.5 502.903 1406.91 Q505.982 1402.31 511.792 1402.31 Z\" fill=\"#000000\" fill-rule=\"evenodd\" fill-opacity=\"1\" /><path clip-path=\"url(#clip300)\" d=\"M 0 0 M903.826 1420.66 L933.502 1420.66 L933.502 1424.6 L903.826 1424.6 L903.826 1420.66 Z\" fill=\"#000000\" fill-rule=\"evenodd\" fill-opacity=\"1\" /><path clip-path=\"url(#clip300)\" d=\"M 0 0 M953.594 1406.01 Q949.983 1406.01 948.155 1409.58 Q946.349 1413.12 946.349 1420.25 Q946.349 1427.35 948.155 1430.92 Q949.983 1434.46 953.594 1434.46 Q957.229 1434.46 959.034 1430.92 Q960.863 1427.35 960.863 1420.25 Q960.863 1413.12 959.034 1409.58 Q957.229 1406.01 953.594 1406.01 M953.594 1402.31 Q959.405 1402.31 962.46 1406.91 Q965.539 1411.5 965.539 1420.25 Q965.539 1428.97 962.46 1433.58 Q959.405 1438.16 953.594 1438.16 Q947.784 1438.16 944.706 1433.58 Q941.65 1428.97 941.65 1420.25 Q941.65 1411.5 944.706 1406.91 Q947.784 1402.31 953.594 1402.31 Z\" fill=\"#000000\" fill-rule=\"evenodd\" fill-opacity=\"1\" /><path clip-path=\"url(#clip300)\" d=\"M 0 0 M973.756 1431.61 L978.641 1431.61 L978.641 1437.49 L973.756 1437.49 L973.756 1431.61 Z\" fill=\"#000000\" fill-rule=\"evenodd\" fill-opacity=\"1\" /><path clip-path=\"url(#clip300)\" d=\"M 0 0 M988.872 1402.93 L1007.23 1402.93 L1007.23 1406.87 L993.154 1406.87 L993.154 1415.34 Q994.173 1414.99 995.191 1414.83 Q996.21 1414.64 997.228 1414.64 Q1003.02 1414.64 1006.4 1417.82 Q1009.77 1420.99 1009.77 1426.4 Q1009.77 1431.98 1006.3 1435.08 Q1002.83 1438.16 996.511 1438.16 Q994.335 1438.16 992.066 1437.79 Q989.821 1437.42 987.414 1436.68 L987.414 1431.98 Q989.497 1433.12 991.719 1433.67 Q993.941 1434.23 996.418 1434.23 Q1000.42 1434.23 1002.76 1432.12 Q1005.1 1430.01 1005.1 1426.4 Q1005.1 1422.79 1002.76 1420.69 Q1000.42 1418.58 996.418 1418.58 Q994.543 1418.58 992.668 1419 Q990.816 1419.41 988.872 1420.29 L988.872 1402.93 Z\" fill=\"#000000\" fill-rule=\"evenodd\" fill-opacity=\"1\" /><path clip-path=\"url(#clip300)\" d=\"M 0 0 M1420.72 1406.01 Q1417.11 1406.01 1415.28 1409.58 Q1413.48 1413.12 1413.48 1420.25 Q1413.48 1427.35 1415.28 1430.92 Q1417.11 1434.46 1420.72 1434.46 Q1424.36 1434.46 1426.16 1430.92 Q1427.99 1427.35 1427.99 1420.25 Q1427.99 1413.12 1426.16 1409.58 Q1424.36 1406.01 1420.72 1406.01 M1420.72 1402.31 Q1426.53 1402.31 1429.59 1406.91 Q1432.67 1411.5 1432.67 1420.25 Q1432.67 1428.97 1429.59 1433.58 Q1426.53 1438.16 1420.72 1438.16 Q1414.91 1438.16 1411.83 1433.58 Q1408.78 1428.97 1408.78 1420.25 Q1408.78 1411.5 1411.83 1406.91 Q1414.91 1402.31 1420.72 1402.31 Z\" fill=\"#000000\" fill-rule=\"evenodd\" fill-opacity=\"1\" /><path clip-path=\"url(#clip300)\" d=\"M 0 0 M1440.88 1431.61 L1445.77 1431.61 L1445.77 1437.49 L1440.88 1437.49 L1440.88 1431.61 Z\" fill=\"#000000\" fill-rule=\"evenodd\" fill-opacity=\"1\" /><path clip-path=\"url(#clip300)\" d=\"M 0 0 M1465.95 1406.01 Q1462.34 1406.01 1460.51 1409.58 Q1458.71 1413.12 1458.71 1420.25 Q1458.71 1427.35 1460.51 1430.92 Q1462.34 1434.46 1465.95 1434.46 Q1469.59 1434.46 1471.39 1430.92 Q1473.22 1427.35 1473.22 1420.25 Q1473.22 1413.12 1471.39 1409.58 Q1469.59 1406.01 1465.95 1406.01 M1465.95 1402.31 Q1471.76 1402.31 1474.82 1406.91 Q1477.9 1411.5 1477.9 1420.25 Q1477.9 1428.97 1474.82 1433.58 Q1471.76 1438.16 1465.95 1438.16 Q1460.14 1438.16 1457.06 1433.58 Q1454.01 1428.97 1454.01 1420.25 Q1454.01 1411.5 1457.06 1406.91 Q1460.14 1402.31 1465.95 1402.31 Z\" fill=\"#000000\" fill-rule=\"evenodd\" fill-opacity=\"1\" /><path clip-path=\"url(#clip300)\" d=\"M 0 0 M1907.76 1406.01 Q1904.14 1406.01 1902.32 1409.58 Q1900.51 1413.12 1900.51 1420.25 Q1900.51 1427.35 1902.32 1430.92 Q1904.14 1434.46 1907.76 1434.46 Q1911.39 1434.46 1913.19 1430.92 Q1915.02 1427.35 1915.02 1420.25 Q1915.02 1413.12 1913.19 1409.58 Q1911.39 1406.01 1907.76 1406.01 M1907.76 1402.31 Q1913.57 1402.31 1916.62 1406.91 Q1919.7 1411.5 1919.7 1420.25 Q1919.7 1428.97 1916.62 1433.58 Q1913.57 1438.16 1907.76 1438.16 Q1901.94 1438.16 1898.87 1433.58 Q1895.81 1428.97 1895.81 1420.25 Q1895.81 1411.5 1898.87 1406.91 Q1901.94 1402.31 1907.76 1402.31 Z\" fill=\"#000000\" fill-rule=\"evenodd\" fill-opacity=\"1\" /><path clip-path=\"url(#clip300)\" d=\"M 0 0 M1927.92 1431.61 L1932.8 1431.61 L1932.8 1437.49 L1927.92 1437.49 L1927.92 1431.61 Z\" fill=\"#000000\" fill-rule=\"evenodd\" fill-opacity=\"1\" /><path clip-path=\"url(#clip300)\" d=\"M 0 0 M1943.03 1402.93 L1961.39 1402.93 L1961.39 1406.87 L1947.31 1406.87 L1947.31 1415.34 Q1948.33 1414.99 1949.35 1414.83 Q1950.37 1414.64 1951.39 1414.64 Q1957.18 1414.64 1960.56 1417.82 Q1963.94 1420.99 1963.94 1426.4 Q1963.94 1431.98 1960.46 1435.08 Q1956.99 1438.16 1950.67 1438.16 Q1948.5 1438.16 1946.23 1437.79 Q1943.98 1437.42 1941.57 1436.68 L1941.57 1431.98 Q1943.66 1433.12 1945.88 1433.67 Q1948.1 1434.23 1950.58 1434.23 Q1954.58 1434.23 1956.92 1432.12 Q1959.26 1430.01 1959.26 1426.4 Q1959.26 1422.79 1956.92 1420.69 Q1954.58 1418.58 1950.58 1418.58 Q1948.7 1418.58 1946.83 1419 Q1944.98 1419.41 1943.03 1420.29 L1943.03 1402.93 Z\" fill=\"#000000\" fill-rule=\"evenodd\" fill-opacity=\"1\" /><path clip-path=\"url(#clip300)\" d=\"M 0 0 M2383.56 1433.56 L2391.2 1433.56 L2391.2 1407.19 L2382.89 1408.86 L2382.89 1404.6 L2391.15 1402.93 L2395.83 1402.93 L2395.83 1433.56 L2403.47 1433.56 L2403.47 1437.49 L2383.56 1437.49 L2383.56 1433.56 Z\" fill=\"#000000\" fill-rule=\"evenodd\" fill-opacity=\"1\" /><path clip-path=\"url(#clip300)\" d=\"M 0 0 M2412.91 1431.61 L2417.8 1431.61 L2417.8 1437.49 L2412.91 1437.49 L2412.91 1431.61 Z\" fill=\"#000000\" fill-rule=\"evenodd\" fill-opacity=\"1\" /><path clip-path=\"url(#clip300)\" d=\"M 0 0 M2437.98 1406.01 Q2434.37 1406.01 2432.54 1409.58 Q2430.74 1413.12 2430.74 1420.25 Q2430.74 1427.35 2432.54 1430.92 Q2434.37 1434.46 2437.98 1434.46 Q2441.62 1434.46 2443.42 1430.92 Q2445.25 1427.35 2445.25 1420.25 Q2445.25 1413.12 2443.42 1409.58 Q2441.62 1406.01 2437.98 1406.01 M2437.98 1402.31 Q2443.79 1402.31 2446.85 1406.91 Q2449.93 1411.5 2449.93 1420.25 Q2449.93 1428.97 2446.85 1433.58 Q2443.79 1438.16 2437.98 1438.16 Q2432.17 1438.16 2429.09 1433.58 Q2426.04 1428.97 2426.04 1420.25 Q2426.04 1411.5 2429.09 1406.91 Q2432.17 1402.31 2437.98 1402.31 Z\" fill=\"#000000\" fill-rule=\"evenodd\" fill-opacity=\"1\" /><path clip-path=\"url(#clip300)\" d=\"M 0 0 M1335.51 1517.79 Q1331.32 1513.41 1331.32 1507.16 Q1331.32 1500.88 1335.44 1496.37 Q1339.56 1491.83 1345.62 1491.83 Q1349.64 1491.83 1352.67 1493.76 Q1355.7 1495.66 1355.7 1498.92 Q1355.7 1500.36 1354.83 1501.2 Q1353.99 1502.01 1352.67 1502.01 Q1351.29 1502.01 1350.45 1501.17 Q1349.64 1500.3 1349.64 1498.98 Q1349.64 1498.4 1349.84 1497.82 Q1350.03 1497.24 1350.74 1496.63 Q1351.48 1496.02 1352.74 1495.92 Q1350.39 1493.5 1345.81 1493.5 Q1345.75 1493.5 1345.68 1493.5 Q1342.33 1493.5 1339.56 1496.66 Q1336.79 1499.82 1336.79 1507.03 Q1336.79 1510.8 1337.7 1513.57 Q1338.63 1516.31 1340.14 1517.72 Q1341.66 1519.14 1343.14 1519.82 Q1344.62 1520.46 1346.07 1520.46 Q1352.54 1520.46 1354.73 1513.54 Q1354.93 1512.89 1355.57 1512.89 Q1356.44 1512.89 1356.44 1513.54 Q1356.44 1513.86 1356.18 1514.7 Q1355.92 1515.53 1355.12 1516.85 Q1354.31 1518.17 1353.15 1519.33 Q1352.03 1520.46 1350 1521.3 Q1348 1522.14 1345.49 1522.14 Q1339.69 1522.14 1335.51 1517.79 Z\" fill=\"#000000\" fill-rule=\"evenodd\" fill-opacity=\"1\" /><path clip-path=\"url(#clip300)\" d=\"M 0 0 M1364.65 1517.85 Q1360.3 1513.54 1360.3 1507.29 Q1360.3 1501.01 1364.55 1496.44 Q1368.84 1491.83 1374.95 1491.83 Q1380.94 1491.83 1385.23 1496.4 Q1389.54 1500.94 1389.54 1507.29 Q1389.54 1513.5 1385.2 1517.82 Q1380.88 1522.14 1374.89 1522.14 Q1369.03 1522.14 1364.65 1517.85 M1365.78 1506.74 Q1365.78 1513.15 1367.45 1516.05 Q1370.03 1520.46 1374.95 1520.46 Q1377.4 1520.46 1379.43 1519.14 Q1381.49 1517.82 1382.62 1515.6 Q1384.07 1512.7 1384.07 1506.74 Q1384.07 1500.4 1382.33 1497.59 Q1379.75 1493.31 1374.89 1493.31 Q1372.76 1493.31 1370.67 1494.44 Q1368.61 1495.53 1367.35 1497.72 Q1365.78 1500.62 1365.78 1506.74 Z\" fill=\"#000000\" fill-rule=\"evenodd\" fill-opacity=\"1\" /><path clip-path=\"url(#clip300)\" d=\"M 0 0 M1392.95 1520.53 L1392.95 1511.83 Q1392.95 1511.09 1392.98 1510.83 Q1393.01 1510.57 1393.21 1510.38 Q1393.4 1510.19 1393.79 1510.19 Q1394.24 1510.19 1394.4 1510.38 Q1394.59 1510.57 1394.72 1511.31 Q1395.72 1515.86 1397.84 1518.27 Q1400 1520.65 1403.9 1520.65 Q1407.6 1520.65 1409.47 1519.01 Q1411.34 1517.37 1411.34 1514.66 Q1411.34 1509.83 1404.48 1508.61 Q1400.52 1507.8 1398.88 1507.29 Q1397.23 1506.74 1395.78 1505.55 Q1392.95 1503.23 1392.95 1499.95 Q1392.95 1496.66 1395.43 1494.25 Q1397.94 1491.83 1403.48 1491.83 Q1407.18 1491.83 1409.7 1493.7 Q1410.44 1493.12 1410.82 1492.64 Q1411.69 1491.83 1412.14 1491.83 Q1412.66 1491.83 1412.76 1492.18 Q1412.85 1492.51 1412.85 1493.44 L1412.85 1500.07 Q1412.85 1500.82 1412.82 1501.07 Q1412.79 1501.33 1412.6 1501.52 Q1412.4 1501.69 1411.98 1501.69 Q1411.24 1501.69 1411.21 1501.07 Q1410.69 1493.09 1403.48 1493.09 Q1399.58 1493.09 1397.84 1494.6 Q1396.11 1496.08 1396.11 1498.11 Q1396.11 1499.24 1396.62 1500.11 Q1397.17 1500.94 1397.84 1501.46 Q1398.55 1501.94 1399.84 1502.43 Q1401.13 1502.88 1401.9 1503.04 Q1402.71 1503.2 1404.22 1503.52 Q1409.5 1504.52 1411.73 1506.68 Q1414.5 1509.45 1414.5 1512.96 Q1414.5 1516.85 1411.85 1519.49 Q1409.21 1522.14 1403.9 1522.14 Q1399.62 1522.14 1396.62 1519.27 Q1396.23 1519.66 1395.94 1520.01 Q1395.65 1520.33 1395.53 1520.46 Q1395.43 1520.59 1395.4 1520.69 Q1395.36 1520.75 1395.3 1520.82 Q1393.98 1522.14 1393.66 1522.14 Q1393.14 1522.14 1393.05 1521.78 Q1392.95 1521.46 1392.95 1520.53 Z\" fill=\"#000000\" fill-rule=\"evenodd\" fill-opacity=\"1\" /><path clip-path=\"url(#clip300)\" d=\"M 0 0 M1456.2 1501.33 Q1456.2 1505.16 1454.43 1508.96 Q1452.66 1512.76 1449.76 1515.66 Q1446.89 1518.53 1442.96 1520.33 Q1439.07 1522.14 1435.07 1522.14 Q1434.36 1522.14 1432.91 1521.97 Q1430.66 1533.86 1430.6 1534.05 Q1430.31 1534.73 1429.73 1535.15 Q1429.18 1535.57 1428.79 1535.66 Q1428.41 1535.76 1428.15 1535.76 Q1427.5 1535.76 1426.86 1535.31 Q1426.25 1534.89 1426.25 1533.92 Q1426.25 1533.7 1426.57 1532.6 L1430.08 1521.52 Q1424.77 1520.3 1421.71 1516.92 Q1418.65 1513.5 1418.65 1508.87 Q1418.65 1505.9 1420 1502.04 Q1421.35 1498.17 1423 1495.57 Q1424.64 1492.96 1425.57 1492.96 Q1426.38 1492.96 1426.38 1493.63 Q1426.38 1493.89 1425.86 1494.47 Q1423.25 1497.47 1421.8 1501.78 Q1420.39 1506.07 1420.39 1508.13 Q1420.39 1511.73 1423.16 1514.34 Q1425.96 1516.92 1431.21 1517.88 Q1434.33 1507.77 1436.2 1503.52 Q1439.97 1495.08 1444.86 1493.02 Q1446.67 1492.25 1448.66 1492.25 Q1452.27 1492.25 1454.23 1494.79 Q1456.2 1497.31 1456.2 1501.33 M1454.33 1502.78 Q1454.33 1501.07 1453.72 1499.62 Q1453.14 1498.17 1451.66 1497.14 Q1450.18 1496.08 1448.02 1496.08 Q1443.7 1496.08 1440.1 1500.24 Q1436.49 1504.39 1434.94 1510.83 L1433.62 1517.98 Q1433.62 1518.24 1434.49 1518.24 Q1435.01 1518.3 1435.68 1518.3 Q1439.36 1518.3 1442.83 1516.92 Q1446.34 1515.53 1448.82 1513.34 Q1451.3 1511.15 1452.82 1508.35 Q1454.33 1505.55 1454.33 1502.78 Z\" fill=\"#000000\" fill-rule=\"evenodd\" fill-opacity=\"1\" /><path clip-path=\"url(#clip300)\" d=\"M 0 0 M1477.04 1533.38 Q1477.04 1534.01 1476.75 1534.17 Q1476.45 1534.3 1475.64 1534.3 L1471.31 1534.3 L1467.89 1547.92 Q1467.62 1549.11 1467.62 1550.13 Q1467.62 1551.26 1467.95 1551.75 Q1468.31 1552.25 1469.06 1552.25 Q1470.52 1552.25 1472.1 1550.92 Q1473.7 1549.59 1475.06 1546.34 Q1475.24 1545.91 1475.33 1545.82 Q1475.44 1545.71 1475.73 1545.71 Q1476.3 1545.71 1476.3 1546.16 Q1476.3 1546.32 1475.98 1547.04 Q1475.69 1547.76 1475.03 1548.82 Q1474.4 1549.88 1473.57 1550.87 Q1472.76 1551.86 1471.52 1552.59 Q1470.28 1553.28 1468.95 1553.28 Q1467.07 1553.28 1465.88 1552.09 Q1464.71 1550.89 1464.71 1549.02 Q1464.71 1548.41 1465.18 1546.48 Q1465.65 1544.51 1468.22 1534.3 L1464.14 1534.3 Q1463.58 1534.3 1463.36 1534.28 Q1463.15 1534.26 1462.99 1534.14 Q1462.86 1534.01 1462.86 1533.74 Q1462.86 1533.31 1463.04 1533.13 Q1463.22 1532.93 1463.45 1532.9 Q1463.69 1532.86 1464.26 1532.86 L1468.59 1532.86 L1470.39 1525.53 Q1470.57 1524.81 1471.02 1524.41 Q1471.49 1523.98 1471.76 1523.93 Q1472.03 1523.86 1472.24 1523.86 Q1472.85 1523.86 1473.21 1524.2 Q1473.57 1524.52 1473.57 1525.1 Q1473.57 1525.42 1471.67 1532.86 L1475.73 1532.86 Q1476.25 1532.86 1476.45 1532.88 Q1476.68 1532.9 1476.86 1533.02 Q1477.04 1533.13 1477.04 1533.38 Z\" fill=\"#000000\" fill-rule=\"evenodd\" fill-opacity=\"1\" /><path clip-path=\"url(#clip300)\" d=\"M 0 0 M1498.15 1535.36 Q1498.15 1536.56 1497.37 1537.32 Q1496.6 1538.09 1495.61 1538.09 Q1494.75 1538.09 1494.3 1537.59 Q1493.85 1537.1 1493.85 1536.47 Q1493.85 1535.56 1494.55 1534.82 Q1495.25 1534.08 1496.26 1533.92 Q1495.52 1533.38 1494.32 1533.38 Q1492.36 1533.38 1490.62 1534.89 Q1489.86 1535.59 1489.02 1536.87 Q1488.19 1538.13 1488.03 1538.68 L1486.57 1544.69 Q1486.43 1545.37 1485.6 1548.62 Q1484.79 1551.84 1484.72 1551.98 Q1484.49 1552.61 1484 1552.95 Q1483.5 1553.28 1483 1553.28 Q1482.44 1553.28 1482.06 1552.95 Q1481.67 1552.61 1481.67 1552.02 Q1481.67 1551.93 1481.74 1551.59 Q1481.81 1551.26 1481.92 1550.78 Q1482.04 1550.31 1482.08 1550.04 L1484.76 1539.37 Q1485.26 1537.44 1485.37 1536.83 Q1485.51 1536.2 1485.51 1535.5 Q1485.51 1534.28 1485.12 1533.83 Q1484.74 1533.38 1484.06 1533.38 Q1482.89 1533.38 1482.13 1534.78 Q1481.36 1536.17 1480.71 1538.88 Q1480.5 1539.62 1480.37 1539.78 Q1480.25 1539.94 1479.92 1539.94 Q1479.35 1539.92 1479.35 1539.46 Q1479.35 1539.35 1479.53 1538.63 Q1479.71 1537.89 1480.05 1536.8 Q1480.41 1535.7 1480.8 1535 Q1481.02 1534.53 1481.22 1534.21 Q1481.43 1533.9 1481.83 1533.4 Q1482.24 1532.9 1482.85 1532.63 Q1483.46 1532.36 1484.2 1532.36 Q1485.82 1532.36 1486.97 1533.36 Q1488.14 1534.35 1488.42 1535.9 Q1488.98 1535.09 1489.68 1534.39 Q1490.38 1533.67 1491.66 1533.02 Q1492.95 1532.36 1494.32 1532.36 Q1496.04 1532.36 1497.09 1533.24 Q1498.15 1534.1 1498.15 1535.36 Z\" fill=\"#000000\" fill-rule=\"evenodd\" fill-opacity=\"1\" /><path clip-path=\"url(#clip300)\" d=\"M 0 0 M1524.48 1546.16 Q1523.89 1549.07 1523.1 1550.74 Q1521.82 1553.28 1519.68 1553.28 Q1518.19 1553.28 1517.06 1552.45 Q1515.96 1551.59 1515.57 1550.17 Q1515.15 1550.74 1514.76 1551.12 Q1514.4 1551.5 1513.7 1552.09 Q1513 1552.65 1512.06 1552.97 Q1511.13 1553.28 1510.07 1553.28 Q1509.26 1553.28 1508.52 1553.13 Q1507.77 1552.99 1506.98 1552.61 Q1506.22 1552.2 1505.65 1551.59 Q1505.11 1550.98 1504.75 1549.99 Q1504.39 1549 1504.39 1547.74 Q1504.39 1546.16 1505 1544.02 Q1505.63 1541.88 1507.07 1538.04 Q1507.86 1536.02 1507.86 1534.89 Q1507.86 1534.37 1507.75 1534.03 Q1507.64 1533.69 1507.41 1533.58 Q1507.21 1533.45 1507.07 1533.42 Q1506.94 1533.38 1506.71 1533.38 Q1505.32 1533.38 1504.1 1534.8 Q1502.88 1536.22 1502.05 1539.1 Q1501.87 1539.67 1501.75 1539.8 Q1501.64 1539.94 1501.3 1539.94 Q1500.74 1539.92 1500.74 1539.46 Q1500.74 1539.28 1500.94 1538.59 Q1501.15 1537.86 1501.62 1536.8 Q1502.11 1535.72 1502.79 1534.75 Q1503.47 1533.76 1504.53 1533.06 Q1505.61 1532.36 1506.85 1532.36 Q1508.54 1532.36 1509.58 1533.47 Q1510.64 1534.55 1510.64 1536.15 Q1510.64 1537.14 1509.85 1539.06 Q1507.35 1545.71 1507.35 1548.48 Q1507.35 1552.25 1510.21 1552.25 Q1511.16 1552.25 1512.03 1551.86 Q1512.94 1551.48 1513.52 1550.94 Q1514.11 1550.4 1514.56 1549.81 Q1515.03 1549.23 1515.24 1548.84 Q1515.46 1548.46 1515.48 1548.37 L1518.93 1534.48 Q1519.07 1533.94 1519.32 1533.58 Q1519.59 1533.2 1519.9 1533.06 Q1520.22 1532.93 1520.4 1532.9 Q1520.58 1532.86 1520.74 1532.86 Q1521.3 1532.86 1521.68 1533.2 Q1522.09 1533.54 1522.09 1534.12 Q1522.09 1534.23 1521.95 1534.78 Q1521.84 1535.29 1521.66 1536.06 Q1521.48 1536.8 1521.39 1537.21 Q1520.67 1540.05 1520.6 1540.34 L1519.32 1545.33 Q1519.25 1545.62 1519.02 1546.57 Q1518.82 1547.51 1518.71 1548.01 Q1518.59 1548.48 1518.48 1549.14 Q1518.39 1549.77 1518.39 1550.13 Q1518.39 1551.26 1518.73 1551.75 Q1519.07 1552.25 1519.81 1552.25 Q1520.51 1552.25 1521.05 1551.77 Q1521.62 1551.28 1522.04 1550.33 Q1522.47 1549.36 1522.72 1548.57 Q1522.97 1547.78 1523.28 1546.54 Q1523.4 1546 1523.49 1545.87 Q1523.6 1545.71 1523.92 1545.71 Q1524.48 1545.71 1524.48 1546.16 Z\" fill=\"#000000\" fill-rule=\"evenodd\" fill-opacity=\"1\" /><path clip-path=\"url(#clip300)\" d=\"M 0 0 M1544.44 1547.42 Q1544.62 1547.63 1544.62 1547.83 Q1544.62 1548.03 1544.17 1548.62 Q1543.74 1549.2 1542.81 1549.99 Q1541.89 1550.78 1540.69 1551.53 Q1539.5 1552.27 1537.74 1552.77 Q1535.98 1553.28 1534.13 1553.28 Q1530.82 1553.28 1528.84 1550.92 Q1526.87 1548.55 1526.87 1544.92 Q1526.87 1542.6 1527.64 1540.55 Q1528.41 1538.47 1529.65 1537.01 Q1530.91 1535.54 1532.49 1534.48 Q1534.09 1533.4 1535.76 1532.88 Q1537.42 1532.36 1538.98 1532.36 Q1541.26 1532.36 1542.59 1533.51 Q1543.92 1534.66 1543.92 1536.29 Q1543.92 1536.67 1543.8 1537.14 Q1543.71 1537.62 1543.4 1538.36 Q1543.11 1539.1 1542.34 1539.85 Q1541.57 1540.57 1540.45 1541.04 Q1537.94 1542.1 1533.39 1542.1 L1530.93 1542.1 Q1530.21 1545.01 1530.21 1546.9 Q1530.21 1547.65 1530.35 1548.41 Q1530.48 1549.16 1530.84 1550.11 Q1531.23 1551.05 1532.08 1551.66 Q1532.96 1552.25 1534.22 1552.25 Q1534.63 1552.25 1535.06 1552.22 Q1535.51 1552.2 1536.64 1551.95 Q1537.79 1551.71 1538.8 1551.28 Q1539.81 1550.85 1541.1 1549.93 Q1542.41 1548.98 1543.44 1547.69 Q1543.8 1547.22 1544.05 1547.22 Q1544.26 1547.22 1544.44 1547.42 M1542.38 1536.29 Q1542.38 1535.05 1541.46 1534.21 Q1540.56 1533.38 1538.98 1533.38 Q1538.48 1533.38 1537.88 1533.49 Q1537.27 1533.6 1536.25 1534.08 Q1535.26 1534.55 1534.38 1535.34 Q1533.5 1536.11 1532.62 1537.62 Q1531.74 1539.1 1531.23 1541.09 L1533.12 1541.09 Q1533.77 1541.09 1534.25 1541.09 Q1534.72 1541.07 1535.76 1540.98 Q1536.82 1540.88 1537.58 1540.73 Q1538.35 1540.55 1539.32 1540.19 Q1540.29 1539.83 1540.9 1539.35 Q1541.53 1538.86 1541.96 1538.07 Q1542.38 1537.28 1542.38 1536.29 Z\" fill=\"#000000\" fill-rule=\"evenodd\" fill-opacity=\"1\" /><polyline clip-path=\"url(#clip303)\" style=\"stroke:#000000; stroke-width:2; stroke-opacity:0.1; fill:none\" points=\"\n",
       "  411.884,1301.88 2474.64,1301.88 \n",
       "  \"/>\n",
       "<polyline clip-path=\"url(#clip303)\" style=\"stroke:#000000; stroke-width:2; stroke-opacity:0.1; fill:none\" points=\"\n",
       "  411.884,997.312 2474.64,997.312 \n",
       "  \"/>\n",
       "<polyline clip-path=\"url(#clip303)\" style=\"stroke:#000000; stroke-width:2; stroke-opacity:0.1; fill:none\" points=\"\n",
       "  411.884,692.746 2474.64,692.746 \n",
       "  \"/>\n",
       "<polyline clip-path=\"url(#clip303)\" style=\"stroke:#000000; stroke-width:2; stroke-opacity:0.1; fill:none\" points=\"\n",
       "  411.884,388.181 2474.64,388.181 \n",
       "  \"/>\n",
       "<polyline clip-path=\"url(#clip303)\" style=\"stroke:#000000; stroke-width:2; stroke-opacity:0.1; fill:none\" points=\"\n",
       "  411.884,83.6153 2474.64,83.6153 \n",
       "  \"/>\n",
       "<polyline clip-path=\"url(#clip300)\" style=\"stroke:#000000; stroke-width:4; stroke-opacity:1; fill:none\" points=\"\n",
       "  411.884,1338.42 411.884,47.2441 \n",
       "  \"/>\n",
       "<polyline clip-path=\"url(#clip300)\" style=\"stroke:#000000; stroke-width:4; stroke-opacity:1; fill:none\" points=\"\n",
       "  411.884,1301.88 436.637,1301.88 \n",
       "  \"/>\n",
       "<polyline clip-path=\"url(#clip300)\" style=\"stroke:#000000; stroke-width:4; stroke-opacity:1; fill:none\" points=\"\n",
       "  411.884,997.312 436.637,997.312 \n",
       "  \"/>\n",
       "<polyline clip-path=\"url(#clip300)\" style=\"stroke:#000000; stroke-width:4; stroke-opacity:1; fill:none\" points=\"\n",
       "  411.884,692.746 436.637,692.746 \n",
       "  \"/>\n",
       "<polyline clip-path=\"url(#clip300)\" style=\"stroke:#000000; stroke-width:4; stroke-opacity:1; fill:none\" points=\"\n",
       "  411.884,388.181 436.637,388.181 \n",
       "  \"/>\n",
       "<polyline clip-path=\"url(#clip300)\" style=\"stroke:#000000; stroke-width:4; stroke-opacity:1; fill:none\" points=\"\n",
       "  411.884,83.6153 436.637,83.6153 \n",
       "  \"/>\n",
       "<path clip-path=\"url(#clip300)\" d=\"M 0 0 M196.94 1302.33 L226.616 1302.33 L226.616 1306.26 L196.94 1306.26 L196.94 1302.33 Z\" fill=\"#000000\" fill-rule=\"evenodd\" fill-opacity=\"1\" /><path clip-path=\"url(#clip300)\" d=\"M 0 0 M237.519 1315.22 L245.158 1315.22 L245.158 1288.86 L236.848 1290.52 L236.848 1286.26 L245.111 1284.6 L249.787 1284.6 L249.787 1315.22 L257.426 1315.22 L257.426 1319.16 L237.519 1319.16 L237.519 1315.22 Z\" fill=\"#000000\" fill-rule=\"evenodd\" fill-opacity=\"1\" /><path clip-path=\"url(#clip300)\" d=\"M 0 0 M266.871 1313.28 L271.755 1313.28 L271.755 1319.16 L266.871 1319.16 L266.871 1313.28 Z\" fill=\"#000000\" fill-rule=\"evenodd\" fill-opacity=\"1\" /><path clip-path=\"url(#clip300)\" d=\"M 0 0 M291.94 1287.68 Q288.329 1287.68 286.5 1291.24 Q284.695 1294.78 284.695 1301.91 Q284.695 1309.02 286.5 1312.58 Q288.329 1316.12 291.94 1316.12 Q295.574 1316.12 297.38 1312.58 Q299.208 1309.02 299.208 1301.91 Q299.208 1294.78 297.38 1291.24 Q295.574 1287.68 291.94 1287.68 M291.94 1283.97 Q297.75 1283.97 300.806 1288.58 Q303.884 1293.16 303.884 1301.91 Q303.884 1310.64 300.806 1315.25 Q297.75 1319.83 291.94 1319.83 Q286.13 1319.83 283.051 1315.25 Q279.995 1310.64 279.995 1301.91 Q279.995 1293.16 283.051 1288.58 Q286.13 1283.97 291.94 1283.97 Z\" fill=\"#000000\" fill-rule=\"evenodd\" fill-opacity=\"1\" /><path clip-path=\"url(#clip300)\" d=\"M 0 0 M197.936 997.763 L227.611 997.763 L227.611 1001.7 L197.936 1001.7 L197.936 997.763 Z\" fill=\"#000000\" fill-rule=\"evenodd\" fill-opacity=\"1\" /><path clip-path=\"url(#clip300)\" d=\"M 0 0 M247.704 983.11 Q244.093 983.11 242.264 986.675 Q240.459 990.217 240.459 997.346 Q240.459 1004.45 242.264 1008.02 Q244.093 1011.56 247.704 1011.56 Q251.338 1011.56 253.144 1008.02 Q254.972 1004.45 254.972 997.346 Q254.972 990.217 253.144 986.675 Q251.338 983.11 247.704 983.11 M247.704 979.407 Q253.514 979.407 256.57 984.013 Q259.648 988.596 259.648 997.346 Q259.648 1006.07 256.57 1010.68 Q253.514 1015.26 247.704 1015.26 Q241.894 1015.26 238.815 1010.68 Q235.76 1006.07 235.76 997.346 Q235.76 988.596 238.815 984.013 Q241.894 979.407 247.704 979.407 Z\" fill=\"#000000\" fill-rule=\"evenodd\" fill-opacity=\"1\" /><path clip-path=\"url(#clip300)\" d=\"M 0 0 M267.866 1008.71 L272.75 1008.71 L272.75 1014.59 L267.866 1014.59 L267.866 1008.71 Z\" fill=\"#000000\" fill-rule=\"evenodd\" fill-opacity=\"1\" /><path clip-path=\"url(#clip300)\" d=\"M 0 0 M282.982 980.032 L301.338 980.032 L301.338 983.967 L287.264 983.967 L287.264 992.439 Q288.282 992.092 289.301 991.93 Q290.319 991.745 291.338 991.745 Q297.125 991.745 300.505 994.916 Q303.884 998.087 303.884 1003.5 Q303.884 1009.08 300.412 1012.18 Q296.94 1015.26 290.62 1015.26 Q288.444 1015.26 286.176 1014.89 Q283.931 1014.52 281.523 1013.78 L281.523 1009.08 Q283.607 1010.22 285.829 1010.77 Q288.051 1011.33 290.528 1011.33 Q294.532 1011.33 296.87 1009.22 Q299.208 1007.11 299.208 1003.5 Q299.208 999.893 296.87 997.786 Q294.532 995.68 290.528 995.68 Q288.653 995.68 286.778 996.096 Q284.926 996.513 282.982 997.393 L282.982 980.032 Z\" fill=\"#000000\" fill-rule=\"evenodd\" fill-opacity=\"1\" /><path clip-path=\"url(#clip300)\" d=\"M 0 0 M246.709 678.545 Q243.098 678.545 241.269 682.11 Q239.463 685.651 239.463 692.781 Q239.463 699.887 241.269 703.452 Q243.098 706.994 246.709 706.994 Q250.343 706.994 252.148 703.452 Q253.977 699.887 253.977 692.781 Q253.977 685.651 252.148 682.11 Q250.343 678.545 246.709 678.545 M246.709 674.841 Q252.519 674.841 255.574 679.448 Q258.653 684.031 258.653 692.781 Q258.653 701.508 255.574 706.114 Q252.519 710.698 246.709 710.698 Q240.898 710.698 237.82 706.114 Q234.764 701.508 234.764 692.781 Q234.764 684.031 237.82 679.448 Q240.898 674.841 246.709 674.841 Z\" fill=\"#000000\" fill-rule=\"evenodd\" fill-opacity=\"1\" /><path clip-path=\"url(#clip300)\" d=\"M 0 0 M266.871 704.147 L271.755 704.147 L271.755 710.026 L266.871 710.026 L266.871 704.147 Z\" fill=\"#000000\" fill-rule=\"evenodd\" fill-opacity=\"1\" /><path clip-path=\"url(#clip300)\" d=\"M 0 0 M291.94 678.545 Q288.329 678.545 286.5 682.11 Q284.695 685.651 284.695 692.781 Q284.695 699.887 286.5 703.452 Q288.329 706.994 291.94 706.994 Q295.574 706.994 297.38 703.452 Q299.208 699.887 299.208 692.781 Q299.208 685.651 297.38 682.11 Q295.574 678.545 291.94 678.545 M291.94 674.841 Q297.75 674.841 300.806 679.448 Q303.884 684.031 303.884 692.781 Q303.884 701.508 300.806 706.114 Q297.75 710.698 291.94 710.698 Q286.13 710.698 283.051 706.114 Q279.995 701.508 279.995 692.781 Q279.995 684.031 283.051 679.448 Q286.13 674.841 291.94 674.841 Z\" fill=\"#000000\" fill-rule=\"evenodd\" fill-opacity=\"1\" /><path clip-path=\"url(#clip300)\" d=\"M 0 0 M247.704 373.979 Q244.093 373.979 242.264 377.544 Q240.459 381.086 240.459 388.216 Q240.459 395.322 242.264 398.887 Q244.093 402.428 247.704 402.428 Q251.338 402.428 253.144 398.887 Q254.972 395.322 254.972 388.216 Q254.972 381.086 253.144 377.544 Q251.338 373.979 247.704 373.979 M247.704 370.276 Q253.514 370.276 256.57 374.882 Q259.648 379.466 259.648 388.216 Q259.648 396.942 256.57 401.549 Q253.514 406.132 247.704 406.132 Q241.894 406.132 238.815 401.549 Q235.76 396.942 235.76 388.216 Q235.76 379.466 238.815 374.882 Q241.894 370.276 247.704 370.276 Z\" fill=\"#000000\" fill-rule=\"evenodd\" fill-opacity=\"1\" /><path clip-path=\"url(#clip300)\" d=\"M 0 0 M267.866 399.581 L272.75 399.581 L272.75 405.461 L267.866 405.461 L267.866 399.581 Z\" fill=\"#000000\" fill-rule=\"evenodd\" fill-opacity=\"1\" /><path clip-path=\"url(#clip300)\" d=\"M 0 0 M282.982 370.901 L301.338 370.901 L301.338 374.836 L287.264 374.836 L287.264 383.308 Q288.282 382.961 289.301 382.799 Q290.319 382.614 291.338 382.614 Q297.125 382.614 300.505 385.785 Q303.884 388.956 303.884 394.373 Q303.884 399.952 300.412 403.053 Q296.94 406.132 290.62 406.132 Q288.444 406.132 286.176 405.762 Q283.931 405.391 281.523 404.651 L281.523 399.952 Q283.607 401.086 285.829 401.641 Q288.051 402.197 290.528 402.197 Q294.532 402.197 296.87 400.09 Q299.208 397.984 299.208 394.373 Q299.208 390.762 296.87 388.655 Q294.532 386.549 290.528 386.549 Q288.653 386.549 286.778 386.966 Q284.926 387.382 282.982 388.262 L282.982 370.901 Z\" fill=\"#000000\" fill-rule=\"evenodd\" fill-opacity=\"1\" /><path clip-path=\"url(#clip300)\" d=\"M 0 0 M237.519 96.9602 L245.158 96.9602 L245.158 70.5946 L236.848 72.2612 L236.848 68.002 L245.111 66.3353 L249.787 66.3353 L249.787 96.9602 L257.426 96.9602 L257.426 100.895 L237.519 100.895 L237.519 96.9602 Z\" fill=\"#000000\" fill-rule=\"evenodd\" fill-opacity=\"1\" /><path clip-path=\"url(#clip300)\" d=\"M 0 0 M266.871 95.0157 L271.755 95.0157 L271.755 100.895 L266.871 100.895 L266.871 95.0157 Z\" fill=\"#000000\" fill-rule=\"evenodd\" fill-opacity=\"1\" /><path clip-path=\"url(#clip300)\" d=\"M 0 0 M291.94 69.414 Q288.329 69.414 286.5 72.9788 Q284.695 76.5205 284.695 83.65 Q284.695 90.7565 286.5 94.3213 Q288.329 97.8629 291.94 97.8629 Q295.574 97.8629 297.38 94.3213 Q299.208 90.7565 299.208 83.65 Q299.208 76.5205 297.38 72.9788 Q295.574 69.414 291.94 69.414 M291.94 65.7103 Q297.75 65.7103 300.806 70.3168 Q303.884 74.9001 303.884 83.65 Q303.884 92.3769 300.806 96.9833 Q297.75 101.567 291.94 101.567 Q286.13 101.567 283.051 96.9833 Q279.995 92.3769 279.995 83.65 Q279.995 74.9001 283.051 70.3168 Q286.13 65.7103 291.94 65.7103 Z\" fill=\"#000000\" fill-rule=\"evenodd\" fill-opacity=\"1\" /><path clip-path=\"url(#clip300)\" d=\"M 0 0 M64.0882 788.505 Q59.7082 792.692 53.4603 792.692 Q47.1802 792.692 42.6713 788.57 Q38.1303 784.447 38.1303 778.393 Q38.1303 774.367 40.0627 771.34 Q41.9628 768.312 45.2156 768.312 Q46.6649 768.312 47.5022 769.182 Q48.3074 770.019 48.3074 771.34 Q48.3074 772.724 47.47 773.562 Q46.6005 774.367 45.28 774.367 Q44.7003 774.367 44.1206 774.174 Q43.5409 773.98 42.929 773.272 Q42.3171 772.531 42.2205 771.275 Q39.805 773.626 39.805 778.199 Q39.805 778.264 39.805 778.328 Q39.805 781.678 42.9612 784.447 Q46.1174 787.217 53.3315 787.217 Q57.0996 787.217 59.8693 786.315 Q62.6068 785.381 64.0238 783.868 Q65.4409 782.354 66.1172 780.873 Q66.7613 779.391 66.7613 777.942 Q66.7613 771.468 59.8371 769.278 Q59.1929 769.085 59.1929 768.441 Q59.1929 767.571 59.8371 767.571 Q60.1591 767.571 60.9965 767.829 Q61.8338 768.087 63.1543 768.892 Q64.4747 769.697 65.6341 770.856 Q66.7613 771.984 67.5987 774.013 Q68.436 776.009 68.436 778.521 Q68.436 784.319 64.0882 788.505 Z\" fill=\"#000000\" fill-rule=\"evenodd\" fill-opacity=\"1\" /><path clip-path=\"url(#clip300)\" d=\"M 0 0 M64.1527 759.362 Q59.8371 763.71 53.5891 763.71 Q47.309 763.71 42.7358 759.459 Q38.1303 755.176 38.1303 749.057 Q38.1303 743.066 42.7035 738.783 Q47.2446 734.467 53.5891 734.467 Q59.8049 734.467 64.1204 738.815 Q68.436 743.131 68.436 749.121 Q68.436 754.982 64.1527 759.362 M53.0416 758.235 Q59.4506 758.235 62.3491 756.561 Q66.7613 753.984 66.7613 749.057 Q66.7613 746.609 65.4409 744.58 Q64.1204 742.519 61.8982 741.392 Q58.9997 739.942 53.0416 739.942 Q46.6971 739.942 43.8952 741.681 Q39.6118 744.258 39.6118 749.121 Q39.6118 751.247 40.739 753.34 Q41.834 755.401 44.024 756.657 Q46.9225 758.235 53.0416 758.235 Z\" fill=\"#000000\" fill-rule=\"evenodd\" fill-opacity=\"1\" /><path clip-path=\"url(#clip300)\" d=\"M 0 0 M66.8257 731.062 L58.1302 731.062 Q57.3894 731.062 57.1318 731.03 Q56.8741 730.997 56.6809 730.804 Q56.4877 730.611 56.4877 730.224 Q56.4877 729.774 56.6809 729.613 Q56.8741 729.419 57.6149 729.29 Q62.1559 728.292 64.5713 726.166 Q66.9546 724.009 66.9546 720.112 Q66.9546 716.408 65.3121 714.54 Q63.6696 712.672 60.9643 712.672 Q56.1334 712.672 54.9096 719.532 Q54.1044 723.493 53.5891 725.136 Q53.0416 726.778 51.85 728.228 Q49.5312 731.062 46.2462 731.062 Q42.9612 731.062 40.5458 728.582 Q38.1303 726.07 38.1303 720.53 Q38.1303 716.827 39.9983 714.315 Q39.4185 713.574 38.9355 713.188 Q38.1303 712.318 38.1303 711.867 Q38.1303 711.352 38.4846 711.255 Q38.8066 711.159 39.7406 711.159 L46.375 711.159 Q47.1157 711.159 47.3734 711.191 Q47.631 711.223 47.8243 711.416 Q47.9853 711.609 47.9853 712.028 Q47.9853 712.769 47.3734 712.801 Q39.3863 713.316 39.3863 720.53 Q39.3863 724.427 40.9 726.166 Q42.3815 727.906 44.4105 727.906 Q45.5377 727.906 46.4072 727.39 Q47.2446 726.843 47.7599 726.166 Q48.243 725.458 48.726 724.17 Q49.1769 722.882 49.338 722.109 Q49.499 721.303 49.821 719.79 Q50.8194 714.508 52.9772 712.286 Q55.7469 709.516 59.2574 709.516 Q63.1543 709.516 65.7951 712.157 Q68.436 714.798 68.436 720.112 Q68.436 724.395 65.5697 727.39 Q65.9562 727.777 66.3104 728.067 Q66.6325 728.356 66.7613 728.485 Q66.8901 728.582 66.9868 728.614 Q67.0512 728.646 67.1156 728.711 Q68.436 730.031 68.436 730.353 Q68.436 730.869 68.0818 730.965 Q67.7597 731.062 66.8257 731.062 Z\" fill=\"#000000\" fill-rule=\"evenodd\" fill-opacity=\"1\" /><path clip-path=\"url(#clip300)\" d=\"M 0 0 M47.631 667.812 Q51.4635 667.812 55.2638 669.583 Q59.0641 671.355 61.9627 674.253 Q64.829 677.119 66.6325 681.048 Q68.436 684.945 68.436 688.939 Q68.436 689.647 68.275 691.097 Q80.159 693.351 80.3522 693.416 Q81.0285 693.705 81.4472 694.285 Q81.8659 694.833 81.9625 695.219 Q82.0591 695.606 82.0591 695.863 Q82.0591 696.507 81.6082 697.151 Q81.1896 697.763 80.2234 697.763 Q79.9979 697.763 78.9029 697.441 L67.8241 693.931 Q66.6003 699.245 63.2187 702.304 Q59.8049 705.364 55.1672 705.364 Q52.2043 705.364 48.3396 704.011 Q44.4749 702.659 41.8662 701.016 Q39.2575 699.374 39.2575 698.44 Q39.2575 697.634 39.9338 697.634 Q40.1915 697.634 40.7712 698.15 Q43.7663 700.758 48.0819 702.208 Q52.3653 703.625 54.4265 703.625 Q58.0335 703.625 60.6422 700.855 Q63.2187 698.053 64.1849 692.804 Q54.0722 689.68 49.821 687.812 Q41.3831 684.044 39.3219 679.148 Q38.549 677.345 38.549 675.348 Q38.549 671.741 41.0933 669.776 Q43.6053 667.812 47.631 667.812 M49.0803 669.68 Q47.3734 669.68 45.9241 670.292 Q44.4749 670.871 43.4443 672.353 Q42.3815 673.834 42.3815 675.992 Q42.3815 680.308 46.536 683.915 Q50.6906 687.522 57.1318 689.068 L64.2815 690.388 Q64.5391 690.388 64.5391 689.519 Q64.6035 689.003 64.6035 688.327 Q64.6035 684.656 63.2187 681.177 Q61.8338 677.667 59.6438 675.187 Q57.4538 672.707 54.6519 671.193 Q51.85 669.68 49.0803 669.68 Z\" fill=\"#000000\" fill-rule=\"evenodd\" fill-opacity=\"1\" /><path clip-path=\"url(#clip300)\" d=\"M 0 0 M76.6219 642.35 Q77.8167 642.35 78.5832 643.139 Q79.3497 643.906 79.3497 644.898 Q79.3497 645.754 78.8537 646.205 Q78.3578 646.656 77.7265 646.656 Q76.8248 646.656 76.0808 645.957 Q75.3369 645.258 75.1791 644.244 Q74.638 644.988 74.638 646.183 Q74.638 648.144 76.1484 649.88 Q76.8473 650.646 78.1323 651.481 Q79.3948 652.315 79.9359 652.473 L85.9551 653.938 Q86.6315 654.073 89.8778 654.907 Q93.1016 655.719 93.2369 655.787 Q93.8681 656.012 94.2063 656.508 Q94.5444 657.004 94.5444 657.5 Q94.5444 658.063 94.2063 658.447 Q93.8681 658.83 93.282 658.83 Q93.1918 658.83 92.8536 658.762 Q92.5155 658.695 92.042 658.582 Q91.5686 658.469 91.2981 658.424 L80.6347 655.741 Q78.6959 655.245 78.0872 655.133 Q77.456 654.997 76.7571 654.997 Q75.5398 654.997 75.0889 655.381 Q74.638 655.764 74.638 656.44 Q74.638 657.613 76.0357 658.379 Q77.4335 659.146 80.1388 659.799 Q80.8827 660.002 81.0405 660.138 Q81.1983 660.25 81.1983 660.588 Q81.1758 661.152 80.7249 661.152 Q80.6122 661.152 79.8908 660.972 Q79.1468 660.791 78.0647 660.453 Q76.96 660.092 76.2612 659.709 Q75.7877 659.484 75.4721 659.281 Q75.1565 659.078 74.6605 658.672 Q74.1646 658.266 73.894 657.658 Q73.6235 657.049 73.6235 656.305 Q73.6235 654.682 74.6154 653.532 Q75.6074 652.36 77.1629 652.089 Q76.3513 651.526 75.6525 650.827 Q74.9311 650.128 74.2773 648.843 Q73.6235 647.558 73.6235 646.183 Q73.6235 644.469 74.5027 643.41 Q75.3594 642.35 76.6219 642.35 Z\" fill=\"#000000\" fill-rule=\"evenodd\" fill-opacity=\"1\" /><path clip-path=\"url(#clip300)\" d=\"M 0 0 M88.683 623.515 Q88.8859 623.335 89.0888 623.335 Q89.2917 623.335 89.8778 623.786 Q90.464 624.214 91.253 625.139 Q92.042 626.063 92.786 627.258 Q93.5299 628.453 94.0259 630.211 Q94.5444 631.969 94.5444 633.818 Q94.5444 637.132 92.1773 639.116 Q89.8102 641.077 86.1806 641.077 Q83.8585 641.077 81.807 640.311 Q79.733 639.544 78.2676 638.304 Q76.8022 637.042 75.7427 635.464 Q74.6605 633.863 74.142 632.195 Q73.6235 630.527 73.6235 628.971 Q73.6235 626.694 74.7733 625.364 Q75.923 624.034 77.5462 624.034 Q77.9294 624.034 78.4029 624.147 Q78.8763 624.237 79.6202 624.552 Q80.3642 624.846 81.1081 625.612 Q81.8296 626.379 82.303 627.506 Q83.3626 630.008 83.3626 634.562 L83.3626 637.019 Q86.2707 637.741 88.1645 637.741 Q88.9084 637.741 89.6749 637.605 Q90.4189 637.47 91.3657 637.11 Q92.3126 636.726 92.9213 635.87 Q93.5074 634.99 93.5074 633.728 Q93.5074 633.322 93.4849 632.894 Q93.4623 632.443 93.2143 631.316 Q92.9663 630.166 92.538 629.151 Q92.1097 628.137 91.1854 626.852 Q90.2385 625.544 88.9535 624.507 Q88.4801 624.147 88.4801 623.899 Q88.4801 623.696 88.683 623.515 M77.5462 625.567 Q76.3063 625.567 75.4721 626.491 Q74.638 627.393 74.638 628.971 Q74.638 629.467 74.7507 630.076 Q74.8634 630.684 75.3369 631.699 Q75.8103 632.691 76.5993 633.57 Q77.3658 634.449 78.8763 635.329 Q80.3642 636.208 82.3481 636.726 L82.3481 634.833 Q82.3481 634.179 82.3481 633.705 Q82.3255 633.232 82.2354 632.195 Q82.1452 631.135 81.9874 630.369 Q81.807 629.602 81.4463 628.633 Q81.0856 627.664 80.6122 627.055 Q80.1162 626.424 79.3272 625.995 Q78.5381 625.567 77.5462 625.567 Z\" fill=\"#000000\" fill-rule=\"evenodd\" fill-opacity=\"1\" /><path clip-path=\"url(#clip300)\" d=\"M 0 0 M88.683 601.998 Q88.8859 601.818 89.0888 601.818 Q89.2917 601.818 89.8778 602.269 Q90.464 602.697 91.253 603.622 Q92.042 604.546 92.786 605.741 Q93.5299 606.936 94.0259 608.694 Q94.5444 610.452 94.5444 612.301 Q94.5444 615.75 92.2675 617.779 Q89.9905 619.786 86.7216 619.786 Q83.5429 619.786 80.4995 618.005 Q77.4335 616.224 75.5398 613.338 Q73.6235 610.452 73.6235 607.409 Q73.6235 604.997 74.7507 603.486 Q75.8779 601.976 77.5913 601.976 Q78.9214 601.976 79.733 602.742 Q80.5445 603.509 80.5445 604.546 Q80.5445 605.267 80.1388 605.763 Q79.7104 606.259 78.9214 606.259 Q77.9069 606.259 77.1178 605.425 Q76.8022 605.109 76.667 604.749 Q76.5092 604.365 76.5092 604.14 Q76.4866 603.915 76.4866 603.396 Q75.6074 603.87 75.134 604.997 Q74.638 606.101 74.638 607.364 Q74.638 609.235 75.9455 611.016 Q77.2306 612.797 79.2595 613.879 Q81.2434 614.961 84.0614 615.66 Q86.8569 616.359 88.4801 616.359 Q90.7119 616.359 92.1097 615.322 Q93.5074 614.285 93.5074 612.211 Q93.5074 611.805 93.4849 611.377 Q93.4623 610.926 93.2143 609.799 Q92.9663 608.649 92.538 607.634 Q92.1097 606.62 91.1854 605.335 Q90.2385 604.027 88.9535 602.99 Q88.4801 602.63 88.4801 602.382 Q88.4801 602.179 88.683 601.998 Z\" fill=\"#000000\" fill-rule=\"evenodd\" fill-opacity=\"1\" /><circle clip-path=\"url(#clip303)\" cx=\"2015.29\" cy=\"333.368\" r=\"7\" fill=\"#009af9\" fill-rule=\"evenodd\" fill-opacity=\"1\" stroke=\"#000000\" stroke-opacity=\"1\" stroke-width=\"0\"/>\n",
       "<circle clip-path=\"url(#clip303)\" cx=\"1191.49\" cy=\"846.659\" r=\"7\" fill=\"#009af9\" fill-rule=\"evenodd\" fill-opacity=\"1\" stroke=\"#000000\" stroke-opacity=\"1\" stroke-width=\"0\"/>\n",
       "<circle clip-path=\"url(#clip303)\" cx=\"2259.42\" cy=\"178.001\" r=\"7\" fill=\"#009af9\" fill-rule=\"evenodd\" fill-opacity=\"1\" stroke=\"#000000\" stroke-opacity=\"1\" stroke-width=\"0\"/>\n",
       "<circle clip-path=\"url(#clip303)\" cx=\"1958.99\" cy=\"376.532\" r=\"7\" fill=\"#009af9\" fill-rule=\"evenodd\" fill-opacity=\"1\" stroke=\"#000000\" stroke-opacity=\"1\" stroke-width=\"0\"/>\n",
       "<circle clip-path=\"url(#clip303)\" cx=\"708.95\" cy=\"1160.78\" r=\"7\" fill=\"#009af9\" fill-rule=\"evenodd\" fill-opacity=\"1\" stroke=\"#000000\" stroke-opacity=\"1\" stroke-width=\"0\"/>\n",
       "<circle clip-path=\"url(#clip303)\" cx=\"491.528\" cy=\"1286.98\" r=\"7\" fill=\"#009af9\" fill-rule=\"evenodd\" fill-opacity=\"1\" stroke=\"#000000\" stroke-opacity=\"1\" stroke-width=\"0\"/>\n",
       "<circle clip-path=\"url(#clip303)\" cx=\"499.169\" cy=\"1288.53\" r=\"7\" fill=\"#009af9\" fill-rule=\"evenodd\" fill-opacity=\"1\" stroke=\"#000000\" stroke-opacity=\"1\" stroke-width=\"0\"/>\n",
       "<circle clip-path=\"url(#clip303)\" cx=\"1958.99\" cy=\"353.492\" r=\"7\" fill=\"#009af9\" fill-rule=\"evenodd\" fill-opacity=\"1\" stroke=\"#000000\" stroke-opacity=\"1\" stroke-width=\"0\"/>\n",
       "<circle clip-path=\"url(#clip303)\" cx=\"687.117\" cy=\"1171.06\" r=\"7\" fill=\"#009af9\" fill-rule=\"evenodd\" fill-opacity=\"1\" stroke=\"#000000\" stroke-opacity=\"1\" stroke-width=\"0\"/>\n",
       "<circle clip-path=\"url(#clip303)\" cx=\"1078.82\" cy=\"921.177\" r=\"7\" fill=\"#009af9\" fill-rule=\"evenodd\" fill-opacity=\"1\" stroke=\"#000000\" stroke-opacity=\"1\" stroke-width=\"0\"/>\n",
       "<circle clip-path=\"url(#clip303)\" cx=\"1494.26\" cy=\"661.125\" r=\"7\" fill=\"#009af9\" fill-rule=\"evenodd\" fill-opacity=\"1\" stroke=\"#000000\" stroke-opacity=\"1\" stroke-width=\"0\"/>\n",
       "<circle clip-path=\"url(#clip303)\" cx=\"1241.02\" cy=\"840.831\" r=\"7\" fill=\"#009af9\" fill-rule=\"evenodd\" fill-opacity=\"1\" stroke=\"#000000\" stroke-opacity=\"1\" stroke-width=\"0\"/>\n",
       "<circle clip-path=\"url(#clip303)\" cx=\"485.047\" cy=\"1294.52\" r=\"7\" fill=\"#009af9\" fill-rule=\"evenodd\" fill-opacity=\"1\" stroke=\"#000000\" stroke-opacity=\"1\" stroke-width=\"0\"/>\n",
       "<circle clip-path=\"url(#clip303)\" cx=\"2302.51\" cy=\"153.112\" r=\"7\" fill=\"#009af9\" fill-rule=\"evenodd\" fill-opacity=\"1\" stroke=\"#000000\" stroke-opacity=\"1\" stroke-width=\"0\"/>\n",
       "<circle clip-path=\"url(#clip303)\" cx=\"1839.12\" cy=\"436.796\" r=\"7\" fill=\"#009af9\" fill-rule=\"evenodd\" fill-opacity=\"1\" stroke=\"#000000\" stroke-opacity=\"1\" stroke-width=\"0\"/>\n",
       "<circle clip-path=\"url(#clip303)\" cx=\"488.142\" cy=\"1289.03\" r=\"7\" fill=\"#009af9\" fill-rule=\"evenodd\" fill-opacity=\"1\" stroke=\"#000000\" stroke-opacity=\"1\" stroke-width=\"0\"/>\n",
       "<circle clip-path=\"url(#clip303)\" cx=\"1678.74\" cy=\"543.568\" r=\"7\" fill=\"#009af9\" fill-rule=\"evenodd\" fill-opacity=\"1\" stroke=\"#000000\" stroke-opacity=\"1\" stroke-width=\"0\"/>\n",
       "<circle clip-path=\"url(#clip303)\" cx=\"523.279\" cy=\"1273.6\" r=\"7\" fill=\"#009af9\" fill-rule=\"evenodd\" fill-opacity=\"1\" stroke=\"#000000\" stroke-opacity=\"1\" stroke-width=\"0\"/>\n",
       "<circle clip-path=\"url(#clip303)\" cx=\"561.433\" cy=\"1245.16\" r=\"7\" fill=\"#009af9\" fill-rule=\"evenodd\" fill-opacity=\"1\" stroke=\"#000000\" stroke-opacity=\"1\" stroke-width=\"0\"/>\n",
       "<circle clip-path=\"url(#clip303)\" cx=\"986.507\" cy=\"966.467\" r=\"7\" fill=\"#009af9\" fill-rule=\"evenodd\" fill-opacity=\"1\" stroke=\"#000000\" stroke-opacity=\"1\" stroke-width=\"0\"/>\n",
       "<circle clip-path=\"url(#clip303)\" cx=\"2210.13\" cy=\"222.051\" r=\"7\" fill=\"#009af9\" fill-rule=\"evenodd\" fill-opacity=\"1\" stroke=\"#000000\" stroke-opacity=\"1\" stroke-width=\"0\"/>\n",
       "<circle clip-path=\"url(#clip303)\" cx=\"1063.13\" cy=\"935.768\" r=\"7\" fill=\"#009af9\" fill-rule=\"evenodd\" fill-opacity=\"1\" stroke=\"#000000\" stroke-opacity=\"1\" stroke-width=\"0\"/>\n",
       "<circle clip-path=\"url(#clip303)\" cx=\"1929.87\" cy=\"380.852\" r=\"7\" fill=\"#009af9\" fill-rule=\"evenodd\" fill-opacity=\"1\" stroke=\"#000000\" stroke-opacity=\"1\" stroke-width=\"0\"/>\n",
       "<circle clip-path=\"url(#clip303)\" cx=\"584.165\" cy=\"1239.8\" r=\"7\" fill=\"#009af9\" fill-rule=\"evenodd\" fill-opacity=\"1\" stroke=\"#000000\" stroke-opacity=\"1\" stroke-width=\"0\"/>\n",
       "<circle clip-path=\"url(#clip303)\" cx=\"600.631\" cy=\"1224.84\" r=\"7\" fill=\"#009af9\" fill-rule=\"evenodd\" fill-opacity=\"1\" stroke=\"#000000\" stroke-opacity=\"1\" stroke-width=\"0\"/>\n",
       "<circle clip-path=\"url(#clip303)\" cx=\"986.507\" cy=\"974.055\" r=\"7\" fill=\"#009af9\" fill-rule=\"evenodd\" fill-opacity=\"1\" stroke=\"#000000\" stroke-opacity=\"1\" stroke-width=\"0\"/>\n",
       "<circle clip-path=\"url(#clip303)\" cx=\"2363.39\" cy=\"103.645\" r=\"7\" fill=\"#009af9\" fill-rule=\"evenodd\" fill-opacity=\"1\" stroke=\"#000000\" stroke-opacity=\"1\" stroke-width=\"0\"/>\n",
       "<circle clip-path=\"url(#clip303)\" cx=\"2411.08\" cy=\"86.2937\" r=\"7\" fill=\"#009af9\" fill-rule=\"evenodd\" fill-opacity=\"1\" stroke=\"#000000\" stroke-opacity=\"1\" stroke-width=\"0\"/>\n",
       "<circle clip-path=\"url(#clip303)\" cx=\"2391.47\" cy=\"99.2754\" r=\"7\" fill=\"#009af9\" fill-rule=\"evenodd\" fill-opacity=\"1\" stroke=\"#000000\" stroke-opacity=\"1\" stroke-width=\"0\"/>\n",
       "<circle clip-path=\"url(#clip303)\" cx=\"1823.55\" cy=\"451.498\" r=\"7\" fill=\"#009af9\" fill-rule=\"evenodd\" fill-opacity=\"1\" stroke=\"#000000\" stroke-opacity=\"1\" stroke-width=\"0\"/>\n",
       "<circle clip-path=\"url(#clip303)\" cx=\"2383.25\" cy=\"108.02\" r=\"7\" fill=\"#009af9\" fill-rule=\"evenodd\" fill-opacity=\"1\" stroke=\"#000000\" stroke-opacity=\"1\" stroke-width=\"0\"/>\n",
       "<circle clip-path=\"url(#clip303)\" cx=\"1224.44\" cy=\"846.378\" r=\"7\" fill=\"#009af9\" fill-rule=\"evenodd\" fill-opacity=\"1\" stroke=\"#000000\" stroke-opacity=\"1\" stroke-width=\"0\"/>\n",
       "<circle clip-path=\"url(#clip303)\" cx=\"2068.82\" cy=\"292.459\" r=\"7\" fill=\"#009af9\" fill-rule=\"evenodd\" fill-opacity=\"1\" stroke=\"#000000\" stroke-opacity=\"1\" stroke-width=\"0\"/>\n",
       "<circle clip-path=\"url(#clip303)\" cx=\"1375.46\" cy=\"739.661\" r=\"7\" fill=\"#009af9\" fill-rule=\"evenodd\" fill-opacity=\"1\" stroke=\"#000000\" stroke-opacity=\"1\" stroke-width=\"0\"/>\n",
       "<circle clip-path=\"url(#clip303)\" cx=\"1915.09\" cy=\"392.763\" r=\"7\" fill=\"#009af9\" fill-rule=\"evenodd\" fill-opacity=\"1\" stroke=\"#000000\" stroke-opacity=\"1\" stroke-width=\"0\"/>\n",
       "<circle clip-path=\"url(#clip303)\" cx=\"2391.47\" cy=\"99.0854\" r=\"7\" fill=\"#009af9\" fill-rule=\"evenodd\" fill-opacity=\"1\" stroke=\"#000000\" stroke-opacity=\"1\" stroke-width=\"0\"/>\n",
       "<circle clip-path=\"url(#clip303)\" cx=\"743.367\" cy=\"1135.52\" r=\"7\" fill=\"#009af9\" fill-rule=\"evenodd\" fill-opacity=\"1\" stroke=\"#000000\" stroke-opacity=\"1\" stroke-width=\"0\"/>\n",
       "<circle clip-path=\"url(#clip303)\" cx=\"2345.55\" cy=\"132.214\" r=\"7\" fill=\"#009af9\" fill-rule=\"evenodd\" fill-opacity=\"1\" stroke=\"#000000\" stroke-opacity=\"1\" stroke-width=\"0\"/>\n",
       "<circle clip-path=\"url(#clip303)\" cx=\"1443.34\" cy=\"698.769\" r=\"7\" fill=\"#009af9\" fill-rule=\"evenodd\" fill-opacity=\"1\" stroke=\"#000000\" stroke-opacity=\"1\" stroke-width=\"0\"/>\n",
       "<circle clip-path=\"url(#clip303)\" cx=\"547.619\" cy=\"1250.29\" r=\"7\" fill=\"#009af9\" fill-rule=\"evenodd\" fill-opacity=\"1\" stroke=\"#000000\" stroke-opacity=\"1\" stroke-width=\"0\"/>\n",
       "<circle clip-path=\"url(#clip303)\" cx=\"517.89\" cy=\"1270.67\" r=\"7\" fill=\"#009af9\" fill-rule=\"evenodd\" fill-opacity=\"1\" stroke=\"#000000\" stroke-opacity=\"1\" stroke-width=\"0\"/>\n",
       "<circle clip-path=\"url(#clip303)\" cx=\"1224.44\" cy=\"840.927\" r=\"7\" fill=\"#009af9\" fill-rule=\"evenodd\" fill-opacity=\"1\" stroke=\"#000000\" stroke-opacity=\"1\" stroke-width=\"0\"/>\n",
       "<circle clip-path=\"url(#clip303)\" cx=\"1047.55\" cy=\"938.639\" r=\"7\" fill=\"#009af9\" fill-rule=\"evenodd\" fill-opacity=\"1\" stroke=\"#000000\" stroke-opacity=\"1\" stroke-width=\"0\"/>\n",
       "<circle clip-path=\"url(#clip303)\" cx=\"1776.15\" cy=\"496.283\" r=\"7\" fill=\"#009af9\" fill-rule=\"evenodd\" fill-opacity=\"1\" stroke=\"#000000\" stroke-opacity=\"1\" stroke-width=\"0\"/>\n",
       "<circle clip-path=\"url(#clip303)\" cx=\"1528.15\" cy=\"605.831\" r=\"7\" fill=\"#009af9\" fill-rule=\"evenodd\" fill-opacity=\"1\" stroke=\"#000000\" stroke-opacity=\"1\" stroke-width=\"0\"/>\n",
       "<circle clip-path=\"url(#clip303)\" cx=\"830.962\" cy=\"1077.54\" r=\"7\" fill=\"#009af9\" fill-rule=\"evenodd\" fill-opacity=\"1\" stroke=\"#000000\" stroke-opacity=\"1\" stroke-width=\"0\"/>\n",
       "<circle clip-path=\"url(#clip303)\" cx=\"656.104\" cy=\"1191.44\" r=\"7\" fill=\"#009af9\" fill-rule=\"evenodd\" fill-opacity=\"1\" stroke=\"#000000\" stroke-opacity=\"1\" stroke-width=\"0\"/>\n",
       "<circle clip-path=\"url(#clip303)\" cx=\"1494.26\" cy=\"643.359\" r=\"7\" fill=\"#009af9\" fill-rule=\"evenodd\" fill-opacity=\"1\" stroke=\"#000000\" stroke-opacity=\"1\" stroke-width=\"0\"/>\n",
       "<circle clip-path=\"url(#clip303)\" cx=\"1494.26\" cy=\"658.41\" r=\"7\" fill=\"#009af9\" fill-rule=\"evenodd\" fill-opacity=\"1\" stroke=\"#000000\" stroke-opacity=\"1\" stroke-width=\"0\"/>\n",
       "<circle clip-path=\"url(#clip303)\" cx=\"1807.86\" cy=\"463.591\" r=\"7\" fill=\"#009af9\" fill-rule=\"evenodd\" fill-opacity=\"1\" stroke=\"#000000\" stroke-opacity=\"1\" stroke-width=\"0\"/>\n",
       "<circle clip-path=\"url(#clip303)\" cx=\"1358.53\" cy=\"749.209\" r=\"7\" fill=\"#009af9\" fill-rule=\"evenodd\" fill-opacity=\"1\" stroke=\"#000000\" stroke-opacity=\"1\" stroke-width=\"0\"/>\n",
       "<circle clip-path=\"url(#clip303)\" cx=\"584.165\" cy=\"1221.43\" r=\"7\" fill=\"#009af9\" fill-rule=\"evenodd\" fill-opacity=\"1\" stroke=\"#000000\" stroke-opacity=\"1\" stroke-width=\"0\"/>\n",
       "<circle clip-path=\"url(#clip303)\" cx=\"2415.82\" cy=\"84.0108\" r=\"7\" fill=\"#009af9\" fill-rule=\"evenodd\" fill-opacity=\"1\" stroke=\"#000000\" stroke-opacity=\"1\" stroke-width=\"0\"/>\n",
       "<circle clip-path=\"url(#clip303)\" cx=\"503.421\" cy=\"1283.05\" r=\"7\" fill=\"#009af9\" fill-rule=\"evenodd\" fill-opacity=\"1\" stroke=\"#000000\" stroke-opacity=\"1\" stroke-width=\"0\"/>\n",
       "<circle clip-path=\"url(#clip303)\" cx=\"1944.51\" cy=\"381.556\" r=\"7\" fill=\"#009af9\" fill-rule=\"evenodd\" fill-opacity=\"1\" stroke=\"#000000\" stroke-opacity=\"1\" stroke-width=\"0\"/>\n",
       "<circle clip-path=\"url(#clip303)\" cx=\"2368.78\" cy=\"114.255\" r=\"7\" fill=\"#009af9\" fill-rule=\"evenodd\" fill-opacity=\"1\" stroke=\"#000000\" stroke-opacity=\"1\" stroke-width=\"0\"/>\n",
       "<circle clip-path=\"url(#clip303)\" cx=\"561.433\" cy=\"1241.79\" r=\"7\" fill=\"#009af9\" fill-rule=\"evenodd\" fill-opacity=\"1\" stroke=\"#000000\" stroke-opacity=\"1\" stroke-width=\"0\"/>\n",
       "<circle clip-path=\"url(#clip303)\" cx=\"2015.29\" cy=\"334.047\" r=\"7\" fill=\"#009af9\" fill-rule=\"evenodd\" fill-opacity=\"1\" stroke=\"#000000\" stroke-opacity=\"1\" stroke-width=\"0\"/>\n",
       "<circle clip-path=\"url(#clip303)\" cx=\"1274.36\" cy=\"798.251\" r=\"7\" fill=\"#009af9\" fill-rule=\"evenodd\" fill-opacity=\"1\" stroke=\"#000000\" stroke-opacity=\"1\" stroke-width=\"0\"/>\n",
       "<circle clip-path=\"url(#clip303)\" cx=\"1207.93\" cy=\"833.722\" r=\"7\" fill=\"#009af9\" fill-rule=\"evenodd\" fill-opacity=\"1\" stroke=\"#000000\" stroke-opacity=\"1\" stroke-width=\"0\"/>\n",
       "<circle clip-path=\"url(#clip303)\" cx=\"2028.95\" cy=\"336.605\" r=\"7\" fill=\"#009af9\" fill-rule=\"evenodd\" fill-opacity=\"1\" stroke=\"#000000\" stroke-opacity=\"1\" stroke-width=\"0\"/>\n",
       "<circle clip-path=\"url(#clip303)\" cx=\"1224.44\" cy=\"837.288\" r=\"7\" fill=\"#009af9\" fill-rule=\"evenodd\" fill-opacity=\"1\" stroke=\"#000000\" stroke-opacity=\"1\" stroke-width=\"0\"/>\n",
       "<circle clip-path=\"url(#clip303)\" cx=\"2368.78\" cy=\"113.596\" r=\"7\" fill=\"#009af9\" fill-rule=\"evenodd\" fill-opacity=\"1\" stroke=\"#000000\" stroke-opacity=\"1\" stroke-width=\"0\"/>\n",
       "<circle clip-path=\"url(#clip303)\" cx=\"2351.78\" cy=\"121.146\" r=\"7\" fill=\"#009af9\" fill-rule=\"evenodd\" fill-opacity=\"1\" stroke=\"#000000\" stroke-opacity=\"1\" stroke-width=\"0\"/>\n",
       "<circle clip-path=\"url(#clip303)\" cx=\"1528.15\" cy=\"655.414\" r=\"7\" fill=\"#009af9\" fill-rule=\"evenodd\" fill-opacity=\"1\" stroke=\"#000000\" stroke-opacity=\"1\" stroke-width=\"0\"/>\n",
       "<circle clip-path=\"url(#clip303)\" cx=\"600.631\" cy=\"1225.67\" r=\"7\" fill=\"#009af9\" fill-rule=\"evenodd\" fill-opacity=\"1\" stroke=\"#000000\" stroke-opacity=\"1\" stroke-width=\"0\"/>\n",
       "<circle clip-path=\"url(#clip303)\" cx=\"1307.91\" cy=\"770.21\" r=\"7\" fill=\"#009af9\" fill-rule=\"evenodd\" fill-opacity=\"1\" stroke=\"#000000\" stroke-opacity=\"1\" stroke-width=\"0\"/>\n",
       "<circle clip-path=\"url(#clip303)\" cx=\"2387.5\" cy=\"98.1022\" r=\"7\" fill=\"#009af9\" fill-rule=\"evenodd\" fill-opacity=\"1\" stroke=\"#000000\" stroke-opacity=\"1\" stroke-width=\"0\"/>\n",
       "<circle clip-path=\"url(#clip303)\" cx=\"561.433\" cy=\"1242.42\" r=\"7\" fill=\"#009af9\" fill-rule=\"evenodd\" fill-opacity=\"1\" stroke=\"#000000\" stroke-opacity=\"1\" stroke-width=\"0\"/>\n",
       "<circle clip-path=\"url(#clip303)\" cx=\"2339.05\" cy=\"127.091\" r=\"7\" fill=\"#009af9\" fill-rule=\"evenodd\" fill-opacity=\"1\" stroke=\"#000000\" stroke-opacity=\"1\" stroke-width=\"0\"/>\n",
       "<circle clip-path=\"url(#clip303)\" cx=\"475.595\" cy=\"1299.75\" r=\"7\" fill=\"#009af9\" fill-rule=\"evenodd\" fill-opacity=\"1\" stroke=\"#000000\" stroke-opacity=\"1\" stroke-width=\"0\"/>\n",
       "<circle clip-path=\"url(#clip303)\" cx=\"1241.02\" cy=\"848.277\" r=\"7\" fill=\"#009af9\" fill-rule=\"evenodd\" fill-opacity=\"1\" stroke=\"#000000\" stroke-opacity=\"1\" stroke-width=\"0\"/>\n",
       "<circle clip-path=\"url(#clip303)\" cx=\"503.421\" cy=\"1285.57\" r=\"7\" fill=\"#009af9\" fill-rule=\"evenodd\" fill-opacity=\"1\" stroke=\"#000000\" stroke-opacity=\"1\" stroke-width=\"0\"/>\n",
       "<circle clip-path=\"url(#clip303)\" cx=\"1001.57\" cy=\"984.869\" r=\"7\" fill=\"#009af9\" fill-rule=\"evenodd\" fill-opacity=\"1\" stroke=\"#000000\" stroke-opacity=\"1\" stroke-width=\"0\"/>\n",
       "<circle clip-path=\"url(#clip303)\" cx=\"491.528\" cy=\"1289.97\" r=\"7\" fill=\"#009af9\" fill-rule=\"evenodd\" fill-opacity=\"1\" stroke=\"#000000\" stroke-opacity=\"1\" stroke-width=\"0\"/>\n",
       "<circle clip-path=\"url(#clip303)\" cx=\"1900.17\" cy=\"396.458\" r=\"7\" fill=\"#009af9\" fill-rule=\"evenodd\" fill-opacity=\"1\" stroke=\"#000000\" stroke-opacity=\"1\" stroke-width=\"0\"/>\n",
       "<circle clip-path=\"url(#clip303)\" cx=\"2325.24\" cy=\"133.833\" r=\"7\" fill=\"#009af9\" fill-rule=\"evenodd\" fill-opacity=\"1\" stroke=\"#000000\" stroke-opacity=\"1\" stroke-width=\"0\"/>\n",
       "<circle clip-path=\"url(#clip303)\" cx=\"470.264\" cy=\"1301.88\" r=\"7\" fill=\"#009af9\" fill-rule=\"evenodd\" fill-opacity=\"1\" stroke=\"#000000\" stroke-opacity=\"1\" stroke-width=\"0\"/>\n",
       "<circle clip-path=\"url(#clip303)\" cx=\"697.92\" cy=\"1157.75\" r=\"7\" fill=\"#009af9\" fill-rule=\"evenodd\" fill-opacity=\"1\" stroke=\"#000000\" stroke-opacity=\"1\" stroke-width=\"0\"/>\n",
       "<circle clip-path=\"url(#clip303)\" cx=\"1016.77\" cy=\"971.514\" r=\"7\" fill=\"#009af9\" fill-rule=\"evenodd\" fill-opacity=\"1\" stroke=\"#000000\" stroke-opacity=\"1\" stroke-width=\"0\"/>\n",
       "<circle clip-path=\"url(#clip303)\" cx=\"618.124\" cy=\"1209.99\" r=\"7\" fill=\"#009af9\" fill-rule=\"evenodd\" fill-opacity=\"1\" stroke=\"#000000\" stroke-opacity=\"1\" stroke-width=\"0\"/>\n",
       "<circle clip-path=\"url(#clip303)\" cx=\"584.165\" cy=\"1233.43\" r=\"7\" fill=\"#009af9\" fill-rule=\"evenodd\" fill-opacity=\"1\" stroke=\"#000000\" stroke-opacity=\"1\" stroke-width=\"0\"/>\n",
       "<circle clip-path=\"url(#clip303)\" cx=\"2415.08\" cy=\"84.5997\" r=\"7\" fill=\"#009af9\" fill-rule=\"evenodd\" fill-opacity=\"1\" stroke=\"#000000\" stroke-opacity=\"1\" stroke-width=\"0\"/>\n",
       "<circle clip-path=\"url(#clip303)\" cx=\"2155\" cy=\"240.934\" r=\"7\" fill=\"#009af9\" fill-rule=\"evenodd\" fill-opacity=\"1\" stroke=\"#000000\" stroke-opacity=\"1\" stroke-width=\"0\"/>\n",
       "<circle clip-path=\"url(#clip303)\" cx=\"1126.54\" cy=\"918\" r=\"7\" fill=\"#009af9\" fill-rule=\"evenodd\" fill-opacity=\"1\" stroke=\"#000000\" stroke-opacity=\"1\" stroke-width=\"0\"/>\n",
       "<circle clip-path=\"url(#clip303)\" cx=\"1016.77\" cy=\"952.658\" r=\"7\" fill=\"#009af9\" fill-rule=\"evenodd\" fill-opacity=\"1\" stroke=\"#000000\" stroke-opacity=\"1\" stroke-width=\"0\"/>\n",
       "<circle clip-path=\"url(#clip303)\" cx=\"1561.92\" cy=\"610.039\" r=\"7\" fill=\"#009af9\" fill-rule=\"evenodd\" fill-opacity=\"1\" stroke=\"#000000\" stroke-opacity=\"1\" stroke-width=\"0\"/>\n",
       "<circle clip-path=\"url(#clip303)\" cx=\"1358.53\" cy=\"758.189\" r=\"7\" fill=\"#009af9\" fill-rule=\"evenodd\" fill-opacity=\"1\" stroke=\"#000000\" stroke-opacity=\"1\" stroke-width=\"0\"/>\n",
       "<circle clip-path=\"url(#clip303)\" cx=\"1823.55\" cy=\"448.128\" r=\"7\" fill=\"#009af9\" fill-rule=\"evenodd\" fill-opacity=\"1\" stroke=\"#000000\" stroke-opacity=\"1\" stroke-width=\"0\"/>\n",
       "<circle clip-path=\"url(#clip303)\" cx=\"2268.55\" cy=\"174.249\" r=\"7\" fill=\"#009af9\" fill-rule=\"evenodd\" fill-opacity=\"1\" stroke=\"#000000\" stroke-opacity=\"1\" stroke-width=\"0\"/>\n",
       "<circle clip-path=\"url(#clip303)\" cx=\"956.8\" cy=\"985.764\" r=\"7\" fill=\"#009af9\" fill-rule=\"evenodd\" fill-opacity=\"1\" stroke=\"#000000\" stroke-opacity=\"1\" stroke-width=\"0\"/>\n",
       "<circle clip-path=\"url(#clip303)\" cx=\"1973.31\" cy=\"364.364\" r=\"7\" fill=\"#009af9\" fill-rule=\"evenodd\" fill-opacity=\"1\" stroke=\"#000000\" stroke-opacity=\"1\" stroke-width=\"0\"/>\n",
       "<circle clip-path=\"url(#clip303)\" cx=\"666.206\" cy=\"1178.15\" r=\"7\" fill=\"#009af9\" fill-rule=\"evenodd\" fill-opacity=\"1\" stroke=\"#000000\" stroke-opacity=\"1\" stroke-width=\"0\"/>\n",
       "<circle clip-path=\"url(#clip303)\" cx=\"2015.29\" cy=\"336.534\" r=\"7\" fill=\"#009af9\" fill-rule=\"evenodd\" fill-opacity=\"1\" stroke=\"#000000\" stroke-opacity=\"1\" stroke-width=\"0\"/>\n",
       "<circle clip-path=\"url(#clip303)\" cx=\"482.244\" cy=\"1295.09\" r=\"7\" fill=\"#009af9\" fill-rule=\"evenodd\" fill-opacity=\"1\" stroke=\"#000000\" stroke-opacity=\"1\" stroke-width=\"0\"/>\n",
       "<circle clip-path=\"url(#clip303)\" cx=\"1792.05\" cy=\"479.854\" r=\"7\" fill=\"#009af9\" fill-rule=\"evenodd\" fill-opacity=\"1\" stroke=\"#000000\" stroke-opacity=\"1\" stroke-width=\"0\"/>\n",
       "<circle clip-path=\"url(#clip303)\" cx=\"636.623\" cy=\"1195.46\" r=\"7\" fill=\"#009af9\" fill-rule=\"evenodd\" fill-opacity=\"1\" stroke=\"#000000\" stroke-opacity=\"1\" stroke-width=\"0\"/>\n",
       "<circle clip-path=\"url(#clip303)\" cx=\"2094.45\" cy=\"289.335\" r=\"7\" fill=\"#009af9\" fill-rule=\"evenodd\" fill-opacity=\"1\" stroke=\"#000000\" stroke-opacity=\"1\" stroke-width=\"0\"/>\n",
       "<circle clip-path=\"url(#clip303)\" cx=\"2055.71\" cy=\"297.263\" r=\"7\" fill=\"#009af9\" fill-rule=\"evenodd\" fill-opacity=\"1\" stroke=\"#000000\" stroke-opacity=\"1\" stroke-width=\"0\"/>\n",
       "<circle clip-path=\"url(#clip303)\" cx=\"1727.84\" cy=\"497.175\" r=\"7\" fill=\"#009af9\" fill-rule=\"evenodd\" fill-opacity=\"1\" stroke=\"#000000\" stroke-opacity=\"1\" stroke-width=\"0\"/>\n",
       "<circle clip-path=\"url(#clip303)\" cx=\"2294.41\" cy=\"160.987\" r=\"7\" fill=\"#009af9\" fill-rule=\"evenodd\" fill-opacity=\"1\" stroke=\"#000000\" stroke-opacity=\"1\" stroke-width=\"0\"/>\n",
       "<circle clip-path=\"url(#clip303)\" cx=\"2230.57\" cy=\"200.723\" r=\"7\" fill=\"#009af9\" fill-rule=\"evenodd\" fill-opacity=\"1\" stroke=\"#000000\" stroke-opacity=\"1\" stroke-width=\"0\"/>\n",
       "<circle clip-path=\"url(#clip303)\" cx=\"2401.63\" cy=\"93.4396\" r=\"7\" fill=\"#009af9\" fill-rule=\"evenodd\" fill-opacity=\"1\" stroke=\"#000000\" stroke-opacity=\"1\" stroke-width=\"0\"/>\n",
       "<circle clip-path=\"url(#clip303)\" cx=\"1307.91\" cy=\"762.78\" r=\"7\" fill=\"#009af9\" fill-rule=\"evenodd\" fill-opacity=\"1\" stroke=\"#000000\" stroke-opacity=\"1\" stroke-width=\"0\"/>\n",
       "<circle clip-path=\"url(#clip303)\" cx=\"743.367\" cy=\"1132.8\" r=\"7\" fill=\"#009af9\" fill-rule=\"evenodd\" fill-opacity=\"1\" stroke=\"#000000\" stroke-opacity=\"1\" stroke-width=\"0\"/>\n",
       "<circle clip-path=\"url(#clip303)\" cx=\"1142.64\" cy=\"881.918\" r=\"7\" fill=\"#009af9\" fill-rule=\"evenodd\" fill-opacity=\"1\" stroke=\"#000000\" stroke-opacity=\"1\" stroke-width=\"0\"/>\n",
       "<circle clip-path=\"url(#clip303)\" cx=\"2411.08\" cy=\"86.0111\" r=\"7\" fill=\"#009af9\" fill-rule=\"evenodd\" fill-opacity=\"1\" stroke=\"#000000\" stroke-opacity=\"1\" stroke-width=\"0\"/>\n",
       "<circle clip-path=\"url(#clip303)\" cx=\"2119.29\" cy=\"272.012\" r=\"7\" fill=\"#009af9\" fill-rule=\"evenodd\" fill-opacity=\"1\" stroke=\"#000000\" stroke-opacity=\"1\" stroke-width=\"0\"/>\n",
       "<circle clip-path=\"url(#clip303)\" cx=\"1274.36\" cy=\"784.423\" r=\"7\" fill=\"#009af9\" fill-rule=\"evenodd\" fill-opacity=\"1\" stroke=\"#000000\" stroke-opacity=\"1\" stroke-width=\"0\"/>\n",
       "<circle clip-path=\"url(#clip303)\" cx=\"1792.05\" cy=\"484.526\" r=\"7\" fill=\"#009af9\" fill-rule=\"evenodd\" fill-opacity=\"1\" stroke=\"#000000\" stroke-opacity=\"1\" stroke-width=\"0\"/>\n",
       "<circle clip-path=\"url(#clip303)\" cx=\"1511.21\" cy=\"622.627\" r=\"7\" fill=\"#009af9\" fill-rule=\"evenodd\" fill-opacity=\"1\" stroke=\"#000000\" stroke-opacity=\"1\" stroke-width=\"0\"/>\n",
       "<circle clip-path=\"url(#clip303)\" cx=\"2339.05\" cy=\"130.182\" r=\"7\" fill=\"#009af9\" fill-rule=\"evenodd\" fill-opacity=\"1\" stroke=\"#000000\" stroke-opacity=\"1\" stroke-width=\"0\"/>\n",
       "<circle clip-path=\"url(#clip303)\" cx=\"1443.34\" cy=\"703.611\" r=\"7\" fill=\"#009af9\" fill-rule=\"evenodd\" fill-opacity=\"1\" stroke=\"#000000\" stroke-opacity=\"1\" stroke-width=\"0\"/>\n",
       "<circle clip-path=\"url(#clip303)\" cx=\"2277.42\" cy=\"168.266\" r=\"7\" fill=\"#009af9\" fill-rule=\"evenodd\" fill-opacity=\"1\" stroke=\"#000000\" stroke-opacity=\"1\" stroke-width=\"0\"/>\n",
       "<circle clip-path=\"url(#clip303)\" cx=\"1324.75\" cy=\"777.816\" r=\"7\" fill=\"#009af9\" fill-rule=\"evenodd\" fill-opacity=\"1\" stroke=\"#000000\" stroke-opacity=\"1\" stroke-width=\"0\"/>\n",
       "<circle clip-path=\"url(#clip303)\" cx=\"913.363\" cy=\"1036.16\" r=\"7\" fill=\"#009af9\" fill-rule=\"evenodd\" fill-opacity=\"1\" stroke=\"#000000\" stroke-opacity=\"1\" stroke-width=\"0\"/>\n",
       "<circle clip-path=\"url(#clip303)\" cx=\"2351.78\" cy=\"119.941\" r=\"7\" fill=\"#009af9\" fill-rule=\"evenodd\" fill-opacity=\"1\" stroke=\"#000000\" stroke-opacity=\"1\" stroke-width=\"0\"/>\n",
       "<circle clip-path=\"url(#clip303)\" cx=\"2398.53\" cy=\"95.6252\" r=\"7\" fill=\"#009af9\" fill-rule=\"evenodd\" fill-opacity=\"1\" stroke=\"#000000\" stroke-opacity=\"1\" stroke-width=\"0\"/>\n",
       "<circle clip-path=\"url(#clip303)\" cx=\"885.205\" cy=\"1027.23\" r=\"7\" fill=\"#009af9\" fill-rule=\"evenodd\" fill-opacity=\"1\" stroke=\"#000000\" stroke-opacity=\"1\" stroke-width=\"0\"/>\n",
       "<circle clip-path=\"url(#clip303)\" cx=\"1207.93\" cy=\"821.742\" r=\"7\" fill=\"#009af9\" fill-rule=\"evenodd\" fill-opacity=\"1\" stroke=\"#000000\" stroke-opacity=\"1\" stroke-width=\"0\"/>\n",
       "<circle clip-path=\"url(#clip303)\" cx=\"1392.41\" cy=\"720.391\" r=\"7\" fill=\"#009af9\" fill-rule=\"evenodd\" fill-opacity=\"1\" stroke=\"#000000\" stroke-opacity=\"1\" stroke-width=\"0\"/>\n",
       "<circle clip-path=\"url(#clip303)\" cx=\"1807.86\" cy=\"473.515\" r=\"7\" fill=\"#009af9\" fill-rule=\"evenodd\" fill-opacity=\"1\" stroke=\"#000000\" stroke-opacity=\"1\" stroke-width=\"0\"/>\n",
       "<circle clip-path=\"url(#clip303)\" cx=\"1595.56\" cy=\"597.897\" r=\"7\" fill=\"#009af9\" fill-rule=\"evenodd\" fill-opacity=\"1\" stroke=\"#000000\" stroke-opacity=\"1\" stroke-width=\"0\"/>\n",
       "<circle clip-path=\"url(#clip303)\" cx=\"857.727\" cy=\"1085.46\" r=\"7\" fill=\"#009af9\" fill-rule=\"evenodd\" fill-opacity=\"1\" stroke=\"#000000\" stroke-opacity=\"1\" stroke-width=\"0\"/>\n",
       "<circle clip-path=\"url(#clip303)\" cx=\"1695.19\" cy=\"537.039\" r=\"7\" fill=\"#009af9\" fill-rule=\"evenodd\" fill-opacity=\"1\" stroke=\"#000000\" stroke-opacity=\"1\" stroke-width=\"0\"/>\n",
       "<circle clip-path=\"url(#clip303)\" cx=\"600.631\" cy=\"1227.59\" r=\"7\" fill=\"#009af9\" fill-rule=\"evenodd\" fill-opacity=\"1\" stroke=\"#000000\" stroke-opacity=\"1\" stroke-width=\"0\"/>\n",
       "<circle clip-path=\"url(#clip303)\" cx=\"767.384\" cy=\"1126.26\" r=\"7\" fill=\"#009af9\" fill-rule=\"evenodd\" fill-opacity=\"1\" stroke=\"#000000\" stroke-opacity=\"1\" stroke-width=\"0\"/>\n",
       "<circle clip-path=\"url(#clip303)\" cx=\"2411.08\" cy=\"86.0627\" r=\"7\" fill=\"#009af9\" fill-rule=\"evenodd\" fill-opacity=\"1\" stroke=\"#000000\" stroke-opacity=\"1\" stroke-width=\"0\"/>\n",
       "<circle clip-path=\"url(#clip303)\" cx=\"534.895\" cy=\"1257.02\" r=\"7\" fill=\"#009af9\" fill-rule=\"evenodd\" fill-opacity=\"1\" stroke=\"#000000\" stroke-opacity=\"1\" stroke-width=\"0\"/>\n",
       "<circle clip-path=\"url(#clip303)\" cx=\"1973.31\" cy=\"370.351\" r=\"7\" fill=\"#009af9\" fill-rule=\"evenodd\" fill-opacity=\"1\" stroke=\"#000000\" stroke-opacity=\"1\" stroke-width=\"0\"/>\n",
       "<circle clip-path=\"url(#clip303)\" cx=\"2294.41\" cy=\"159.35\" r=\"7\" fill=\"#009af9\" fill-rule=\"evenodd\" fill-opacity=\"1\" stroke=\"#000000\" stroke-opacity=\"1\" stroke-width=\"0\"/>\n",
       "<circle clip-path=\"url(#clip303)\" cx=\"755.27\" cy=\"1131.83\" r=\"7\" fill=\"#009af9\" fill-rule=\"evenodd\" fill-opacity=\"1\" stroke=\"#000000\" stroke-opacity=\"1\" stroke-width=\"0\"/>\n",
       "<circle clip-path=\"url(#clip303)\" cx=\"2286.04\" cy=\"156.505\" r=\"7\" fill=\"#009af9\" fill-rule=\"evenodd\" fill-opacity=\"1\" stroke=\"#000000\" stroke-opacity=\"1\" stroke-width=\"0\"/>\n",
       "<circle clip-path=\"url(#clip303)\" cx=\"844.253\" cy=\"1070.36\" r=\"7\" fill=\"#009af9\" fill-rule=\"evenodd\" fill-opacity=\"1\" stroke=\"#000000\" stroke-opacity=\"1\" stroke-width=\"0\"/>\n",
       "<circle clip-path=\"url(#clip303)\" cx=\"2404.43\" cy=\"91.189\" r=\"7\" fill=\"#009af9\" fill-rule=\"evenodd\" fill-opacity=\"1\" stroke=\"#000000\" stroke-opacity=\"1\" stroke-width=\"0\"/>\n",
       "<circle clip-path=\"url(#clip303)\" cx=\"1291.11\" cy=\"797.035\" r=\"7\" fill=\"#009af9\" fill-rule=\"evenodd\" fill-opacity=\"1\" stroke=\"#000000\" stroke-opacity=\"1\" stroke-width=\"0\"/>\n",
       "<circle clip-path=\"url(#clip303)\" cx=\"676.545\" cy=\"1169.42\" r=\"7\" fill=\"#009af9\" fill-rule=\"evenodd\" fill-opacity=\"1\" stroke=\"#000000\" stroke-opacity=\"1\" stroke-width=\"0\"/>\n",
       "<circle clip-path=\"url(#clip303)\" cx=\"2210.13\" cy=\"214.624\" r=\"7\" fill=\"#009af9\" fill-rule=\"evenodd\" fill-opacity=\"1\" stroke=\"#000000\" stroke-opacity=\"1\" stroke-width=\"0\"/>\n",
       "<circle clip-path=\"url(#clip303)\" cx=\"2412.71\" cy=\"86.132\" r=\"7\" fill=\"#009af9\" fill-rule=\"evenodd\" fill-opacity=\"1\" stroke=\"#000000\" stroke-opacity=\"1\" stroke-width=\"0\"/>\n",
       "<circle clip-path=\"url(#clip303)\" cx=\"2240.43\" cy=\"191.098\" r=\"7\" fill=\"#009af9\" fill-rule=\"evenodd\" fill-opacity=\"1\" stroke=\"#000000\" stroke-opacity=\"1\" stroke-width=\"0\"/>\n",
       "<circle clip-path=\"url(#clip303)\" cx=\"2210.13\" cy=\"214.604\" r=\"7\" fill=\"#009af9\" fill-rule=\"evenodd\" fill-opacity=\"1\" stroke=\"#000000\" stroke-opacity=\"1\" stroke-width=\"0\"/>\n",
       "<circle clip-path=\"url(#clip303)\" cx=\"2210.13\" cy=\"211.889\" r=\"7\" fill=\"#009af9\" fill-rule=\"evenodd\" fill-opacity=\"1\" stroke=\"#000000\" stroke-opacity=\"1\" stroke-width=\"0\"/>\n",
       "<circle clip-path=\"url(#clip303)\" cx=\"871.379\" cy=\"1051.14\" r=\"7\" fill=\"#009af9\" fill-rule=\"evenodd\" fill-opacity=\"1\" stroke=\"#000000\" stroke-opacity=\"1\" stroke-width=\"0\"/>\n",
       "<circle clip-path=\"url(#clip303)\" cx=\"2166.47\" cy=\"238.771\" r=\"7\" fill=\"#009af9\" fill-rule=\"evenodd\" fill-opacity=\"1\" stroke=\"#000000\" stroke-opacity=\"1\" stroke-width=\"0\"/>\n",
       "<circle clip-path=\"url(#clip303)\" cx=\"475.595\" cy=\"1300.35\" r=\"7\" fill=\"#009af9\" fill-rule=\"evenodd\" fill-opacity=\"1\" stroke=\"#000000\" stroke-opacity=\"1\" stroke-width=\"0\"/>\n",
       "<circle clip-path=\"url(#clip303)\" cx=\"2210.13\" cy=\"215.5\" r=\"7\" fill=\"#009af9\" fill-rule=\"evenodd\" fill-opacity=\"1\" stroke=\"#000000\" stroke-opacity=\"1\" stroke-width=\"0\"/>\n",
       "<circle clip-path=\"url(#clip303)\" cx=\"2401.63\" cy=\"96.5718\" r=\"7\" fill=\"#009af9\" fill-rule=\"evenodd\" fill-opacity=\"1\" stroke=\"#000000\" stroke-opacity=\"1\" stroke-width=\"0\"/>\n",
       "<circle clip-path=\"url(#clip303)\" cx=\"1823.55\" cy=\"446.052\" r=\"7\" fill=\"#009af9\" fill-rule=\"evenodd\" fill-opacity=\"1\" stroke=\"#000000\" stroke-opacity=\"1\" stroke-width=\"0\"/>\n",
       "<circle clip-path=\"url(#clip303)\" cx=\"2028.95\" cy=\"321.851\" r=\"7\" fill=\"#009af9\" fill-rule=\"evenodd\" fill-opacity=\"1\" stroke=\"#000000\" stroke-opacity=\"1\" stroke-width=\"0\"/>\n",
       "<circle clip-path=\"url(#clip303)\" cx=\"1274.36\" cy=\"788.753\" r=\"7\" fill=\"#009af9\" fill-rule=\"evenodd\" fill-opacity=\"1\" stroke=\"#000000\" stroke-opacity=\"1\" stroke-width=\"0\"/>\n",
       "<circle clip-path=\"url(#clip303)\" cx=\"600.631\" cy=\"1211.78\" r=\"7\" fill=\"#009af9\" fill-rule=\"evenodd\" fill-opacity=\"1\" stroke=\"#000000\" stroke-opacity=\"1\" stroke-width=\"0\"/>\n",
       "<circle clip-path=\"url(#clip303)\" cx=\"1324.75\" cy=\"770.356\" r=\"7\" fill=\"#009af9\" fill-rule=\"evenodd\" fill-opacity=\"1\" stroke=\"#000000\" stroke-opacity=\"1\" stroke-width=\"0\"/>\n",
       "<circle clip-path=\"url(#clip303)\" cx=\"767.384\" cy=\"1127.25\" r=\"7\" fill=\"#009af9\" fill-rule=\"evenodd\" fill-opacity=\"1\" stroke=\"#000000\" stroke-opacity=\"1\" stroke-width=\"0\"/>\n",
       "<circle clip-path=\"url(#clip303)\" cx=\"2416.26\" cy=\"83.7868\" r=\"7\" fill=\"#009af9\" fill-rule=\"evenodd\" fill-opacity=\"1\" stroke=\"#000000\" stroke-opacity=\"1\" stroke-width=\"0\"/>\n",
       "<circle clip-path=\"url(#clip303)\" cx=\"1426.35\" cy=\"686.765\" r=\"7\" fill=\"#009af9\" fill-rule=\"evenodd\" fill-opacity=\"1\" stroke=\"#000000\" stroke-opacity=\"1\" stroke-width=\"0\"/>\n",
       "<circle clip-path=\"url(#clip303)\" cx=\"528.948\" cy=\"1268.04\" r=\"7\" fill=\"#009af9\" fill-rule=\"evenodd\" fill-opacity=\"1\" stroke=\"#000000\" stroke-opacity=\"1\" stroke-width=\"0\"/>\n",
       "<circle clip-path=\"url(#clip303)\" cx=\"731.676\" cy=\"1147.67\" r=\"7\" fill=\"#009af9\" fill-rule=\"evenodd\" fill-opacity=\"1\" stroke=\"#000000\" stroke-opacity=\"1\" stroke-width=\"0\"/>\n",
       "<circle clip-path=\"url(#clip303)\" cx=\"2339.05\" cy=\"131.138\" r=\"7\" fill=\"#009af9\" fill-rule=\"evenodd\" fill-opacity=\"1\" stroke=\"#000000\" stroke-opacity=\"1\" stroke-width=\"0\"/>\n",
       "<circle clip-path=\"url(#clip303)\" cx=\"1944.51\" cy=\"373.044\" r=\"7\" fill=\"#009af9\" fill-rule=\"evenodd\" fill-opacity=\"1\" stroke=\"#000000\" stroke-opacity=\"1\" stroke-width=\"0\"/>\n",
       "<circle clip-path=\"url(#clip303)\" cx=\"792.224\" cy=\"1088.61\" r=\"7\" fill=\"#009af9\" fill-rule=\"evenodd\" fill-opacity=\"1\" stroke=\"#000000\" stroke-opacity=\"1\" stroke-width=\"0\"/>\n",
       "<circle clip-path=\"url(#clip303)\" cx=\"2106.97\" cy=\"287.088\" r=\"7\" fill=\"#009af9\" fill-rule=\"evenodd\" fill-opacity=\"1\" stroke=\"#000000\" stroke-opacity=\"1\" stroke-width=\"0\"/>\n",
       "<circle clip-path=\"url(#clip303)\" cx=\"1760.14\" cy=\"469.865\" r=\"7\" fill=\"#009af9\" fill-rule=\"evenodd\" fill-opacity=\"1\" stroke=\"#000000\" stroke-opacity=\"1\" stroke-width=\"0\"/>\n",
       "<circle clip-path=\"url(#clip303)\" cx=\"1973.31\" cy=\"357.93\" r=\"7\" fill=\"#009af9\" fill-rule=\"evenodd\" fill-opacity=\"1\" stroke=\"#000000\" stroke-opacity=\"1\" stroke-width=\"0\"/>\n",
       "<circle clip-path=\"url(#clip303)\" cx=\"1126.54\" cy=\"894.588\" r=\"7\" fill=\"#009af9\" fill-rule=\"evenodd\" fill-opacity=\"1\" stroke=\"#000000\" stroke-opacity=\"1\" stroke-width=\"0\"/>\n",
       "<circle clip-path=\"url(#clip303)\" cx=\"986.507\" cy=\"984.147\" r=\"7\" fill=\"#009af9\" fill-rule=\"evenodd\" fill-opacity=\"1\" stroke=\"#000000\" stroke-opacity=\"1\" stroke-width=\"0\"/>\n",
       "<circle clip-path=\"url(#clip303)\" cx=\"871.379\" cy=\"1053.88\" r=\"7\" fill=\"#009af9\" fill-rule=\"evenodd\" fill-opacity=\"1\" stroke=\"#000000\" stroke-opacity=\"1\" stroke-width=\"0\"/>\n",
       "<circle clip-path=\"url(#clip303)\" cx=\"1460.32\" cy=\"677.187\" r=\"7\" fill=\"#009af9\" fill-rule=\"evenodd\" fill-opacity=\"1\" stroke=\"#000000\" stroke-opacity=\"1\" stroke-width=\"0\"/>\n",
       "<circle clip-path=\"url(#clip303)\" cx=\"471.598\" cy=\"1301.51\" r=\"7\" fill=\"#009af9\" fill-rule=\"evenodd\" fill-opacity=\"1\" stroke=\"#000000\" stroke-opacity=\"1\" stroke-width=\"0\"/>\n",
       "<circle clip-path=\"url(#clip303)\" cx=\"2250.05\" cy=\"197.662\" r=\"7\" fill=\"#009af9\" fill-rule=\"evenodd\" fill-opacity=\"1\" stroke=\"#000000\" stroke-opacity=\"1\" stroke-width=\"0\"/>\n",
       "<circle clip-path=\"url(#clip303)\" cx=\"2094.45\" cy=\"295.215\" r=\"7\" fill=\"#009af9\" fill-rule=\"evenodd\" fill-opacity=\"1\" stroke=\"#000000\" stroke-opacity=\"1\" stroke-width=\"0\"/>\n",
       "<circle clip-path=\"url(#clip303)\" cx=\"1545.05\" cy=\"620.279\" r=\"7\" fill=\"#009af9\" fill-rule=\"evenodd\" fill-opacity=\"1\" stroke=\"#000000\" stroke-opacity=\"1\" stroke-width=\"0\"/>\n",
       "<circle clip-path=\"url(#clip303)\" cx=\"568.745\" cy=\"1245.52\" r=\"7\" fill=\"#009af9\" fill-rule=\"evenodd\" fill-opacity=\"1\" stroke=\"#000000\" stroke-opacity=\"1\" stroke-width=\"0\"/>\n",
       "<circle clip-path=\"url(#clip303)\" cx=\"517.89\" cy=\"1277.1\" r=\"7\" fill=\"#009af9\" fill-rule=\"evenodd\" fill-opacity=\"1\" stroke=\"#000000\" stroke-opacity=\"1\" stroke-width=\"0\"/>\n",
       "<circle clip-path=\"url(#clip303)\" cx=\"2391.47\" cy=\"99.665\" r=\"7\" fill=\"#009af9\" fill-rule=\"evenodd\" fill-opacity=\"1\" stroke=\"#000000\" stroke-opacity=\"1\" stroke-width=\"0\"/>\n",
       "<circle clip-path=\"url(#clip303)\" cx=\"2406.94\" cy=\"89.9266\" r=\"7\" fill=\"#009af9\" fill-rule=\"evenodd\" fill-opacity=\"1\" stroke=\"#000000\" stroke-opacity=\"1\" stroke-width=\"0\"/>\n",
       "<circle clip-path=\"url(#clip303)\" cx=\"1032.1\" cy=\"944.758\" r=\"7\" fill=\"#009af9\" fill-rule=\"evenodd\" fill-opacity=\"1\" stroke=\"#000000\" stroke-opacity=\"1\" stroke-width=\"0\"/>\n",
       "<circle clip-path=\"url(#clip303)\" cx=\"2143.31\" cy=\"256.937\" r=\"7\" fill=\"#009af9\" fill-rule=\"evenodd\" fill-opacity=\"1\" stroke=\"#000000\" stroke-opacity=\"1\" stroke-width=\"0\"/>\n",
       "<circle clip-path=\"url(#clip303)\" cx=\"554.391\" cy=\"1248.37\" r=\"7\" fill=\"#009af9\" fill-rule=\"evenodd\" fill-opacity=\"1\" stroke=\"#000000\" stroke-opacity=\"1\" stroke-width=\"0\"/>\n",
       "<circle clip-path=\"url(#clip303)\" cx=\"1307.91\" cy=\"785.099\" r=\"7\" fill=\"#009af9\" fill-rule=\"evenodd\" fill-opacity=\"1\" stroke=\"#000000\" stroke-opacity=\"1\" stroke-width=\"0\"/>\n",
       "<circle clip-path=\"url(#clip303)\" cx=\"2143.31\" cy=\"252.069\" r=\"7\" fill=\"#009af9\" fill-rule=\"evenodd\" fill-opacity=\"1\" stroke=\"#000000\" stroke-opacity=\"1\" stroke-width=\"0\"/>\n",
       "<circle clip-path=\"url(#clip303)\" cx=\"1561.92\" cy=\"611.697\" r=\"7\" fill=\"#009af9\" fill-rule=\"evenodd\" fill-opacity=\"1\" stroke=\"#000000\" stroke-opacity=\"1\" stroke-width=\"0\"/>\n",
       "<circle clip-path=\"url(#clip303)\" cx=\"2155\" cy=\"254.136\" r=\"7\" fill=\"#009af9\" fill-rule=\"evenodd\" fill-opacity=\"1\" stroke=\"#000000\" stroke-opacity=\"1\" stroke-width=\"0\"/>\n",
       "<circle clip-path=\"url(#clip303)\" cx=\"495.204\" cy=\"1283.03\" r=\"7\" fill=\"#009af9\" fill-rule=\"evenodd\" fill-opacity=\"1\" stroke=\"#000000\" stroke-opacity=\"1\" stroke-width=\"0\"/>\n",
       "<circle clip-path=\"url(#clip303)\" cx=\"2250.05\" cy=\"188.097\" r=\"7\" fill=\"#009af9\" fill-rule=\"evenodd\" fill-opacity=\"1\" stroke=\"#000000\" stroke-opacity=\"1\" stroke-width=\"0\"/>\n",
       "<circle clip-path=\"url(#clip303)\" cx=\"857.727\" cy=\"1049.05\" r=\"7\" fill=\"#009af9\" fill-rule=\"evenodd\" fill-opacity=\"1\" stroke=\"#000000\" stroke-opacity=\"1\" stroke-width=\"0\"/>\n",
       "<circle clip-path=\"url(#clip303)\" cx=\"1595.56\" cy=\"592.437\" r=\"7\" fill=\"#009af9\" fill-rule=\"evenodd\" fill-opacity=\"1\" stroke=\"#000000\" stroke-opacity=\"1\" stroke-width=\"0\"/>\n",
       "<circle clip-path=\"url(#clip303)\" cx=\"1191.49\" cy=\"869.458\" r=\"7\" fill=\"#009af9\" fill-rule=\"evenodd\" fill-opacity=\"1\" stroke=\"#000000\" stroke-opacity=\"1\" stroke-width=\"0\"/>\n",
       "<circle clip-path=\"url(#clip303)\" cx=\"2094.45\" cy=\"291.89\" r=\"7\" fill=\"#009af9\" fill-rule=\"evenodd\" fill-opacity=\"1\" stroke=\"#000000\" stroke-opacity=\"1\" stroke-width=\"0\"/>\n",
       "<circle clip-path=\"url(#clip303)\" cx=\"2368.78\" cy=\"115.944\" r=\"7\" fill=\"#009af9\" fill-rule=\"evenodd\" fill-opacity=\"1\" stroke=\"#000000\" stroke-opacity=\"1\" stroke-width=\"0\"/>\n",
       "<circle clip-path=\"url(#clip303)\" cx=\"1078.82\" cy=\"912.646\" r=\"7\" fill=\"#009af9\" fill-rule=\"evenodd\" fill-opacity=\"1\" stroke=\"#000000\" stroke-opacity=\"1\" stroke-width=\"0\"/>\n",
       "<circle clip-path=\"url(#clip303)\" cx=\"2240.43\" cy=\"201.052\" r=\"7\" fill=\"#009af9\" fill-rule=\"evenodd\" fill-opacity=\"1\" stroke=\"#000000\" stroke-opacity=\"1\" stroke-width=\"0\"/>\n",
       "<circle clip-path=\"url(#clip303)\" cx=\"609.251\" cy=\"1218.31\" r=\"7\" fill=\"#009af9\" fill-rule=\"evenodd\" fill-opacity=\"1\" stroke=\"#000000\" stroke-opacity=\"1\" stroke-width=\"0\"/>\n",
       "<circle clip-path=\"url(#clip303)\" cx=\"2363.39\" cy=\"114.01\" r=\"7\" fill=\"#009af9\" fill-rule=\"evenodd\" fill-opacity=\"1\" stroke=\"#000000\" stroke-opacity=\"1\" stroke-width=\"0\"/>\n",
       "<circle clip-path=\"url(#clip303)\" cx=\"676.545\" cy=\"1170.77\" r=\"7\" fill=\"#009af9\" fill-rule=\"evenodd\" fill-opacity=\"1\" stroke=\"#000000\" stroke-opacity=\"1\" stroke-width=\"0\"/>\n",
       "<circle clip-path=\"url(#clip303)\" cx=\"2268.55\" cy=\"171.067\" r=\"7\" fill=\"#009af9\" fill-rule=\"evenodd\" fill-opacity=\"1\" stroke=\"#000000\" stroke-opacity=\"1\" stroke-width=\"0\"/>\n",
       "<circle clip-path=\"url(#clip303)\" cx=\"2357.73\" cy=\"121.075\" r=\"7\" fill=\"#009af9\" fill-rule=\"evenodd\" fill-opacity=\"1\" stroke=\"#000000\" stroke-opacity=\"1\" stroke-width=\"0\"/>\n",
       "<circle clip-path=\"url(#clip303)\" cx=\"1257.67\" cy=\"827.38\" r=\"7\" fill=\"#009af9\" fill-rule=\"evenodd\" fill-opacity=\"1\" stroke=\"#000000\" stroke-opacity=\"1\" stroke-width=\"0\"/>\n",
       "<circle clip-path=\"url(#clip303)\" cx=\"1823.55\" cy=\"454.22\" r=\"7\" fill=\"#009af9\" fill-rule=\"evenodd\" fill-opacity=\"1\" stroke=\"#000000\" stroke-opacity=\"1\" stroke-width=\"0\"/>\n",
       "<circle clip-path=\"url(#clip303)\" cx=\"2416.26\" cy=\"84.0091\" r=\"7\" fill=\"#009af9\" fill-rule=\"evenodd\" fill-opacity=\"1\" stroke=\"#000000\" stroke-opacity=\"1\" stroke-width=\"0\"/>\n",
       "<circle clip-path=\"url(#clip303)\" cx=\"1511.21\" cy=\"637.384\" r=\"7\" fill=\"#009af9\" fill-rule=\"evenodd\" fill-opacity=\"1\" stroke=\"#000000\" stroke-opacity=\"1\" stroke-width=\"0\"/>\n",
       "<circle clip-path=\"url(#clip303)\" cx=\"1561.92\" cy=\"612.093\" r=\"7\" fill=\"#009af9\" fill-rule=\"evenodd\" fill-opacity=\"1\" stroke=\"#000000\" stroke-opacity=\"1\" stroke-width=\"0\"/>\n",
       "<circle clip-path=\"url(#clip303)\" cx=\"1016.77\" cy=\"963.429\" r=\"7\" fill=\"#009af9\" fill-rule=\"evenodd\" fill-opacity=\"1\" stroke=\"#000000\" stroke-opacity=\"1\" stroke-width=\"0\"/>\n",
       "<circle clip-path=\"url(#clip303)\" cx=\"817.858\" cy=\"1095.27\" r=\"7\" fill=\"#009af9\" fill-rule=\"evenodd\" fill-opacity=\"1\" stroke=\"#000000\" stroke-opacity=\"1\" stroke-width=\"0\"/>\n",
       "<circle clip-path=\"url(#clip303)\" cx=\"1477.3\" cy=\"660.282\" r=\"7\" fill=\"#009af9\" fill-rule=\"evenodd\" fill-opacity=\"1\" stroke=\"#000000\" stroke-opacity=\"1\" stroke-width=\"0\"/>\n",
       "<circle clip-path=\"url(#clip303)\" cx=\"1078.82\" cy=\"932.02\" r=\"7\" fill=\"#009af9\" fill-rule=\"evenodd\" fill-opacity=\"1\" stroke=\"#000000\" stroke-opacity=\"1\" stroke-width=\"0\"/>\n",
       "<circle clip-path=\"url(#clip303)\" cx=\"2351.78\" cy=\"125.858\" r=\"7\" fill=\"#009af9\" fill-rule=\"evenodd\" fill-opacity=\"1\" stroke=\"#000000\" stroke-opacity=\"1\" stroke-width=\"0\"/>\n",
       "<circle clip-path=\"url(#clip303)\" cx=\"656.104\" cy=\"1187.28\" r=\"7\" fill=\"#009af9\" fill-rule=\"evenodd\" fill-opacity=\"1\" stroke=\"#000000\" stroke-opacity=\"1\" stroke-width=\"0\"/>\n",
       "<circle clip-path=\"url(#clip303)\" cx=\"1727.84\" cy=\"521.866\" r=\"7\" fill=\"#009af9\" fill-rule=\"evenodd\" fill-opacity=\"1\" stroke=\"#000000\" stroke-opacity=\"1\" stroke-width=\"0\"/>\n",
       "<circle clip-path=\"url(#clip303)\" cx=\"636.623\" cy=\"1200\" r=\"7\" fill=\"#009af9\" fill-rule=\"evenodd\" fill-opacity=\"1\" stroke=\"#000000\" stroke-opacity=\"1\" stroke-width=\"0\"/>\n",
       "<circle clip-path=\"url(#clip303)\" cx=\"743.367\" cy=\"1132.18\" r=\"7\" fill=\"#009af9\" fill-rule=\"evenodd\" fill-opacity=\"1\" stroke=\"#000000\" stroke-opacity=\"1\" stroke-width=\"0\"/>\n",
       "<circle clip-path=\"url(#clip303)\" cx=\"1409.38\" cy=\"701.008\" r=\"7\" fill=\"#009af9\" fill-rule=\"evenodd\" fill-opacity=\"1\" stroke=\"#000000\" stroke-opacity=\"1\" stroke-width=\"0\"/>\n",
       "<circle clip-path=\"url(#clip303)\" cx=\"2383.25\" cy=\"110.132\" r=\"7\" fill=\"#009af9\" fill-rule=\"evenodd\" fill-opacity=\"1\" stroke=\"#000000\" stroke-opacity=\"1\" stroke-width=\"0\"/>\n",
       "<circle clip-path=\"url(#clip303)\" cx=\"1094.62\" cy=\"922.013\" r=\"7\" fill=\"#009af9\" fill-rule=\"evenodd\" fill-opacity=\"1\" stroke=\"#000000\" stroke-opacity=\"1\" stroke-width=\"0\"/>\n",
       "<circle clip-path=\"url(#clip303)\" cx=\"2220.47\" cy=\"205.879\" r=\"7\" fill=\"#009af9\" fill-rule=\"evenodd\" fill-opacity=\"1\" stroke=\"#000000\" stroke-opacity=\"1\" stroke-width=\"0\"/>\n",
       "<circle clip-path=\"url(#clip303)\" cx=\"471.598\" cy=\"1299.64\" r=\"7\" fill=\"#009af9\" fill-rule=\"evenodd\" fill-opacity=\"1\" stroke=\"#000000\" stroke-opacity=\"1\" stroke-width=\"0\"/>\n",
       "<circle clip-path=\"url(#clip303)\" cx=\"2131.4\" cy=\"262.537\" r=\"7\" fill=\"#009af9\" fill-rule=\"evenodd\" fill-opacity=\"1\" stroke=\"#000000\" stroke-opacity=\"1\" stroke-width=\"0\"/>\n",
       "<circle clip-path=\"url(#clip303)\" cx=\"547.619\" cy=\"1257.39\" r=\"7\" fill=\"#009af9\" fill-rule=\"evenodd\" fill-opacity=\"1\" stroke=\"#000000\" stroke-opacity=\"1\" stroke-width=\"0\"/>\n",
       "<circle clip-path=\"url(#clip303)\" cx=\"2106.97\" cy=\"289.051\" r=\"7\" fill=\"#009af9\" fill-rule=\"evenodd\" fill-opacity=\"1\" stroke=\"#000000\" stroke-opacity=\"1\" stroke-width=\"0\"/>\n",
       "<circle clip-path=\"url(#clip303)\" cx=\"2310.35\" cy=\"148.754\" r=\"7\" fill=\"#009af9\" fill-rule=\"evenodd\" fill-opacity=\"1\" stroke=\"#000000\" stroke-opacity=\"1\" stroke-width=\"0\"/>\n",
       "<circle clip-path=\"url(#clip303)\" cx=\"1191.49\" cy=\"850.941\" r=\"7\" fill=\"#009af9\" fill-rule=\"evenodd\" fill-opacity=\"1\" stroke=\"#000000\" stroke-opacity=\"1\" stroke-width=\"0\"/>\n",
       "<circle clip-path=\"url(#clip303)\" cx=\"1274.36\" cy=\"795.565\" r=\"7\" fill=\"#009af9\" fill-rule=\"evenodd\" fill-opacity=\"1\" stroke=\"#000000\" stroke-opacity=\"1\" stroke-width=\"0\"/>\n",
       "<circle clip-path=\"url(#clip303)\" cx=\"1511.21\" cy=\"650.88\" r=\"7\" fill=\"#009af9\" fill-rule=\"evenodd\" fill-opacity=\"1\" stroke=\"#000000\" stroke-opacity=\"1\" stroke-width=\"0\"/>\n",
       "<circle clip-path=\"url(#clip303)\" cx=\"1460.32\" cy=\"693.862\" r=\"7\" fill=\"#009af9\" fill-rule=\"evenodd\" fill-opacity=\"1\" stroke=\"#000000\" stroke-opacity=\"1\" stroke-width=\"0\"/>\n",
       "<circle clip-path=\"url(#clip303)\" cx=\"1110.53\" cy=\"908.333\" r=\"7\" fill=\"#009af9\" fill-rule=\"evenodd\" fill-opacity=\"1\" stroke=\"#000000\" stroke-opacity=\"1\" stroke-width=\"0\"/>\n",
       "<circle clip-path=\"url(#clip303)\" cx=\"2395.15\" cy=\"95.9947\" r=\"7\" fill=\"#009af9\" fill-rule=\"evenodd\" fill-opacity=\"1\" stroke=\"#000000\" stroke-opacity=\"1\" stroke-width=\"0\"/>\n",
       "<circle clip-path=\"url(#clip303)\" cx=\"528.948\" cy=\"1257.71\" r=\"7\" fill=\"#009af9\" fill-rule=\"evenodd\" fill-opacity=\"1\" stroke=\"#000000\" stroke-opacity=\"1\" stroke-width=\"0\"/>\n",
       "<circle clip-path=\"url(#clip303)\" cx=\"2119.29\" cy=\"274.069\" r=\"7\" fill=\"#009af9\" fill-rule=\"evenodd\" fill-opacity=\"1\" stroke=\"#000000\" stroke-opacity=\"1\" stroke-width=\"0\"/>\n",
       "<circle clip-path=\"url(#clip303)\" cx=\"1494.26\" cy=\"657.054\" r=\"7\" fill=\"#009af9\" fill-rule=\"evenodd\" fill-opacity=\"1\" stroke=\"#000000\" stroke-opacity=\"1\" stroke-width=\"0\"/>\n",
       "<circle clip-path=\"url(#clip303)\" cx=\"1241.02\" cy=\"826.963\" r=\"7\" fill=\"#009af9\" fill-rule=\"evenodd\" fill-opacity=\"1\" stroke=\"#000000\" stroke-opacity=\"1\" stroke-width=\"0\"/>\n",
       "<circle clip-path=\"url(#clip303)\" cx=\"472.634\" cy=\"1299.93\" r=\"7\" fill=\"#009af9\" fill-rule=\"evenodd\" fill-opacity=\"1\" stroke=\"#000000\" stroke-opacity=\"1\" stroke-width=\"0\"/>\n",
       "<circle clip-path=\"url(#clip303)\" cx=\"2055.71\" cy=\"313.912\" r=\"7\" fill=\"#009af9\" fill-rule=\"evenodd\" fill-opacity=\"1\" stroke=\"#000000\" stroke-opacity=\"1\" stroke-width=\"0\"/>\n",
       "<circle clip-path=\"url(#clip303)\" cx=\"1324.75\" cy=\"761.81\" r=\"7\" fill=\"#009af9\" fill-rule=\"evenodd\" fill-opacity=\"1\" stroke=\"#000000\" stroke-opacity=\"1\" stroke-width=\"0\"/>\n",
       "<circle clip-path=\"url(#clip303)\" cx=\"1477.3\" cy=\"660.57\" r=\"7\" fill=\"#009af9\" fill-rule=\"evenodd\" fill-opacity=\"1\" stroke=\"#000000\" stroke-opacity=\"1\" stroke-width=\"0\"/>\n",
       "<circle clip-path=\"url(#clip303)\" cx=\"470.857\" cy=\"1301.09\" r=\"7\" fill=\"#009af9\" fill-rule=\"evenodd\" fill-opacity=\"1\" stroke=\"#000000\" stroke-opacity=\"1\" stroke-width=\"0\"/>\n",
       "<circle clip-path=\"url(#clip303)\" cx=\"1744.03\" cy=\"497.386\" r=\"7\" fill=\"#009af9\" fill-rule=\"evenodd\" fill-opacity=\"1\" stroke=\"#000000\" stroke-opacity=\"1\" stroke-width=\"0\"/>\n",
       "<circle clip-path=\"url(#clip303)\" cx=\"2345.55\" cy=\"125.013\" r=\"7\" fill=\"#009af9\" fill-rule=\"evenodd\" fill-opacity=\"1\" stroke=\"#000000\" stroke-opacity=\"1\" stroke-width=\"0\"/>\n",
       "<circle clip-path=\"url(#clip303)\" cx=\"804.944\" cy=\"1099.44\" r=\"7\" fill=\"#009af9\" fill-rule=\"evenodd\" fill-opacity=\"1\" stroke=\"#000000\" stroke-opacity=\"1\" stroke-width=\"0\"/>\n",
       "<circle clip-path=\"url(#clip303)\" cx=\"2001.47\" cy=\"335.515\" r=\"7\" fill=\"#009af9\" fill-rule=\"evenodd\" fill-opacity=\"1\" stroke=\"#000000\" stroke-opacity=\"1\" stroke-width=\"0\"/>\n",
       "<circle clip-path=\"url(#clip303)\" cx=\"927.687\" cy=\"1023.94\" r=\"7\" fill=\"#009af9\" fill-rule=\"evenodd\" fill-opacity=\"1\" stroke=\"#000000\" stroke-opacity=\"1\" stroke-width=\"0\"/>\n",
       "<circle clip-path=\"url(#clip303)\" cx=\"2268.55\" cy=\"187.197\" r=\"7\" fill=\"#009af9\" fill-rule=\"evenodd\" fill-opacity=\"1\" stroke=\"#000000\" stroke-opacity=\"1\" stroke-width=\"0\"/>\n",
       "<circle clip-path=\"url(#clip303)\" cx=\"1191.49\" cy=\"845.327\" r=\"7\" fill=\"#009af9\" fill-rule=\"evenodd\" fill-opacity=\"1\" stroke=\"#000000\" stroke-opacity=\"1\" stroke-width=\"0\"/>\n",
       "<circle clip-path=\"url(#clip303)\" cx=\"554.391\" cy=\"1247.64\" r=\"7\" fill=\"#009af9\" fill-rule=\"evenodd\" fill-opacity=\"1\" stroke=\"#000000\" stroke-opacity=\"1\" stroke-width=\"0\"/>\n",
       "<circle clip-path=\"url(#clip303)\" cx=\"1973.31\" cy=\"348.415\" r=\"7\" fill=\"#009af9\" fill-rule=\"evenodd\" fill-opacity=\"1\" stroke=\"#000000\" stroke-opacity=\"1\" stroke-width=\"0\"/>\n",
       "<circle clip-path=\"url(#clip303)\" cx=\"1807.86\" cy=\"463.191\" r=\"7\" fill=\"#009af9\" fill-rule=\"evenodd\" fill-opacity=\"1\" stroke=\"#000000\" stroke-opacity=\"1\" stroke-width=\"0\"/>\n",
       "<circle clip-path=\"url(#clip303)\" cx=\"477.517\" cy=\"1297.61\" r=\"7\" fill=\"#009af9\" fill-rule=\"evenodd\" fill-opacity=\"1\" stroke=\"#000000\" stroke-opacity=\"1\" stroke-width=\"0\"/>\n",
       "<circle clip-path=\"url(#clip303)\" cx=\"942.167\" cy=\"1001.57\" r=\"7\" fill=\"#009af9\" fill-rule=\"evenodd\" fill-opacity=\"1\" stroke=\"#000000\" stroke-opacity=\"1\" stroke-width=\"0\"/>\n",
       "<circle clip-path=\"url(#clip303)\" cx=\"1142.64\" cy=\"879.068\" r=\"7\" fill=\"#009af9\" fill-rule=\"evenodd\" fill-opacity=\"1\" stroke=\"#000000\" stroke-opacity=\"1\" stroke-width=\"0\"/>\n",
       "<circle clip-path=\"url(#clip303)\" cx=\"1047.55\" cy=\"934.941\" r=\"7\" fill=\"#009af9\" fill-rule=\"evenodd\" fill-opacity=\"1\" stroke=\"#000000\" stroke-opacity=\"1\" stroke-width=\"0\"/>\n",
       "<circle clip-path=\"url(#clip303)\" cx=\"1987.47\" cy=\"352.791\" r=\"7\" fill=\"#009af9\" fill-rule=\"evenodd\" fill-opacity=\"1\" stroke=\"#000000\" stroke-opacity=\"1\" stroke-width=\"0\"/>\n",
       "<circle clip-path=\"url(#clip303)\" cx=\"2310.35\" cy=\"155.414\" r=\"7\" fill=\"#009af9\" fill-rule=\"evenodd\" fill-opacity=\"1\" stroke=\"#000000\" stroke-opacity=\"1\" stroke-width=\"0\"/>\n",
       "<circle clip-path=\"url(#clip303)\" cx=\"1426.35\" cy=\"685.2\" r=\"7\" fill=\"#009af9\" fill-rule=\"evenodd\" fill-opacity=\"1\" stroke=\"#000000\" stroke-opacity=\"1\" stroke-width=\"0\"/>\n",
       "<circle clip-path=\"url(#clip303)\" cx=\"2373.89\" cy=\"109.797\" r=\"7\" fill=\"#009af9\" fill-rule=\"evenodd\" fill-opacity=\"1\" stroke=\"#000000\" stroke-opacity=\"1\" stroke-width=\"0\"/>\n",
       "<circle clip-path=\"url(#clip303)\" cx=\"1494.26\" cy=\"654.466\" r=\"7\" fill=\"#009af9\" fill-rule=\"evenodd\" fill-opacity=\"1\" stroke=\"#000000\" stroke-opacity=\"1\" stroke-width=\"0\"/>\n",
       "<circle clip-path=\"url(#clip303)\" cx=\"844.253\" cy=\"1054.1\" r=\"7\" fill=\"#009af9\" fill-rule=\"evenodd\" fill-opacity=\"1\" stroke=\"#000000\" stroke-opacity=\"1\" stroke-width=\"0\"/>\n",
       "<circle clip-path=\"url(#clip303)\" cx=\"885.205\" cy=\"1036.46\" r=\"7\" fill=\"#009af9\" fill-rule=\"evenodd\" fill-opacity=\"1\" stroke=\"#000000\" stroke-opacity=\"1\" stroke-width=\"0\"/>\n",
       "<circle clip-path=\"url(#clip303)\" cx=\"2357.73\" cy=\"124.001\" r=\"7\" fill=\"#009af9\" fill-rule=\"evenodd\" fill-opacity=\"1\" stroke=\"#000000\" stroke-opacity=\"1\" stroke-width=\"0\"/>\n",
       "<path clip-path=\"url(#clip300)\" d=\"\n",
       "M2713.65 1338.42 L4776.41 1338.42 L4776.41 47.2441 L2713.65 47.2441  Z\n",
       "  \" fill=\"#ffffff\" fill-rule=\"evenodd\" fill-opacity=\"1\"/>\n",
       "<defs>\n",
       "  <clipPath id=\"clip304\">\n",
       "    <rect x=\"2713\" y=\"47\" width=\"2064\" height=\"1292\"/>\n",
       "  </clipPath>\n",
       "</defs>\n",
       "<polyline clip-path=\"url(#clip304)\" style=\"stroke:#000000; stroke-width:2; stroke-opacity:0.1; fill:none\" points=\"\n",
       "  2762.43,1338.42 2762.43,47.2441 \n",
       "  \"/>\n",
       "<polyline clip-path=\"url(#clip304)\" style=\"stroke:#000000; stroke-width:2; stroke-opacity:0.1; fill:none\" points=\"\n",
       "  3366.42,1338.42 3366.42,47.2441 \n",
       "  \"/>\n",
       "<polyline clip-path=\"url(#clip304)\" style=\"stroke:#000000; stroke-width:2; stroke-opacity:0.1; fill:none\" points=\"\n",
       "  3970.41,1338.42 3970.41,47.2441 \n",
       "  \"/>\n",
       "<polyline clip-path=\"url(#clip304)\" style=\"stroke:#000000; stroke-width:2; stroke-opacity:0.1; fill:none\" points=\"\n",
       "  4574.4,1338.42 4574.4,47.2441 \n",
       "  \"/>\n",
       "<polyline clip-path=\"url(#clip300)\" style=\"stroke:#000000; stroke-width:4; stroke-opacity:1; fill:none\" points=\"\n",
       "  2713.65,1338.42 4776.41,1338.42 \n",
       "  \"/>\n",
       "<polyline clip-path=\"url(#clip300)\" style=\"stroke:#000000; stroke-width:4; stroke-opacity:1; fill:none\" points=\"\n",
       "  2762.43,1338.42 2762.43,1322.93 \n",
       "  \"/>\n",
       "<polyline clip-path=\"url(#clip300)\" style=\"stroke:#000000; stroke-width:4; stroke-opacity:1; fill:none\" points=\"\n",
       "  3366.42,1338.42 3366.42,1322.93 \n",
       "  \"/>\n",
       "<polyline clip-path=\"url(#clip300)\" style=\"stroke:#000000; stroke-width:4; stroke-opacity:1; fill:none\" points=\"\n",
       "  3970.41,1338.42 3970.41,1322.93 \n",
       "  \"/>\n",
       "<polyline clip-path=\"url(#clip300)\" style=\"stroke:#000000; stroke-width:4; stroke-opacity:1; fill:none\" points=\"\n",
       "  4574.4,1338.42 4574.4,1322.93 \n",
       "  \"/>\n",
       "<path clip-path=\"url(#clip300)\" d=\"M 0 0 M2765.44 1407.01 L2753.63 1425.45 L2765.44 1425.45 L2765.44 1407.01 M2764.21 1402.93 L2770.09 1402.93 L2770.09 1425.45 L2775.02 1425.45 L2775.02 1429.34 L2770.09 1429.34 L2770.09 1437.49 L2765.44 1437.49 L2765.44 1429.34 L2749.83 1429.34 L2749.83 1424.83 L2764.21 1402.93 Z\" fill=\"#000000\" fill-rule=\"evenodd\" fill-opacity=\"1\" /><path clip-path=\"url(#clip300)\" d=\"M 0 0 M3356.7 1402.93 L3375.05 1402.93 L3375.05 1406.87 L3360.98 1406.87 L3360.98 1415.34 Q3362 1414.99 3363.01 1414.83 Q3364.03 1414.64 3365.05 1414.64 Q3370.84 1414.64 3374.22 1417.82 Q3377.6 1420.99 3377.6 1426.4 Q3377.6 1431.98 3374.13 1435.08 Q3370.65 1438.16 3364.33 1438.16 Q3362.16 1438.16 3359.89 1437.79 Q3357.64 1437.42 3355.24 1436.68 L3355.24 1431.98 Q3357.32 1433.12 3359.54 1433.67 Q3361.76 1434.23 3364.24 1434.23 Q3368.25 1434.23 3370.58 1432.12 Q3372.92 1430.01 3372.92 1426.4 Q3372.92 1422.79 3370.58 1420.69 Q3368.25 1418.58 3364.24 1418.58 Q3362.37 1418.58 3360.49 1419 Q3358.64 1419.41 3356.7 1420.29 L3356.7 1402.93 Z\" fill=\"#000000\" fill-rule=\"evenodd\" fill-opacity=\"1\" /><path clip-path=\"url(#clip300)\" d=\"M 0 0 M3970.81 1418.35 Q3967.66 1418.35 3965.81 1420.5 Q3963.98 1422.65 3963.98 1426.4 Q3963.98 1430.13 3965.81 1432.31 Q3967.66 1434.46 3970.81 1434.46 Q3973.96 1434.46 3975.79 1432.31 Q3977.64 1430.13 3977.64 1426.4 Q3977.64 1422.65 3975.79 1420.5 Q3973.96 1418.35 3970.81 1418.35 M3980.1 1403.7 L3980.1 1407.95 Q3978.34 1407.12 3976.53 1406.68 Q3974.75 1406.24 3972.99 1406.24 Q3968.36 1406.24 3965.91 1409.37 Q3963.47 1412.49 3963.13 1418.81 Q3964.49 1416.8 3966.55 1415.73 Q3968.61 1414.64 3971.09 1414.64 Q3976.3 1414.64 3979.31 1417.82 Q3982.34 1420.96 3982.34 1426.4 Q3982.34 1431.73 3979.19 1434.95 Q3976.04 1438.16 3970.81 1438.16 Q3964.82 1438.16 3961.65 1433.58 Q3958.47 1428.97 3958.47 1420.25 Q3958.47 1412.05 3962.36 1407.19 Q3966.25 1402.31 3972.8 1402.31 Q3974.56 1402.31 3976.35 1402.65 Q3978.15 1403 3980.1 1403.7 Z\" fill=\"#000000\" fill-rule=\"evenodd\" fill-opacity=\"1\" /><path clip-path=\"url(#clip300)\" d=\"M 0 0 M4563.29 1402.93 L4585.51 1402.93 L4585.51 1404.92 L4572.96 1437.49 L4568.08 1437.49 L4579.88 1406.87 L4563.29 1406.87 L4563.29 1402.93 Z\" fill=\"#000000\" fill-rule=\"evenodd\" fill-opacity=\"1\" /><path clip-path=\"url(#clip300)\" d=\"M 0 0 M3331.1 1507.76 L3371.3 1507.76 L3371.3 1513.17 L3354.43 1513.17 L3354.43 1555.28 L3347.97 1555.28 L3347.97 1513.17 L3331.1 1513.17 L3331.1 1507.76 Z\" fill=\"#000000\" fill-rule=\"evenodd\" fill-opacity=\"1\" /><path clip-path=\"url(#clip300)\" d=\"M 0 0 M3388.33 1525.11 Q3387.34 1524.54 3386.16 1524.28 Q3385.02 1524 3383.62 1524 Q3378.65 1524 3375.98 1527.24 Q3373.33 1530.46 3373.33 1536.5 L3373.33 1555.28 L3367.45 1555.28 L3367.45 1519.64 L3373.33 1519.64 L3373.33 1525.17 Q3375.18 1521.93 3378.14 1520.37 Q3381.1 1518.78 3385.33 1518.78 Q3385.94 1518.78 3386.67 1518.87 Q3387.4 1518.94 3388.29 1519.09 L3388.33 1525.11 Z\" fill=\"#000000\" fill-rule=\"evenodd\" fill-opacity=\"1\" /><path clip-path=\"url(#clip300)\" d=\"M 0 0 M3393.86 1541.22 L3393.86 1519.64 L3399.72 1519.64 L3399.72 1540.99 Q3399.72 1546.05 3401.69 1548.6 Q3403.67 1551.11 3407.61 1551.11 Q3412.36 1551.11 3415.09 1548.09 Q3417.86 1545.07 3417.86 1539.85 L3417.86 1519.64 L3423.72 1519.64 L3423.72 1555.28 L3417.86 1555.28 L3417.86 1549.81 Q3415.73 1553.06 3412.9 1554.65 Q3410.1 1556.21 3406.37 1556.21 Q3400.23 1556.21 3397.05 1552.39 Q3393.86 1548.57 3393.86 1541.22 M3408.6 1518.78 L3408.6 1518.78 Z\" fill=\"#000000\" fill-rule=\"evenodd\" fill-opacity=\"1\" /><path clip-path=\"url(#clip300)\" d=\"M 0 0 M3466.27 1536 L3466.27 1538.86 L3439.35 1538.86 Q3439.73 1544.91 3442.98 1548.09 Q3446.25 1551.24 3452.08 1551.24 Q3455.45 1551.24 3458.6 1550.41 Q3461.79 1549.59 3464.91 1547.93 L3464.91 1553.47 Q3461.75 1554.81 3458.44 1555.51 Q3455.13 1556.21 3451.73 1556.21 Q3443.2 1556.21 3438.2 1551.24 Q3433.24 1546.28 3433.24 1537.81 Q3433.24 1529.06 3437.95 1523.93 Q3442.69 1518.78 3450.71 1518.78 Q3457.9 1518.78 3462.07 1523.42 Q3466.27 1528.04 3466.27 1536 M3460.42 1534.28 Q3460.35 1529.47 3457.71 1526.61 Q3455.1 1523.74 3450.77 1523.74 Q3445.87 1523.74 3442.91 1526.51 Q3439.98 1529.28 3439.54 1534.31 L3460.42 1534.28 Z\" fill=\"#000000\" fill-rule=\"evenodd\" fill-opacity=\"1\" /><path clip-path=\"url(#clip300)\" d=\"M 0 0 M3502.27 1549.94 L3502.27 1568.84 L3496.38 1568.84 L3496.38 1519.64 L3502.27 1519.64 L3502.27 1525.05 Q3504.12 1521.86 3506.92 1520.34 Q3509.75 1518.78 3513.67 1518.78 Q3520.16 1518.78 3524.2 1523.93 Q3528.28 1529.09 3528.28 1537.49 Q3528.28 1545.89 3524.2 1551.05 Q3520.16 1556.21 3513.67 1556.21 Q3509.75 1556.21 3506.92 1554.68 Q3504.12 1553.12 3502.27 1549.94 M3522.2 1537.49 Q3522.2 1531.03 3519.52 1527.37 Q3516.88 1523.68 3512.23 1523.68 Q3507.59 1523.68 3504.91 1527.37 Q3502.27 1531.03 3502.27 1537.49 Q3502.27 1543.95 3504.91 1547.64 Q3507.59 1551.31 3512.23 1551.31 Q3516.88 1551.31 3519.52 1547.64 Q3522.2 1543.95 3522.2 1537.49 Z\" fill=\"#000000\" fill-rule=\"evenodd\" fill-opacity=\"1\" /><path clip-path=\"url(#clip300)\" d=\"M 0 0 M3554.18 1537.36 Q3547.09 1537.36 3544.35 1538.99 Q3541.61 1540.61 3541.61 1544.53 Q3541.61 1547.64 3543.65 1549.49 Q3545.72 1551.31 3549.25 1551.31 Q3554.12 1551.31 3557.05 1547.87 Q3560.01 1544.4 3560.01 1538.67 L3560.01 1537.36 L3554.18 1537.36 M3565.87 1534.95 L3565.87 1555.28 L3560.01 1555.28 L3560.01 1549.87 Q3558 1553.12 3555.01 1554.68 Q3552.02 1556.21 3547.69 1556.21 Q3542.22 1556.21 3538.97 1553.15 Q3535.76 1550.06 3535.76 1544.91 Q3535.76 1538.89 3539.77 1535.84 Q3543.81 1532.78 3551.8 1532.78 L3560.01 1532.78 L3560.01 1532.21 Q3560.01 1528.17 3557.34 1525.97 Q3554.69 1523.74 3549.89 1523.74 Q3546.83 1523.74 3543.94 1524.47 Q3541.04 1525.21 3538.37 1526.67 L3538.37 1521.26 Q3541.58 1520.02 3544.6 1519.41 Q3547.63 1518.78 3550.49 1518.78 Q3558.23 1518.78 3562.05 1522.79 Q3565.87 1526.8 3565.87 1534.95 Z\" fill=\"#000000\" fill-rule=\"evenodd\" fill-opacity=\"1\" /><path clip-path=\"url(#clip300)\" d=\"M 0 0 M3598.59 1525.11 Q3597.6 1524.54 3596.42 1524.28 Q3595.28 1524 3593.87 1524 Q3588.91 1524 3586.24 1527.24 Q3583.59 1530.46 3583.59 1536.5 L3583.59 1555.28 L3577.71 1555.28 L3577.71 1519.64 L3583.59 1519.64 L3583.59 1525.17 Q3585.44 1521.93 3588.4 1520.37 Q3591.36 1518.78 3595.59 1518.78 Q3596.2 1518.78 3596.93 1518.87 Q3597.66 1518.94 3598.55 1519.09 L3598.59 1525.11 Z\" fill=\"#000000\" fill-rule=\"evenodd\" fill-opacity=\"1\" /><path clip-path=\"url(#clip300)\" d=\"M 0 0 M3620.93 1537.36 Q3613.83 1537.36 3611.09 1538.99 Q3608.36 1540.61 3608.36 1544.53 Q3608.36 1547.64 3610.39 1549.49 Q3612.46 1551.31 3616 1551.31 Q3620.87 1551.31 3623.79 1547.87 Q3626.75 1544.4 3626.75 1538.67 L3626.75 1537.36 L3620.93 1537.36 M3632.61 1534.95 L3632.61 1555.28 L3626.75 1555.28 L3626.75 1549.87 Q3624.75 1553.12 3621.76 1554.68 Q3618.76 1556.21 3614.44 1556.21 Q3608.96 1556.21 3605.72 1553.15 Q3602.5 1550.06 3602.5 1544.91 Q3602.5 1538.89 3606.51 1535.84 Q3610.55 1532.78 3618.54 1532.78 L3626.75 1532.78 L3626.75 1532.21 Q3626.75 1528.17 3624.08 1525.97 Q3621.44 1523.74 3616.63 1523.74 Q3613.58 1523.74 3610.68 1524.47 Q3607.78 1525.21 3605.11 1526.67 L3605.11 1521.26 Q3608.33 1520.02 3611.35 1519.41 Q3614.37 1518.78 3617.24 1518.78 Q3624.97 1518.78 3628.79 1522.79 Q3632.61 1526.8 3632.61 1534.95 Z\" fill=\"#000000\" fill-rule=\"evenodd\" fill-opacity=\"1\" /><path clip-path=\"url(#clip300)\" d=\"M 0 0 M3672.43 1526.48 Q3674.62 1522.53 3677.68 1520.65 Q3680.73 1518.78 3684.87 1518.78 Q3690.44 1518.78 3693.47 1522.69 Q3696.49 1526.57 3696.49 1533.77 L3696.49 1555.28 L3690.6 1555.28 L3690.6 1533.96 Q3690.6 1528.83 3688.79 1526.35 Q3686.97 1523.87 3683.25 1523.87 Q3678.7 1523.87 3676.06 1526.89 Q3673.41 1529.92 3673.41 1535.14 L3673.41 1555.28 L3667.53 1555.28 L3667.53 1533.96 Q3667.53 1528.8 3665.71 1526.35 Q3663.9 1523.87 3660.11 1523.87 Q3655.62 1523.87 3652.98 1526.92 Q3650.34 1529.95 3650.34 1535.14 L3650.34 1555.28 L3644.45 1555.28 L3644.45 1519.64 L3650.34 1519.64 L3650.34 1525.17 Q3652.34 1521.9 3655.14 1520.34 Q3657.95 1518.78 3661.8 1518.78 Q3665.68 1518.78 3668.39 1520.75 Q3671.12 1522.72 3672.43 1526.48 Z\" fill=\"#000000\" fill-rule=\"evenodd\" fill-opacity=\"1\" /><path clip-path=\"url(#clip300)\" d=\"M 0 0 M3738.66 1536 L3738.66 1538.86 L3711.74 1538.86 Q3712.12 1544.91 3715.36 1548.09 Q3718.64 1551.24 3724.47 1551.24 Q3727.84 1551.24 3730.99 1550.41 Q3734.18 1549.59 3737.29 1547.93 L3737.29 1553.47 Q3734.14 1554.81 3730.83 1555.51 Q3727.52 1556.21 3724.12 1556.21 Q3715.59 1556.21 3710.59 1551.24 Q3705.62 1546.28 3705.62 1537.81 Q3705.62 1529.06 3710.34 1523.93 Q3715.08 1518.78 3723.1 1518.78 Q3730.29 1518.78 3734.46 1523.42 Q3738.66 1528.04 3738.66 1536 M3732.81 1534.28 Q3732.74 1529.47 3730.1 1526.61 Q3727.49 1523.74 3723.16 1523.74 Q3718.26 1523.74 3715.3 1526.51 Q3712.37 1529.28 3711.93 1534.31 L3732.81 1534.28 Z\" fill=\"#000000\" fill-rule=\"evenodd\" fill-opacity=\"1\" /><path clip-path=\"url(#clip300)\" d=\"M 0 0 M3754.07 1509.51 L3754.07 1519.64 L3766.13 1519.64 L3766.13 1524.19 L3754.07 1524.19 L3754.07 1543.54 Q3754.07 1547.9 3755.25 1549.14 Q3756.46 1550.38 3760.12 1550.38 L3766.13 1550.38 L3766.13 1555.28 L3760.12 1555.28 Q3753.34 1555.28 3750.76 1552.77 Q3748.18 1550.22 3748.18 1543.54 L3748.18 1524.19 L3743.88 1524.19 L3743.88 1519.64 L3748.18 1519.64 L3748.18 1509.51 L3754.07 1509.51 Z\" fill=\"#000000\" fill-rule=\"evenodd\" fill-opacity=\"1\" /><path clip-path=\"url(#clip300)\" d=\"M 0 0 M3804.33 1536 L3804.33 1538.86 L3777.4 1538.86 Q3777.78 1544.91 3781.03 1548.09 Q3784.31 1551.24 3790.13 1551.24 Q3793.5 1551.24 3796.65 1550.41 Q3799.84 1549.59 3802.96 1547.93 L3802.96 1553.47 Q3799.81 1554.81 3796.5 1555.51 Q3793.19 1556.21 3789.78 1556.21 Q3781.25 1556.21 3776.25 1551.24 Q3771.29 1546.28 3771.29 1537.81 Q3771.29 1529.06 3776 1523.93 Q3780.74 1518.78 3788.76 1518.78 Q3795.95 1518.78 3800.12 1523.42 Q3804.33 1528.04 3804.33 1536 M3798.47 1534.28 Q3798.41 1529.47 3795.76 1526.61 Q3793.15 1523.74 3788.82 1523.74 Q3783.92 1523.74 3780.96 1526.51 Q3778.03 1529.28 3777.59 1534.31 L3798.47 1534.28 Z\" fill=\"#000000\" fill-rule=\"evenodd\" fill-opacity=\"1\" /><path clip-path=\"url(#clip300)\" d=\"M 0 0 M3834.59 1525.11 Q3833.61 1524.54 3832.43 1524.28 Q3831.28 1524 3829.88 1524 Q3824.92 1524 3822.24 1527.24 Q3819.6 1530.46 3819.6 1536.5 L3819.6 1555.28 L3813.71 1555.28 L3813.71 1519.64 L3819.6 1519.64 L3819.6 1525.17 Q3821.45 1521.93 3824.41 1520.37 Q3827.37 1518.78 3831.6 1518.78 Q3832.21 1518.78 3832.94 1518.87 Q3833.67 1518.94 3834.56 1519.09 L3834.59 1525.11 Z\" fill=\"#000000\" fill-rule=\"evenodd\" fill-opacity=\"1\" /><path clip-path=\"url(#clip300)\" d=\"M 0 0 M3857.26 1519.64 L3863.46 1519.64 L3874.6 1549.55 L3885.74 1519.64 L3891.95 1519.64 L3878.58 1555.28 L3870.62 1555.28 L3857.26 1519.64 Z\" fill=\"#000000\" fill-rule=\"evenodd\" fill-opacity=\"1\" /><path clip-path=\"url(#clip300)\" d=\"M 0 0 M3916.23 1537.36 Q3909.14 1537.36 3906.4 1538.99 Q3903.66 1540.61 3903.66 1544.53 Q3903.66 1547.64 3905.7 1549.49 Q3907.77 1551.31 3911.3 1551.31 Q3916.17 1551.31 3919.1 1547.87 Q3922.06 1544.4 3922.06 1538.67 L3922.06 1537.36 L3916.23 1537.36 M3927.92 1534.95 L3927.92 1555.28 L3922.06 1555.28 L3922.06 1549.87 Q3920.05 1553.12 3917.06 1554.68 Q3914.07 1556.21 3909.74 1556.21 Q3904.27 1556.21 3901.02 1553.15 Q3897.81 1550.06 3897.81 1544.91 Q3897.81 1538.89 3901.82 1535.84 Q3905.86 1532.78 3913.85 1532.78 L3922.06 1532.78 L3922.06 1532.21 Q3922.06 1528.17 3919.39 1525.97 Q3916.74 1523.74 3911.94 1523.74 Q3908.88 1523.74 3905.99 1524.47 Q3903.09 1525.21 3900.42 1526.67 L3900.42 1521.26 Q3903.63 1520.02 3906.65 1519.41 Q3909.68 1518.78 3912.54 1518.78 Q3920.28 1518.78 3924.1 1522.79 Q3927.92 1526.8 3927.92 1534.95 Z\" fill=\"#000000\" fill-rule=\"evenodd\" fill-opacity=\"1\" /><path clip-path=\"url(#clip300)\" d=\"M 0 0 M3939.98 1505.76 L3945.83 1505.76 L3945.83 1555.28 L3939.98 1555.28 L3939.98 1505.76 Z\" fill=\"#000000\" fill-rule=\"evenodd\" fill-opacity=\"1\" /><path clip-path=\"url(#clip300)\" d=\"M 0 0 M3957.48 1541.22 L3957.48 1519.64 L3963.34 1519.64 L3963.34 1540.99 Q3963.34 1546.05 3965.31 1548.6 Q3967.29 1551.11 3971.23 1551.11 Q3975.98 1551.11 3978.71 1548.09 Q3981.48 1545.07 3981.48 1539.85 L3981.48 1519.64 L3987.34 1519.64 L3987.34 1555.28 L3981.48 1555.28 L3981.48 1549.81 Q3979.35 1553.06 3976.52 1554.65 Q3973.72 1556.21 3969.99 1556.21 Q3963.85 1556.21 3960.67 1552.39 Q3957.48 1548.57 3957.48 1541.22 M3972.22 1518.78 L3972.22 1518.78 Z\" fill=\"#000000\" fill-rule=\"evenodd\" fill-opacity=\"1\" /><path clip-path=\"url(#clip300)\" d=\"M 0 0 M4029.89 1536 L4029.89 1538.86 L4002.97 1538.86 Q4003.35 1544.91 4006.6 1548.09 Q4009.87 1551.24 4015.7 1551.24 Q4019.07 1551.24 4022.22 1550.41 Q4025.41 1549.59 4028.53 1547.93 L4028.53 1553.47 Q4025.37 1554.81 4022.06 1555.51 Q4018.75 1556.21 4015.35 1556.21 Q4006.82 1556.21 4001.82 1551.24 Q3996.86 1546.28 3996.86 1537.81 Q3996.86 1529.06 4001.57 1523.93 Q4006.31 1518.78 4014.33 1518.78 Q4021.52 1518.78 4025.69 1523.42 Q4029.89 1528.04 4029.89 1536 M4024.04 1534.28 Q4023.97 1529.47 4021.33 1526.61 Q4018.72 1523.74 4014.39 1523.74 Q4009.49 1523.74 4006.53 1526.51 Q4003.6 1529.28 4003.16 1534.31 L4024.04 1534.28 Z\" fill=\"#000000\" fill-rule=\"evenodd\" fill-opacity=\"1\" /><path clip-path=\"url(#clip300)\" d=\"M 0 0 M4041 1547.2 L4047.72 1547.2 L4047.72 1552.67 L4042.5 1562.86 L4038.39 1562.86 L4041 1552.67 L4041 1547.2 Z\" fill=\"#000000\" fill-rule=\"evenodd\" fill-opacity=\"1\" /><path clip-path=\"url(#clip300)\" d=\"M 0 0 M4111.44 1536 L4111.44 1538.86 L4084.51 1538.86 Q4084.89 1544.91 4088.14 1548.09 Q4091.42 1551.24 4097.24 1551.24 Q4100.62 1551.24 4103.77 1550.41 Q4106.95 1549.59 4110.07 1547.93 L4110.07 1553.47 Q4106.92 1554.81 4103.61 1555.51 Q4100.3 1556.21 4096.89 1556.21 Q4088.36 1556.21 4083.37 1551.24 Q4078.4 1546.28 4078.4 1537.81 Q4078.4 1529.06 4083.11 1523.93 Q4087.85 1518.78 4095.87 1518.78 Q4103.07 1518.78 4107.24 1523.42 Q4111.44 1528.04 4111.44 1536 M4105.58 1534.28 Q4105.52 1529.47 4102.88 1526.61 Q4100.27 1523.74 4095.94 1523.74 Q4091.04 1523.74 4088.08 1526.51 Q4085.15 1529.28 4084.7 1534.31 L4105.58 1534.28 Z\" fill=\"#000000\" fill-rule=\"evenodd\" fill-opacity=\"1\" /><path clip-path=\"url(#clip300)\" d=\"M 0 0 M4133.56 1555.28 L4115.42 1507.76 L4122.13 1507.76 L4137.19 1547.77 L4152.27 1507.76 L4158.96 1507.76 L4140.85 1555.28 L4133.56 1555.28 Z\" fill=\"#000000\" fill-rule=\"evenodd\" fill-opacity=\"1\" /><polyline clip-path=\"url(#clip304)\" style=\"stroke:#000000; stroke-width:2; stroke-opacity:0.1; fill:none\" points=\"\n",
       "  2713.65,1295.95 4776.41,1295.95 \n",
       "  \"/>\n",
       "<polyline clip-path=\"url(#clip304)\" style=\"stroke:#000000; stroke-width:2; stroke-opacity:0.1; fill:none\" points=\"\n",
       "  2713.65,917.794 4776.41,917.794 \n",
       "  \"/>\n",
       "<polyline clip-path=\"url(#clip304)\" style=\"stroke:#000000; stroke-width:2; stroke-opacity:0.1; fill:none\" points=\"\n",
       "  2713.65,539.642 4776.41,539.642 \n",
       "  \"/>\n",
       "<polyline clip-path=\"url(#clip304)\" style=\"stroke:#000000; stroke-width:2; stroke-opacity:0.1; fill:none\" points=\"\n",
       "  2713.65,161.49 4776.41,161.49 \n",
       "  \"/>\n",
       "<polyline clip-path=\"url(#clip300)\" style=\"stroke:#000000; stroke-width:4; stroke-opacity:1; fill:none\" points=\"\n",
       "  2713.65,1338.42 2713.65,47.2441 \n",
       "  \"/>\n",
       "<polyline clip-path=\"url(#clip300)\" style=\"stroke:#000000; stroke-width:4; stroke-opacity:1; fill:none\" points=\"\n",
       "  2713.65,1295.95 2738.4,1295.95 \n",
       "  \"/>\n",
       "<polyline clip-path=\"url(#clip300)\" style=\"stroke:#000000; stroke-width:4; stroke-opacity:1; fill:none\" points=\"\n",
       "  2713.65,917.794 2738.4,917.794 \n",
       "  \"/>\n",
       "<polyline clip-path=\"url(#clip300)\" style=\"stroke:#000000; stroke-width:4; stroke-opacity:1; fill:none\" points=\"\n",
       "  2713.65,539.642 2738.4,539.642 \n",
       "  \"/>\n",
       "<polyline clip-path=\"url(#clip300)\" style=\"stroke:#000000; stroke-width:4; stroke-opacity:1; fill:none\" points=\"\n",
       "  2713.65,161.49 2738.4,161.49 \n",
       "  \"/>\n",
       "<path clip-path=\"url(#clip300)\" d=\"M 0 0 M2596.07 1282.74 L2584.26 1301.19 L2596.07 1301.19 L2596.07 1282.74 M2594.84 1278.67 L2600.72 1278.67 L2600.72 1301.19 L2605.65 1301.19 L2605.65 1305.08 L2600.72 1305.08 L2600.72 1313.23 L2596.07 1313.23 L2596.07 1305.08 L2580.47 1305.08 L2580.47 1300.56 L2594.84 1278.67 Z\" fill=\"#000000\" fill-rule=\"evenodd\" fill-opacity=\"1\" /><path clip-path=\"url(#clip300)\" d=\"M 0 0 M2584.75 900.514 L2603.1 900.514 L2603.1 904.45 L2589.03 904.45 L2589.03 912.922 Q2590.05 912.575 2591.07 912.413 Q2592.09 912.227 2593.1 912.227 Q2598.89 912.227 2602.27 915.399 Q2605.65 918.57 2605.65 923.987 Q2605.65 929.565 2602.18 932.667 Q2598.71 935.746 2592.39 935.746 Q2590.21 935.746 2587.94 935.375 Q2585.7 935.005 2583.29 934.264 L2583.29 929.565 Q2585.37 930.699 2587.59 931.255 Q2589.82 931.811 2592.29 931.811 Q2596.3 931.811 2598.64 929.704 Q2600.97 927.598 2600.97 923.987 Q2600.97 920.375 2598.64 918.269 Q2596.3 916.162 2592.29 916.162 Q2590.42 916.162 2588.54 916.579 Q2586.69 916.996 2584.75 917.875 L2584.75 900.514 Z\" fill=\"#000000\" fill-rule=\"evenodd\" fill-opacity=\"1\" /><path clip-path=\"url(#clip300)\" d=\"M 0 0 M2594.12 537.779 Q2590.97 537.779 2589.12 539.931 Q2587.29 542.084 2587.29 545.834 Q2587.29 549.561 2589.12 551.737 Q2590.97 553.89 2594.12 553.89 Q2597.27 553.89 2599.1 551.737 Q2600.95 549.561 2600.95 545.834 Q2600.95 542.084 2599.1 539.931 Q2597.27 537.779 2594.12 537.779 M2603.4 523.126 L2603.4 527.385 Q2601.65 526.552 2599.84 526.112 Q2598.06 525.672 2596.3 525.672 Q2591.67 525.672 2589.22 528.797 Q2586.78 531.922 2586.44 538.242 Q2587.8 536.228 2589.86 535.163 Q2591.92 534.075 2594.4 534.075 Q2599.61 534.075 2602.62 537.246 Q2605.65 540.394 2605.65 545.834 Q2605.65 551.158 2602.5 554.376 Q2599.35 557.593 2594.12 557.593 Q2588.13 557.593 2584.96 553.01 Q2581.78 548.404 2581.78 539.677 Q2581.78 531.482 2585.67 526.621 Q2589.56 521.737 2596.11 521.737 Q2597.87 521.737 2599.65 522.084 Q2601.46 522.432 2603.4 523.126 Z\" fill=\"#000000\" fill-rule=\"evenodd\" fill-opacity=\"1\" /><path clip-path=\"url(#clip300)\" d=\"M 0 0 M2583.43 144.21 L2605.65 144.21 L2605.65 146.2 L2593.1 178.77 L2588.22 178.77 L2600.03 148.145 L2583.43 148.145 L2583.43 144.21 Z\" fill=\"#000000\" fill-rule=\"evenodd\" fill-opacity=\"1\" /><path clip-path=\"url(#clip300)\" d=\"M 0 0 M2435.93 1183.56 Q2436.63 1181.5 2438.92 1179.55 Q2441.21 1177.58 2445.22 1175.61 L2458.21 1169.08 L2458.21 1175.99 L2446.02 1182.07 Q2441.24 1184.42 2439.68 1186.65 Q2438.13 1188.85 2438.13 1192.67 L2438.13 1199.67 L2458.21 1199.67 L2458.21 1206.1 L2410.69 1206.1 L2410.69 1191.58 Q2410.69 1183.44 2414.09 1179.43 Q2417.5 1175.42 2424.38 1175.42 Q2428.86 1175.42 2431.82 1177.52 Q2434.78 1179.59 2435.93 1183.56 M2415.97 1199.67 L2432.84 1199.67 L2432.84 1191.58 Q2432.84 1186.94 2430.71 1184.58 Q2428.55 1182.2 2424.38 1182.2 Q2420.21 1182.2 2418.11 1184.58 Q2415.97 1186.94 2415.97 1191.58 L2415.97 1199.67 Z\" fill=\"#000000\" fill-rule=\"evenodd\" fill-opacity=\"1\" /><path clip-path=\"url(#clip300)\" d=\"M 0 0 M2438.92 1133.5 L2441.79 1133.5 L2441.79 1160.42 Q2447.83 1160.04 2451.02 1156.8 Q2454.17 1153.52 2454.17 1147.69 Q2454.17 1144.32 2453.34 1141.17 Q2452.51 1137.99 2450.86 1134.87 L2456.39 1134.87 Q2457.73 1138.02 2458.43 1141.33 Q2459.13 1144.64 2459.13 1148.04 Q2459.13 1156.57 2454.17 1161.57 Q2449.2 1166.54 2440.74 1166.54 Q2431.98 1166.54 2426.86 1161.83 Q2421.7 1157.08 2421.7 1149.06 Q2421.7 1141.87 2426.35 1137.7 Q2430.96 1133.5 2438.92 1133.5 M2437.2 1139.35 Q2432.4 1139.42 2429.53 1142.06 Q2426.67 1144.67 2426.67 1149 Q2426.67 1153.9 2429.44 1156.86 Q2432.21 1159.79 2437.23 1160.23 L2437.2 1139.35 Z\" fill=\"#000000\" fill-rule=\"evenodd\" fill-opacity=\"1\" /><path clip-path=\"url(#clip300)\" d=\"M 0 0 M2423.93 1098.23 L2429.4 1098.23 Q2428.04 1100.71 2427.37 1103.23 Q2426.67 1105.71 2426.67 1108.26 Q2426.67 1113.96 2430.3 1117.11 Q2433.89 1120.26 2440.42 1120.26 Q2446.94 1120.26 2450.57 1117.11 Q2454.17 1113.96 2454.17 1108.26 Q2454.17 1105.71 2453.5 1103.23 Q2452.8 1100.71 2451.43 1098.23 L2456.84 1098.23 Q2457.99 1100.68 2458.56 1103.32 Q2459.13 1105.93 2459.13 1108.89 Q2459.13 1116.95 2454.07 1121.69 Q2449.01 1126.43 2440.42 1126.43 Q2431.7 1126.43 2426.7 1121.66 Q2421.7 1116.85 2421.7 1108.51 Q2421.7 1105.81 2422.27 1103.23 Q2422.82 1100.65 2423.93 1098.23 Z\" fill=\"#000000\" fill-rule=\"evenodd\" fill-opacity=\"1\" /><path clip-path=\"url(#clip300)\" d=\"M 0 0 M2426.67 1074.23 Q2426.67 1078.94 2430.36 1081.68 Q2434.02 1084.42 2440.42 1084.42 Q2446.81 1084.42 2450.51 1081.71 Q2454.17 1078.98 2454.17 1074.23 Q2454.17 1069.55 2450.47 1066.82 Q2446.78 1064.08 2440.42 1064.08 Q2434.08 1064.08 2430.39 1066.82 Q2426.67 1069.55 2426.67 1074.23 M2421.7 1074.23 Q2421.7 1066.59 2426.67 1062.23 Q2431.63 1057.87 2440.42 1057.87 Q2449.17 1057.87 2454.17 1062.23 Q2459.13 1066.59 2459.13 1074.23 Q2459.13 1081.9 2454.17 1086.26 Q2449.17 1090.59 2440.42 1090.59 Q2431.63 1090.59 2426.67 1086.26 Q2421.7 1081.9 2421.7 1074.23 Z\" fill=\"#000000\" fill-rule=\"evenodd\" fill-opacity=\"1\" /><path clip-path=\"url(#clip300)\" d=\"M 0 0 M2422.56 1052.37 L2422.56 1046.16 L2452.48 1035.02 L2422.56 1023.88 L2422.56 1017.67 L2458.21 1031.04 L2458.21 1039 L2422.56 1052.37 Z\" fill=\"#000000\" fill-rule=\"evenodd\" fill-opacity=\"1\" /><path clip-path=\"url(#clip300)\" d=\"M 0 0 M2438.92 979.098 L2441.79 979.098 L2441.79 1006.02 Q2447.83 1005.64 2451.02 1002.4 Q2454.17 999.118 2454.17 993.293 Q2454.17 989.919 2453.34 986.768 Q2452.51 983.586 2450.86 980.466 L2456.39 980.466 Q2457.73 983.617 2458.43 986.928 Q2459.13 990.238 2459.13 993.643 Q2459.13 1002.17 2454.17 1007.17 Q2449.2 1012.14 2440.74 1012.14 Q2431.98 1012.14 2426.86 1007.43 Q2421.7 1002.68 2421.7 994.662 Q2421.7 987.469 2426.35 983.299 Q2430.96 979.098 2438.92 979.098 M2437.2 984.954 Q2432.4 985.018 2429.53 987.66 Q2426.67 990.27 2426.67 994.598 Q2426.67 999.5 2429.44 1002.46 Q2432.21 1005.39 2437.23 1005.83 L2437.2 984.954 Z\" fill=\"#000000\" fill-rule=\"evenodd\" fill-opacity=\"1\" /><path clip-path=\"url(#clip300)\" d=\"M 0 0 M2428.04 948.829 Q2427.46 949.815 2427.21 950.993 Q2426.92 952.139 2426.92 953.539 Q2426.92 958.505 2430.17 961.178 Q2433.38 963.82 2439.43 963.82 L2458.21 963.82 L2458.21 969.708 L2422.56 969.708 L2422.56 963.82 L2428.1 963.82 Q2424.85 961.974 2423.29 959.014 Q2421.7 956.054 2421.7 951.821 Q2421.7 951.216 2421.8 950.484 Q2421.86 949.752 2422.02 948.861 L2428.04 948.829 Z\" fill=\"#000000\" fill-rule=\"evenodd\" fill-opacity=\"1\" /><path clip-path=\"url(#clip300)\" d=\"M 0 0 M2438.92 913.626 L2441.79 913.626 L2441.79 940.553 Q2447.83 940.171 2451.02 936.925 Q2454.17 933.647 2454.17 927.822 Q2454.17 924.448 2453.34 921.297 Q2452.51 918.114 2450.86 914.995 L2456.39 914.995 Q2457.73 918.146 2458.43 921.456 Q2459.13 924.766 2459.13 928.172 Q2459.13 936.702 2454.17 941.699 Q2449.2 946.664 2440.74 946.664 Q2431.98 946.664 2426.86 941.954 Q2421.7 937.211 2421.7 929.191 Q2421.7 921.997 2426.35 917.828 Q2430.96 913.626 2438.92 913.626 M2437.2 919.483 Q2432.4 919.547 2429.53 922.188 Q2426.67 924.798 2426.67 929.127 Q2426.67 934.028 2429.44 936.989 Q2432.21 939.917 2437.23 940.362 L2437.2 919.483 Z\" fill=\"#000000\" fill-rule=\"evenodd\" fill-opacity=\"1\" /><path clip-path=\"url(#clip300)\" d=\"M 0 0 M2427.97 880.557 L2408.68 880.557 L2408.68 874.7 L2458.21 874.7 L2458.21 880.557 L2452.86 880.557 Q2456.04 882.403 2457.6 885.235 Q2459.13 888.036 2459.13 891.983 Q2459.13 898.444 2453.98 902.518 Q2448.82 906.56 2440.42 906.56 Q2432.01 906.56 2426.86 902.518 Q2421.7 898.444 2421.7 891.983 Q2421.7 888.036 2423.26 885.235 Q2424.79 882.403 2427.97 880.557 M2440.42 900.513 Q2446.88 900.513 2450.57 897.871 Q2454.23 895.198 2454.23 890.551 Q2454.23 885.904 2450.57 883.23 Q2446.88 880.557 2440.42 880.557 Q2433.96 880.557 2430.3 883.23 Q2426.6 885.904 2426.6 890.551 Q2426.6 895.198 2430.3 897.871 Q2433.96 900.513 2440.42 900.513 Z\" fill=\"#000000\" fill-rule=\"evenodd\" fill-opacity=\"1\" /><path clip-path=\"url(#clip300)\" d=\"M 0 0 M2452.86 836.251 L2471.77 836.251 L2471.77 842.14 L2422.56 842.14 L2422.56 836.251 L2427.97 836.251 Q2424.79 834.405 2423.26 831.604 Q2421.7 828.772 2421.7 824.857 Q2421.7 818.364 2426.86 814.321 Q2432.01 810.247 2440.42 810.247 Q2448.82 810.247 2453.98 814.321 Q2459.13 818.364 2459.13 824.857 Q2459.13 828.772 2457.6 831.604 Q2456.04 834.405 2452.86 836.251 M2440.42 816.327 Q2433.96 816.327 2430.3 819 Q2426.6 821.642 2426.6 826.289 Q2426.6 830.936 2430.3 833.609 Q2433.96 836.251 2440.42 836.251 Q2446.88 836.251 2450.57 833.609 Q2454.23 830.936 2454.23 826.289 Q2454.23 821.642 2450.57 819 Q2446.88 816.327 2440.42 816.327 Z\" fill=\"#000000\" fill-rule=\"evenodd\" fill-opacity=\"1\" /><path clip-path=\"url(#clip300)\" d=\"M 0 0 M2440.29 784.339 Q2440.29 791.437 2441.91 794.174 Q2443.54 796.911 2447.45 796.911 Q2450.57 796.911 2452.42 794.874 Q2454.23 792.805 2454.23 789.272 Q2454.23 784.403 2450.79 781.474 Q2447.32 778.514 2441.59 778.514 L2440.29 778.514 L2440.29 784.339 M2437.87 772.658 L2458.21 772.658 L2458.21 778.514 L2452.8 778.514 Q2456.04 780.519 2457.6 783.511 Q2459.13 786.503 2459.13 790.832 Q2459.13 796.306 2456.08 799.553 Q2452.99 802.768 2447.83 802.768 Q2441.82 802.768 2438.76 798.757 Q2435.71 794.715 2435.71 786.726 L2435.71 778.514 L2435.13 778.514 Q2431.09 778.514 2428.9 781.188 Q2426.67 783.83 2426.67 788.636 Q2426.67 791.691 2427.4 794.588 Q2428.13 797.484 2429.6 800.158 L2424.18 800.158 Q2422.94 796.943 2422.34 793.919 Q2421.7 790.896 2421.7 788.031 Q2421.7 780.297 2425.71 776.477 Q2429.72 772.658 2437.87 772.658 Z\" fill=\"#000000\" fill-rule=\"evenodd\" fill-opacity=\"1\" /><path clip-path=\"url(#clip300)\" d=\"M 0 0 M2428.04 739.938 Q2427.46 740.925 2427.21 742.102 Q2426.92 743.248 2426.92 744.649 Q2426.92 749.614 2430.17 752.288 Q2433.38 754.929 2439.43 754.929 L2458.21 754.929 L2458.21 760.818 L2422.56 760.818 L2422.56 754.929 L2428.1 754.929 Q2424.85 753.083 2423.29 750.123 Q2421.7 747.163 2421.7 742.93 Q2421.7 742.325 2421.8 741.593 Q2421.86 740.861 2422.02 739.97 L2428.04 739.938 Z\" fill=\"#000000\" fill-rule=\"evenodd\" fill-opacity=\"1\" /><path clip-path=\"url(#clip300)\" d=\"M 0 0 M2440.29 717.594 Q2440.29 724.692 2441.91 727.429 Q2443.54 730.167 2447.45 730.167 Q2450.57 730.167 2452.42 728.13 Q2454.23 726.061 2454.23 722.528 Q2454.23 717.658 2450.79 714.73 Q2447.32 711.77 2441.59 711.77 L2440.29 711.77 L2440.29 717.594 M2437.87 705.913 L2458.21 705.913 L2458.21 711.77 L2452.8 711.77 Q2456.04 713.775 2457.6 716.767 Q2459.13 719.759 2459.13 724.087 Q2459.13 729.562 2456.08 732.809 Q2452.99 736.023 2447.83 736.023 Q2441.82 736.023 2438.76 732.013 Q2435.71 727.971 2435.71 719.982 L2435.71 711.77 L2435.13 711.77 Q2431.09 711.77 2428.9 714.443 Q2426.67 717.085 2426.67 721.891 Q2426.67 724.947 2427.4 727.843 Q2428.13 730.74 2429.6 733.413 L2424.18 733.413 Q2422.94 730.199 2422.34 727.175 Q2421.7 724.151 2421.7 721.287 Q2421.7 713.552 2425.71 709.733 Q2429.72 705.913 2437.87 705.913 Z\" fill=\"#000000\" fill-rule=\"evenodd\" fill-opacity=\"1\" /><path clip-path=\"url(#clip300)\" d=\"M 0 0 M2429.4 666.096 Q2425.46 663.9 2423.58 660.844 Q2421.7 657.789 2421.7 653.651 Q2421.7 648.081 2425.62 645.057 Q2429.5 642.034 2436.69 642.034 L2458.21 642.034 L2458.21 647.922 L2436.88 647.922 Q2431.76 647.922 2429.28 649.736 Q2426.79 651.55 2426.79 655.274 Q2426.79 659.826 2429.82 662.467 Q2432.84 665.109 2438.06 665.109 L2458.21 665.109 L2458.21 670.997 L2436.88 670.997 Q2431.73 670.997 2429.28 672.812 Q2426.79 674.626 2426.79 678.414 Q2426.79 682.901 2429.85 685.543 Q2432.87 688.185 2438.06 688.185 L2458.21 688.185 L2458.21 694.073 L2422.56 694.073 L2422.56 688.185 L2428.1 688.185 Q2424.82 686.18 2423.26 683.379 Q2421.7 680.578 2421.7 676.727 Q2421.7 672.844 2423.68 670.138 Q2425.65 667.401 2429.4 666.096 Z\" fill=\"#000000\" fill-rule=\"evenodd\" fill-opacity=\"1\" /><path clip-path=\"url(#clip300)\" d=\"M 0 0 M2438.92 599.861 L2441.79 599.861 L2441.79 626.788 Q2447.83 626.406 2451.02 623.159 Q2454.17 619.881 2454.17 614.056 Q2454.17 610.682 2453.34 607.531 Q2452.51 604.349 2450.86 601.229 L2456.39 601.229 Q2457.73 604.38 2458.43 607.691 Q2459.13 611.001 2459.13 614.406 Q2459.13 622.936 2454.17 627.933 Q2449.2 632.899 2440.74 632.899 Q2431.98 632.899 2426.86 628.188 Q2421.7 623.446 2421.7 615.425 Q2421.7 608.232 2426.35 604.062 Q2430.96 599.861 2438.92 599.861 M2437.2 605.717 Q2432.4 605.781 2429.53 608.423 Q2426.67 611.033 2426.67 615.361 Q2426.67 620.263 2429.44 623.223 Q2432.21 626.151 2437.23 626.597 L2437.2 605.717 Z\" fill=\"#000000\" fill-rule=\"evenodd\" fill-opacity=\"1\" /><path clip-path=\"url(#clip300)\" d=\"M 0 0 M2412.44 584.456 L2422.56 584.456 L2422.56 572.393 L2427.11 572.393 L2427.11 584.456 L2446.46 584.456 Q2450.82 584.456 2452.07 583.278 Q2453.31 582.069 2453.31 578.408 L2453.31 572.393 L2458.21 572.393 L2458.21 578.408 Q2458.21 585.188 2455.69 587.766 Q2453.15 590.344 2446.46 590.344 L2427.11 590.344 L2427.11 594.641 L2422.56 594.641 L2422.56 590.344 L2412.44 590.344 L2412.44 584.456 Z\" fill=\"#000000\" fill-rule=\"evenodd\" fill-opacity=\"1\" /><path clip-path=\"url(#clip300)\" d=\"M 0 0 M2438.92 534.198 L2441.79 534.198 L2441.79 561.125 Q2447.83 560.743 2451.02 557.497 Q2454.17 554.219 2454.17 548.394 Q2454.17 545.02 2453.34 541.869 Q2452.51 538.686 2450.86 535.567 L2456.39 535.567 Q2457.73 538.718 2458.43 542.028 Q2459.13 545.338 2459.13 548.744 Q2459.13 557.274 2454.17 562.271 Q2449.2 567.236 2440.74 567.236 Q2431.98 567.236 2426.86 562.526 Q2421.7 557.783 2421.7 549.763 Q2421.7 542.569 2426.35 538.4 Q2430.96 534.198 2438.92 534.198 M2437.2 540.055 Q2432.4 540.119 2429.53 542.76 Q2426.67 545.37 2426.67 549.699 Q2426.67 554.601 2429.44 557.561 Q2432.21 560.489 2437.23 560.934 L2437.2 540.055 Z\" fill=\"#000000\" fill-rule=\"evenodd\" fill-opacity=\"1\" /><path clip-path=\"url(#clip300)\" d=\"M 0 0 M2428.04 503.93 Q2427.46 504.916 2427.21 506.094 Q2426.92 507.24 2426.92 508.64 Q2426.92 513.605 2430.17 516.279 Q2433.38 518.921 2439.43 518.921 L2458.21 518.921 L2458.21 524.809 L2422.56 524.809 L2422.56 518.921 L2428.1 518.921 Q2424.85 517.075 2423.29 514.115 Q2421.7 511.155 2421.7 506.921 Q2421.7 506.317 2421.8 505.585 Q2421.86 504.853 2422.02 503.961 L2428.04 503.93 Z\" fill=\"#000000\" fill-rule=\"evenodd\" fill-opacity=\"1\" /><path clip-path=\"url(#clip300)\" d=\"M 0 0 M2422.56 481.268 L2422.56 475.061 L2452.48 463.921 L2422.56 452.781 L2422.56 446.575 L2458.21 459.942 L2458.21 467.9 L2422.56 481.268 Z\" fill=\"#000000\" fill-rule=\"evenodd\" fill-opacity=\"1\" /><path clip-path=\"url(#clip300)\" d=\"M 0 0 M2440.29 422.289 Q2440.29 429.387 2441.91 432.124 Q2443.54 434.862 2447.45 434.862 Q2450.57 434.862 2452.42 432.825 Q2454.23 430.756 2454.23 427.223 Q2454.23 422.353 2450.79 419.425 Q2447.32 416.465 2441.59 416.465 L2440.29 416.465 L2440.29 422.289 M2437.87 410.608 L2458.21 410.608 L2458.21 416.465 L2452.8 416.465 Q2456.04 418.47 2457.6 421.462 Q2459.13 424.454 2459.13 428.782 Q2459.13 434.257 2456.08 437.503 Q2452.99 440.718 2447.83 440.718 Q2441.82 440.718 2438.76 436.708 Q2435.71 432.665 2435.71 424.676 L2435.71 416.465 L2435.13 416.465 Q2431.09 416.465 2428.9 419.138 Q2426.67 421.78 2426.67 426.586 Q2426.67 429.642 2427.4 432.538 Q2428.13 435.435 2429.6 438.108 L2424.18 438.108 Q2422.94 434.893 2422.34 431.87 Q2421.7 428.846 2421.7 425.981 Q2421.7 418.247 2425.71 414.428 Q2429.72 410.608 2437.87 410.608 Z\" fill=\"#000000\" fill-rule=\"evenodd\" fill-opacity=\"1\" /><path clip-path=\"url(#clip300)\" d=\"M 0 0 M2408.68 398.545 L2408.68 392.689 L2458.21 392.689 L2458.21 398.545 L2408.68 398.545 Z\" fill=\"#000000\" fill-rule=\"evenodd\" fill-opacity=\"1\" /><path clip-path=\"url(#clip300)\" d=\"M 0 0 M2444.14 381.04 L2422.56 381.04 L2422.56 375.183 L2443.92 375.183 Q2448.98 375.183 2451.53 373.21 Q2454.04 371.236 2454.04 367.29 Q2454.04 362.547 2451.02 359.81 Q2447.99 357.041 2442.77 357.041 L2422.56 357.041 L2422.56 351.184 L2458.21 351.184 L2458.21 357.041 L2452.73 357.041 Q2455.98 359.173 2457.57 362.006 Q2459.13 364.807 2459.13 368.531 Q2459.13 374.674 2455.31 377.857 Q2451.49 381.04 2444.14 381.04 M2421.7 366.303 L2421.7 366.303 Z\" fill=\"#000000\" fill-rule=\"evenodd\" fill-opacity=\"1\" /><path clip-path=\"url(#clip300)\" d=\"M 0 0 M2438.92 308.63 L2441.79 308.63 L2441.79 335.557 Q2447.83 335.175 2451.02 331.928 Q2454.17 328.65 2454.17 322.825 Q2454.17 319.451 2453.34 316.3 Q2452.51 313.117 2450.86 309.998 L2456.39 309.998 Q2457.73 313.149 2458.43 316.459 Q2459.13 319.77 2459.13 323.175 Q2459.13 331.705 2454.17 336.702 Q2449.2 341.668 2440.74 341.668 Q2431.98 341.668 2426.86 336.957 Q2421.7 332.215 2421.7 324.194 Q2421.7 317.001 2426.35 312.831 Q2430.96 308.63 2438.92 308.63 M2437.2 314.486 Q2432.4 314.55 2429.53 317.192 Q2426.67 319.801 2426.67 324.13 Q2426.67 329.032 2429.44 331.992 Q2432.21 334.92 2437.23 335.366 L2437.2 314.486 Z\" fill=\"#000000\" fill-rule=\"evenodd\" fill-opacity=\"1\" /><path clip-path=\"url(#clip300)\" d=\"M 0 0 M2450.12 297.521 L2450.12 290.806 L2455.6 290.806 L2465.78 296.026 L2465.78 300.131 L2455.6 297.521 L2450.12 297.521 Z\" fill=\"#000000\" fill-rule=\"evenodd\" fill-opacity=\"1\" /><path clip-path=\"url(#clip300)\" d=\"M 0 0 M2438.92 227.085 L2441.79 227.085 L2441.79 254.012 Q2447.83 253.63 2451.02 250.383 Q2454.17 247.105 2454.17 241.28 Q2454.17 237.907 2453.34 234.756 Q2452.51 231.573 2450.86 228.454 L2456.39 228.454 Q2457.73 231.605 2458.43 234.915 Q2459.13 238.225 2459.13 241.631 Q2459.13 250.161 2454.17 255.158 Q2449.2 260.123 2440.74 260.123 Q2431.98 260.123 2426.86 255.412 Q2421.7 250.67 2421.7 242.649 Q2421.7 235.456 2426.35 231.286 Q2430.96 227.085 2438.92 227.085 M2437.2 232.941 Q2432.4 233.005 2429.53 235.647 Q2426.67 238.257 2426.67 242.585 Q2426.67 247.487 2429.44 250.447 Q2432.21 253.375 2437.23 253.821 L2437.2 232.941 Z\" fill=\"#000000\" fill-rule=\"evenodd\" fill-opacity=\"1\" /><path clip-path=\"url(#clip300)\" d=\"M 0 0 M2458.21 204.964 L2410.69 223.106 L2410.69 216.391 L2450.7 201.336 L2410.69 186.249 L2410.69 179.565 L2458.21 197.675 L2458.21 204.964 Z\" fill=\"#000000\" fill-rule=\"evenodd\" fill-opacity=\"1\" /><circle clip-path=\"url(#clip304)\" cx=\"4434.76\" cy=\"239.466\" r=\"7\" fill=\"#009af9\" fill-rule=\"evenodd\" fill-opacity=\"1\" stroke=\"#000000\" stroke-opacity=\"1\" stroke-width=\"0\"/>\n",
       "<circle clip-path=\"url(#clip304)\" cx=\"3175.74\" cy=\"1037.8\" r=\"7\" fill=\"#009af9\" fill-rule=\"evenodd\" fill-opacity=\"1\" stroke=\"#000000\" stroke-opacity=\"1\" stroke-width=\"0\"/>\n",
       "<circle clip-path=\"url(#clip304)\" cx=\"3561.39\" cy=\"797.198\" r=\"7\" fill=\"#009af9\" fill-rule=\"evenodd\" fill-opacity=\"1\" stroke=\"#000000\" stroke-opacity=\"1\" stroke-width=\"0\"/>\n",
       "<circle clip-path=\"url(#clip304)\" cx=\"4438.08\" cy=\"243.704\" r=\"7\" fill=\"#009af9\" fill-rule=\"evenodd\" fill-opacity=\"1\" stroke=\"#000000\" stroke-opacity=\"1\" stroke-width=\"0\"/>\n",
       "<circle clip-path=\"url(#clip304)\" cx=\"3543.21\" cy=\"806.966\" r=\"7\" fill=\"#009af9\" fill-rule=\"evenodd\" fill-opacity=\"1\" stroke=\"#000000\" stroke-opacity=\"1\" stroke-width=\"0\"/>\n",
       "<circle clip-path=\"url(#clip304)\" cx=\"3739.86\" cy=\"680.518\" r=\"7\" fill=\"#009af9\" fill-rule=\"evenodd\" fill-opacity=\"1\" stroke=\"#000000\" stroke-opacity=\"1\" stroke-width=\"0\"/>\n",
       "<circle clip-path=\"url(#clip304)\" cx=\"3463.96\" cy=\"869.178\" r=\"7\" fill=\"#009af9\" fill-rule=\"evenodd\" fill-opacity=\"1\" stroke=\"#000000\" stroke-opacity=\"1\" stroke-width=\"0\"/>\n",
       "<circle clip-path=\"url(#clip304)\" cx=\"2989.47\" cy=\"1147.06\" r=\"7\" fill=\"#009af9\" fill-rule=\"evenodd\" fill-opacity=\"1\" stroke=\"#000000\" stroke-opacity=\"1\" stroke-width=\"0\"/>\n",
       "<circle clip-path=\"url(#clip304)\" cx=\"3482.99\" cy=\"848.244\" r=\"7\" fill=\"#009af9\" fill-rule=\"evenodd\" fill-opacity=\"1\" stroke=\"#000000\" stroke-opacity=\"1\" stroke-width=\"0\"/>\n",
       "<circle clip-path=\"url(#clip304)\" cx=\"3299.19\" cy=\"949.897\" r=\"7\" fill=\"#009af9\" fill-rule=\"evenodd\" fill-opacity=\"1\" stroke=\"#000000\" stroke-opacity=\"1\" stroke-width=\"0\"/>\n",
       "<circle clip-path=\"url(#clip304)\" cx=\"4501.01\" cy=\"198.312\" r=\"7\" fill=\"#009af9\" fill-rule=\"evenodd\" fill-opacity=\"1\" stroke=\"#000000\" stroke-opacity=\"1\" stroke-width=\"0\"/>\n",
       "<circle clip-path=\"url(#clip304)\" cx=\"4230.79\" cy=\"371.673\" r=\"7\" fill=\"#009af9\" fill-rule=\"evenodd\" fill-opacity=\"1\" stroke=\"#000000\" stroke-opacity=\"1\" stroke-width=\"0\"/>\n",
       "<circle clip-path=\"url(#clip304)\" cx=\"2971.29\" cy=\"1160.09\" r=\"7\" fill=\"#009af9\" fill-rule=\"evenodd\" fill-opacity=\"1\" stroke=\"#000000\" stroke-opacity=\"1\" stroke-width=\"0\"/>\n",
       "<circle clip-path=\"url(#clip304)\" cx=\"4263.89\" cy=\"356.526\" r=\"7\" fill=\"#009af9\" fill-rule=\"evenodd\" fill-opacity=\"1\" stroke=\"#000000\" stroke-opacity=\"1\" stroke-width=\"0\"/>\n",
       "<circle clip-path=\"url(#clip304)\" cx=\"4079.07\" cy=\"482.811\" r=\"7\" fill=\"#009af9\" fill-rule=\"evenodd\" fill-opacity=\"1\" stroke=\"#000000\" stroke-opacity=\"1\" stroke-width=\"0\"/>\n",
       "<circle clip-path=\"url(#clip304)\" cx=\"4514.78\" cy=\"193.853\" r=\"7\" fill=\"#009af9\" fill-rule=\"evenodd\" fill-opacity=\"1\" stroke=\"#000000\" stroke-opacity=\"1\" stroke-width=\"0\"/>\n",
       "<circle clip-path=\"url(#clip304)\" cx=\"3823.64\" cy=\"636.975\" r=\"7\" fill=\"#009af9\" fill-rule=\"evenodd\" fill-opacity=\"1\" stroke=\"#000000\" stroke-opacity=\"1\" stroke-width=\"0\"/>\n",
       "<circle clip-path=\"url(#clip304)\" cx=\"4541.24\" cy=\"167.275\" r=\"7\" fill=\"#009af9\" fill-rule=\"evenodd\" fill-opacity=\"1\" stroke=\"#000000\" stroke-opacity=\"1\" stroke-width=\"0\"/>\n",
       "<circle clip-path=\"url(#clip304)\" cx=\"2940.6\" cy=\"1186.59\" r=\"7\" fill=\"#009af9\" fill-rule=\"evenodd\" fill-opacity=\"1\" stroke=\"#000000\" stroke-opacity=\"1\" stroke-width=\"0\"/>\n",
       "<circle clip-path=\"url(#clip304)\" cx=\"4594.81\" cy=\"161.523\" r=\"7\" fill=\"#009af9\" fill-rule=\"evenodd\" fill-opacity=\"1\" stroke=\"#000000\" stroke-opacity=\"1\" stroke-width=\"0\"/>\n",
       "<circle clip-path=\"url(#clip304)\" cx=\"3529.07\" cy=\"810.094\" r=\"7\" fill=\"#009af9\" fill-rule=\"evenodd\" fill-opacity=\"1\" stroke=\"#000000\" stroke-opacity=\"1\" stroke-width=\"0\"/>\n",
       "<circle clip-path=\"url(#clip304)\" cx=\"4678.04\" cy=\"87.4504\" r=\"7\" fill=\"#009af9\" fill-rule=\"evenodd\" fill-opacity=\"1\" stroke=\"#000000\" stroke-opacity=\"1\" stroke-width=\"0\"/>\n",
       "<circle clip-path=\"url(#clip304)\" cx=\"4281.64\" cy=\"344.887\" r=\"7\" fill=\"#009af9\" fill-rule=\"evenodd\" fill-opacity=\"1\" stroke=\"#000000\" stroke-opacity=\"1\" stroke-width=\"0\"/>\n",
       "<circle clip-path=\"url(#clip304)\" cx=\"3775.38\" cy=\"664.565\" r=\"7\" fill=\"#009af9\" fill-rule=\"evenodd\" fill-opacity=\"1\" stroke=\"#000000\" stroke-opacity=\"1\" stroke-width=\"0\"/>\n",
       "<circle clip-path=\"url(#clip304)\" cx=\"3891.89\" cy=\"581.652\" r=\"7\" fill=\"#009af9\" fill-rule=\"evenodd\" fill-opacity=\"1\" stroke=\"#000000\" stroke-opacity=\"1\" stroke-width=\"0\"/>\n",
       "<circle clip-path=\"url(#clip304)\" cx=\"3656.69\" cy=\"738.218\" r=\"7\" fill=\"#009af9\" fill-rule=\"evenodd\" fill-opacity=\"1\" stroke=\"#000000\" stroke-opacity=\"1\" stroke-width=\"0\"/>\n",
       "<circle clip-path=\"url(#clip304)\" cx=\"4319.88\" cy=\"335.61\" r=\"7\" fill=\"#009af9\" fill-rule=\"evenodd\" fill-opacity=\"1\" stroke=\"#000000\" stroke-opacity=\"1\" stroke-width=\"0\"/>\n",
       "<circle clip-path=\"url(#clip304)\" cx=\"3673.06\" cy=\"727.682\" r=\"7\" fill=\"#009af9\" fill-rule=\"evenodd\" fill-opacity=\"1\" stroke=\"#000000\" stroke-opacity=\"1\" stroke-width=\"0\"/>\n",
       "<circle clip-path=\"url(#clip304)\" cx=\"2779.94\" cy=\"1275.25\" r=\"7\" fill=\"#009af9\" fill-rule=\"evenodd\" fill-opacity=\"1\" stroke=\"#000000\" stroke-opacity=\"1\" stroke-width=\"0\"/>\n",
       "<circle clip-path=\"url(#clip304)\" cx=\"3014.77\" cy=\"1135.03\" r=\"7\" fill=\"#009af9\" fill-rule=\"evenodd\" fill-opacity=\"1\" stroke=\"#000000\" stroke-opacity=\"1\" stroke-width=\"0\"/>\n",
       "<circle clip-path=\"url(#clip304)\" cx=\"3676.69\" cy=\"728.859\" r=\"7\" fill=\"#009af9\" fill-rule=\"evenodd\" fill-opacity=\"1\" stroke=\"#000000\" stroke-opacity=\"1\" stroke-width=\"0\"/>\n",
       "<circle clip-path=\"url(#clip304)\" cx=\"3287.9\" cy=\"950.455\" r=\"7\" fill=\"#009af9\" fill-rule=\"evenodd\" fill-opacity=\"1\" stroke=\"#000000\" stroke-opacity=\"1\" stroke-width=\"0\"/>\n",
       "<circle clip-path=\"url(#clip304)\" cx=\"3059.77\" cy=\"1120.7\" r=\"7\" fill=\"#009af9\" fill-rule=\"evenodd\" fill-opacity=\"1\" stroke=\"#000000\" stroke-opacity=\"1\" stroke-width=\"0\"/>\n",
       "<circle clip-path=\"url(#clip304)\" cx=\"4331.96\" cy=\"313.662\" r=\"7\" fill=\"#009af9\" fill-rule=\"evenodd\" fill-opacity=\"1\" stroke=\"#000000\" stroke-opacity=\"1\" stroke-width=\"0\"/>\n",
       "<circle clip-path=\"url(#clip304)\" cx=\"4245.65\" cy=\"367.717\" r=\"7\" fill=\"#009af9\" fill-rule=\"evenodd\" fill-opacity=\"1\" stroke=\"#000000\" stroke-opacity=\"1\" stroke-width=\"0\"/>\n",
       "<circle clip-path=\"url(#clip304)\" cx=\"4249.87\" cy=\"365.133\" r=\"7\" fill=\"#009af9\" fill-rule=\"evenodd\" fill-opacity=\"1\" stroke=\"#000000\" stroke-opacity=\"1\" stroke-width=\"0\"/>\n",
       "<circle clip-path=\"url(#clip304)\" cx=\"3668.05\" cy=\"717.558\" r=\"7\" fill=\"#009af9\" fill-rule=\"evenodd\" fill-opacity=\"1\" stroke=\"#000000\" stroke-opacity=\"1\" stroke-width=\"0\"/>\n",
       "<circle clip-path=\"url(#clip304)\" cx=\"3556.13\" cy=\"795.111\" r=\"7\" fill=\"#009af9\" fill-rule=\"evenodd\" fill-opacity=\"1\" stroke=\"#000000\" stroke-opacity=\"1\" stroke-width=\"0\"/>\n",
       "<circle clip-path=\"url(#clip304)\" cx=\"3015.26\" cy=\"1139.03\" r=\"7\" fill=\"#009af9\" fill-rule=\"evenodd\" fill-opacity=\"1\" stroke=\"#000000\" stroke-opacity=\"1\" stroke-width=\"0\"/>\n",
       "<circle clip-path=\"url(#clip304)\" cx=\"4513.03\" cy=\"204.58\" r=\"7\" fill=\"#009af9\" fill-rule=\"evenodd\" fill-opacity=\"1\" stroke=\"#000000\" stroke-opacity=\"1\" stroke-width=\"0\"/>\n",
       "<circle clip-path=\"url(#clip304)\" cx=\"4280.98\" cy=\"346.146\" r=\"7\" fill=\"#009af9\" fill-rule=\"evenodd\" fill-opacity=\"1\" stroke=\"#000000\" stroke-opacity=\"1\" stroke-width=\"0\"/>\n",
       "<circle clip-path=\"url(#clip304)\" cx=\"3263.13\" cy=\"993.902\" r=\"7\" fill=\"#009af9\" fill-rule=\"evenodd\" fill-opacity=\"1\" stroke=\"#000000\" stroke-opacity=\"1\" stroke-width=\"0\"/>\n",
       "<circle clip-path=\"url(#clip304)\" cx=\"4053.34\" cy=\"487.882\" r=\"7\" fill=\"#009af9\" fill-rule=\"evenodd\" fill-opacity=\"1\" stroke=\"#000000\" stroke-opacity=\"1\" stroke-width=\"0\"/>\n",
       "<circle clip-path=\"url(#clip304)\" cx=\"4461.51\" cy=\"228.127\" r=\"7\" fill=\"#009af9\" fill-rule=\"evenodd\" fill-opacity=\"1\" stroke=\"#000000\" stroke-opacity=\"1\" stroke-width=\"0\"/>\n",
       "<circle clip-path=\"url(#clip304)\" cx=\"4281.4\" cy=\"347.562\" r=\"7\" fill=\"#009af9\" fill-rule=\"evenodd\" fill-opacity=\"1\" stroke=\"#000000\" stroke-opacity=\"1\" stroke-width=\"0\"/>\n",
       "<circle clip-path=\"url(#clip304)\" cx=\"3439.32\" cy=\"863.119\" r=\"7\" fill=\"#009af9\" fill-rule=\"evenodd\" fill-opacity=\"1\" stroke=\"#000000\" stroke-opacity=\"1\" stroke-width=\"0\"/>\n",
       "<circle clip-path=\"url(#clip304)\" cx=\"3330.96\" cy=\"929.314\" r=\"7\" fill=\"#009af9\" fill-rule=\"evenodd\" fill-opacity=\"1\" stroke=\"#000000\" stroke-opacity=\"1\" stroke-width=\"0\"/>\n",
       "<circle clip-path=\"url(#clip304)\" cx=\"4461.45\" cy=\"222.337\" r=\"7\" fill=\"#009af9\" fill-rule=\"evenodd\" fill-opacity=\"1\" stroke=\"#000000\" stroke-opacity=\"1\" stroke-width=\"0\"/>\n",
       "<circle clip-path=\"url(#clip304)\" cx=\"4529.76\" cy=\"178.822\" r=\"7\" fill=\"#009af9\" fill-rule=\"evenodd\" fill-opacity=\"1\" stroke=\"#000000\" stroke-opacity=\"1\" stroke-width=\"0\"/>\n",
       "<circle clip-path=\"url(#clip304)\" cx=\"4207.78\" cy=\"400.513\" r=\"7\" fill=\"#009af9\" fill-rule=\"evenodd\" fill-opacity=\"1\" stroke=\"#000000\" stroke-opacity=\"1\" stroke-width=\"0\"/>\n",
       "<circle clip-path=\"url(#clip304)\" cx=\"4558.09\" cy=\"156.168\" r=\"7\" fill=\"#009af9\" fill-rule=\"evenodd\" fill-opacity=\"1\" stroke=\"#000000\" stroke-opacity=\"1\" stroke-width=\"0\"/>\n",
       "<circle clip-path=\"url(#clip304)\" cx=\"2778.01\" cy=\"1281.64\" r=\"7\" fill=\"#009af9\" fill-rule=\"evenodd\" fill-opacity=\"1\" stroke=\"#000000\" stroke-opacity=\"1\" stroke-width=\"0\"/>\n",
       "<circle clip-path=\"url(#clip304)\" cx=\"3403.74\" cy=\"888.499\" r=\"7\" fill=\"#009af9\" fill-rule=\"evenodd\" fill-opacity=\"1\" stroke=\"#000000\" stroke-opacity=\"1\" stroke-width=\"0\"/>\n",
       "<circle clip-path=\"url(#clip304)\" cx=\"3536.44\" cy=\"818.622\" r=\"7\" fill=\"#009af9\" fill-rule=\"evenodd\" fill-opacity=\"1\" stroke=\"#000000\" stroke-opacity=\"1\" stroke-width=\"0\"/>\n",
       "<circle clip-path=\"url(#clip304)\" cx=\"4718.03\" cy=\"83.7868\" r=\"7\" fill=\"#009af9\" fill-rule=\"evenodd\" fill-opacity=\"1\" stroke=\"#000000\" stroke-opacity=\"1\" stroke-width=\"0\"/>\n",
       "<circle clip-path=\"url(#clip304)\" cx=\"4155.29\" cy=\"426.031\" r=\"7\" fill=\"#009af9\" fill-rule=\"evenodd\" fill-opacity=\"1\" stroke=\"#000000\" stroke-opacity=\"1\" stroke-width=\"0\"/>\n",
       "<circle clip-path=\"url(#clip304)\" cx=\"3982.97\" cy=\"531.812\" r=\"7\" fill=\"#009af9\" fill-rule=\"evenodd\" fill-opacity=\"1\" stroke=\"#000000\" stroke-opacity=\"1\" stroke-width=\"0\"/>\n",
       "<circle clip-path=\"url(#clip304)\" cx=\"4598.8\" cy=\"162.974\" r=\"7\" fill=\"#009af9\" fill-rule=\"evenodd\" fill-opacity=\"1\" stroke=\"#000000\" stroke-opacity=\"1\" stroke-width=\"0\"/>\n",
       "<circle clip-path=\"url(#clip304)\" cx=\"3995.11\" cy=\"522.252\" r=\"7\" fill=\"#009af9\" fill-rule=\"evenodd\" fill-opacity=\"1\" stroke=\"#000000\" stroke-opacity=\"1\" stroke-width=\"0\"/>\n",
       "<circle clip-path=\"url(#clip304)\" cx=\"4113.43\" cy=\"444.015\" r=\"7\" fill=\"#009af9\" fill-rule=\"evenodd\" fill-opacity=\"1\" stroke=\"#000000\" stroke-opacity=\"1\" stroke-width=\"0\"/>\n",
       "<circle clip-path=\"url(#clip304)\" cx=\"4230.3\" cy=\"372.145\" r=\"7\" fill=\"#009af9\" fill-rule=\"evenodd\" fill-opacity=\"1\" stroke=\"#000000\" stroke-opacity=\"1\" stroke-width=\"0\"/>\n",
       "<circle clip-path=\"url(#clip304)\" cx=\"4156.5\" cy=\"419.416\" r=\"7\" fill=\"#009af9\" fill-rule=\"evenodd\" fill-opacity=\"1\" stroke=\"#000000\" stroke-opacity=\"1\" stroke-width=\"0\"/>\n",
       "<circle clip-path=\"url(#clip304)\" cx=\"3580.11\" cy=\"780.514\" r=\"7\" fill=\"#009af9\" fill-rule=\"evenodd\" fill-opacity=\"1\" stroke=\"#000000\" stroke-opacity=\"1\" stroke-width=\"0\"/>\n",
       "<circle clip-path=\"url(#clip304)\" cx=\"3051.13\" cy=\"1124.67\" r=\"7\" fill=\"#009af9\" fill-rule=\"evenodd\" fill-opacity=\"1\" stroke=\"#000000\" stroke-opacity=\"1\" stroke-width=\"0\"/>\n",
       "<circle clip-path=\"url(#clip304)\" cx=\"4565.1\" cy=\"163.722\" r=\"7\" fill=\"#009af9\" fill-rule=\"evenodd\" fill-opacity=\"1\" stroke=\"#000000\" stroke-opacity=\"1\" stroke-width=\"0\"/>\n",
       "<circle clip-path=\"url(#clip304)\" cx=\"3788.55\" cy=\"659.779\" r=\"7\" fill=\"#009af9\" fill-rule=\"evenodd\" fill-opacity=\"1\" stroke=\"#000000\" stroke-opacity=\"1\" stroke-width=\"0\"/>\n",
       "<circle clip-path=\"url(#clip304)\" cx=\"4527.05\" cy=\"188.851\" r=\"7\" fill=\"#009af9\" fill-rule=\"evenodd\" fill-opacity=\"1\" stroke=\"#000000\" stroke-opacity=\"1\" stroke-width=\"0\"/>\n",
       "<circle clip-path=\"url(#clip304)\" cx=\"3293.46\" cy=\"969.421\" r=\"7\" fill=\"#009af9\" fill-rule=\"evenodd\" fill-opacity=\"1\" stroke=\"#000000\" stroke-opacity=\"1\" stroke-width=\"0\"/>\n",
       "<circle clip-path=\"url(#clip304)\" cx=\"2875.55\" cy=\"1225.21\" r=\"7\" fill=\"#009af9\" fill-rule=\"evenodd\" fill-opacity=\"1\" stroke=\"#000000\" stroke-opacity=\"1\" stroke-width=\"0\"/>\n",
       "<circle clip-path=\"url(#clip304)\" cx=\"4147.5\" cy=\"425.273\" r=\"7\" fill=\"#009af9\" fill-rule=\"evenodd\" fill-opacity=\"1\" stroke=\"#000000\" stroke-opacity=\"1\" stroke-width=\"0\"/>\n",
       "<circle clip-path=\"url(#clip304)\" cx=\"3680.85\" cy=\"718.952\" r=\"7\" fill=\"#009af9\" fill-rule=\"evenodd\" fill-opacity=\"1\" stroke=\"#000000\" stroke-opacity=\"1\" stroke-width=\"0\"/>\n",
       "<circle clip-path=\"url(#clip304)\" cx=\"3296.29\" cy=\"964.115\" r=\"7\" fill=\"#009af9\" fill-rule=\"evenodd\" fill-opacity=\"1\" stroke=\"#000000\" stroke-opacity=\"1\" stroke-width=\"0\"/>\n",
       "<circle clip-path=\"url(#clip304)\" cx=\"4271.01\" cy=\"352.601\" r=\"7\" fill=\"#009af9\" fill-rule=\"evenodd\" fill-opacity=\"1\" stroke=\"#000000\" stroke-opacity=\"1\" stroke-width=\"0\"/>\n",
       "<circle clip-path=\"url(#clip304)\" cx=\"4540.45\" cy=\"165.169\" r=\"7\" fill=\"#009af9\" fill-rule=\"evenodd\" fill-opacity=\"1\" stroke=\"#000000\" stroke-opacity=\"1\" stroke-width=\"0\"/>\n",
       "<circle clip-path=\"url(#clip304)\" cx=\"3315.62\" cy=\"950.303\" r=\"7\" fill=\"#009af9\" fill-rule=\"evenodd\" fill-opacity=\"1\" stroke=\"#000000\" stroke-opacity=\"1\" stroke-width=\"0\"/>\n",
       "<circle clip-path=\"url(#clip304)\" cx=\"3260.3\" cy=\"993.522\" r=\"7\" fill=\"#009af9\" fill-rule=\"evenodd\" fill-opacity=\"1\" stroke=\"#000000\" stroke-opacity=\"1\" stroke-width=\"0\"/>\n",
       "<circle clip-path=\"url(#clip304)\" cx=\"3494.4\" cy=\"834.834\" r=\"7\" fill=\"#009af9\" fill-rule=\"evenodd\" fill-opacity=\"1\" stroke=\"#000000\" stroke-opacity=\"1\" stroke-width=\"0\"/>\n",
       "<circle clip-path=\"url(#clip304)\" cx=\"3931.63\" cy=\"554.293\" r=\"7\" fill=\"#009af9\" fill-rule=\"evenodd\" fill-opacity=\"1\" stroke=\"#000000\" stroke-opacity=\"1\" stroke-width=\"0\"/>\n",
       "<circle clip-path=\"url(#clip304)\" cx=\"2950.09\" cy=\"1185.52\" r=\"7\" fill=\"#009af9\" fill-rule=\"evenodd\" fill-opacity=\"1\" stroke=\"#000000\" stroke-opacity=\"1\" stroke-width=\"0\"/>\n",
       "<circle clip-path=\"url(#clip304)\" cx=\"4339.69\" cy=\"309.902\" r=\"7\" fill=\"#009af9\" fill-rule=\"evenodd\" fill-opacity=\"1\" stroke=\"#000000\" stroke-opacity=\"1\" stroke-width=\"0\"/>\n",
       "<circle clip-path=\"url(#clip304)\" cx=\"4121.04\" cy=\"438.767\" r=\"7\" fill=\"#009af9\" fill-rule=\"evenodd\" fill-opacity=\"1\" stroke=\"#000000\" stroke-opacity=\"1\" stroke-width=\"0\"/>\n",
       "<circle clip-path=\"url(#clip304)\" cx=\"3869.84\" cy=\"598.96\" r=\"7\" fill=\"#009af9\" fill-rule=\"evenodd\" fill-opacity=\"1\" stroke=\"#000000\" stroke-opacity=\"1\" stroke-width=\"0\"/>\n",
       "<circle clip-path=\"url(#clip304)\" cx=\"3728.81\" cy=\"696.626\" r=\"7\" fill=\"#009af9\" fill-rule=\"evenodd\" fill-opacity=\"1\" stroke=\"#000000\" stroke-opacity=\"1\" stroke-width=\"0\"/>\n",
       "<circle clip-path=\"url(#clip304)\" cx=\"4635.64\" cy=\"123.645\" r=\"7\" fill=\"#009af9\" fill-rule=\"evenodd\" fill-opacity=\"1\" stroke=\"#000000\" stroke-opacity=\"1\" stroke-width=\"0\"/>\n",
       "<circle clip-path=\"url(#clip304)\" cx=\"3322.21\" cy=\"927.437\" r=\"7\" fill=\"#009af9\" fill-rule=\"evenodd\" fill-opacity=\"1\" stroke=\"#000000\" stroke-opacity=\"1\" stroke-width=\"0\"/>\n",
       "<circle clip-path=\"url(#clip304)\" cx=\"3869.3\" cy=\"586.995\" r=\"7\" fill=\"#009af9\" fill-rule=\"evenodd\" fill-opacity=\"1\" stroke=\"#000000\" stroke-opacity=\"1\" stroke-width=\"0\"/>\n",
       "<circle clip-path=\"url(#clip304)\" cx=\"2822.46\" cy=\"1259.41\" r=\"7\" fill=\"#009af9\" fill-rule=\"evenodd\" fill-opacity=\"1\" stroke=\"#000000\" stroke-opacity=\"1\" stroke-width=\"0\"/>\n",
       "<circle clip-path=\"url(#clip304)\" cx=\"2904.49\" cy=\"1204.31\" r=\"7\" fill=\"#009af9\" fill-rule=\"evenodd\" fill-opacity=\"1\" stroke=\"#000000\" stroke-opacity=\"1\" stroke-width=\"0\"/>\n",
       "<circle clip-path=\"url(#clip304)\" cx=\"4489.84\" cy=\"218.992\" r=\"7\" fill=\"#009af9\" fill-rule=\"evenodd\" fill-opacity=\"1\" stroke=\"#000000\" stroke-opacity=\"1\" stroke-width=\"0\"/>\n",
       "<circle clip-path=\"url(#clip304)\" cx=\"3629.46\" cy=\"747.722\" r=\"7\" fill=\"#009af9\" fill-rule=\"evenodd\" fill-opacity=\"1\" stroke=\"#000000\" stroke-opacity=\"1\" stroke-width=\"0\"/>\n",
       "<circle clip-path=\"url(#clip304)\" cx=\"4546.8\" cy=\"178.435\" r=\"7\" fill=\"#009af9\" fill-rule=\"evenodd\" fill-opacity=\"1\" stroke=\"#000000\" stroke-opacity=\"1\" stroke-width=\"0\"/>\n",
       "<circle clip-path=\"url(#clip304)\" cx=\"3165.17\" cy=\"1042.35\" r=\"7\" fill=\"#009af9\" fill-rule=\"evenodd\" fill-opacity=\"1\" stroke=\"#000000\" stroke-opacity=\"1\" stroke-width=\"0\"/>\n",
       "<circle clip-path=\"url(#clip304)\" cx=\"4361.25\" cy=\"304.645\" r=\"7\" fill=\"#009af9\" fill-rule=\"evenodd\" fill-opacity=\"1\" stroke=\"#000000\" stroke-opacity=\"1\" stroke-width=\"0\"/>\n",
       "<circle clip-path=\"url(#clip304)\" cx=\"3701.15\" cy=\"713.524\" r=\"7\" fill=\"#009af9\" fill-rule=\"evenodd\" fill-opacity=\"1\" stroke=\"#000000\" stroke-opacity=\"1\" stroke-width=\"0\"/>\n",
       "<circle clip-path=\"url(#clip304)\" cx=\"3168.01\" cy=\"1041.57\" r=\"7\" fill=\"#009af9\" fill-rule=\"evenodd\" fill-opacity=\"1\" stroke=\"#000000\" stroke-opacity=\"1\" stroke-width=\"0\"/>\n",
       "<circle clip-path=\"url(#clip304)\" cx=\"3738.6\" cy=\"684.651\" r=\"7\" fill=\"#009af9\" fill-rule=\"evenodd\" fill-opacity=\"1\" stroke=\"#000000\" stroke-opacity=\"1\" stroke-width=\"0\"/>\n",
       "<circle clip-path=\"url(#clip304)\" cx=\"4558.21\" cy=\"168.58\" r=\"7\" fill=\"#009af9\" fill-rule=\"evenodd\" fill-opacity=\"1\" stroke=\"#000000\" stroke-opacity=\"1\" stroke-width=\"0\"/>\n",
       "<circle clip-path=\"url(#clip304)\" cx=\"3646.97\" cy=\"740.91\" r=\"7\" fill=\"#009af9\" fill-rule=\"evenodd\" fill-opacity=\"1\" stroke=\"#000000\" stroke-opacity=\"1\" stroke-width=\"0\"/>\n",
       "<circle clip-path=\"url(#clip304)\" cx=\"4214.12\" cy=\"385.911\" r=\"7\" fill=\"#009af9\" fill-rule=\"evenodd\" fill-opacity=\"1\" stroke=\"#000000\" stroke-opacity=\"1\" stroke-width=\"0\"/>\n",
       "<circle clip-path=\"url(#clip304)\" cx=\"3534.75\" cy=\"814.959\" r=\"7\" fill=\"#009af9\" fill-rule=\"evenodd\" fill-opacity=\"1\" stroke=\"#000000\" stroke-opacity=\"1\" stroke-width=\"0\"/>\n",
       "<circle clip-path=\"url(#clip304)\" cx=\"2894.52\" cy=\"1218.42\" r=\"7\" fill=\"#009af9\" fill-rule=\"evenodd\" fill-opacity=\"1\" stroke=\"#000000\" stroke-opacity=\"1\" stroke-width=\"0\"/>\n",
       "<circle clip-path=\"url(#clip304)\" cx=\"3867.67\" cy=\"616.3\" r=\"7\" fill=\"#009af9\" fill-rule=\"evenodd\" fill-opacity=\"1\" stroke=\"#000000\" stroke-opacity=\"1\" stroke-width=\"0\"/>\n",
       "<circle clip-path=\"url(#clip304)\" cx=\"4176.97\" cy=\"404.418\" r=\"7\" fill=\"#009af9\" fill-rule=\"evenodd\" fill-opacity=\"1\" stroke=\"#000000\" stroke-opacity=\"1\" stroke-width=\"0\"/>\n",
       "<circle clip-path=\"url(#clip304)\" cx=\"2863.9\" cy=\"1234.66\" r=\"7\" fill=\"#009af9\" fill-rule=\"evenodd\" fill-opacity=\"1\" stroke=\"#000000\" stroke-opacity=\"1\" stroke-width=\"0\"/>\n",
       "<circle clip-path=\"url(#clip304)\" cx=\"3158.28\" cy=\"1033.33\" r=\"7\" fill=\"#009af9\" fill-rule=\"evenodd\" fill-opacity=\"1\" stroke=\"#000000\" stroke-opacity=\"1\" stroke-width=\"0\"/>\n",
       "<circle clip-path=\"url(#clip304)\" cx=\"4024.65\" cy=\"503.292\" r=\"7\" fill=\"#009af9\" fill-rule=\"evenodd\" fill-opacity=\"1\" stroke=\"#000000\" stroke-opacity=\"1\" stroke-width=\"0\"/>\n",
       "<circle clip-path=\"url(#clip304)\" cx=\"4409.33\" cy=\"269.334\" r=\"7\" fill=\"#009af9\" fill-rule=\"evenodd\" fill-opacity=\"1\" stroke=\"#000000\" stroke-opacity=\"1\" stroke-width=\"0\"/>\n",
       "<circle clip-path=\"url(#clip304)\" cx=\"4126.42\" cy=\"449.646\" r=\"7\" fill=\"#009af9\" fill-rule=\"evenodd\" fill-opacity=\"1\" stroke=\"#000000\" stroke-opacity=\"1\" stroke-width=\"0\"/>\n",
       "<circle clip-path=\"url(#clip304)\" cx=\"2920.19\" cy=\"1205.44\" r=\"7\" fill=\"#009af9\" fill-rule=\"evenodd\" fill-opacity=\"1\" stroke=\"#000000\" stroke-opacity=\"1\" stroke-width=\"0\"/>\n",
       "<circle clip-path=\"url(#clip304)\" cx=\"4202.76\" cy=\"389.178\" r=\"7\" fill=\"#009af9\" fill-rule=\"evenodd\" fill-opacity=\"1\" stroke=\"#000000\" stroke-opacity=\"1\" stroke-width=\"0\"/>\n",
       "<circle clip-path=\"url(#clip304)\" cx=\"4335.04\" cy=\"313.765\" r=\"7\" fill=\"#009af9\" fill-rule=\"evenodd\" fill-opacity=\"1\" stroke=\"#000000\" stroke-opacity=\"1\" stroke-width=\"0\"/>\n",
       "<circle clip-path=\"url(#clip304)\" cx=\"4076.59\" cy=\"479.957\" r=\"7\" fill=\"#009af9\" fill-rule=\"evenodd\" fill-opacity=\"1\" stroke=\"#000000\" stroke-opacity=\"1\" stroke-width=\"0\"/>\n",
       "<circle clip-path=\"url(#clip304)\" cx=\"3056.57\" cy=\"1104.31\" r=\"7\" fill=\"#009af9\" fill-rule=\"evenodd\" fill-opacity=\"1\" stroke=\"#000000\" stroke-opacity=\"1\" stroke-width=\"0\"/>\n",
       "<circle clip-path=\"url(#clip304)\" cx=\"3174.89\" cy=\"1031.6\" r=\"7\" fill=\"#009af9\" fill-rule=\"evenodd\" fill-opacity=\"1\" stroke=\"#000000\" stroke-opacity=\"1\" stroke-width=\"0\"/>\n",
       "<circle clip-path=\"url(#clip304)\" cx=\"4603.27\" cy=\"148.861\" r=\"7\" fill=\"#009af9\" fill-rule=\"evenodd\" fill-opacity=\"1\" stroke=\"#000000\" stroke-opacity=\"1\" stroke-width=\"0\"/>\n",
       "<circle clip-path=\"url(#clip304)\" cx=\"3423.86\" cy=\"895.829\" r=\"7\" fill=\"#009af9\" fill-rule=\"evenodd\" fill-opacity=\"1\" stroke=\"#000000\" stroke-opacity=\"1\" stroke-width=\"0\"/>\n",
       "<circle clip-path=\"url(#clip304)\" cx=\"2846.8\" cy=\"1223.14\" r=\"7\" fill=\"#009af9\" fill-rule=\"evenodd\" fill-opacity=\"1\" stroke=\"#000000\" stroke-opacity=\"1\" stroke-width=\"0\"/>\n",
       "<circle clip-path=\"url(#clip304)\" cx=\"3653.25\" cy=\"724.486\" r=\"7\" fill=\"#009af9\" fill-rule=\"evenodd\" fill-opacity=\"1\" stroke=\"#000000\" stroke-opacity=\"1\" stroke-width=\"0\"/>\n",
       "<circle clip-path=\"url(#clip304)\" cx=\"3030.78\" cy=\"1129.57\" r=\"7\" fill=\"#009af9\" fill-rule=\"evenodd\" fill-opacity=\"1\" stroke=\"#000000\" stroke-opacity=\"1\" stroke-width=\"0\"/>\n",
       "<circle clip-path=\"url(#clip304)\" cx=\"3750.62\" cy=\"681.924\" r=\"7\" fill=\"#009af9\" fill-rule=\"evenodd\" fill-opacity=\"1\" stroke=\"#000000\" stroke-opacity=\"1\" stroke-width=\"0\"/>\n",
       "<circle clip-path=\"url(#clip304)\" cx=\"2907.26\" cy=\"1208.81\" r=\"7\" fill=\"#009af9\" fill-rule=\"evenodd\" fill-opacity=\"1\" stroke=\"#000000\" stroke-opacity=\"1\" stroke-width=\"0\"/>\n",
       "<circle clip-path=\"url(#clip304)\" cx=\"4365.66\" cy=\"286.72\" r=\"7\" fill=\"#009af9\" fill-rule=\"evenodd\" fill-opacity=\"1\" stroke=\"#000000\" stroke-opacity=\"1\" stroke-width=\"0\"/>\n",
       "<circle clip-path=\"url(#clip304)\" cx=\"4021.63\" cy=\"509.926\" r=\"7\" fill=\"#009af9\" fill-rule=\"evenodd\" fill-opacity=\"1\" stroke=\"#000000\" stroke-opacity=\"1\" stroke-width=\"0\"/>\n",
       "<circle clip-path=\"url(#clip304)\" cx=\"2817.39\" cy=\"1240\" r=\"7\" fill=\"#009af9\" fill-rule=\"evenodd\" fill-opacity=\"1\" stroke=\"#000000\" stroke-opacity=\"1\" stroke-width=\"0\"/>\n",
       "<circle clip-path=\"url(#clip304)\" cx=\"4639.39\" cy=\"124.821\" r=\"7\" fill=\"#009af9\" fill-rule=\"evenodd\" fill-opacity=\"1\" stroke=\"#000000\" stroke-opacity=\"1\" stroke-width=\"0\"/>\n",
       "<circle clip-path=\"url(#clip304)\" cx=\"4029.42\" cy=\"511.175\" r=\"7\" fill=\"#009af9\" fill-rule=\"evenodd\" fill-opacity=\"1\" stroke=\"#000000\" stroke-opacity=\"1\" stroke-width=\"0\"/>\n",
       "<circle clip-path=\"url(#clip304)\" cx=\"4614.81\" cy=\"140.427\" r=\"7\" fill=\"#009af9\" fill-rule=\"evenodd\" fill-opacity=\"1\" stroke=\"#000000\" stroke-opacity=\"1\" stroke-width=\"0\"/>\n",
       "<circle clip-path=\"url(#clip304)\" cx=\"3497.24\" cy=\"827.755\" r=\"7\" fill=\"#009af9\" fill-rule=\"evenodd\" fill-opacity=\"1\" stroke=\"#000000\" stroke-opacity=\"1\" stroke-width=\"0\"/>\n",
       "<circle clip-path=\"url(#clip304)\" cx=\"4369.65\" cy=\"290.604\" r=\"7\" fill=\"#009af9\" fill-rule=\"evenodd\" fill-opacity=\"1\" stroke=\"#000000\" stroke-opacity=\"1\" stroke-width=\"0\"/>\n",
       "<circle clip-path=\"url(#clip304)\" cx=\"4002.54\" cy=\"509.61\" r=\"7\" fill=\"#009af9\" fill-rule=\"evenodd\" fill-opacity=\"1\" stroke=\"#000000\" stroke-opacity=\"1\" stroke-width=\"0\"/>\n",
       "<circle clip-path=\"url(#clip304)\" cx=\"3131.22\" cy=\"1070.37\" r=\"7\" fill=\"#009af9\" fill-rule=\"evenodd\" fill-opacity=\"1\" stroke=\"#000000\" stroke-opacity=\"1\" stroke-width=\"0\"/>\n",
       "<circle clip-path=\"url(#clip304)\" cx=\"4539.31\" cy=\"195.368\" r=\"7\" fill=\"#009af9\" fill-rule=\"evenodd\" fill-opacity=\"1\" stroke=\"#000000\" stroke-opacity=\"1\" stroke-width=\"0\"/>\n",
       "<circle clip-path=\"url(#clip304)\" cx=\"3206.6\" cy=\"1008.78\" r=\"7\" fill=\"#009af9\" fill-rule=\"evenodd\" fill-opacity=\"1\" stroke=\"#000000\" stroke-opacity=\"1\" stroke-width=\"0\"/>\n",
       "<circle clip-path=\"url(#clip304)\" cx=\"3508.9\" cy=\"827.245\" r=\"7\" fill=\"#009af9\" fill-rule=\"evenodd\" fill-opacity=\"1\" stroke=\"#000000\" stroke-opacity=\"1\" stroke-width=\"0\"/>\n",
       "<circle clip-path=\"url(#clip304)\" cx=\"3750.13\" cy=\"674.718\" r=\"7\" fill=\"#009af9\" fill-rule=\"evenodd\" fill-opacity=\"1\" stroke=\"#000000\" stroke-opacity=\"1\" stroke-width=\"0\"/>\n",
       "<circle clip-path=\"url(#clip304)\" cx=\"4025.85\" cy=\"502.444\" r=\"7\" fill=\"#009af9\" fill-rule=\"evenodd\" fill-opacity=\"1\" stroke=\"#000000\" stroke-opacity=\"1\" stroke-width=\"0\"/>\n",
       "<circle clip-path=\"url(#clip304)\" cx=\"4006.47\" cy=\"532.764\" r=\"7\" fill=\"#009af9\" fill-rule=\"evenodd\" fill-opacity=\"1\" stroke=\"#000000\" stroke-opacity=\"1\" stroke-width=\"0\"/>\n",
       "<circle clip-path=\"url(#clip304)\" cx=\"3744.76\" cy=\"697.426\" r=\"7\" fill=\"#009af9\" fill-rule=\"evenodd\" fill-opacity=\"1\" stroke=\"#000000\" stroke-opacity=\"1\" stroke-width=\"0\"/>\n",
       "<circle clip-path=\"url(#clip304)\" cx=\"4304.05\" cy=\"340.546\" r=\"7\" fill=\"#009af9\" fill-rule=\"evenodd\" fill-opacity=\"1\" stroke=\"#000000\" stroke-opacity=\"1\" stroke-width=\"0\"/>\n",
       "<circle clip-path=\"url(#clip304)\" cx=\"4304.84\" cy=\"328.961\" r=\"7\" fill=\"#009af9\" fill-rule=\"evenodd\" fill-opacity=\"1\" stroke=\"#000000\" stroke-opacity=\"1\" stroke-width=\"0\"/>\n",
       "<circle clip-path=\"url(#clip304)\" cx=\"4220.1\" cy=\"386.633\" r=\"7\" fill=\"#009af9\" fill-rule=\"evenodd\" fill-opacity=\"1\" stroke=\"#000000\" stroke-opacity=\"1\" stroke-width=\"0\"/>\n",
       "<circle clip-path=\"url(#clip304)\" cx=\"3441.19\" cy=\"890.076\" r=\"7\" fill=\"#009af9\" fill-rule=\"evenodd\" fill-opacity=\"1\" stroke=\"#000000\" stroke-opacity=\"1\" stroke-width=\"0\"/>\n",
       "<circle clip-path=\"url(#clip304)\" cx=\"4319.09\" cy=\"318.198\" r=\"7\" fill=\"#009af9\" fill-rule=\"evenodd\" fill-opacity=\"1\" stroke=\"#000000\" stroke-opacity=\"1\" stroke-width=\"0\"/>\n",
       "<circle clip-path=\"url(#clip304)\" cx=\"3056.09\" cy=\"1106.66\" r=\"7\" fill=\"#009af9\" fill-rule=\"evenodd\" fill-opacity=\"1\" stroke=\"#000000\" stroke-opacity=\"1\" stroke-width=\"0\"/>\n",
       "<circle clip-path=\"url(#clip304)\" cx=\"3389.49\" cy=\"901.699\" r=\"7\" fill=\"#009af9\" fill-rule=\"evenodd\" fill-opacity=\"1\" stroke=\"#000000\" stroke-opacity=\"1\" stroke-width=\"0\"/>\n",
       "<circle clip-path=\"url(#clip304)\" cx=\"3748.74\" cy=\"694.606\" r=\"7\" fill=\"#009af9\" fill-rule=\"evenodd\" fill-opacity=\"1\" stroke=\"#000000\" stroke-opacity=\"1\" stroke-width=\"0\"/>\n",
       "<circle clip-path=\"url(#clip304)\" cx=\"3661.35\" cy=\"737.315\" r=\"7\" fill=\"#009af9\" fill-rule=\"evenodd\" fill-opacity=\"1\" stroke=\"#000000\" stroke-opacity=\"1\" stroke-width=\"0\"/>\n",
       "<circle clip-path=\"url(#clip304)\" cx=\"2772.03\" cy=\"1301.88\" r=\"7\" fill=\"#009af9\" fill-rule=\"evenodd\" fill-opacity=\"1\" stroke=\"#000000\" stroke-opacity=\"1\" stroke-width=\"0\"/>\n",
       "<circle clip-path=\"url(#clip304)\" cx=\"3141.67\" cy=\"1074.56\" r=\"7\" fill=\"#009af9\" fill-rule=\"evenodd\" fill-opacity=\"1\" stroke=\"#000000\" stroke-opacity=\"1\" stroke-width=\"0\"/>\n",
       "<circle clip-path=\"url(#clip304)\" cx=\"4105.7\" cy=\"456.254\" r=\"7\" fill=\"#009af9\" fill-rule=\"evenodd\" fill-opacity=\"1\" stroke=\"#000000\" stroke-opacity=\"1\" stroke-width=\"0\"/>\n",
       "<circle clip-path=\"url(#clip304)\" cx=\"3669.98\" cy=\"714.352\" r=\"7\" fill=\"#009af9\" fill-rule=\"evenodd\" fill-opacity=\"1\" stroke=\"#000000\" stroke-opacity=\"1\" stroke-width=\"0\"/>\n",
       "<circle clip-path=\"url(#clip304)\" cx=\"4631.84\" cy=\"129.418\" r=\"7\" fill=\"#009af9\" fill-rule=\"evenodd\" fill-opacity=\"1\" stroke=\"#000000\" stroke-opacity=\"1\" stroke-width=\"0\"/>\n",
       "<circle clip-path=\"url(#clip304)\" cx=\"4681.85\" cy=\"85.055\" r=\"7\" fill=\"#009af9\" fill-rule=\"evenodd\" fill-opacity=\"1\" stroke=\"#000000\" stroke-opacity=\"1\" stroke-width=\"0\"/>\n",
       "<circle clip-path=\"url(#clip304)\" cx=\"3416.61\" cy=\"882.155\" r=\"7\" fill=\"#009af9\" fill-rule=\"evenodd\" fill-opacity=\"1\" stroke=\"#000000\" stroke-opacity=\"1\" stroke-width=\"0\"/>\n",
       "<circle clip-path=\"url(#clip304)\" cx=\"4471.72\" cy=\"228.216\" r=\"7\" fill=\"#009af9\" fill-rule=\"evenodd\" fill-opacity=\"1\" stroke=\"#000000\" stroke-opacity=\"1\" stroke-width=\"0\"/>\n",
       "<circle clip-path=\"url(#clip304)\" cx=\"4109.51\" cy=\"454.742\" r=\"7\" fill=\"#009af9\" fill-rule=\"evenodd\" fill-opacity=\"1\" stroke=\"#000000\" stroke-opacity=\"1\" stroke-width=\"0\"/>\n",
       "<circle clip-path=\"url(#clip304)\" cx=\"4667.65\" cy=\"87.8219\" r=\"7\" fill=\"#009af9\" fill-rule=\"evenodd\" fill-opacity=\"1\" stroke=\"#000000\" stroke-opacity=\"1\" stroke-width=\"0\"/>\n",
       "<circle clip-path=\"url(#clip304)\" cx=\"2895.18\" cy=\"1215.72\" r=\"7\" fill=\"#009af9\" fill-rule=\"evenodd\" fill-opacity=\"1\" stroke=\"#000000\" stroke-opacity=\"1\" stroke-width=\"0\"/>\n",
       "<circle clip-path=\"url(#clip304)\" cx=\"4365.54\" cy=\"296.931\" r=\"7\" fill=\"#009af9\" fill-rule=\"evenodd\" fill-opacity=\"1\" stroke=\"#000000\" stroke-opacity=\"1\" stroke-width=\"0\"/>\n",
       "<circle clip-path=\"url(#clip304)\" cx=\"4184.34\" cy=\"412.881\" r=\"7\" fill=\"#009af9\" fill-rule=\"evenodd\" fill-opacity=\"1\" stroke=\"#000000\" stroke-opacity=\"1\" stroke-width=\"0\"/>\n",
       "<circle clip-path=\"url(#clip304)\" cx=\"4717.18\" cy=\"94.9301\" r=\"7\" fill=\"#009af9\" fill-rule=\"evenodd\" fill-opacity=\"1\" stroke=\"#000000\" stroke-opacity=\"1\" stroke-width=\"0\"/>\n",
       "<circle clip-path=\"url(#clip304)\" cx=\"4249.69\" cy=\"361.43\" r=\"7\" fill=\"#009af9\" fill-rule=\"evenodd\" fill-opacity=\"1\" stroke=\"#000000\" stroke-opacity=\"1\" stroke-width=\"0\"/>\n",
       "<circle clip-path=\"url(#clip304)\" cx=\"4562.44\" cy=\"174.79\" r=\"7\" fill=\"#009af9\" fill-rule=\"evenodd\" fill-opacity=\"1\" stroke=\"#000000\" stroke-opacity=\"1\" stroke-width=\"0\"/>\n",
       "<circle clip-path=\"url(#clip304)\" cx=\"4248\" cy=\"364.541\" r=\"7\" fill=\"#009af9\" fill-rule=\"evenodd\" fill-opacity=\"1\" stroke=\"#000000\" stroke-opacity=\"1\" stroke-width=\"0\"/>\n",
       "<circle clip-path=\"url(#clip304)\" cx=\"2950.81\" cy=\"1183.7\" r=\"7\" fill=\"#009af9\" fill-rule=\"evenodd\" fill-opacity=\"1\" stroke=\"#000000\" stroke-opacity=\"1\" stroke-width=\"0\"/>\n",
       "<circle clip-path=\"url(#clip304)\" cx=\"4670.73\" cy=\"92.0873\" r=\"7\" fill=\"#009af9\" fill-rule=\"evenodd\" fill-opacity=\"1\" stroke=\"#000000\" stroke-opacity=\"1\" stroke-width=\"0\"/>\n",
       "<circle clip-path=\"url(#clip304)\" cx=\"3810.71\" cy=\"642.753\" r=\"7\" fill=\"#009af9\" fill-rule=\"evenodd\" fill-opacity=\"1\" stroke=\"#000000\" stroke-opacity=\"1\" stroke-width=\"0\"/>\n",
       "<circle clip-path=\"url(#clip304)\" cx=\"3461.85\" cy=\"865.189\" r=\"7\" fill=\"#009af9\" fill-rule=\"evenodd\" fill-opacity=\"1\" stroke=\"#000000\" stroke-opacity=\"1\" stroke-width=\"0\"/>\n",
       "<circle clip-path=\"url(#clip304)\" cx=\"4377.92\" cy=\"293.678\" r=\"7\" fill=\"#009af9\" fill-rule=\"evenodd\" fill-opacity=\"1\" stroke=\"#000000\" stroke-opacity=\"1\" stroke-width=\"0\"/>\n",
       "<circle clip-path=\"url(#clip304)\" cx=\"3698.67\" cy=\"701.968\" r=\"7\" fill=\"#009af9\" fill-rule=\"evenodd\" fill-opacity=\"1\" stroke=\"#000000\" stroke-opacity=\"1\" stroke-width=\"0\"/>\n",
       "<circle clip-path=\"url(#clip304)\" cx=\"3127.42\" cy=\"1044.56\" r=\"7\" fill=\"#009af9\" fill-rule=\"evenodd\" fill-opacity=\"1\" stroke=\"#000000\" stroke-opacity=\"1\" stroke-width=\"0\"/>\n",
       "<circle clip-path=\"url(#clip304)\" cx=\"3041.95\" cy=\"1116.64\" r=\"7\" fill=\"#009af9\" fill-rule=\"evenodd\" fill-opacity=\"1\" stroke=\"#000000\" stroke-opacity=\"1\" stroke-width=\"0\"/>\n",
       "<circle clip-path=\"url(#clip304)\" cx=\"2974.55\" cy=\"1166.81\" r=\"7\" fill=\"#009af9\" fill-rule=\"evenodd\" fill-opacity=\"1\" stroke=\"#000000\" stroke-opacity=\"1\" stroke-width=\"0\"/>\n",
       "<circle clip-path=\"url(#clip304)\" cx=\"4383.54\" cy=\"281.886\" r=\"7\" fill=\"#009af9\" fill-rule=\"evenodd\" fill-opacity=\"1\" stroke=\"#000000\" stroke-opacity=\"1\" stroke-width=\"0\"/>\n",
       "<circle clip-path=\"url(#clip304)\" cx=\"3098.55\" cy=\"1080.56\" r=\"7\" fill=\"#009af9\" fill-rule=\"evenodd\" fill-opacity=\"1\" stroke=\"#000000\" stroke-opacity=\"1\" stroke-width=\"0\"/>\n",
       "<circle clip-path=\"url(#clip304)\" cx=\"3826.17\" cy=\"626.228\" r=\"7\" fill=\"#009af9\" fill-rule=\"evenodd\" fill-opacity=\"1\" stroke=\"#000000\" stroke-opacity=\"1\" stroke-width=\"0\"/>\n",
       "<circle clip-path=\"url(#clip304)\" cx=\"4205.78\" cy=\"406.955\" r=\"7\" fill=\"#009af9\" fill-rule=\"evenodd\" fill-opacity=\"1\" stroke=\"#000000\" stroke-opacity=\"1\" stroke-width=\"0\"/>\n",
       "<circle clip-path=\"url(#clip304)\" cx=\"3037.79\" cy=\"1119.42\" r=\"7\" fill=\"#009af9\" fill-rule=\"evenodd\" fill-opacity=\"1\" stroke=\"#000000\" stroke-opacity=\"1\" stroke-width=\"0\"/>\n",
       "<circle clip-path=\"url(#clip304)\" cx=\"3683.21\" cy=\"723.433\" r=\"7\" fill=\"#009af9\" fill-rule=\"evenodd\" fill-opacity=\"1\" stroke=\"#000000\" stroke-opacity=\"1\" stroke-width=\"0\"/>\n",
       "<circle clip-path=\"url(#clip304)\" cx=\"4557.12\" cy=\"159.817\" r=\"7\" fill=\"#009af9\" fill-rule=\"evenodd\" fill-opacity=\"1\" stroke=\"#000000\" stroke-opacity=\"1\" stroke-width=\"0\"/>\n",
       "<circle clip-path=\"url(#clip304)\" cx=\"3958.39\" cy=\"533.836\" r=\"7\" fill=\"#009af9\" fill-rule=\"evenodd\" fill-opacity=\"1\" stroke=\"#000000\" stroke-opacity=\"1\" stroke-width=\"0\"/>\n",
       "<circle clip-path=\"url(#clip304)\" cx=\"3633.32\" cy=\"746.451\" r=\"7\" fill=\"#009af9\" fill-rule=\"evenodd\" fill-opacity=\"1\" stroke=\"#000000\" stroke-opacity=\"1\" stroke-width=\"0\"/>\n",
       "<circle clip-path=\"url(#clip304)\" cx=\"4377.56\" cy=\"280.154\" r=\"7\" fill=\"#009af9\" fill-rule=\"evenodd\" fill-opacity=\"1\" stroke=\"#000000\" stroke-opacity=\"1\" stroke-width=\"0\"/>\n",
       "<circle clip-path=\"url(#clip304)\" cx=\"3017.98\" cy=\"1128.74\" r=\"7\" fill=\"#009af9\" fill-rule=\"evenodd\" fill-opacity=\"1\" stroke=\"#000000\" stroke-opacity=\"1\" stroke-width=\"0\"/>\n",
       "<circle clip-path=\"url(#clip304)\" cx=\"3601.85\" cy=\"765.098\" r=\"7\" fill=\"#009af9\" fill-rule=\"evenodd\" fill-opacity=\"1\" stroke=\"#000000\" stroke-opacity=\"1\" stroke-width=\"0\"/>\n",
       "<circle clip-path=\"url(#clip304)\" cx=\"3673.18\" cy=\"739.219\" r=\"7\" fill=\"#009af9\" fill-rule=\"evenodd\" fill-opacity=\"1\" stroke=\"#000000\" stroke-opacity=\"1\" stroke-width=\"0\"/>\n",
       "<circle clip-path=\"url(#clip304)\" cx=\"3946.67\" cy=\"560.232\" r=\"7\" fill=\"#009af9\" fill-rule=\"evenodd\" fill-opacity=\"1\" stroke=\"#000000\" stroke-opacity=\"1\" stroke-width=\"0\"/>\n",
       "<circle clip-path=\"url(#clip304)\" cx=\"3621\" cy=\"757.678\" r=\"7\" fill=\"#009af9\" fill-rule=\"evenodd\" fill-opacity=\"1\" stroke=\"#000000\" stroke-opacity=\"1\" stroke-width=\"0\"/>\n",
       "<circle clip-path=\"url(#clip304)\" cx=\"4110.05\" cy=\"460.074\" r=\"7\" fill=\"#009af9\" fill-rule=\"evenodd\" fill-opacity=\"1\" stroke=\"#000000\" stroke-opacity=\"1\" stroke-width=\"0\"/>\n",
       "<circle clip-path=\"url(#clip304)\" cx=\"4658.41\" cy=\"93.1652\" r=\"7\" fill=\"#009af9\" fill-rule=\"evenodd\" fill-opacity=\"1\" stroke=\"#000000\" stroke-opacity=\"1\" stroke-width=\"0\"/>\n",
       "<circle clip-path=\"url(#clip304)\" cx=\"2843.42\" cy=\"1244.52\" r=\"7\" fill=\"#009af9\" fill-rule=\"evenodd\" fill-opacity=\"1\" stroke=\"#000000\" stroke-opacity=\"1\" stroke-width=\"0\"/>\n",
       "<circle clip-path=\"url(#clip304)\" cx=\"4559.42\" cy=\"164.374\" r=\"7\" fill=\"#009af9\" fill-rule=\"evenodd\" fill-opacity=\"1\" stroke=\"#000000\" stroke-opacity=\"1\" stroke-width=\"0\"/>\n",
       "<circle clip-path=\"url(#clip304)\" cx=\"4193.64\" cy=\"411.004\" r=\"7\" fill=\"#009af9\" fill-rule=\"evenodd\" fill-opacity=\"1\" stroke=\"#000000\" stroke-opacity=\"1\" stroke-width=\"0\"/>\n",
       "<circle clip-path=\"url(#clip304)\" cx=\"3945.22\" cy=\"549.685\" r=\"7\" fill=\"#009af9\" fill-rule=\"evenodd\" fill-opacity=\"1\" stroke=\"#000000\" stroke-opacity=\"1\" stroke-width=\"0\"/>\n",
       "<circle clip-path=\"url(#clip304)\" cx=\"2923.15\" cy=\"1193.1\" r=\"7\" fill=\"#009af9\" fill-rule=\"evenodd\" fill-opacity=\"1\" stroke=\"#000000\" stroke-opacity=\"1\" stroke-width=\"0\"/>\n",
       "<circle clip-path=\"url(#clip304)\" cx=\"4299.76\" cy=\"340.769\" r=\"7\" fill=\"#009af9\" fill-rule=\"evenodd\" fill-opacity=\"1\" stroke=\"#000000\" stroke-opacity=\"1\" stroke-width=\"0\"/>\n",
       "<circle clip-path=\"url(#clip304)\" cx=\"3832.4\" cy=\"623.128\" r=\"7\" fill=\"#009af9\" fill-rule=\"evenodd\" fill-opacity=\"1\" stroke=\"#000000\" stroke-opacity=\"1\" stroke-width=\"0\"/>\n",
       "<circle clip-path=\"url(#clip304)\" cx=\"4405.7\" cy=\"262.203\" r=\"7\" fill=\"#009af9\" fill-rule=\"evenodd\" fill-opacity=\"1\" stroke=\"#000000\" stroke-opacity=\"1\" stroke-width=\"0\"/>\n",
       "<circle clip-path=\"url(#clip304)\" cx=\"3792.89\" cy=\"657.326\" r=\"7\" fill=\"#009af9\" fill-rule=\"evenodd\" fill-opacity=\"1\" stroke=\"#000000\" stroke-opacity=\"1\" stroke-width=\"0\"/>\n",
       "<circle clip-path=\"url(#clip304)\" cx=\"3766.02\" cy=\"657.637\" r=\"7\" fill=\"#009af9\" fill-rule=\"evenodd\" fill-opacity=\"1\" stroke=\"#000000\" stroke-opacity=\"1\" stroke-width=\"0\"/>\n",
       "<circle clip-path=\"url(#clip304)\" cx=\"4134.39\" cy=\"431.294\" r=\"7\" fill=\"#009af9\" fill-rule=\"evenodd\" fill-opacity=\"1\" stroke=\"#000000\" stroke-opacity=\"1\" stroke-width=\"0\"/>\n",
       "<circle clip-path=\"url(#clip304)\" cx=\"3450.43\" cy=\"866.497\" r=\"7\" fill=\"#009af9\" fill-rule=\"evenodd\" fill-opacity=\"1\" stroke=\"#000000\" stroke-opacity=\"1\" stroke-width=\"0\"/>\n",
       "<circle clip-path=\"url(#clip304)\" cx=\"3433.52\" cy=\"871.201\" r=\"7\" fill=\"#009af9\" fill-rule=\"evenodd\" fill-opacity=\"1\" stroke=\"#000000\" stroke-opacity=\"1\" stroke-width=\"0\"/>\n",
       "<circle clip-path=\"url(#clip304)\" cx=\"4297.23\" cy=\"331.554\" r=\"7\" fill=\"#009af9\" fill-rule=\"evenodd\" fill-opacity=\"1\" stroke=\"#000000\" stroke-opacity=\"1\" stroke-width=\"0\"/>\n",
       "<circle clip-path=\"url(#clip304)\" cx=\"3138.17\" cy=\"1066.5\" r=\"7\" fill=\"#009af9\" fill-rule=\"evenodd\" fill-opacity=\"1\" stroke=\"#000000\" stroke-opacity=\"1\" stroke-width=\"0\"/>\n",
       "<circle clip-path=\"url(#clip304)\" cx=\"3430.62\" cy=\"883.871\" r=\"7\" fill=\"#009af9\" fill-rule=\"evenodd\" fill-opacity=\"1\" stroke=\"#000000\" stroke-opacity=\"1\" stroke-width=\"0\"/>\n",
       "<circle clip-path=\"url(#clip304)\" cx=\"3104.83\" cy=\"1055.38\" r=\"7\" fill=\"#009af9\" fill-rule=\"evenodd\" fill-opacity=\"1\" stroke=\"#000000\" stroke-opacity=\"1\" stroke-width=\"0\"/>\n",
       "<circle clip-path=\"url(#clip304)\" cx=\"4547.76\" cy=\"162.369\" r=\"7\" fill=\"#009af9\" fill-rule=\"evenodd\" fill-opacity=\"1\" stroke=\"#000000\" stroke-opacity=\"1\" stroke-width=\"0\"/>\n",
       "<circle clip-path=\"url(#clip304)\" cx=\"3887.42\" cy=\"593.262\" r=\"7\" fill=\"#009af9\" fill-rule=\"evenodd\" fill-opacity=\"1\" stroke=\"#000000\" stroke-opacity=\"1\" stroke-width=\"0\"/>\n",
       "<circle clip-path=\"url(#clip304)\" cx=\"4028.45\" cy=\"509.75\" r=\"7\" fill=\"#009af9\" fill-rule=\"evenodd\" fill-opacity=\"1\" stroke=\"#000000\" stroke-opacity=\"1\" stroke-width=\"0\"/>\n",
       "<circle clip-path=\"url(#clip304)\" cx=\"3373.36\" cy=\"909.151\" r=\"7\" fill=\"#009af9\" fill-rule=\"evenodd\" fill-opacity=\"1\" stroke=\"#000000\" stroke-opacity=\"1\" stroke-width=\"0\"/>\n",
       "<circle clip-path=\"url(#clip304)\" cx=\"4480.66\" cy=\"221.548\" r=\"7\" fill=\"#009af9\" fill-rule=\"evenodd\" fill-opacity=\"1\" stroke=\"#000000\" stroke-opacity=\"1\" stroke-width=\"0\"/>\n",
       "<circle clip-path=\"url(#clip304)\" cx=\"3447.05\" cy=\"876.09\" r=\"7\" fill=\"#009af9\" fill-rule=\"evenodd\" fill-opacity=\"1\" stroke=\"#000000\" stroke-opacity=\"1\" stroke-width=\"0\"/>\n",
       "<circle clip-path=\"url(#clip304)\" cx=\"4402.26\" cy=\"275.239\" r=\"7\" fill=\"#009af9\" fill-rule=\"evenodd\" fill-opacity=\"1\" stroke=\"#000000\" stroke-opacity=\"1\" stroke-width=\"0\"/>\n",
       "<circle clip-path=\"url(#clip304)\" cx=\"3136.3\" cy=\"1064.47\" r=\"7\" fill=\"#009af9\" fill-rule=\"evenodd\" fill-opacity=\"1\" stroke=\"#000000\" stroke-opacity=\"1\" stroke-width=\"0\"/>\n",
       "<circle clip-path=\"url(#clip304)\" cx=\"4309.73\" cy=\"341.376\" r=\"7\" fill=\"#009af9\" fill-rule=\"evenodd\" fill-opacity=\"1\" stroke=\"#000000\" stroke-opacity=\"1\" stroke-width=\"0\"/>\n",
       "<circle clip-path=\"url(#clip304)\" cx=\"2865.95\" cy=\"1228.4\" r=\"7\" fill=\"#009af9\" fill-rule=\"evenodd\" fill-opacity=\"1\" stroke=\"#000000\" stroke-opacity=\"1\" stroke-width=\"0\"/>\n",
       "<circle clip-path=\"url(#clip304)\" cx=\"2916.63\" cy=\"1202.8\" r=\"7\" fill=\"#009af9\" fill-rule=\"evenodd\" fill-opacity=\"1\" stroke=\"#000000\" stroke-opacity=\"1\" stroke-width=\"0\"/>\n",
       "<circle clip-path=\"url(#clip304)\" cx=\"3288.5\" cy=\"964.816\" r=\"7\" fill=\"#009af9\" fill-rule=\"evenodd\" fill-opacity=\"1\" stroke=\"#000000\" stroke-opacity=\"1\" stroke-width=\"0\"/>\n",
       "<circle clip-path=\"url(#clip304)\" cx=\"3577.69\" cy=\"790.13\" r=\"7\" fill=\"#009af9\" fill-rule=\"evenodd\" fill-opacity=\"1\" stroke=\"#000000\" stroke-opacity=\"1\" stroke-width=\"0\"/>\n",
       "<circle clip-path=\"url(#clip304)\" cx=\"3558.73\" cy=\"794.811\" r=\"7\" fill=\"#009af9\" fill-rule=\"evenodd\" fill-opacity=\"1\" stroke=\"#000000\" stroke-opacity=\"1\" stroke-width=\"0\"/>\n",
       "<circle clip-path=\"url(#clip304)\" cx=\"3231.73\" cy=\"1003.8\" r=\"7\" fill=\"#009af9\" fill-rule=\"evenodd\" fill-opacity=\"1\" stroke=\"#000000\" stroke-opacity=\"1\" stroke-width=\"0\"/>\n",
       "<circle clip-path=\"url(#clip304)\" cx=\"3345.88\" cy=\"925.415\" r=\"7\" fill=\"#009af9\" fill-rule=\"evenodd\" fill-opacity=\"1\" stroke=\"#000000\" stroke-opacity=\"1\" stroke-width=\"0\"/>\n",
       "<circle clip-path=\"url(#clip304)\" cx=\"4407.52\" cy=\"261.493\" r=\"7\" fill=\"#009af9\" fill-rule=\"evenodd\" fill-opacity=\"1\" stroke=\"#000000\" stroke-opacity=\"1\" stroke-width=\"0\"/>\n",
       "<circle clip-path=\"url(#clip304)\" cx=\"4393.32\" cy=\"270.94\" r=\"7\" fill=\"#009af9\" fill-rule=\"evenodd\" fill-opacity=\"1\" stroke=\"#000000\" stroke-opacity=\"1\" stroke-width=\"0\"/>\n",
       "<circle clip-path=\"url(#clip304)\" cx=\"3340.26\" cy=\"943.225\" r=\"7\" fill=\"#009af9\" fill-rule=\"evenodd\" fill-opacity=\"1\" stroke=\"#000000\" stroke-opacity=\"1\" stroke-width=\"0\"/>\n",
       "<circle clip-path=\"url(#clip304)\" cx=\"4583.52\" cy=\"162.902\" r=\"7\" fill=\"#009af9\" fill-rule=\"evenodd\" fill-opacity=\"1\" stroke=\"#000000\" stroke-opacity=\"1\" stroke-width=\"0\"/>\n",
       "<circle clip-path=\"url(#clip304)\" cx=\"4092.66\" cy=\"464.222\" r=\"7\" fill=\"#009af9\" fill-rule=\"evenodd\" fill-opacity=\"1\" stroke=\"#000000\" stroke-opacity=\"1\" stroke-width=\"0\"/>\n",
       "<circle clip-path=\"url(#clip304)\" cx=\"3786.79\" cy=\"638.55\" r=\"7\" fill=\"#009af9\" fill-rule=\"evenodd\" fill-opacity=\"1\" stroke=\"#000000\" stroke-opacity=\"1\" stroke-width=\"0\"/>\n",
       "<circle clip-path=\"url(#clip304)\" cx=\"4337.57\" cy=\"305.143\" r=\"7\" fill=\"#009af9\" fill-rule=\"evenodd\" fill-opacity=\"1\" stroke=\"#000000\" stroke-opacity=\"1\" stroke-width=\"0\"/>\n",
       "<circle clip-path=\"url(#clip304)\" cx=\"4128.23\" cy=\"444.814\" r=\"7\" fill=\"#009af9\" fill-rule=\"evenodd\" fill-opacity=\"1\" stroke=\"#000000\" stroke-opacity=\"1\" stroke-width=\"0\"/>\n",
       "<circle clip-path=\"url(#clip304)\" cx=\"3696.86\" cy=\"716.588\" r=\"7\" fill=\"#009af9\" fill-rule=\"evenodd\" fill-opacity=\"1\" stroke=\"#000000\" stroke-opacity=\"1\" stroke-width=\"0\"/>\n",
       "<circle clip-path=\"url(#clip304)\" cx=\"4533.63\" cy=\"183.993\" r=\"7\" fill=\"#009af9\" fill-rule=\"evenodd\" fill-opacity=\"1\" stroke=\"#000000\" stroke-opacity=\"1\" stroke-width=\"0\"/>\n",
       "<circle clip-path=\"url(#clip304)\" cx=\"4485.25\" cy=\"218.258\" r=\"7\" fill=\"#009af9\" fill-rule=\"evenodd\" fill-opacity=\"1\" stroke=\"#000000\" stroke-opacity=\"1\" stroke-width=\"0\"/>\n",
       "<circle clip-path=\"url(#clip304)\" cx=\"2877.25\" cy=\"1227.25\" r=\"7\" fill=\"#009af9\" fill-rule=\"evenodd\" fill-opacity=\"1\" stroke=\"#000000\" stroke-opacity=\"1\" stroke-width=\"0\"/>\n",
       "<circle clip-path=\"url(#clip304)\" cx=\"4415.79\" cy=\"252.37\" r=\"7\" fill=\"#009af9\" fill-rule=\"evenodd\" fill-opacity=\"1\" stroke=\"#000000\" stroke-opacity=\"1\" stroke-width=\"0\"/>\n",
       "<circle clip-path=\"url(#clip304)\" cx=\"2791.36\" cy=\"1283.22\" r=\"7\" fill=\"#009af9\" fill-rule=\"evenodd\" fill-opacity=\"1\" stroke=\"#000000\" stroke-opacity=\"1\" stroke-width=\"0\"/>\n",
       "<circle clip-path=\"url(#clip304)\" cx=\"4320.72\" cy=\"321.328\" r=\"7\" fill=\"#009af9\" fill-rule=\"evenodd\" fill-opacity=\"1\" stroke=\"#000000\" stroke-opacity=\"1\" stroke-width=\"0\"/>\n",
       "<circle clip-path=\"url(#clip304)\" cx=\"2838.89\" cy=\"1246.9\" r=\"7\" fill=\"#009af9\" fill-rule=\"evenodd\" fill-opacity=\"1\" stroke=\"#000000\" stroke-opacity=\"1\" stroke-width=\"0\"/>\n",
       "<circle clip-path=\"url(#clip304)\" cx=\"4303.51\" cy=\"324.422\" r=\"7\" fill=\"#009af9\" fill-rule=\"evenodd\" fill-opacity=\"1\" stroke=\"#000000\" stroke-opacity=\"1\" stroke-width=\"0\"/>\n",
       "<circle clip-path=\"url(#clip304)\" cx=\"4288.35\" cy=\"340.108\" r=\"7\" fill=\"#009af9\" fill-rule=\"evenodd\" fill-opacity=\"1\" stroke=\"#000000\" stroke-opacity=\"1\" stroke-width=\"0\"/>\n",
       "<circle clip-path=\"url(#clip304)\" cx=\"4252.11\" cy=\"368.164\" r=\"7\" fill=\"#009af9\" fill-rule=\"evenodd\" fill-opacity=\"1\" stroke=\"#000000\" stroke-opacity=\"1\" stroke-width=\"0\"/>\n",
       "<circle clip-path=\"url(#clip304)\" cx=\"4156.26\" cy=\"424.35\" r=\"7\" fill=\"#009af9\" fill-rule=\"evenodd\" fill-opacity=\"1\" stroke=\"#000000\" stroke-opacity=\"1\" stroke-width=\"0\"/>\n",
       "<circle clip-path=\"url(#clip304)\" cx=\"4419.66\" cy=\"253.736\" r=\"7\" fill=\"#009af9\" fill-rule=\"evenodd\" fill-opacity=\"1\" stroke=\"#000000\" stroke-opacity=\"1\" stroke-width=\"0\"/>\n",
       "<circle clip-path=\"url(#clip304)\" cx=\"4373.51\" cy=\"281.226\" r=\"7\" fill=\"#009af9\" fill-rule=\"evenodd\" fill-opacity=\"1\" stroke=\"#000000\" stroke-opacity=\"1\" stroke-width=\"0\"/>\n",
       "<circle clip-path=\"url(#clip304)\" cx=\"2842.21\" cy=\"1248.61\" r=\"7\" fill=\"#009af9\" fill-rule=\"evenodd\" fill-opacity=\"1\" stroke=\"#000000\" stroke-opacity=\"1\" stroke-width=\"0\"/>\n",
       "<circle clip-path=\"url(#clip304)\" cx=\"4411.26\" cy=\"262.847\" r=\"7\" fill=\"#009af9\" fill-rule=\"evenodd\" fill-opacity=\"1\" stroke=\"#000000\" stroke-opacity=\"1\" stroke-width=\"0\"/>\n",
       "<circle clip-path=\"url(#clip304)\" cx=\"4626.04\" cy=\"121.836\" r=\"7\" fill=\"#009af9\" fill-rule=\"evenodd\" fill-opacity=\"1\" stroke=\"#000000\" stroke-opacity=\"1\" stroke-width=\"0\"/>\n",
       "<circle clip-path=\"url(#clip304)\" cx=\"4252.17\" cy=\"362.58\" r=\"7\" fill=\"#009af9\" fill-rule=\"evenodd\" fill-opacity=\"1\" stroke=\"#000000\" stroke-opacity=\"1\" stroke-width=\"0\"/>\n",
       "<circle clip-path=\"url(#clip304)\" cx=\"3360.74\" cy=\"917.468\" r=\"7\" fill=\"#009af9\" fill-rule=\"evenodd\" fill-opacity=\"1\" stroke=\"#000000\" stroke-opacity=\"1\" stroke-width=\"0\"/>\n",
       "<circle clip-path=\"url(#clip304)\" cx=\"3822.79\" cy=\"622.095\" r=\"7\" fill=\"#009af9\" fill-rule=\"evenodd\" fill-opacity=\"1\" stroke=\"#000000\" stroke-opacity=\"1\" stroke-width=\"0\"/>\n",
       "<circle clip-path=\"url(#clip304)\" cx=\"3188.72\" cy=\"1027.6\" r=\"7\" fill=\"#009af9\" fill-rule=\"evenodd\" fill-opacity=\"1\" stroke=\"#000000\" stroke-opacity=\"1\" stroke-width=\"0\"/>\n",
       "<circle clip-path=\"url(#clip304)\" cx=\"4433.67\" cy=\"248.661\" r=\"7\" fill=\"#009af9\" fill-rule=\"evenodd\" fill-opacity=\"1\" stroke=\"#000000\" stroke-opacity=\"1\" stroke-width=\"0\"/>\n",
       "<circle clip-path=\"url(#clip304)\" cx=\"3258.06\" cy=\"985.891\" r=\"7\" fill=\"#009af9\" fill-rule=\"evenodd\" fill-opacity=\"1\" stroke=\"#000000\" stroke-opacity=\"1\" stroke-width=\"0\"/>\n",
       "<circle clip-path=\"url(#clip304)\" cx=\"2902.67\" cy=\"1188.88\" r=\"7\" fill=\"#009af9\" fill-rule=\"evenodd\" fill-opacity=\"1\" stroke=\"#000000\" stroke-opacity=\"1\" stroke-width=\"0\"/>\n",
       "<circle clip-path=\"url(#clip304)\" cx=\"4346.51\" cy=\"298.877\" r=\"7\" fill=\"#009af9\" fill-rule=\"evenodd\" fill-opacity=\"1\" stroke=\"#000000\" stroke-opacity=\"1\" stroke-width=\"0\"/>\n",
       "<path clip-path=\"url(#clip300)\" d=\"\n",
       "M5090 1338.42 L7152.76 1338.42 L7152.76 47.2441 L5090 47.2441  Z\n",
       "  \" fill=\"#ffffff\" fill-rule=\"evenodd\" fill-opacity=\"1\"/>\n",
       "<polyline clip-path=\"url(#clip302)\" style=\"stroke:#000000; stroke-width:2; stroke-opacity:0.1; fill:none\" points=\"\n",
       "  5146.18,1338.42 5146.18,47.2441 \n",
       "  \"/>\n",
       "<polyline clip-path=\"url(#clip302)\" style=\"stroke:#000000; stroke-width:2; stroke-opacity:0.1; fill:none\" points=\"\n",
       "  5634.63,1338.42 5634.63,47.2441 \n",
       "  \"/>\n",
       "<polyline clip-path=\"url(#clip302)\" style=\"stroke:#000000; stroke-width:2; stroke-opacity:0.1; fill:none\" points=\"\n",
       "  6123.09,1338.42 6123.09,47.2441 \n",
       "  \"/>\n",
       "<polyline clip-path=\"url(#clip302)\" style=\"stroke:#000000; stroke-width:2; stroke-opacity:0.1; fill:none\" points=\"\n",
       "  6611.54,1338.42 6611.54,47.2441 \n",
       "  \"/>\n",
       "<polyline clip-path=\"url(#clip302)\" style=\"stroke:#000000; stroke-width:2; stroke-opacity:0.1; fill:none\" points=\"\n",
       "  7099.99,1338.42 7099.99,47.2441 \n",
       "  \"/>\n",
       "<polyline clip-path=\"url(#clip300)\" style=\"stroke:#000000; stroke-width:4; stroke-opacity:1; fill:none\" points=\"\n",
       "  5090,1338.42 7152.76,1338.42 \n",
       "  \"/>\n",
       "<polyline clip-path=\"url(#clip300)\" style=\"stroke:#000000; stroke-width:4; stroke-opacity:1; fill:none\" points=\"\n",
       "  5146.18,1338.42 5146.18,1322.93 \n",
       "  \"/>\n",
       "<polyline clip-path=\"url(#clip300)\" style=\"stroke:#000000; stroke-width:4; stroke-opacity:1; fill:none\" points=\"\n",
       "  5634.63,1338.42 5634.63,1322.93 \n",
       "  \"/>\n",
       "<polyline clip-path=\"url(#clip300)\" style=\"stroke:#000000; stroke-width:4; stroke-opacity:1; fill:none\" points=\"\n",
       "  6123.09,1338.42 6123.09,1322.93 \n",
       "  \"/>\n",
       "<polyline clip-path=\"url(#clip300)\" style=\"stroke:#000000; stroke-width:4; stroke-opacity:1; fill:none\" points=\"\n",
       "  6611.54,1338.42 6611.54,1322.93 \n",
       "  \"/>\n",
       "<polyline clip-path=\"url(#clip300)\" style=\"stroke:#000000; stroke-width:4; stroke-opacity:1; fill:none\" points=\"\n",
       "  7099.99,1338.42 7099.99,1322.93 \n",
       "  \"/>\n",
       "<path clip-path=\"url(#clip300)\" d=\"M 0 0 M5108.53 1406.01 Q5104.92 1406.01 5103.09 1409.58 Q5101.29 1413.12 5101.29 1420.25 Q5101.29 1427.35 5103.09 1430.92 Q5104.92 1434.46 5108.53 1434.46 Q5112.17 1434.46 5113.97 1430.92 Q5115.8 1427.35 5115.8 1420.25 Q5115.8 1413.12 5113.97 1409.58 Q5112.17 1406.01 5108.53 1406.01 M5108.53 1402.31 Q5114.34 1402.31 5117.4 1406.91 Q5120.48 1411.5 5120.48 1420.25 Q5120.48 1428.97 5117.4 1433.58 Q5114.34 1438.16 5108.53 1438.16 Q5102.72 1438.16 5099.64 1433.58 Q5096.59 1428.97 5096.59 1420.25 Q5096.59 1411.5 5099.64 1406.91 Q5102.72 1402.31 5108.53 1402.31 Z\" fill=\"#000000\" fill-rule=\"evenodd\" fill-opacity=\"1\" /><path clip-path=\"url(#clip300)\" d=\"M 0 0 M5128.69 1431.61 L5133.58 1431.61 L5133.58 1437.49 L5128.69 1437.49 L5128.69 1431.61 Z\" fill=\"#000000\" fill-rule=\"evenodd\" fill-opacity=\"1\" /><path clip-path=\"url(#clip300)\" d=\"M 0 0 M5153.76 1406.01 Q5150.15 1406.01 5148.32 1409.58 Q5146.52 1413.12 5146.52 1420.25 Q5146.52 1427.35 5148.32 1430.92 Q5150.15 1434.46 5153.76 1434.46 Q5157.4 1434.46 5159.2 1430.92 Q5161.03 1427.35 5161.03 1420.25 Q5161.03 1413.12 5159.2 1409.58 Q5157.4 1406.01 5153.76 1406.01 M5153.76 1402.31 Q5159.57 1402.31 5162.63 1406.91 Q5165.71 1411.5 5165.71 1420.25 Q5165.71 1428.97 5162.63 1433.58 Q5159.57 1438.16 5153.76 1438.16 Q5147.95 1438.16 5144.87 1433.58 Q5141.82 1428.97 5141.82 1420.25 Q5141.82 1411.5 5144.87 1406.91 Q5147.95 1402.31 5153.76 1402.31 Z\" fill=\"#000000\" fill-rule=\"evenodd\" fill-opacity=\"1\" /><path clip-path=\"url(#clip300)\" d=\"M 0 0 M5183.92 1421.08 Q5180.59 1421.08 5178.67 1422.86 Q5176.77 1424.64 5176.77 1427.77 Q5176.77 1430.89 5178.67 1432.68 Q5180.59 1434.46 5183.92 1434.46 Q5187.26 1434.46 5189.18 1432.68 Q5191.1 1430.87 5191.1 1427.77 Q5191.1 1424.64 5189.18 1422.86 Q5187.28 1421.08 5183.92 1421.08 M5179.25 1419.09 Q5176.24 1418.35 5174.55 1416.29 Q5172.88 1414.23 5172.88 1411.26 Q5172.88 1407.12 5175.82 1404.71 Q5178.79 1402.31 5183.92 1402.31 Q5189.09 1402.31 5192.03 1404.71 Q5194.97 1407.12 5194.97 1411.26 Q5194.97 1414.23 5193.28 1416.29 Q5191.61 1418.35 5188.62 1419.09 Q5192 1419.88 5193.88 1422.17 Q5195.78 1424.46 5195.78 1427.77 Q5195.78 1432.79 5192.7 1435.48 Q5189.64 1438.16 5183.92 1438.16 Q5178.21 1438.16 5175.13 1435.48 Q5172.07 1432.79 5172.07 1427.77 Q5172.07 1424.46 5173.97 1422.17 Q5175.87 1419.88 5179.25 1419.09 M5177.54 1411.7 Q5177.54 1414.39 5179.2 1415.89 Q5180.89 1417.4 5183.92 1417.4 Q5186.93 1417.4 5188.62 1415.89 Q5190.34 1414.39 5190.34 1411.7 Q5190.34 1409.02 5188.62 1407.51 Q5186.93 1406.01 5183.92 1406.01 Q5180.89 1406.01 5179.2 1407.51 Q5177.54 1409.02 5177.54 1411.7 Z\" fill=\"#000000\" fill-rule=\"evenodd\" fill-opacity=\"1\" /><path clip-path=\"url(#clip300)\" d=\"M 0 0 M5596.94 1406.01 Q5593.33 1406.01 5591.5 1409.58 Q5589.69 1413.12 5589.69 1420.25 Q5589.69 1427.35 5591.5 1430.92 Q5593.33 1434.46 5596.94 1434.46 Q5600.57 1434.46 5602.38 1430.92 Q5604.21 1427.35 5604.21 1420.25 Q5604.21 1413.12 5602.38 1409.58 Q5600.57 1406.01 5596.94 1406.01 M5596.94 1402.31 Q5602.75 1402.31 5605.8 1406.91 Q5608.88 1411.5 5608.88 1420.25 Q5608.88 1428.97 5605.8 1433.58 Q5602.75 1438.16 5596.94 1438.16 Q5591.13 1438.16 5588.05 1433.58 Q5584.99 1428.97 5584.99 1420.25 Q5584.99 1411.5 5588.05 1406.91 Q5591.13 1402.31 5596.94 1402.31 Z\" fill=\"#000000\" fill-rule=\"evenodd\" fill-opacity=\"1\" /><path clip-path=\"url(#clip300)\" d=\"M 0 0 M5617.1 1431.61 L5621.98 1431.61 L5621.98 1437.49 L5617.1 1437.49 L5617.1 1431.61 Z\" fill=\"#000000\" fill-rule=\"evenodd\" fill-opacity=\"1\" /><path clip-path=\"url(#clip300)\" d=\"M 0 0 M5632.98 1433.56 L5640.62 1433.56 L5640.62 1407.19 L5632.31 1408.86 L5632.31 1404.6 L5640.57 1402.93 L5645.25 1402.93 L5645.25 1433.56 L5652.89 1433.56 L5652.89 1437.49 L5632.98 1437.49 L5632.98 1433.56 Z\" fill=\"#000000\" fill-rule=\"evenodd\" fill-opacity=\"1\" /><path clip-path=\"url(#clip300)\" d=\"M 0 0 M5672.33 1406.01 Q5668.72 1406.01 5666.89 1409.58 Q5665.09 1413.12 5665.09 1420.25 Q5665.09 1427.35 5666.89 1430.92 Q5668.72 1434.46 5672.33 1434.46 Q5675.96 1434.46 5677.77 1430.92 Q5679.6 1427.35 5679.6 1420.25 Q5679.6 1413.12 5677.77 1409.58 Q5675.96 1406.01 5672.33 1406.01 M5672.33 1402.31 Q5678.14 1402.31 5681.2 1406.91 Q5684.28 1411.5 5684.28 1420.25 Q5684.28 1428.97 5681.2 1433.58 Q5678.14 1438.16 5672.33 1438.16 Q5666.52 1438.16 5663.44 1433.58 Q5660.39 1428.97 5660.39 1420.25 Q5660.39 1411.5 5663.44 1406.91 Q5666.52 1402.31 5672.33 1402.31 Z\" fill=\"#000000\" fill-rule=\"evenodd\" fill-opacity=\"1\" /><path clip-path=\"url(#clip300)\" d=\"M 0 0 M6086.19 1406.01 Q6082.58 1406.01 6080.75 1409.58 Q6078.94 1413.12 6078.94 1420.25 Q6078.94 1427.35 6080.75 1430.92 Q6082.58 1434.46 6086.19 1434.46 Q6089.82 1434.46 6091.63 1430.92 Q6093.46 1427.35 6093.46 1420.25 Q6093.46 1413.12 6091.63 1409.58 Q6089.82 1406.01 6086.19 1406.01 M6086.19 1402.31 Q6092 1402.31 6095.05 1406.91 Q6098.13 1411.5 6098.13 1420.25 Q6098.13 1428.97 6095.05 1433.58 Q6092 1438.16 6086.19 1438.16 Q6080.38 1438.16 6077.3 1433.58 Q6074.24 1428.97 6074.24 1420.25 Q6074.24 1411.5 6077.3 1406.91 Q6080.38 1402.31 6086.19 1402.31 Z\" fill=\"#000000\" fill-rule=\"evenodd\" fill-opacity=\"1\" /><path clip-path=\"url(#clip300)\" d=\"M 0 0 M6106.35 1431.61 L6111.24 1431.61 L6111.24 1437.49 L6106.35 1437.49 L6106.35 1431.61 Z\" fill=\"#000000\" fill-rule=\"evenodd\" fill-opacity=\"1\" /><path clip-path=\"url(#clip300)\" d=\"M 0 0 M6122.23 1433.56 L6129.87 1433.56 L6129.87 1407.19 L6121.56 1408.86 L6121.56 1404.6 L6129.82 1402.93 L6134.5 1402.93 L6134.5 1433.56 L6142.14 1433.56 L6142.14 1437.49 L6122.23 1437.49 L6122.23 1433.56 Z\" fill=\"#000000\" fill-rule=\"evenodd\" fill-opacity=\"1\" /><path clip-path=\"url(#clip300)\" d=\"M 0 0 M6155.61 1433.56 L6171.93 1433.56 L6171.93 1437.49 L6149.99 1437.49 L6149.99 1433.56 Q6152.65 1430.8 6157.23 1426.17 Q6161.84 1421.52 6163.02 1420.18 Q6165.26 1417.65 6166.14 1415.92 Q6167.05 1414.16 6167.05 1412.47 Q6167.05 1409.71 6165.1 1407.98 Q6163.18 1406.24 6160.08 1406.24 Q6157.88 1406.24 6155.42 1407.01 Q6152.99 1407.77 6150.22 1409.32 L6150.22 1404.6 Q6153.04 1403.46 6155.49 1402.89 Q6157.95 1402.31 6159.99 1402.31 Q6165.36 1402.31 6168.55 1404.99 Q6171.74 1407.68 6171.74 1412.17 Q6171.74 1414.3 6170.93 1416.22 Q6170.15 1418.12 6168.04 1420.71 Q6167.46 1421.38 6164.36 1424.6 Q6161.26 1427.79 6155.61 1433.56 Z\" fill=\"#000000\" fill-rule=\"evenodd\" fill-opacity=\"1\" /><path clip-path=\"url(#clip300)\" d=\"M 0 0 M6573.6 1406.01 Q6569.99 1406.01 6568.16 1409.58 Q6566.36 1413.12 6566.36 1420.25 Q6566.36 1427.35 6568.16 1430.92 Q6569.99 1434.46 6573.6 1434.46 Q6577.23 1434.46 6579.04 1430.92 Q6580.87 1427.35 6580.87 1420.25 Q6580.87 1413.12 6579.04 1409.58 Q6577.23 1406.01 6573.6 1406.01 M6573.6 1402.31 Q6579.41 1402.31 6582.47 1406.91 Q6585.54 1411.5 6585.54 1420.25 Q6585.54 1428.97 6582.47 1433.58 Q6579.41 1438.16 6573.6 1438.16 Q6567.79 1438.16 6564.71 1433.58 Q6561.66 1428.97 6561.66 1420.25 Q6561.66 1411.5 6564.71 1406.91 Q6567.79 1402.31 6573.6 1402.31 Z\" fill=\"#000000\" fill-rule=\"evenodd\" fill-opacity=\"1\" /><path clip-path=\"url(#clip300)\" d=\"M 0 0 M6593.76 1431.61 L6598.65 1431.61 L6598.65 1437.49 L6593.76 1437.49 L6593.76 1431.61 Z\" fill=\"#000000\" fill-rule=\"evenodd\" fill-opacity=\"1\" /><path clip-path=\"url(#clip300)\" d=\"M 0 0 M6609.64 1433.56 L6617.28 1433.56 L6617.28 1407.19 L6608.97 1408.86 L6608.97 1404.6 L6617.23 1402.93 L6621.91 1402.93 L6621.91 1433.56 L6629.55 1433.56 L6629.55 1437.49 L6609.64 1437.49 L6609.64 1433.56 Z\" fill=\"#000000\" fill-rule=\"evenodd\" fill-opacity=\"1\" /><path clip-path=\"url(#clip300)\" d=\"M 0 0 M6651.84 1407.01 L6640.04 1425.45 L6651.84 1425.45 L6651.84 1407.01 M6650.61 1402.93 L6656.49 1402.93 L6656.49 1425.45 L6661.42 1425.45 L6661.42 1429.34 L6656.49 1429.34 L6656.49 1437.49 L6651.84 1437.49 L6651.84 1429.34 L6636.24 1429.34 L6636.24 1424.83 L6650.61 1402.93 Z\" fill=\"#000000\" fill-rule=\"evenodd\" fill-opacity=\"1\" /><path clip-path=\"url(#clip300)\" d=\"M 0 0 M7062.22 1406.01 Q7058.6 1406.01 7056.78 1409.58 Q7054.97 1413.12 7054.97 1420.25 Q7054.97 1427.35 7056.78 1430.92 Q7058.6 1434.46 7062.22 1434.46 Q7065.85 1434.46 7067.66 1430.92 Q7069.48 1427.35 7069.48 1420.25 Q7069.48 1413.12 7067.66 1409.58 Q7065.85 1406.01 7062.22 1406.01 M7062.22 1402.31 Q7068.03 1402.31 7071.08 1406.91 Q7074.16 1411.5 7074.16 1420.25 Q7074.16 1428.97 7071.08 1433.58 Q7068.03 1438.16 7062.22 1438.16 Q7056.41 1438.16 7053.33 1433.58 Q7050.27 1428.97 7050.27 1420.25 Q7050.27 1411.5 7053.33 1406.91 Q7056.41 1402.31 7062.22 1402.31 Z\" fill=\"#000000\" fill-rule=\"evenodd\" fill-opacity=\"1\" /><path clip-path=\"url(#clip300)\" d=\"M 0 0 M7082.38 1431.61 L7087.26 1431.61 L7087.26 1437.49 L7082.38 1437.49 L7082.38 1431.61 Z\" fill=\"#000000\" fill-rule=\"evenodd\" fill-opacity=\"1\" /><path clip-path=\"url(#clip300)\" d=\"M 0 0 M7098.26 1433.56 L7105.9 1433.56 L7105.9 1407.19 L7097.59 1408.86 L7097.59 1404.6 L7105.85 1402.93 L7110.53 1402.93 L7110.53 1433.56 L7118.16 1433.56 L7118.16 1437.49 L7098.26 1437.49 L7098.26 1433.56 Z\" fill=\"#000000\" fill-rule=\"evenodd\" fill-opacity=\"1\" /><path clip-path=\"url(#clip300)\" d=\"M 0 0 M7138.19 1418.35 Q7135.04 1418.35 7133.19 1420.5 Q7131.36 1422.65 7131.36 1426.4 Q7131.36 1430.13 7133.19 1432.31 Q7135.04 1434.46 7138.19 1434.46 Q7141.34 1434.46 7143.16 1432.31 Q7145.02 1430.13 7145.02 1426.4 Q7145.02 1422.65 7143.16 1420.5 Q7141.34 1418.35 7138.19 1418.35 M7147.47 1403.7 L7147.47 1407.95 Q7145.71 1407.12 7143.91 1406.68 Q7142.12 1406.24 7140.36 1406.24 Q7135.73 1406.24 7133.28 1409.37 Q7130.85 1412.49 7130.5 1418.81 Q7131.87 1416.8 7133.93 1415.73 Q7135.99 1414.64 7138.47 1414.64 Q7143.67 1414.64 7146.68 1417.82 Q7149.72 1420.96 7149.72 1426.4 Q7149.72 1431.73 7146.57 1434.95 Q7143.42 1438.16 7138.19 1438.16 Q7132.19 1438.16 7129.02 1433.58 Q7125.85 1428.97 7125.85 1420.25 Q7125.85 1412.05 7129.74 1407.19 Q7133.63 1402.31 7140.18 1402.31 Q7141.94 1402.31 7143.72 1402.65 Q7145.53 1403 7147.47 1403.7 Z\" fill=\"#000000\" fill-rule=\"evenodd\" fill-opacity=\"1\" /><path clip-path=\"url(#clip300)\" d=\"M 0 0 M5707.45 1507.76 L5747.65 1507.76 L5747.65 1513.17 L5730.78 1513.17 L5730.78 1555.28 L5724.32 1555.28 L5724.32 1513.17 L5707.45 1513.17 L5707.45 1507.76 Z\" fill=\"#000000\" fill-rule=\"evenodd\" fill-opacity=\"1\" /><path clip-path=\"url(#clip300)\" d=\"M 0 0 M5764.68 1525.11 Q5763.69 1524.54 5762.51 1524.28 Q5761.37 1524 5759.96 1524 Q5755 1524 5752.33 1527.24 Q5749.68 1530.46 5749.68 1536.5 L5749.68 1555.28 L5743.8 1555.28 L5743.8 1519.64 L5749.68 1519.64 L5749.68 1525.17 Q5751.53 1521.93 5754.49 1520.37 Q5757.45 1518.78 5761.68 1518.78 Q5762.29 1518.78 5763.02 1518.87 Q5763.75 1518.94 5764.64 1519.09 L5764.68 1525.11 Z\" fill=\"#000000\" fill-rule=\"evenodd\" fill-opacity=\"1\" /><path clip-path=\"url(#clip300)\" d=\"M 0 0 M5770.21 1541.22 L5770.21 1519.64 L5776.07 1519.64 L5776.07 1540.99 Q5776.07 1546.05 5778.04 1548.6 Q5780.02 1551.11 5783.96 1551.11 Q5788.71 1551.11 5791.44 1548.09 Q5794.21 1545.07 5794.21 1539.85 L5794.21 1519.64 L5800.07 1519.64 L5800.07 1555.28 L5794.21 1555.28 L5794.21 1549.81 Q5792.08 1553.06 5789.25 1554.65 Q5786.45 1556.21 5782.72 1556.21 Q5776.58 1556.21 5773.4 1552.39 Q5770.21 1548.57 5770.21 1541.22 M5784.95 1518.78 L5784.95 1518.78 Z\" fill=\"#000000\" fill-rule=\"evenodd\" fill-opacity=\"1\" /><path clip-path=\"url(#clip300)\" d=\"M 0 0 M5842.62 1536 L5842.62 1538.86 L5815.7 1538.86 Q5816.08 1544.91 5819.32 1548.09 Q5822.6 1551.24 5828.43 1551.24 Q5831.8 1551.24 5834.95 1550.41 Q5838.14 1549.59 5841.25 1547.93 L5841.25 1553.47 Q5838.1 1554.81 5834.79 1555.51 Q5831.48 1556.21 5828.08 1556.21 Q5819.55 1556.21 5814.55 1551.24 Q5809.59 1546.28 5809.59 1537.81 Q5809.59 1529.06 5814.3 1523.93 Q5819.04 1518.78 5827.06 1518.78 Q5834.25 1518.78 5838.42 1523.42 Q5842.62 1528.04 5842.62 1536 M5836.77 1534.28 Q5836.7 1529.47 5834.06 1526.61 Q5831.45 1523.74 5827.12 1523.74 Q5822.22 1523.74 5819.26 1526.51 Q5816.33 1529.28 5815.89 1534.31 L5836.77 1534.28 Z\" fill=\"#000000\" fill-rule=\"evenodd\" fill-opacity=\"1\" /><path clip-path=\"url(#clip300)\" d=\"M 0 0 M5878.62 1549.94 L5878.62 1568.84 L5872.73 1568.84 L5872.73 1519.64 L5878.62 1519.64 L5878.62 1525.05 Q5880.47 1521.86 5883.27 1520.34 Q5886.1 1518.78 5890.02 1518.78 Q5896.51 1518.78 5900.55 1523.93 Q5904.63 1529.09 5904.63 1537.49 Q5904.63 1545.89 5900.55 1551.05 Q5896.51 1556.21 5890.02 1556.21 Q5886.1 1556.21 5883.27 1554.68 Q5880.47 1553.12 5878.62 1549.94 M5898.55 1537.49 Q5898.55 1531.03 5895.87 1527.37 Q5893.23 1523.68 5888.58 1523.68 Q5883.94 1523.68 5881.26 1527.37 Q5878.62 1531.03 5878.62 1537.49 Q5878.62 1543.95 5881.26 1547.64 Q5883.94 1551.31 5888.58 1551.31 Q5893.23 1551.31 5895.87 1547.64 Q5898.55 1543.95 5898.55 1537.49 Z\" fill=\"#000000\" fill-rule=\"evenodd\" fill-opacity=\"1\" /><path clip-path=\"url(#clip300)\" d=\"M 0 0 M5930.53 1537.36 Q5923.44 1537.36 5920.7 1538.99 Q5917.96 1540.61 5917.96 1544.53 Q5917.96 1547.64 5920 1549.49 Q5922.07 1551.31 5925.6 1551.31 Q5930.47 1551.31 5933.4 1547.87 Q5936.36 1544.4 5936.36 1538.67 L5936.36 1537.36 L5930.53 1537.36 M5942.21 1534.95 L5942.21 1555.28 L5936.36 1555.28 L5936.36 1549.87 Q5934.35 1553.12 5931.36 1554.68 Q5928.37 1556.21 5924.04 1556.21 Q5918.57 1556.21 5915.32 1553.15 Q5912.1 1550.06 5912.1 1544.91 Q5912.1 1538.89 5916.12 1535.84 Q5920.16 1532.78 5928.15 1532.78 L5936.36 1532.78 L5936.36 1532.21 Q5936.36 1528.17 5933.68 1525.97 Q5931.04 1523.74 5926.24 1523.74 Q5923.18 1523.74 5920.28 1524.47 Q5917.39 1525.21 5914.71 1526.67 L5914.71 1521.26 Q5917.93 1520.02 5920.95 1519.41 Q5923.98 1518.78 5926.84 1518.78 Q5934.58 1518.78 5938.4 1522.79 Q5942.21 1526.8 5942.21 1534.95 Z\" fill=\"#000000\" fill-rule=\"evenodd\" fill-opacity=\"1\" /><path clip-path=\"url(#clip300)\" d=\"M 0 0 M5974.93 1525.11 Q5973.95 1524.54 5972.77 1524.28 Q5971.62 1524 5970.22 1524 Q5965.26 1524 5962.58 1527.24 Q5959.94 1530.46 5959.94 1536.5 L5959.94 1555.28 L5954.05 1555.28 L5954.05 1519.64 L5959.94 1519.64 L5959.94 1525.17 Q5961.79 1521.93 5964.75 1520.37 Q5967.71 1518.78 5971.94 1518.78 Q5972.55 1518.78 5973.28 1518.87 Q5974.01 1518.94 5974.9 1519.09 L5974.93 1525.11 Z\" fill=\"#000000\" fill-rule=\"evenodd\" fill-opacity=\"1\" /><path clip-path=\"url(#clip300)\" d=\"M 0 0 M5997.28 1537.36 Q5990.18 1537.36 5987.44 1538.99 Q5984.71 1540.61 5984.71 1544.53 Q5984.71 1547.64 5986.74 1549.49 Q5988.81 1551.31 5992.34 1551.31 Q5997.21 1551.31 6000.14 1547.87 Q6003.1 1544.4 6003.1 1538.67 L6003.1 1537.36 L5997.28 1537.36 M6008.96 1534.95 L6008.96 1555.28 L6003.1 1555.28 L6003.1 1549.87 Q6001.1 1553.12 5998.11 1554.68 Q5995.11 1556.21 5990.79 1556.21 Q5985.31 1556.21 5982.06 1553.15 Q5978.85 1550.06 5978.85 1544.91 Q5978.85 1538.89 5982.86 1535.84 Q5986.9 1532.78 5994.89 1532.78 L6003.1 1532.78 L6003.1 1532.21 Q6003.1 1528.17 6000.43 1525.97 Q5997.79 1523.74 5992.98 1523.74 Q5989.93 1523.74 5987.03 1524.47 Q5984.13 1525.21 5981.46 1526.67 L5981.46 1521.26 Q5984.67 1520.02 5987.7 1519.41 Q5990.72 1518.78 5993.59 1518.78 Q6001.32 1518.78 6005.14 1522.79 Q6008.96 1526.8 6008.96 1534.95 Z\" fill=\"#000000\" fill-rule=\"evenodd\" fill-opacity=\"1\" /><path clip-path=\"url(#clip300)\" d=\"M 0 0 M6048.78 1526.48 Q6050.97 1522.53 6054.03 1520.65 Q6057.08 1518.78 6061.22 1518.78 Q6066.79 1518.78 6069.82 1522.69 Q6072.84 1526.57 6072.84 1533.77 L6072.84 1555.28 L6066.95 1555.28 L6066.95 1533.96 Q6066.95 1528.83 6065.14 1526.35 Q6063.32 1523.87 6059.6 1523.87 Q6055.05 1523.87 6052.41 1526.89 Q6049.76 1529.92 6049.76 1535.14 L6049.76 1555.28 L6043.88 1555.28 L6043.88 1533.96 Q6043.88 1528.8 6042.06 1526.35 Q6040.25 1523.87 6036.46 1523.87 Q6031.97 1523.87 6029.33 1526.92 Q6026.69 1529.95 6026.69 1535.14 L6026.69 1555.28 L6020.8 1555.28 L6020.8 1519.64 L6026.69 1519.64 L6026.69 1525.17 Q6028.69 1521.9 6031.49 1520.34 Q6034.29 1518.78 6038.15 1518.78 Q6042.03 1518.78 6044.73 1520.75 Q6047.47 1522.72 6048.78 1526.48 Z\" fill=\"#000000\" fill-rule=\"evenodd\" fill-opacity=\"1\" /><path clip-path=\"url(#clip300)\" d=\"M 0 0 M6115.01 1536 L6115.01 1538.86 L6088.08 1538.86 Q6088.47 1544.91 6091.71 1548.09 Q6094.99 1551.24 6100.82 1551.24 Q6104.19 1551.24 6107.34 1550.41 Q6110.52 1549.59 6113.64 1547.93 L6113.64 1553.47 Q6110.49 1554.81 6107.18 1555.51 Q6103.87 1556.21 6100.47 1556.21 Q6091.94 1556.21 6086.94 1551.24 Q6081.97 1546.28 6081.97 1537.81 Q6081.97 1529.06 6086.68 1523.93 Q6091.43 1518.78 6099.45 1518.78 Q6106.64 1518.78 6110.81 1523.42 Q6115.01 1528.04 6115.01 1536 M6109.16 1534.28 Q6109.09 1529.47 6106.45 1526.61 Q6103.84 1523.74 6099.51 1523.74 Q6094.61 1523.74 6091.65 1526.51 Q6088.72 1529.28 6088.28 1534.31 L6109.16 1534.28 Z\" fill=\"#000000\" fill-rule=\"evenodd\" fill-opacity=\"1\" /><path clip-path=\"url(#clip300)\" d=\"M 0 0 M6130.42 1509.51 L6130.42 1519.64 L6142.48 1519.64 L6142.48 1524.19 L6130.42 1524.19 L6130.42 1543.54 Q6130.42 1547.9 6131.59 1549.14 Q6132.8 1550.38 6136.46 1550.38 L6142.48 1550.38 L6142.48 1555.28 L6136.46 1555.28 Q6129.68 1555.28 6127.11 1552.77 Q6124.53 1550.22 6124.53 1543.54 L6124.53 1524.19 L6120.23 1524.19 L6120.23 1519.64 L6124.53 1519.64 L6124.53 1509.51 L6130.42 1509.51 Z\" fill=\"#000000\" fill-rule=\"evenodd\" fill-opacity=\"1\" /><path clip-path=\"url(#clip300)\" d=\"M 0 0 M6180.67 1536 L6180.67 1538.86 L6153.75 1538.86 Q6154.13 1544.91 6157.38 1548.09 Q6160.65 1551.24 6166.48 1551.24 Q6169.85 1551.24 6173 1550.41 Q6176.19 1549.59 6179.31 1547.93 L6179.31 1553.47 Q6176.15 1554.81 6172.84 1555.51 Q6169.53 1556.21 6166.13 1556.21 Q6157.6 1556.21 6152.6 1551.24 Q6147.64 1546.28 6147.64 1537.81 Q6147.64 1529.06 6152.35 1523.93 Q6157.09 1518.78 6165.11 1518.78 Q6172.3 1518.78 6176.47 1523.42 Q6180.67 1528.04 6180.67 1536 M6174.82 1534.28 Q6174.75 1529.47 6172.11 1526.61 Q6169.5 1523.74 6165.17 1523.74 Q6160.27 1523.74 6157.31 1526.51 Q6154.38 1529.28 6153.94 1534.31 L6174.82 1534.28 Z\" fill=\"#000000\" fill-rule=\"evenodd\" fill-opacity=\"1\" /><path clip-path=\"url(#clip300)\" d=\"M 0 0 M6210.94 1525.11 Q6209.96 1524.54 6208.78 1524.28 Q6207.63 1524 6206.23 1524 Q6201.27 1524 6198.59 1527.24 Q6195.95 1530.46 6195.95 1536.5 L6195.95 1555.28 L6190.06 1555.28 L6190.06 1519.64 L6195.95 1519.64 L6195.95 1525.17 Q6197.8 1521.93 6200.76 1520.37 Q6203.72 1518.78 6207.95 1518.78 Q6208.56 1518.78 6209.29 1518.87 Q6210.02 1518.94 6210.91 1519.09 L6210.94 1525.11 Z\" fill=\"#000000\" fill-rule=\"evenodd\" fill-opacity=\"1\" /><path clip-path=\"url(#clip300)\" d=\"M 0 0 M6233.6 1519.64 L6239.81 1519.64 L6250.95 1549.55 L6262.09 1519.64 L6268.3 1519.64 L6254.93 1555.28 L6246.97 1555.28 L6233.6 1519.64 Z\" fill=\"#000000\" fill-rule=\"evenodd\" fill-opacity=\"1\" /><path clip-path=\"url(#clip300)\" d=\"M 0 0 M6292.58 1537.36 Q6285.49 1537.36 6282.75 1538.99 Q6280.01 1540.61 6280.01 1544.53 Q6280.01 1547.64 6282.05 1549.49 Q6284.12 1551.31 6287.65 1551.31 Q6292.52 1551.31 6295.45 1547.87 Q6298.41 1544.4 6298.41 1538.67 L6298.41 1537.36 L6292.58 1537.36 M6304.26 1534.95 L6304.26 1555.28 L6298.41 1555.28 L6298.41 1549.87 Q6296.4 1553.12 6293.41 1554.68 Q6290.42 1556.21 6286.09 1556.21 Q6280.62 1556.21 6277.37 1553.15 Q6274.15 1550.06 6274.15 1544.91 Q6274.15 1538.89 6278.16 1535.84 Q6282.21 1532.78 6290.2 1532.78 L6298.41 1532.78 L6298.41 1532.21 Q6298.41 1528.17 6295.73 1525.97 Q6293.09 1523.74 6288.29 1523.74 Q6285.23 1523.74 6282.33 1524.47 Q6279.44 1525.21 6276.76 1526.67 L6276.76 1521.26 Q6279.98 1520.02 6283 1519.41 Q6286.03 1518.78 6288.89 1518.78 Q6296.63 1518.78 6300.44 1522.79 Q6304.26 1526.8 6304.26 1534.95 Z\" fill=\"#000000\" fill-rule=\"evenodd\" fill-opacity=\"1\" /><path clip-path=\"url(#clip300)\" d=\"M 0 0 M6316.33 1505.76 L6322.18 1505.76 L6322.18 1555.28 L6316.33 1555.28 L6316.33 1505.76 Z\" fill=\"#000000\" fill-rule=\"evenodd\" fill-opacity=\"1\" /><path clip-path=\"url(#clip300)\" d=\"M 0 0 M6333.83 1541.22 L6333.83 1519.64 L6339.69 1519.64 L6339.69 1540.99 Q6339.69 1546.05 6341.66 1548.6 Q6343.64 1551.11 6347.58 1551.11 Q6352.33 1551.11 6355.06 1548.09 Q6357.83 1545.07 6357.83 1539.85 L6357.83 1519.64 L6363.69 1519.64 L6363.69 1555.28 L6357.83 1555.28 L6357.83 1549.81 Q6355.7 1553.06 6352.87 1554.65 Q6350.07 1556.21 6346.34 1556.21 Q6340.2 1556.21 6337.02 1552.39 Q6333.83 1548.57 6333.83 1541.22 M6348.57 1518.78 L6348.57 1518.78 Z\" fill=\"#000000\" fill-rule=\"evenodd\" fill-opacity=\"1\" /><path clip-path=\"url(#clip300)\" d=\"M 0 0 M6406.24 1536 L6406.24 1538.86 L6379.32 1538.86 Q6379.7 1544.91 6382.94 1548.09 Q6386.22 1551.24 6392.05 1551.24 Q6395.42 1551.24 6398.57 1550.41 Q6401.76 1549.59 6404.87 1547.93 L6404.87 1553.47 Q6401.72 1554.81 6398.41 1555.51 Q6395.1 1556.21 6391.7 1556.21 Q6383.17 1556.21 6378.17 1551.24 Q6373.2 1546.28 6373.2 1537.81 Q6373.2 1529.06 6377.92 1523.93 Q6382.66 1518.78 6390.68 1518.78 Q6397.87 1518.78 6402.04 1523.42 Q6406.24 1528.04 6406.24 1536 M6400.39 1534.28 Q6400.32 1529.47 6397.68 1526.61 Q6395.07 1523.74 6390.74 1523.74 Q6385.84 1523.74 6382.88 1526.51 Q6379.95 1529.28 6379.51 1534.31 L6400.39 1534.28 Z\" fill=\"#000000\" fill-rule=\"evenodd\" fill-opacity=\"1\" /><path clip-path=\"url(#clip300)\" d=\"M 0 0 M6417.35 1547.2 L6424.07 1547.2 L6424.07 1552.67 L6418.85 1562.86 L6414.74 1562.86 L6417.35 1552.67 L6417.35 1547.2 Z\" fill=\"#000000\" fill-rule=\"evenodd\" fill-opacity=\"1\" /><path clip-path=\"url(#clip300)\" d=\"M 0 0 M6487.79 1536 L6487.79 1538.86 L6460.86 1538.86 Q6461.24 1544.91 6464.49 1548.09 Q6467.77 1551.24 6473.59 1551.24 Q6476.97 1551.24 6480.12 1550.41 Q6483.3 1549.59 6486.42 1547.93 L6486.42 1553.47 Q6483.27 1554.81 6479.96 1555.51 Q6476.65 1556.21 6473.24 1556.21 Q6464.71 1556.21 6459.71 1551.24 Q6454.75 1546.28 6454.75 1537.81 Q6454.75 1529.06 6459.46 1523.93 Q6464.2 1518.78 6472.22 1518.78 Q6479.42 1518.78 6483.59 1523.42 Q6487.79 1528.04 6487.79 1536 M6481.93 1534.28 Q6481.87 1529.47 6479.23 1526.61 Q6476.62 1523.74 6472.29 1523.74 Q6467.39 1523.74 6464.43 1526.51 Q6461.5 1529.28 6461.05 1534.31 L6481.93 1534.28 Z\" fill=\"#000000\" fill-rule=\"evenodd\" fill-opacity=\"1\" /><path clip-path=\"url(#clip300)\" d=\"M 0 0 M6509.91 1555.28 L6491.77 1507.76 L6498.48 1507.76 L6513.54 1547.77 L6528.62 1507.76 L6535.31 1507.76 L6517.2 1555.28 L6509.91 1555.28 Z\" fill=\"#000000\" fill-rule=\"evenodd\" fill-opacity=\"1\" /><polyline clip-path=\"url(#clip302)\" style=\"stroke:#000000; stroke-width:2; stroke-opacity:0.1; fill:none\" points=\"\n",
       "  5090,1306.63 7152.76,1306.63 \n",
       "  \"/>\n",
       "<polyline clip-path=\"url(#clip302)\" style=\"stroke:#000000; stroke-width:2; stroke-opacity:0.1; fill:none\" points=\"\n",
       "  5090,1002.18 7152.76,1002.18 \n",
       "  \"/>\n",
       "<polyline clip-path=\"url(#clip302)\" style=\"stroke:#000000; stroke-width:2; stroke-opacity:0.1; fill:none\" points=\"\n",
       "  5090,697.73 7152.76,697.73 \n",
       "  \"/>\n",
       "<polyline clip-path=\"url(#clip302)\" style=\"stroke:#000000; stroke-width:2; stroke-opacity:0.1; fill:none\" points=\"\n",
       "  5090,393.283 7152.76,393.283 \n",
       "  \"/>\n",
       "<polyline clip-path=\"url(#clip302)\" style=\"stroke:#000000; stroke-width:2; stroke-opacity:0.1; fill:none\" points=\"\n",
       "  5090,88.8357 7152.76,88.8357 \n",
       "  \"/>\n",
       "<polyline clip-path=\"url(#clip300)\" style=\"stroke:#000000; stroke-width:4; stroke-opacity:1; fill:none\" points=\"\n",
       "  5090,1338.42 5090,47.2441 \n",
       "  \"/>\n",
       "<polyline clip-path=\"url(#clip300)\" style=\"stroke:#000000; stroke-width:4; stroke-opacity:1; fill:none\" points=\"\n",
       "  5090,1306.63 5114.75,1306.63 \n",
       "  \"/>\n",
       "<polyline clip-path=\"url(#clip300)\" style=\"stroke:#000000; stroke-width:4; stroke-opacity:1; fill:none\" points=\"\n",
       "  5090,1002.18 5114.75,1002.18 \n",
       "  \"/>\n",
       "<polyline clip-path=\"url(#clip300)\" style=\"stroke:#000000; stroke-width:4; stroke-opacity:1; fill:none\" points=\"\n",
       "  5090,697.73 5114.75,697.73 \n",
       "  \"/>\n",
       "<polyline clip-path=\"url(#clip300)\" style=\"stroke:#000000; stroke-width:4; stroke-opacity:1; fill:none\" points=\"\n",
       "  5090,393.283 5114.75,393.283 \n",
       "  \"/>\n",
       "<polyline clip-path=\"url(#clip300)\" style=\"stroke:#000000; stroke-width:4; stroke-opacity:1; fill:none\" points=\"\n",
       "  5090,88.8357 5114.75,88.8357 \n",
       "  \"/>\n",
       "<path clip-path=\"url(#clip300)\" d=\"M 0 0 M4894.75 1292.42 Q4891.14 1292.42 4889.31 1295.99 Q4887.51 1299.53 4887.51 1306.66 Q4887.51 1313.77 4889.31 1317.33 Q4891.14 1320.87 4894.75 1320.87 Q4898.39 1320.87 4900.19 1317.33 Q4902.02 1313.77 4902.02 1306.66 Q4902.02 1299.53 4900.19 1295.99 Q4898.39 1292.42 4894.75 1292.42 M4894.75 1288.72 Q4900.56 1288.72 4903.62 1293.33 Q4906.7 1297.91 4906.7 1306.66 Q4906.7 1315.39 4903.62 1319.99 Q4900.56 1324.58 4894.75 1324.58 Q4888.94 1324.58 4885.87 1319.99 Q4882.81 1315.39 4882.81 1306.66 Q4882.81 1297.91 4885.87 1293.33 Q4888.94 1288.72 4894.75 1288.72 Z\" fill=\"#000000\" fill-rule=\"evenodd\" fill-opacity=\"1\" /><path clip-path=\"url(#clip300)\" d=\"M 0 0 M4914.92 1318.03 L4919.8 1318.03 L4919.8 1323.91 L4914.92 1323.91 L4914.92 1318.03 Z\" fill=\"#000000\" fill-rule=\"evenodd\" fill-opacity=\"1\" /><path clip-path=\"url(#clip300)\" d=\"M 0 0 M4939.99 1292.42 Q4936.37 1292.42 4934.55 1295.99 Q4932.74 1299.53 4932.74 1306.66 Q4932.74 1313.77 4934.55 1317.33 Q4936.37 1320.87 4939.99 1320.87 Q4943.62 1320.87 4945.43 1317.33 Q4947.25 1313.77 4947.25 1306.66 Q4947.25 1299.53 4945.43 1295.99 Q4943.62 1292.42 4939.99 1292.42 M4939.99 1288.72 Q4945.8 1288.72 4948.85 1293.33 Q4951.93 1297.91 4951.93 1306.66 Q4951.93 1315.39 4948.85 1319.99 Q4945.8 1324.58 4939.99 1324.58 Q4934.18 1324.58 4931.1 1319.99 Q4928.04 1315.39 4928.04 1306.66 Q4928.04 1297.91 4931.1 1293.33 Q4934.18 1288.72 4939.99 1288.72 Z\" fill=\"#000000\" fill-rule=\"evenodd\" fill-opacity=\"1\" /><path clip-path=\"url(#clip300)\" d=\"M 0 0 M4970.15 1307.49 Q4966.81 1307.49 4964.89 1309.28 Q4962.99 1311.06 4962.99 1314.18 Q4962.99 1317.31 4964.89 1319.09 Q4966.81 1320.87 4970.15 1320.87 Q4973.48 1320.87 4975.4 1319.09 Q4977.32 1317.28 4977.32 1314.18 Q4977.32 1311.06 4975.4 1309.28 Q4973.5 1307.49 4970.15 1307.49 M4965.47 1305.5 Q4962.46 1304.76 4960.77 1302.7 Q4959.11 1300.64 4959.11 1297.68 Q4959.11 1293.53 4962.05 1291.13 Q4965.01 1288.72 4970.15 1288.72 Q4975.31 1288.72 4978.25 1291.13 Q4981.19 1293.53 4981.19 1297.68 Q4981.19 1300.64 4979.5 1302.7 Q4977.83 1304.76 4974.85 1305.5 Q4978.23 1306.29 4980.1 1308.58 Q4982 1310.87 4982 1314.18 Q4982 1319.21 4978.92 1321.89 Q4975.86 1324.58 4970.15 1324.58 Q4964.43 1324.58 4961.35 1321.89 Q4958.3 1319.21 4958.3 1314.18 Q4958.3 1310.87 4960.19 1308.58 Q4962.09 1306.29 4965.47 1305.5 M4963.76 1298.12 Q4963.76 1300.8 4965.43 1302.31 Q4967.12 1303.81 4970.15 1303.81 Q4973.16 1303.81 4974.85 1302.31 Q4976.56 1300.8 4976.56 1298.12 Q4976.56 1295.43 4974.85 1293.93 Q4973.16 1292.42 4970.15 1292.42 Q4967.12 1292.42 4965.43 1293.93 Q4963.76 1295.43 4963.76 1298.12 Z\" fill=\"#000000\" fill-rule=\"evenodd\" fill-opacity=\"1\" /><path clip-path=\"url(#clip300)\" d=\"M 0 0 M4894.66 987.977 Q4891.05 987.977 4889.22 991.541 Q4887.42 995.083 4887.42 1002.21 Q4887.42 1009.32 4889.22 1012.88 Q4891.05 1016.43 4894.66 1016.43 Q4898.3 1016.43 4900.1 1012.88 Q4901.93 1009.32 4901.93 1002.21 Q4901.93 995.083 4900.1 991.541 Q4898.3 987.977 4894.66 987.977 M4894.66 984.273 Q4900.47 984.273 4903.53 988.879 Q4906.61 993.463 4906.61 1002.21 Q4906.61 1010.94 4903.53 1015.55 Q4900.47 1020.13 4894.66 1020.13 Q4888.85 1020.13 4885.77 1015.55 Q4882.72 1010.94 4882.72 1002.21 Q4882.72 993.463 4885.77 988.879 Q4888.85 984.273 4894.66 984.273 Z\" fill=\"#000000\" fill-rule=\"evenodd\" fill-opacity=\"1\" /><path clip-path=\"url(#clip300)\" d=\"M 0 0 M4914.82 1013.58 L4919.71 1013.58 L4919.71 1019.46 L4914.82 1019.46 L4914.82 1013.58 Z\" fill=\"#000000\" fill-rule=\"evenodd\" fill-opacity=\"1\" /><path clip-path=\"url(#clip300)\" d=\"M 0 0 M4930.7 1015.52 L4938.34 1015.52 L4938.34 989.157 L4930.03 990.824 L4930.03 986.564 L4938.3 984.898 L4942.97 984.898 L4942.97 1015.52 L4950.61 1015.52 L4950.61 1019.46 L4930.7 1019.46 L4930.7 1015.52 Z\" fill=\"#000000\" fill-rule=\"evenodd\" fill-opacity=\"1\" /><path clip-path=\"url(#clip300)\" d=\"M 0 0 M4970.05 987.977 Q4966.44 987.977 4964.62 991.541 Q4962.81 995.083 4962.81 1002.21 Q4962.81 1009.32 4964.62 1012.88 Q4966.44 1016.43 4970.05 1016.43 Q4973.69 1016.43 4975.49 1012.88 Q4977.32 1009.32 4977.32 1002.21 Q4977.32 995.083 4975.49 991.541 Q4973.69 987.977 4970.05 987.977 M4970.05 984.273 Q4975.86 984.273 4978.92 988.879 Q4982 993.463 4982 1002.21 Q4982 1010.94 4978.92 1015.55 Q4975.86 1020.13 4970.05 1020.13 Q4964.24 1020.13 4961.17 1015.55 Q4958.11 1010.94 4958.11 1002.21 Q4958.11 993.463 4961.17 988.879 Q4964.24 984.273 4970.05 984.273 Z\" fill=\"#000000\" fill-rule=\"evenodd\" fill-opacity=\"1\" /><path clip-path=\"url(#clip300)\" d=\"M 0 0 M4896.26 683.529 Q4892.65 683.529 4890.82 687.094 Q4889.01 690.636 4889.01 697.765 Q4889.01 704.872 4890.82 708.436 Q4892.65 711.978 4896.26 711.978 Q4899.89 711.978 4901.7 708.436 Q4903.53 704.872 4903.53 697.765 Q4903.53 690.636 4901.7 687.094 Q4899.89 683.529 4896.26 683.529 M4896.26 679.825 Q4902.07 679.825 4905.12 684.432 Q4908.2 689.015 4908.2 697.765 Q4908.2 706.492 4905.12 711.098 Q4902.07 715.682 4896.26 715.682 Q4890.45 715.682 4887.37 711.098 Q4884.31 706.492 4884.31 697.765 Q4884.31 689.015 4887.37 684.432 Q4890.45 679.825 4896.26 679.825 Z\" fill=\"#000000\" fill-rule=\"evenodd\" fill-opacity=\"1\" /><path clip-path=\"url(#clip300)\" d=\"M 0 0 M4916.42 709.131 L4921.31 709.131 L4921.31 715.01 L4916.42 715.01 L4916.42 709.131 Z\" fill=\"#000000\" fill-rule=\"evenodd\" fill-opacity=\"1\" /><path clip-path=\"url(#clip300)\" d=\"M 0 0 M4932.3 711.075 L4939.94 711.075 L4939.94 684.71 L4931.63 686.376 L4931.63 682.117 L4939.89 680.45 L4944.57 680.45 L4944.57 711.075 L4952.21 711.075 L4952.21 715.01 L4932.3 715.01 L4932.3 711.075 Z\" fill=\"#000000\" fill-rule=\"evenodd\" fill-opacity=\"1\" /><path clip-path=\"url(#clip300)\" d=\"M 0 0 M4965.68 711.075 L4982 711.075 L4982 715.01 L4960.05 715.01 L4960.05 711.075 Q4962.72 708.321 4967.3 703.691 Q4971.91 699.038 4973.09 697.696 Q4975.33 695.173 4976.21 693.437 Q4977.11 691.677 4977.11 689.987 Q4977.11 687.233 4975.17 685.497 Q4973.25 683.761 4970.15 683.761 Q4967.95 683.761 4965.49 684.525 Q4963.06 685.288 4960.29 686.839 L4960.29 682.117 Q4963.11 680.983 4965.56 680.404 Q4968.02 679.825 4970.05 679.825 Q4975.43 679.825 4978.62 682.511 Q4981.81 685.196 4981.81 689.687 Q4981.81 691.816 4981 693.737 Q4980.22 695.636 4978.11 698.228 Q4977.53 698.899 4974.43 702.117 Q4971.33 705.311 4965.68 711.075 Z\" fill=\"#000000\" fill-rule=\"evenodd\" fill-opacity=\"1\" /><path clip-path=\"url(#clip300)\" d=\"M 0 0 M4894.18 379.082 Q4890.56 379.082 4888.74 382.647 Q4886.93 386.188 4886.93 393.318 Q4886.93 400.424 4888.74 403.989 Q4890.56 407.531 4894.18 407.531 Q4897.81 407.531 4899.62 403.989 Q4901.44 400.424 4901.44 393.318 Q4901.44 386.188 4899.62 382.647 Q4897.81 379.082 4894.18 379.082 M4894.18 375.378 Q4899.99 375.378 4903.04 379.985 Q4906.12 384.568 4906.12 393.318 Q4906.12 402.045 4903.04 406.651 Q4899.99 411.234 4894.18 411.234 Q4888.37 411.234 4885.29 406.651 Q4882.23 402.045 4882.23 393.318 Q4882.23 384.568 4885.29 379.985 Q4888.37 375.378 4894.18 375.378 Z\" fill=\"#000000\" fill-rule=\"evenodd\" fill-opacity=\"1\" /><path clip-path=\"url(#clip300)\" d=\"M 0 0 M4914.34 404.683 L4919.22 404.683 L4919.22 410.563 L4914.34 410.563 L4914.34 404.683 Z\" fill=\"#000000\" fill-rule=\"evenodd\" fill-opacity=\"1\" /><path clip-path=\"url(#clip300)\" d=\"M 0 0 M4930.22 406.628 L4937.86 406.628 L4937.86 380.262 L4929.55 381.929 L4929.55 377.67 L4937.81 376.003 L4942.49 376.003 L4942.49 406.628 L4950.12 406.628 L4950.12 410.563 L4930.22 410.563 L4930.22 406.628 Z\" fill=\"#000000\" fill-rule=\"evenodd\" fill-opacity=\"1\" /><path clip-path=\"url(#clip300)\" d=\"M 0 0 M4972.42 380.077 L4960.61 398.526 L4972.42 398.526 L4972.42 380.077 M4971.19 376.003 L4977.07 376.003 L4977.07 398.526 L4982 398.526 L4982 402.415 L4977.07 402.415 L4977.07 410.563 L4972.42 410.563 L4972.42 402.415 L4956.81 402.415 L4956.81 397.901 L4971.19 376.003 Z\" fill=\"#000000\" fill-rule=\"evenodd\" fill-opacity=\"1\" /><path clip-path=\"url(#clip300)\" d=\"M 0 0 M4894.5 74.6344 Q4890.89 74.6344 4889.06 78.1992 Q4887.25 81.7409 4887.25 88.8705 Q4887.25 95.9769 4889.06 99.5417 Q4890.89 103.083 4894.5 103.083 Q4898.13 103.083 4899.94 99.5417 Q4901.77 95.9769 4901.77 88.8705 Q4901.77 81.7409 4899.94 78.1992 Q4898.13 74.6344 4894.5 74.6344 M4894.5 70.9307 Q4900.31 70.9307 4903.37 75.5372 Q4906.44 80.1205 4906.44 88.8705 Q4906.44 97.5973 4903.37 102.204 Q4900.31 106.787 4894.5 106.787 Q4888.69 106.787 4885.61 102.204 Q4882.56 97.5973 4882.56 88.8705 Q4882.56 80.1205 4885.61 75.5372 Q4888.69 70.9307 4894.5 70.9307 Z\" fill=\"#000000\" fill-rule=\"evenodd\" fill-opacity=\"1\" /><path clip-path=\"url(#clip300)\" d=\"M 0 0 M4914.66 100.236 L4919.55 100.236 L4919.55 106.116 L4914.66 106.116 L4914.66 100.236 Z\" fill=\"#000000\" fill-rule=\"evenodd\" fill-opacity=\"1\" /><path clip-path=\"url(#clip300)\" d=\"M 0 0 M4930.54 102.181 L4938.18 102.181 L4938.18 75.815 L4929.87 77.4816 L4929.87 73.2224 L4938.13 71.5557 L4942.81 71.5557 L4942.81 102.181 L4950.45 102.181 L4950.45 106.116 L4930.54 106.116 L4930.54 102.181 Z\" fill=\"#000000\" fill-rule=\"evenodd\" fill-opacity=\"1\" /><path clip-path=\"url(#clip300)\" d=\"M 0 0 M4970.47 86.9723 Q4967.32 86.9723 4965.47 89.1251 Q4963.64 91.2778 4963.64 95.0278 Q4963.64 98.7547 4965.47 100.931 Q4967.32 103.083 4970.47 103.083 Q4973.62 103.083 4975.45 100.931 Q4977.3 98.7547 4977.3 95.0278 Q4977.3 91.2778 4975.45 89.1251 Q4973.62 86.9723 4970.47 86.9723 M4979.75 72.3196 L4979.75 76.5789 Q4977.99 75.7455 4976.19 75.3057 Q4974.41 74.8659 4972.65 74.8659 Q4968.02 74.8659 4965.56 77.9909 Q4963.13 81.1159 4962.79 87.4353 Q4964.15 85.4214 4966.21 84.3566 Q4968.27 83.2686 4970.75 83.2686 Q4975.96 83.2686 4978.97 86.4399 Q4982 89.588 4982 95.0278 Q4982 100.352 4978.85 103.569 Q4975.7 106.787 4970.47 106.787 Q4964.48 106.787 4961.3 102.204 Q4958.13 97.5973 4958.13 88.8705 Q4958.13 80.6761 4962.02 75.815 Q4965.91 70.9307 4972.46 70.9307 Q4974.22 70.9307 4976 71.278 Q4977.81 71.6252 4979.75 72.3196 Z\" fill=\"#000000\" fill-rule=\"evenodd\" fill-opacity=\"1\" /><path clip-path=\"url(#clip300)\" d=\"M 0 0 M4737.7 1183.56 Q4738.4 1181.5 4740.69 1179.55 Q4742.98 1177.58 4746.99 1175.61 L4759.98 1169.08 L4759.98 1175.99 L4747.78 1182.07 Q4743.01 1184.42 4741.45 1186.65 Q4739.89 1188.85 4739.89 1192.67 L4739.89 1199.67 L4759.98 1199.67 L4759.98 1206.1 L4712.46 1206.1 L4712.46 1191.58 Q4712.46 1183.44 4715.86 1179.43 Q4719.27 1175.42 4726.14 1175.42 Q4730.63 1175.42 4733.59 1177.52 Q4736.55 1179.59 4737.7 1183.56 M4717.74 1199.67 L4734.61 1199.67 L4734.61 1191.58 Q4734.61 1186.94 4732.48 1184.58 Q4730.31 1182.2 4726.14 1182.2 Q4721.97 1182.2 4719.87 1184.58 Q4717.74 1186.94 4717.74 1191.58 L4717.74 1199.67 Z\" fill=\"#000000\" fill-rule=\"evenodd\" fill-opacity=\"1\" /><path clip-path=\"url(#clip300)\" d=\"M 0 0 M4740.69 1133.5 L4743.55 1133.5 L4743.55 1160.42 Q4749.6 1160.04 4752.78 1156.8 Q4755.93 1153.52 4755.93 1147.69 Q4755.93 1144.32 4755.11 1141.17 Q4754.28 1137.99 4752.62 1134.87 L4758.16 1134.87 Q4759.5 1138.02 4760.2 1141.33 Q4760.9 1144.64 4760.9 1148.04 Q4760.9 1156.57 4755.93 1161.57 Q4750.97 1166.54 4742.5 1166.54 Q4733.75 1166.54 4728.62 1161.83 Q4723.47 1157.08 4723.47 1149.06 Q4723.47 1141.87 4728.11 1137.7 Q4732.73 1133.5 4740.69 1133.5 M4738.97 1139.35 Q4734.16 1139.42 4731.3 1142.06 Q4728.43 1144.67 4728.43 1149 Q4728.43 1153.9 4731.2 1156.86 Q4733.97 1159.79 4739 1160.23 L4738.97 1139.35 Z\" fill=\"#000000\" fill-rule=\"evenodd\" fill-opacity=\"1\" /><path clip-path=\"url(#clip300)\" d=\"M 0 0 M4725.7 1098.23 L4731.17 1098.23 Q4729.8 1100.71 4729.13 1103.23 Q4728.43 1105.71 4728.43 1108.26 Q4728.43 1113.96 4732.06 1117.11 Q4735.66 1120.26 4742.18 1120.26 Q4748.71 1120.26 4752.34 1117.11 Q4755.93 1113.96 4755.93 1108.26 Q4755.93 1105.71 4755.26 1103.23 Q4754.56 1100.71 4753.2 1098.23 L4758.61 1098.23 Q4759.75 1100.68 4760.33 1103.32 Q4760.9 1105.93 4760.9 1108.89 Q4760.9 1116.95 4755.84 1121.69 Q4750.78 1126.43 4742.18 1126.43 Q4733.46 1126.43 4728.46 1121.66 Q4723.47 1116.85 4723.47 1108.51 Q4723.47 1105.81 4724.04 1103.23 Q4724.58 1100.65 4725.7 1098.23 Z\" fill=\"#000000\" fill-rule=\"evenodd\" fill-opacity=\"1\" /><path clip-path=\"url(#clip300)\" d=\"M 0 0 M4728.43 1074.23 Q4728.43 1078.94 4732.13 1081.68 Q4735.79 1084.42 4742.18 1084.42 Q4748.58 1084.42 4752.27 1081.71 Q4755.93 1078.98 4755.93 1074.23 Q4755.93 1069.55 4752.24 1066.82 Q4748.55 1064.08 4742.18 1064.08 Q4735.85 1064.08 4732.16 1066.82 Q4728.43 1069.55 4728.43 1074.23 M4723.47 1074.23 Q4723.47 1066.59 4728.43 1062.23 Q4733.4 1057.87 4742.18 1057.87 Q4750.94 1057.87 4755.93 1062.23 Q4760.9 1066.59 4760.9 1074.23 Q4760.9 1081.9 4755.93 1086.26 Q4750.94 1090.59 4742.18 1090.59 Q4733.4 1090.59 4728.43 1086.26 Q4723.47 1081.9 4723.47 1074.23 Z\" fill=\"#000000\" fill-rule=\"evenodd\" fill-opacity=\"1\" /><path clip-path=\"url(#clip300)\" d=\"M 0 0 M4724.33 1052.37 L4724.33 1046.16 L4754.25 1035.02 L4724.33 1023.88 L4724.33 1017.67 L4759.98 1031.04 L4759.98 1039 L4724.33 1052.37 Z\" fill=\"#000000\" fill-rule=\"evenodd\" fill-opacity=\"1\" /><path clip-path=\"url(#clip300)\" d=\"M 0 0 M4740.69 979.098 L4743.55 979.098 L4743.55 1006.02 Q4749.6 1005.64 4752.78 1002.4 Q4755.93 999.118 4755.93 993.293 Q4755.93 989.919 4755.11 986.768 Q4754.28 983.586 4752.62 980.466 L4758.16 980.466 Q4759.5 983.617 4760.2 986.928 Q4760.9 990.238 4760.9 993.643 Q4760.9 1002.17 4755.93 1007.17 Q4750.97 1012.14 4742.5 1012.14 Q4733.75 1012.14 4728.62 1007.43 Q4723.47 1002.68 4723.47 994.662 Q4723.47 987.469 4728.11 983.299 Q4732.73 979.098 4740.69 979.098 M4738.97 984.954 Q4734.16 985.018 4731.3 987.66 Q4728.43 990.27 4728.43 994.598 Q4728.43 999.5 4731.2 1002.46 Q4733.97 1005.39 4739 1005.83 L4738.97 984.954 Z\" fill=\"#000000\" fill-rule=\"evenodd\" fill-opacity=\"1\" /><path clip-path=\"url(#clip300)\" d=\"M 0 0 M4729.8 948.829 Q4729.23 949.815 4728.97 950.993 Q4728.69 952.139 4728.69 953.539 Q4728.69 958.505 4731.93 961.178 Q4735.15 963.82 4741.2 963.82 L4759.98 963.82 L4759.98 969.708 L4724.33 969.708 L4724.33 963.82 L4729.87 963.82 Q4726.62 961.974 4725.06 959.014 Q4723.47 956.054 4723.47 951.821 Q4723.47 951.216 4723.56 950.484 Q4723.63 949.752 4723.79 948.861 L4729.8 948.829 Z\" fill=\"#000000\" fill-rule=\"evenodd\" fill-opacity=\"1\" /><path clip-path=\"url(#clip300)\" d=\"M 0 0 M4740.69 913.626 L4743.55 913.626 L4743.55 940.553 Q4749.6 940.171 4752.78 936.925 Q4755.93 933.647 4755.93 927.822 Q4755.93 924.448 4755.11 921.297 Q4754.28 918.114 4752.62 914.995 L4758.16 914.995 Q4759.5 918.146 4760.2 921.456 Q4760.9 924.766 4760.9 928.172 Q4760.9 936.702 4755.93 941.699 Q4750.97 946.664 4742.5 946.664 Q4733.75 946.664 4728.62 941.954 Q4723.47 937.211 4723.47 929.191 Q4723.47 921.997 4728.11 917.828 Q4732.73 913.626 4740.69 913.626 M4738.97 919.483 Q4734.16 919.547 4731.3 922.188 Q4728.43 924.798 4728.43 929.127 Q4728.43 934.028 4731.2 936.989 Q4733.97 939.917 4739 940.362 L4738.97 919.483 Z\" fill=\"#000000\" fill-rule=\"evenodd\" fill-opacity=\"1\" /><path clip-path=\"url(#clip300)\" d=\"M 0 0 M4729.74 880.557 L4710.45 880.557 L4710.45 874.7 L4759.98 874.7 L4759.98 880.557 L4754.63 880.557 Q4757.81 882.403 4759.37 885.235 Q4760.9 888.036 4760.9 891.983 Q4760.9 898.444 4755.74 902.518 Q4750.59 906.56 4742.18 906.56 Q4733.78 906.56 4728.62 902.518 Q4723.47 898.444 4723.47 891.983 Q4723.47 888.036 4725.03 885.235 Q4726.56 882.403 4729.74 880.557 M4742.18 900.513 Q4748.64 900.513 4752.34 897.871 Q4756 895.198 4756 890.551 Q4756 885.904 4752.34 883.23 Q4748.64 880.557 4742.18 880.557 Q4735.72 880.557 4732.06 883.23 Q4728.37 885.904 4728.37 890.551 Q4728.37 895.198 4732.06 897.871 Q4735.72 900.513 4742.18 900.513 Z\" fill=\"#000000\" fill-rule=\"evenodd\" fill-opacity=\"1\" /><path clip-path=\"url(#clip300)\" d=\"M 0 0 M4754.63 836.251 L4773.53 836.251 L4773.53 842.14 L4724.33 842.14 L4724.33 836.251 L4729.74 836.251 Q4726.56 834.405 4725.03 831.604 Q4723.47 828.772 4723.47 824.857 Q4723.47 818.364 4728.62 814.321 Q4733.78 810.247 4742.18 810.247 Q4750.59 810.247 4755.74 814.321 Q4760.9 818.364 4760.9 824.857 Q4760.9 828.772 4759.37 831.604 Q4757.81 834.405 4754.63 836.251 M4742.18 816.327 Q4735.72 816.327 4732.06 819 Q4728.37 821.642 4728.37 826.289 Q4728.37 830.936 4732.06 833.609 Q4735.72 836.251 4742.18 836.251 Q4748.64 836.251 4752.34 833.609 Q4756 830.936 4756 826.289 Q4756 821.642 4752.34 819 Q4748.64 816.327 4742.18 816.327 Z\" fill=\"#000000\" fill-rule=\"evenodd\" fill-opacity=\"1\" /><path clip-path=\"url(#clip300)\" d=\"M 0 0 M4742.06 784.339 Q4742.06 791.437 4743.68 794.174 Q4745.3 796.911 4749.22 796.911 Q4752.34 796.911 4754.18 794.874 Q4756 792.805 4756 789.272 Q4756 784.403 4752.56 781.474 Q4749.09 778.514 4743.36 778.514 L4742.06 778.514 L4742.06 784.339 M4739.64 772.658 L4759.98 772.658 L4759.98 778.514 L4754.56 778.514 Q4757.81 780.519 4759.37 783.511 Q4760.9 786.503 4760.9 790.832 Q4760.9 796.306 4757.84 799.553 Q4754.76 802.768 4749.6 802.768 Q4743.58 802.768 4740.53 798.757 Q4737.47 794.715 4737.47 786.726 L4737.47 778.514 L4736.9 778.514 Q4732.86 778.514 4730.66 781.188 Q4728.43 783.83 4728.43 788.636 Q4728.43 791.691 4729.17 794.588 Q4729.9 797.484 4731.36 800.158 L4725.95 800.158 Q4724.71 796.943 4724.1 793.919 Q4723.47 790.896 4723.47 788.031 Q4723.47 780.297 4727.48 776.477 Q4731.49 772.658 4739.64 772.658 Z\" fill=\"#000000\" fill-rule=\"evenodd\" fill-opacity=\"1\" /><path clip-path=\"url(#clip300)\" d=\"M 0 0 M4729.8 739.938 Q4729.23 740.925 4728.97 742.102 Q4728.69 743.248 4728.69 744.649 Q4728.69 749.614 4731.93 752.288 Q4735.15 754.929 4741.2 754.929 L4759.98 754.929 L4759.98 760.818 L4724.33 760.818 L4724.33 754.929 L4729.87 754.929 Q4726.62 753.083 4725.06 750.123 Q4723.47 747.163 4723.47 742.93 Q4723.47 742.325 4723.56 741.593 Q4723.63 740.861 4723.79 739.97 L4729.8 739.938 Z\" fill=\"#000000\" fill-rule=\"evenodd\" fill-opacity=\"1\" /><path clip-path=\"url(#clip300)\" d=\"M 0 0 M4742.06 717.594 Q4742.06 724.692 4743.68 727.429 Q4745.3 730.167 4749.22 730.167 Q4752.34 730.167 4754.18 728.13 Q4756 726.061 4756 722.528 Q4756 717.658 4752.56 714.73 Q4749.09 711.77 4743.36 711.77 L4742.06 711.77 L4742.06 717.594 M4739.64 705.913 L4759.98 705.913 L4759.98 711.77 L4754.56 711.77 Q4757.81 713.775 4759.37 716.767 Q4760.9 719.759 4760.9 724.087 Q4760.9 729.562 4757.84 732.809 Q4754.76 736.023 4749.6 736.023 Q4743.58 736.023 4740.53 732.013 Q4737.47 727.971 4737.47 719.982 L4737.47 711.77 L4736.9 711.77 Q4732.86 711.77 4730.66 714.443 Q4728.43 717.085 4728.43 721.891 Q4728.43 724.947 4729.17 727.843 Q4729.9 730.74 4731.36 733.413 L4725.95 733.413 Q4724.71 730.199 4724.1 727.175 Q4723.47 724.151 4723.47 721.287 Q4723.47 713.552 4727.48 709.733 Q4731.49 705.913 4739.64 705.913 Z\" fill=\"#000000\" fill-rule=\"evenodd\" fill-opacity=\"1\" /><path clip-path=\"url(#clip300)\" d=\"M 0 0 M4731.17 666.096 Q4727.22 663.9 4725.35 660.844 Q4723.47 657.789 4723.47 653.651 Q4723.47 648.081 4727.38 645.057 Q4731.27 642.034 4738.46 642.034 L4759.98 642.034 L4759.98 647.922 L4738.65 647.922 Q4733.53 647.922 4731.04 649.736 Q4728.56 651.55 4728.56 655.274 Q4728.56 659.826 4731.58 662.467 Q4734.61 665.109 4739.83 665.109 L4759.98 665.109 L4759.98 670.997 L4738.65 670.997 Q4733.49 670.997 4731.04 672.812 Q4728.56 674.626 4728.56 678.414 Q4728.56 682.901 4731.62 685.543 Q4734.64 688.185 4739.83 688.185 L4759.98 688.185 L4759.98 694.073 L4724.33 694.073 L4724.33 688.185 L4729.87 688.185 Q4726.59 686.18 4725.03 683.379 Q4723.47 680.578 4723.47 676.727 Q4723.47 672.844 4725.44 670.138 Q4727.41 667.401 4731.17 666.096 Z\" fill=\"#000000\" fill-rule=\"evenodd\" fill-opacity=\"1\" /><path clip-path=\"url(#clip300)\" d=\"M 0 0 M4740.69 599.861 L4743.55 599.861 L4743.55 626.788 Q4749.6 626.406 4752.78 623.159 Q4755.93 619.881 4755.93 614.056 Q4755.93 610.682 4755.11 607.531 Q4754.28 604.349 4752.62 601.229 L4758.16 601.229 Q4759.5 604.38 4760.2 607.691 Q4760.9 611.001 4760.9 614.406 Q4760.9 622.936 4755.93 627.933 Q4750.97 632.899 4742.5 632.899 Q4733.75 632.899 4728.62 628.188 Q4723.47 623.446 4723.47 615.425 Q4723.47 608.232 4728.11 604.062 Q4732.73 599.861 4740.69 599.861 M4738.97 605.717 Q4734.16 605.781 4731.3 608.423 Q4728.43 611.033 4728.43 615.361 Q4728.43 620.263 4731.2 623.223 Q4733.97 626.151 4739 626.597 L4738.97 605.717 Z\" fill=\"#000000\" fill-rule=\"evenodd\" fill-opacity=\"1\" /><path clip-path=\"url(#clip300)\" d=\"M 0 0 M4714.21 584.456 L4724.33 584.456 L4724.33 572.393 L4728.88 572.393 L4728.88 584.456 L4748.23 584.456 Q4752.59 584.456 4753.83 583.278 Q4755.07 582.069 4755.07 578.408 L4755.07 572.393 L4759.98 572.393 L4759.98 578.408 Q4759.98 585.188 4757.46 587.766 Q4754.91 590.344 4748.23 590.344 L4728.88 590.344 L4728.88 594.641 L4724.33 594.641 L4724.33 590.344 L4714.21 590.344 L4714.21 584.456 Z\" fill=\"#000000\" fill-rule=\"evenodd\" fill-opacity=\"1\" /><path clip-path=\"url(#clip300)\" d=\"M 0 0 M4740.69 534.198 L4743.55 534.198 L4743.55 561.125 Q4749.6 560.743 4752.78 557.497 Q4755.93 554.219 4755.93 548.394 Q4755.93 545.02 4755.11 541.869 Q4754.28 538.686 4752.62 535.567 L4758.16 535.567 Q4759.5 538.718 4760.2 542.028 Q4760.9 545.338 4760.9 548.744 Q4760.9 557.274 4755.93 562.271 Q4750.97 567.236 4742.5 567.236 Q4733.75 567.236 4728.62 562.526 Q4723.47 557.783 4723.47 549.763 Q4723.47 542.569 4728.11 538.4 Q4732.73 534.198 4740.69 534.198 M4738.97 540.055 Q4734.16 540.119 4731.3 542.76 Q4728.43 545.37 4728.43 549.699 Q4728.43 554.601 4731.2 557.561 Q4733.97 560.489 4739 560.934 L4738.97 540.055 Z\" fill=\"#000000\" fill-rule=\"evenodd\" fill-opacity=\"1\" /><path clip-path=\"url(#clip300)\" d=\"M 0 0 M4729.8 503.93 Q4729.23 504.916 4728.97 506.094 Q4728.69 507.24 4728.69 508.64 Q4728.69 513.605 4731.93 516.279 Q4735.15 518.921 4741.2 518.921 L4759.98 518.921 L4759.98 524.809 L4724.33 524.809 L4724.33 518.921 L4729.87 518.921 Q4726.62 517.075 4725.06 514.115 Q4723.47 511.155 4723.47 506.921 Q4723.47 506.317 4723.56 505.585 Q4723.63 504.853 4723.79 503.961 L4729.8 503.93 Z\" fill=\"#000000\" fill-rule=\"evenodd\" fill-opacity=\"1\" /><path clip-path=\"url(#clip300)\" d=\"M 0 0 M4724.33 481.268 L4724.33 475.061 L4754.25 463.921 L4724.33 452.781 L4724.33 446.575 L4759.98 459.942 L4759.98 467.9 L4724.33 481.268 Z\" fill=\"#000000\" fill-rule=\"evenodd\" fill-opacity=\"1\" /><path clip-path=\"url(#clip300)\" d=\"M 0 0 M4742.06 422.289 Q4742.06 429.387 4743.68 432.124 Q4745.3 434.862 4749.22 434.862 Q4752.34 434.862 4754.18 432.825 Q4756 430.756 4756 427.223 Q4756 422.353 4752.56 419.425 Q4749.09 416.465 4743.36 416.465 L4742.06 416.465 L4742.06 422.289 M4739.64 410.608 L4759.98 410.608 L4759.98 416.465 L4754.56 416.465 Q4757.81 418.47 4759.37 421.462 Q4760.9 424.454 4760.9 428.782 Q4760.9 434.257 4757.84 437.503 Q4754.76 440.718 4749.6 440.718 Q4743.58 440.718 4740.53 436.708 Q4737.47 432.665 4737.47 424.676 L4737.47 416.465 L4736.9 416.465 Q4732.86 416.465 4730.66 419.138 Q4728.43 421.78 4728.43 426.586 Q4728.43 429.642 4729.17 432.538 Q4729.9 435.435 4731.36 438.108 L4725.95 438.108 Q4724.71 434.893 4724.1 431.87 Q4723.47 428.846 4723.47 425.981 Q4723.47 418.247 4727.48 414.428 Q4731.49 410.608 4739.64 410.608 Z\" fill=\"#000000\" fill-rule=\"evenodd\" fill-opacity=\"1\" /><path clip-path=\"url(#clip300)\" d=\"M 0 0 M4710.45 398.545 L4710.45 392.689 L4759.98 392.689 L4759.98 398.545 L4710.45 398.545 Z\" fill=\"#000000\" fill-rule=\"evenodd\" fill-opacity=\"1\" /><path clip-path=\"url(#clip300)\" d=\"M 0 0 M4745.91 381.04 L4724.33 381.04 L4724.33 375.183 L4745.68 375.183 Q4750.74 375.183 4753.29 373.21 Q4755.81 371.236 4755.81 367.29 Q4755.81 362.547 4752.78 359.81 Q4749.76 357.041 4744.54 357.041 L4724.33 357.041 L4724.33 351.184 L4759.98 351.184 L4759.98 357.041 L4754.5 357.041 Q4757.75 359.173 4759.34 362.006 Q4760.9 364.807 4760.9 368.531 Q4760.9 374.674 4757.08 377.857 Q4753.26 381.04 4745.91 381.04 M4723.47 366.303 L4723.47 366.303 Z\" fill=\"#000000\" fill-rule=\"evenodd\" fill-opacity=\"1\" /><path clip-path=\"url(#clip300)\" d=\"M 0 0 M4740.69 308.63 L4743.55 308.63 L4743.55 335.557 Q4749.6 335.175 4752.78 331.928 Q4755.93 328.65 4755.93 322.825 Q4755.93 319.451 4755.11 316.3 Q4754.28 313.117 4752.62 309.998 L4758.16 309.998 Q4759.5 313.149 4760.2 316.459 Q4760.9 319.77 4760.9 323.175 Q4760.9 331.705 4755.93 336.702 Q4750.97 341.668 4742.5 341.668 Q4733.75 341.668 4728.62 336.957 Q4723.47 332.215 4723.47 324.194 Q4723.47 317.001 4728.11 312.831 Q4732.73 308.63 4740.69 308.63 M4738.97 314.486 Q4734.16 314.55 4731.3 317.192 Q4728.43 319.801 4728.43 324.13 Q4728.43 329.032 4731.2 331.992 Q4733.97 334.92 4739 335.366 L4738.97 314.486 Z\" fill=\"#000000\" fill-rule=\"evenodd\" fill-opacity=\"1\" /><path clip-path=\"url(#clip300)\" d=\"M 0 0 M4751.89 297.521 L4751.89 290.806 L4757.37 290.806 L4767.55 296.026 L4767.55 300.131 L4757.37 297.521 L4751.89 297.521 Z\" fill=\"#000000\" fill-rule=\"evenodd\" fill-opacity=\"1\" /><path clip-path=\"url(#clip300)\" d=\"M 0 0 M4740.69 227.085 L4743.55 227.085 L4743.55 254.012 Q4749.6 253.63 4752.78 250.383 Q4755.93 247.105 4755.93 241.28 Q4755.93 237.907 4755.11 234.756 Q4754.28 231.573 4752.62 228.454 L4758.16 228.454 Q4759.5 231.605 4760.2 234.915 Q4760.9 238.225 4760.9 241.631 Q4760.9 250.161 4755.93 255.158 Q4750.97 260.123 4742.5 260.123 Q4733.75 260.123 4728.62 255.412 Q4723.47 250.67 4723.47 242.649 Q4723.47 235.456 4728.11 231.286 Q4732.73 227.085 4740.69 227.085 M4738.97 232.941 Q4734.16 233.005 4731.3 235.647 Q4728.43 238.257 4728.43 242.585 Q4728.43 247.487 4731.2 250.447 Q4733.97 253.375 4739 253.821 L4738.97 232.941 Z\" fill=\"#000000\" fill-rule=\"evenodd\" fill-opacity=\"1\" /><path clip-path=\"url(#clip300)\" d=\"M 0 0 M4759.98 204.964 L4712.46 223.106 L4712.46 216.391 L4752.46 201.336 L4712.46 186.249 L4712.46 179.565 L4759.98 197.675 L4759.98 204.964 Z\" fill=\"#000000\" fill-rule=\"evenodd\" fill-opacity=\"1\" /><circle clip-path=\"url(#clip302)\" cx=\"6184.63\" cy=\"660.563\" r=\"7\" fill=\"#009af9\" fill-rule=\"evenodd\" fill-opacity=\"1\" stroke=\"#000000\" stroke-opacity=\"1\" stroke-width=\"0\"/>\n",
       "<circle clip-path=\"url(#clip302)\" cx=\"6035.65\" cy=\"751.721\" r=\"7\" fill=\"#009af9\" fill-rule=\"evenodd\" fill-opacity=\"1\" stroke=\"#000000\" stroke-opacity=\"1\" stroke-width=\"0\"/>\n",
       "<circle clip-path=\"url(#clip302)\" cx=\"6000.73\" cy=\"781.723\" r=\"7\" fill=\"#009af9\" fill-rule=\"evenodd\" fill-opacity=\"1\" stroke=\"#000000\" stroke-opacity=\"1\" stroke-width=\"0\"/>\n",
       "<circle clip-path=\"url(#clip302)\" cx=\"6528.5\" cy=\"448.758\" r=\"7\" fill=\"#009af9\" fill-rule=\"evenodd\" fill-opacity=\"1\" stroke=\"#000000\" stroke-opacity=\"1\" stroke-width=\"0\"/>\n",
       "<circle clip-path=\"url(#clip302)\" cx=\"6271.58\" cy=\"601.657\" r=\"7\" fill=\"#009af9\" fill-rule=\"evenodd\" fill-opacity=\"1\" stroke=\"#000000\" stroke-opacity=\"1\" stroke-width=\"0\"/>\n",
       "<circle clip-path=\"url(#clip302)\" cx=\"6293.56\" cy=\"579.448\" r=\"7\" fill=\"#009af9\" fill-rule=\"evenodd\" fill-opacity=\"1\" stroke=\"#000000\" stroke-opacity=\"1\" stroke-width=\"0\"/>\n",
       "<circle clip-path=\"url(#clip302)\" cx=\"6263.52\" cy=\"615.658\" r=\"7\" fill=\"#009af9\" fill-rule=\"evenodd\" fill-opacity=\"1\" stroke=\"#000000\" stroke-opacity=\"1\" stroke-width=\"0\"/>\n",
       "<circle clip-path=\"url(#clip302)\" cx=\"5671.76\" cy=\"974.878\" r=\"7\" fill=\"#009af9\" fill-rule=\"evenodd\" fill-opacity=\"1\" stroke=\"#000000\" stroke-opacity=\"1\" stroke-width=\"0\"/>\n",
       "<circle clip-path=\"url(#clip302)\" cx=\"5400.91\" cy=\"1147.94\" r=\"7\" fill=\"#009af9\" fill-rule=\"evenodd\" fill-opacity=\"1\" stroke=\"#000000\" stroke-opacity=\"1\" stroke-width=\"0\"/>\n",
       "<circle clip-path=\"url(#clip302)\" cx=\"6386.61\" cy=\"539.077\" r=\"7\" fill=\"#009af9\" fill-rule=\"evenodd\" fill-opacity=\"1\" stroke=\"#000000\" stroke-opacity=\"1\" stroke-width=\"0\"/>\n",
       "<circle clip-path=\"url(#clip302)\" cx=\"5412.39\" cy=\"1146.1\" r=\"7\" fill=\"#009af9\" fill-rule=\"evenodd\" fill-opacity=\"1\" stroke=\"#000000\" stroke-opacity=\"1\" stroke-width=\"0\"/>\n",
       "<circle clip-path=\"url(#clip302)\" cx=\"5177.44\" cy=\"1293.23\" r=\"7\" fill=\"#009af9\" fill-rule=\"evenodd\" fill-opacity=\"1\" stroke=\"#000000\" stroke-opacity=\"1\" stroke-width=\"0\"/>\n",
       "<circle clip-path=\"url(#clip302)\" cx=\"5260.97\" cy=\"1238.61\" r=\"7\" fill=\"#009af9\" fill-rule=\"evenodd\" fill-opacity=\"1\" stroke=\"#000000\" stroke-opacity=\"1\" stroke-width=\"0\"/>\n",
       "<circle clip-path=\"url(#clip302)\" cx=\"5318.85\" cy=\"1200.19\" r=\"7\" fill=\"#009af9\" fill-rule=\"evenodd\" fill-opacity=\"1\" stroke=\"#000000\" stroke-opacity=\"1\" stroke-width=\"0\"/>\n",
       "<circle clip-path=\"url(#clip302)\" cx=\"5306.88\" cy=\"1204.91\" r=\"7\" fill=\"#009af9\" fill-rule=\"evenodd\" fill-opacity=\"1\" stroke=\"#000000\" stroke-opacity=\"1\" stroke-width=\"0\"/>\n",
       "<circle clip-path=\"url(#clip302)\" cx=\"5911.83\" cy=\"827.286\" r=\"7\" fill=\"#009af9\" fill-rule=\"evenodd\" fill-opacity=\"1\" stroke=\"#000000\" stroke-opacity=\"1\" stroke-width=\"0\"/>\n",
       "<circle clip-path=\"url(#clip302)\" cx=\"5310.06\" cy=\"1222.22\" r=\"7\" fill=\"#009af9\" fill-rule=\"evenodd\" fill-opacity=\"1\" stroke=\"#000000\" stroke-opacity=\"1\" stroke-width=\"0\"/>\n",
       "<circle clip-path=\"url(#clip302)\" cx=\"6994.24\" cy=\"139.843\" r=\"7\" fill=\"#009af9\" fill-rule=\"evenodd\" fill-opacity=\"1\" stroke=\"#000000\" stroke-opacity=\"1\" stroke-width=\"0\"/>\n",
       "<circle clip-path=\"url(#clip302)\" cx=\"5793.87\" cy=\"921.751\" r=\"7\" fill=\"#009af9\" fill-rule=\"evenodd\" fill-opacity=\"1\" stroke=\"#000000\" stroke-opacity=\"1\" stroke-width=\"0\"/>\n",
       "<circle clip-path=\"url(#clip302)\" cx=\"5509.35\" cy=\"1077.9\" r=\"7\" fill=\"#009af9\" fill-rule=\"evenodd\" fill-opacity=\"1\" stroke=\"#000000\" stroke-opacity=\"1\" stroke-width=\"0\"/>\n",
       "<circle clip-path=\"url(#clip302)\" cx=\"6177.79\" cy=\"667.363\" r=\"7\" fill=\"#009af9\" fill-rule=\"evenodd\" fill-opacity=\"1\" stroke=\"#000000\" stroke-opacity=\"1\" stroke-width=\"0\"/>\n",
       "<circle clip-path=\"url(#clip302)\" cx=\"6077.17\" cy=\"716.976\" r=\"7\" fill=\"#009af9\" fill-rule=\"evenodd\" fill-opacity=\"1\" stroke=\"#000000\" stroke-opacity=\"1\" stroke-width=\"0\"/>\n",
       "<circle clip-path=\"url(#clip302)\" cx=\"5707.66\" cy=\"952.507\" r=\"7\" fill=\"#009af9\" fill-rule=\"evenodd\" fill-opacity=\"1\" stroke=\"#000000\" stroke-opacity=\"1\" stroke-width=\"0\"/>\n",
       "<circle clip-path=\"url(#clip302)\" cx=\"5717.43\" cy=\"949.092\" r=\"7\" fill=\"#009af9\" fill-rule=\"evenodd\" fill-opacity=\"1\" stroke=\"#000000\" stroke-opacity=\"1\" stroke-width=\"0\"/>\n",
       "<circle clip-path=\"url(#clip302)\" cx=\"5216.76\" cy=\"1254.36\" r=\"7\" fill=\"#009af9\" fill-rule=\"evenodd\" fill-opacity=\"1\" stroke=\"#000000\" stroke-opacity=\"1\" stroke-width=\"0\"/>\n",
       "<circle clip-path=\"url(#clip302)\" cx=\"5705.22\" cy=\"957.84\" r=\"7\" fill=\"#009af9\" fill-rule=\"evenodd\" fill-opacity=\"1\" stroke=\"#000000\" stroke-opacity=\"1\" stroke-width=\"0\"/>\n",
       "<circle clip-path=\"url(#clip302)\" cx=\"7094.38\" cy=\"106.912\" r=\"7\" fill=\"#009af9\" fill-rule=\"evenodd\" fill-opacity=\"1\" stroke=\"#000000\" stroke-opacity=\"1\" stroke-width=\"0\"/>\n",
       "<circle clip-path=\"url(#clip302)\" cx=\"5520.58\" cy=\"1073.09\" r=\"7\" fill=\"#009af9\" fill-rule=\"evenodd\" fill-opacity=\"1\" stroke=\"#000000\" stroke-opacity=\"1\" stroke-width=\"0\"/>\n",
       "<circle clip-path=\"url(#clip302)\" cx=\"6519.71\" cy=\"448.021\" r=\"7\" fill=\"#009af9\" fill-rule=\"evenodd\" fill-opacity=\"1\" stroke=\"#000000\" stroke-opacity=\"1\" stroke-width=\"0\"/>\n",
       "<circle clip-path=\"url(#clip302)\" cx=\"5416.05\" cy=\"1137.6\" r=\"7\" fill=\"#009af9\" fill-rule=\"evenodd\" fill-opacity=\"1\" stroke=\"#000000\" stroke-opacity=\"1\" stroke-width=\"0\"/>\n",
       "<circle clip-path=\"url(#clip302)\" cx=\"6101.11\" cy=\"714.81\" r=\"7\" fill=\"#009af9\" fill-rule=\"evenodd\" fill-opacity=\"1\" stroke=\"#000000\" stroke-opacity=\"1\" stroke-width=\"0\"/>\n",
       "<circle clip-path=\"url(#clip302)\" cx=\"7032.1\" cy=\"118.403\" r=\"7\" fill=\"#009af9\" fill-rule=\"evenodd\" fill-opacity=\"1\" stroke=\"#000000\" stroke-opacity=\"1\" stroke-width=\"0\"/>\n",
       "<circle clip-path=\"url(#clip302)\" cx=\"5456.35\" cy=\"1115.87\" r=\"7\" fill=\"#009af9\" fill-rule=\"evenodd\" fill-opacity=\"1\" stroke=\"#000000\" stroke-opacity=\"1\" stroke-width=\"0\"/>\n",
       "<circle clip-path=\"url(#clip302)\" cx=\"5628.04\" cy=\"1012.28\" r=\"7\" fill=\"#009af9\" fill-rule=\"evenodd\" fill-opacity=\"1\" stroke=\"#000000\" stroke-opacity=\"1\" stroke-width=\"0\"/>\n",
       "<circle clip-path=\"url(#clip302)\" cx=\"5649.04\" cy=\"990.655\" r=\"7\" fill=\"#009af9\" fill-rule=\"evenodd\" fill-opacity=\"1\" stroke=\"#000000\" stroke-opacity=\"1\" stroke-width=\"0\"/>\n",
       "<circle clip-path=\"url(#clip302)\" cx=\"5586.03\" cy=\"1027.12\" r=\"7\" fill=\"#009af9\" fill-rule=\"evenodd\" fill-opacity=\"1\" stroke=\"#000000\" stroke-opacity=\"1\" stroke-width=\"0\"/>\n",
       "<circle clip-path=\"url(#clip302)\" cx=\"6456.21\" cy=\"499.446\" r=\"7\" fill=\"#009af9\" fill-rule=\"evenodd\" fill-opacity=\"1\" stroke=\"#000000\" stroke-opacity=\"1\" stroke-width=\"0\"/>\n",
       "<circle clip-path=\"url(#clip302)\" cx=\"6222.24\" cy=\"647.226\" r=\"7\" fill=\"#009af9\" fill-rule=\"evenodd\" fill-opacity=\"1\" stroke=\"#000000\" stroke-opacity=\"1\" stroke-width=\"0\"/>\n",
       "<circle clip-path=\"url(#clip302)\" cx=\"5439.99\" cy=\"1121.81\" r=\"7\" fill=\"#009af9\" fill-rule=\"evenodd\" fill-opacity=\"1\" stroke=\"#000000\" stroke-opacity=\"1\" stroke-width=\"0\"/>\n",
       "<circle clip-path=\"url(#clip302)\" cx=\"5616.07\" cy=\"1019.41\" r=\"7\" fill=\"#009af9\" fill-rule=\"evenodd\" fill-opacity=\"1\" stroke=\"#000000\" stroke-opacity=\"1\" stroke-width=\"0\"/>\n",
       "<circle clip-path=\"url(#clip302)\" cx=\"6143.85\" cy=\"702.85\" r=\"7\" fill=\"#009af9\" fill-rule=\"evenodd\" fill-opacity=\"1\" stroke=\"#000000\" stroke-opacity=\"1\" stroke-width=\"0\"/>\n",
       "<circle clip-path=\"url(#clip302)\" cx=\"5453.42\" cy=\"1118.64\" r=\"7\" fill=\"#009af9\" fill-rule=\"evenodd\" fill-opacity=\"1\" stroke=\"#000000\" stroke-opacity=\"1\" stroke-width=\"0\"/>\n",
       "<circle clip-path=\"url(#clip302)\" cx=\"6387.58\" cy=\"527.09\" r=\"7\" fill=\"#009af9\" fill-rule=\"evenodd\" fill-opacity=\"1\" stroke=\"#000000\" stroke-opacity=\"1\" stroke-width=\"0\"/>\n",
       "<circle clip-path=\"url(#clip302)\" cx=\"5215.05\" cy=\"1274.01\" r=\"7\" fill=\"#009af9\" fill-rule=\"evenodd\" fill-opacity=\"1\" stroke=\"#000000\" stroke-opacity=\"1\" stroke-width=\"0\"/>\n",
       "<circle clip-path=\"url(#clip302)\" cx=\"5151.55\" cy=\"1288.57\" r=\"7\" fill=\"#009af9\" fill-rule=\"evenodd\" fill-opacity=\"1\" stroke=\"#000000\" stroke-opacity=\"1\" stroke-width=\"0\"/>\n",
       "<circle clip-path=\"url(#clip302)\" cx=\"6108.68\" cy=\"700.143\" r=\"7\" fill=\"#009af9\" fill-rule=\"evenodd\" fill-opacity=\"1\" stroke=\"#000000\" stroke-opacity=\"1\" stroke-width=\"0\"/>\n",
       "<circle clip-path=\"url(#clip302)\" cx=\"5699.6\" cy=\"960.666\" r=\"7\" fill=\"#009af9\" fill-rule=\"evenodd\" fill-opacity=\"1\" stroke=\"#000000\" stroke-opacity=\"1\" stroke-width=\"0\"/>\n",
       "<circle clip-path=\"url(#clip302)\" cx=\"5788.74\" cy=\"901.797\" r=\"7\" fill=\"#009af9\" fill-rule=\"evenodd\" fill-opacity=\"1\" stroke=\"#000000\" stroke-opacity=\"1\" stroke-width=\"0\"/>\n",
       "<circle clip-path=\"url(#clip302)\" cx=\"5212.12\" cy=\"1279.77\" r=\"7\" fill=\"#009af9\" fill-rule=\"evenodd\" fill-opacity=\"1\" stroke=\"#000000\" stroke-opacity=\"1\" stroke-width=\"0\"/>\n",
       "<circle clip-path=\"url(#clip302)\" cx=\"6659.65\" cy=\"354.729\" r=\"7\" fill=\"#009af9\" fill-rule=\"evenodd\" fill-opacity=\"1\" stroke=\"#000000\" stroke-opacity=\"1\" stroke-width=\"0\"/>\n",
       "<circle clip-path=\"url(#clip302)\" cx=\"5438.03\" cy=\"1130.18\" r=\"7\" fill=\"#009af9\" fill-rule=\"evenodd\" fill-opacity=\"1\" stroke=\"#000000\" stroke-opacity=\"1\" stroke-width=\"0\"/>\n",
       "<circle clip-path=\"url(#clip302)\" cx=\"7086.07\" cy=\"126.822\" r=\"7\" fill=\"#009af9\" fill-rule=\"evenodd\" fill-opacity=\"1\" stroke=\"#000000\" stroke-opacity=\"1\" stroke-width=\"0\"/>\n",
       "<circle clip-path=\"url(#clip302)\" cx=\"5809.01\" cy=\"885.303\" r=\"7\" fill=\"#009af9\" fill-rule=\"evenodd\" fill-opacity=\"1\" stroke=\"#000000\" stroke-opacity=\"1\" stroke-width=\"0\"/>\n",
       "<circle clip-path=\"url(#clip302)\" cx=\"5673.95\" cy=\"981.333\" r=\"7\" fill=\"#009af9\" fill-rule=\"evenodd\" fill-opacity=\"1\" stroke=\"#000000\" stroke-opacity=\"1\" stroke-width=\"0\"/>\n",
       "<circle clip-path=\"url(#clip302)\" cx=\"5667.85\" cy=\"961.726\" r=\"7\" fill=\"#009af9\" fill-rule=\"evenodd\" fill-opacity=\"1\" stroke=\"#000000\" stroke-opacity=\"1\" stroke-width=\"0\"/>\n",
       "<circle clip-path=\"url(#clip302)\" cx=\"5338.88\" cy=\"1185.73\" r=\"7\" fill=\"#009af9\" fill-rule=\"evenodd\" fill-opacity=\"1\" stroke=\"#000000\" stroke-opacity=\"1\" stroke-width=\"0\"/>\n",
       "<circle clip-path=\"url(#clip302)\" cx=\"6246.67\" cy=\"622.378\" r=\"7\" fill=\"#009af9\" fill-rule=\"evenodd\" fill-opacity=\"1\" stroke=\"#000000\" stroke-opacity=\"1\" stroke-width=\"0\"/>\n",
       "<circle clip-path=\"url(#clip302)\" cx=\"5551.84\" cy=\"1047.51\" r=\"7\" fill=\"#009af9\" fill-rule=\"evenodd\" fill-opacity=\"1\" stroke=\"#000000\" stroke-opacity=\"1\" stroke-width=\"0\"/>\n",
       "<circle clip-path=\"url(#clip302)\" cx=\"6716.56\" cy=\"320.948\" r=\"7\" fill=\"#009af9\" fill-rule=\"evenodd\" fill-opacity=\"1\" stroke=\"#000000\" stroke-opacity=\"1\" stroke-width=\"0\"/>\n",
       "<circle clip-path=\"url(#clip302)\" cx=\"6135.05\" cy=\"690.941\" r=\"7\" fill=\"#009af9\" fill-rule=\"evenodd\" fill-opacity=\"1\" stroke=\"#000000\" stroke-opacity=\"1\" stroke-width=\"0\"/>\n",
       "<circle clip-path=\"url(#clip302)\" cx=\"7009.39\" cy=\"146.388\" r=\"7\" fill=\"#009af9\" fill-rule=\"evenodd\" fill-opacity=\"1\" stroke=\"#000000\" stroke-opacity=\"1\" stroke-width=\"0\"/>\n",
       "<circle clip-path=\"url(#clip302)\" cx=\"6454.5\" cy=\"493.979\" r=\"7\" fill=\"#009af9\" fill-rule=\"evenodd\" fill-opacity=\"1\" stroke=\"#000000\" stroke-opacity=\"1\" stroke-width=\"0\"/>\n",
       "<circle clip-path=\"url(#clip302)\" cx=\"5879.35\" cy=\"857.392\" r=\"7\" fill=\"#009af9\" fill-rule=\"evenodd\" fill-opacity=\"1\" stroke=\"#000000\" stroke-opacity=\"1\" stroke-width=\"0\"/>\n",
       "<circle clip-path=\"url(#clip302)\" cx=\"5584.32\" cy=\"1030.4\" r=\"7\" fill=\"#009af9\" fill-rule=\"evenodd\" fill-opacity=\"1\" stroke=\"#000000\" stroke-opacity=\"1\" stroke-width=\"0\"/>\n",
       "<circle clip-path=\"url(#clip302)\" cx=\"6918.29\" cy=\"199.903\" r=\"7\" fill=\"#009af9\" fill-rule=\"evenodd\" fill-opacity=\"1\" stroke=\"#000000\" stroke-opacity=\"1\" stroke-width=\"0\"/>\n",
       "<circle clip-path=\"url(#clip302)\" cx=\"6323.6\" cy=\"561.74\" r=\"7\" fill=\"#009af9\" fill-rule=\"evenodd\" fill-opacity=\"1\" stroke=\"#000000\" stroke-opacity=\"1\" stroke-width=\"0\"/>\n",
       "<circle clip-path=\"url(#clip302)\" cx=\"5363.79\" cy=\"1174.7\" r=\"7\" fill=\"#009af9\" fill-rule=\"evenodd\" fill-opacity=\"1\" stroke=\"#000000\" stroke-opacity=\"1\" stroke-width=\"0\"/>\n",
       "<circle clip-path=\"url(#clip302)\" cx=\"5455.62\" cy=\"1114.88\" r=\"7\" fill=\"#009af9\" fill-rule=\"evenodd\" fill-opacity=\"1\" stroke=\"#000000\" stroke-opacity=\"1\" stroke-width=\"0\"/>\n",
       "<circle clip-path=\"url(#clip302)\" cx=\"6930.5\" cy=\"199.982\" r=\"7\" fill=\"#009af9\" fill-rule=\"evenodd\" fill-opacity=\"1\" stroke=\"#000000\" stroke-opacity=\"1\" stroke-width=\"0\"/>\n",
       "<circle clip-path=\"url(#clip302)\" cx=\"5149.84\" cy=\"1301.32\" r=\"7\" fill=\"#009af9\" fill-rule=\"evenodd\" fill-opacity=\"1\" stroke=\"#000000\" stroke-opacity=\"1\" stroke-width=\"0\"/>\n",
       "<circle clip-path=\"url(#clip302)\" cx=\"6333.85\" cy=\"550.402\" r=\"7\" fill=\"#009af9\" fill-rule=\"evenodd\" fill-opacity=\"1\" stroke=\"#000000\" stroke-opacity=\"1\" stroke-width=\"0\"/>\n",
       "<circle clip-path=\"url(#clip302)\" cx=\"6545.84\" cy=\"426.313\" r=\"7\" fill=\"#009af9\" fill-rule=\"evenodd\" fill-opacity=\"1\" stroke=\"#000000\" stroke-opacity=\"1\" stroke-width=\"0\"/>\n",
       "<circle clip-path=\"url(#clip302)\" cx=\"6412.5\" cy=\"508.587\" r=\"7\" fill=\"#009af9\" fill-rule=\"evenodd\" fill-opacity=\"1\" stroke=\"#000000\" stroke-opacity=\"1\" stroke-width=\"0\"/>\n",
       "<circle clip-path=\"url(#clip302)\" cx=\"6937.34\" cy=\"185.216\" r=\"7\" fill=\"#009af9\" fill-rule=\"evenodd\" fill-opacity=\"1\" stroke=\"#000000\" stroke-opacity=\"1\" stroke-width=\"0\"/>\n",
       "<circle clip-path=\"url(#clip302)\" cx=\"5664.43\" cy=\"987.437\" r=\"7\" fill=\"#009af9\" fill-rule=\"evenodd\" fill-opacity=\"1\" stroke=\"#000000\" stroke-opacity=\"1\" stroke-width=\"0\"/>\n",
       "<circle clip-path=\"url(#clip302)\" cx=\"7018.18\" cy=\"129.569\" r=\"7\" fill=\"#009af9\" fill-rule=\"evenodd\" fill-opacity=\"1\" stroke=\"#000000\" stroke-opacity=\"1\" stroke-width=\"0\"/>\n",
       "<circle clip-path=\"url(#clip302)\" cx=\"7044.55\" cy=\"129.345\" r=\"7\" fill=\"#009af9\" fill-rule=\"evenodd\" fill-opacity=\"1\" stroke=\"#000000\" stroke-opacity=\"1\" stroke-width=\"0\"/>\n",
       "<circle clip-path=\"url(#clip302)\" cx=\"5317.87\" cy=\"1202.5\" r=\"7\" fill=\"#009af9\" fill-rule=\"evenodd\" fill-opacity=\"1\" stroke=\"#000000\" stroke-opacity=\"1\" stroke-width=\"0\"/>\n",
       "<circle clip-path=\"url(#clip302)\" cx=\"5561.85\" cy=\"1058.91\" r=\"7\" fill=\"#009af9\" fill-rule=\"evenodd\" fill-opacity=\"1\" stroke=\"#000000\" stroke-opacity=\"1\" stroke-width=\"0\"/>\n",
       "<circle clip-path=\"url(#clip302)\" cx=\"6417.87\" cy=\"506.914\" r=\"7\" fill=\"#009af9\" fill-rule=\"evenodd\" fill-opacity=\"1\" stroke=\"#000000\" stroke-opacity=\"1\" stroke-width=\"0\"/>\n",
       "<circle clip-path=\"url(#clip302)\" cx=\"5785.81\" cy=\"916.381\" r=\"7\" fill=\"#009af9\" fill-rule=\"evenodd\" fill-opacity=\"1\" stroke=\"#000000\" stroke-opacity=\"1\" stroke-width=\"0\"/>\n",
       "<circle clip-path=\"url(#clip302)\" cx=\"6452.3\" cy=\"502.641\" r=\"7\" fill=\"#009af9\" fill-rule=\"evenodd\" fill-opacity=\"1\" stroke=\"#000000\" stroke-opacity=\"1\" stroke-width=\"0\"/>\n",
       "<circle clip-path=\"url(#clip302)\" cx=\"5367.94\" cy=\"1175.7\" r=\"7\" fill=\"#009af9\" fill-rule=\"evenodd\" fill-opacity=\"1\" stroke=\"#000000\" stroke-opacity=\"1\" stroke-width=\"0\"/>\n",
       "<circle clip-path=\"url(#clip302)\" cx=\"6205.39\" cy=\"649.845\" r=\"7\" fill=\"#009af9\" fill-rule=\"evenodd\" fill-opacity=\"1\" stroke=\"#000000\" stroke-opacity=\"1\" stroke-width=\"0\"/>\n",
       "<circle clip-path=\"url(#clip302)\" cx=\"6958.34\" cy=\"168.048\" r=\"7\" fill=\"#009af9\" fill-rule=\"evenodd\" fill-opacity=\"1\" stroke=\"#000000\" stroke-opacity=\"1\" stroke-width=\"0\"/>\n",
       "<circle clip-path=\"url(#clip302)\" cx=\"5791.92\" cy=\"907.115\" r=\"7\" fill=\"#009af9\" fill-rule=\"evenodd\" fill-opacity=\"1\" stroke=\"#000000\" stroke-opacity=\"1\" stroke-width=\"0\"/>\n",
       "<circle clip-path=\"url(#clip302)\" cx=\"5787.28\" cy=\"912.262\" r=\"7\" fill=\"#009af9\" fill-rule=\"evenodd\" fill-opacity=\"1\" stroke=\"#000000\" stroke-opacity=\"1\" stroke-width=\"0\"/>\n",
       "<circle clip-path=\"url(#clip302)\" cx=\"5494.69\" cy=\"1093.68\" r=\"7\" fill=\"#009af9\" fill-rule=\"evenodd\" fill-opacity=\"1\" stroke=\"#000000\" stroke-opacity=\"1\" stroke-width=\"0\"/>\n",
       "<circle clip-path=\"url(#clip302)\" cx=\"6598.6\" cy=\"401.957\" r=\"7\" fill=\"#009af9\" fill-rule=\"evenodd\" fill-opacity=\"1\" stroke=\"#000000\" stroke-opacity=\"1\" stroke-width=\"0\"/>\n",
       "<circle clip-path=\"url(#clip302)\" cx=\"6708.25\" cy=\"340.662\" r=\"7\" fill=\"#009af9\" fill-rule=\"evenodd\" fill-opacity=\"1\" stroke=\"#000000\" stroke-opacity=\"1\" stroke-width=\"0\"/>\n",
       "<circle clip-path=\"url(#clip302)\" cx=\"5593.85\" cy=\"1045.45\" r=\"7\" fill=\"#009af9\" fill-rule=\"evenodd\" fill-opacity=\"1\" stroke=\"#000000\" stroke-opacity=\"1\" stroke-width=\"0\"/>\n",
       "<circle clip-path=\"url(#clip302)\" cx=\"6351.93\" cy=\"561.969\" r=\"7\" fill=\"#009af9\" fill-rule=\"evenodd\" fill-opacity=\"1\" stroke=\"#000000\" stroke-opacity=\"1\" stroke-width=\"0\"/>\n",
       "<circle clip-path=\"url(#clip302)\" cx=\"5561.37\" cy=\"1042.87\" r=\"7\" fill=\"#009af9\" fill-rule=\"evenodd\" fill-opacity=\"1\" stroke=\"#000000\" stroke-opacity=\"1\" stroke-width=\"0\"/>\n",
       "<circle clip-path=\"url(#clip302)\" cx=\"6341.67\" cy=\"538.455\" r=\"7\" fill=\"#009af9\" fill-rule=\"evenodd\" fill-opacity=\"1\" stroke=\"#000000\" stroke-opacity=\"1\" stroke-width=\"0\"/>\n",
       "<circle clip-path=\"url(#clip302)\" cx=\"5644.4\" cy=\"1001.42\" r=\"7\" fill=\"#009af9\" fill-rule=\"evenodd\" fill-opacity=\"1\" stroke=\"#000000\" stroke-opacity=\"1\" stroke-width=\"0\"/>\n",
       "<circle clip-path=\"url(#clip302)\" cx=\"6774.44\" cy=\"300.821\" r=\"7\" fill=\"#009af9\" fill-rule=\"evenodd\" fill-opacity=\"1\" stroke=\"#000000\" stroke-opacity=\"1\" stroke-width=\"0\"/>\n",
       "<circle clip-path=\"url(#clip302)\" cx=\"5737.7\" cy=\"939.953\" r=\"7\" fill=\"#009af9\" fill-rule=\"evenodd\" fill-opacity=\"1\" stroke=\"#000000\" stroke-opacity=\"1\" stroke-width=\"0\"/>\n",
       "<circle clip-path=\"url(#clip302)\" cx=\"7060.18\" cy=\"119.298\" r=\"7\" fill=\"#009af9\" fill-rule=\"evenodd\" fill-opacity=\"1\" stroke=\"#000000\" stroke-opacity=\"1\" stroke-width=\"0\"/>\n",
       "<circle clip-path=\"url(#clip302)\" cx=\"5158.64\" cy=\"1294.16\" r=\"7\" fill=\"#009af9\" fill-rule=\"evenodd\" fill-opacity=\"1\" stroke=\"#000000\" stroke-opacity=\"1\" stroke-width=\"0\"/>\n",
       "<circle clip-path=\"url(#clip302)\" cx=\"6989.6\" cy=\"155.955\" r=\"7\" fill=\"#009af9\" fill-rule=\"evenodd\" fill-opacity=\"1\" stroke=\"#000000\" stroke-opacity=\"1\" stroke-width=\"0\"/>\n",
       "<circle clip-path=\"url(#clip302)\" cx=\"5228.73\" cy=\"1258.29\" r=\"7\" fill=\"#009af9\" fill-rule=\"evenodd\" fill-opacity=\"1\" stroke=\"#000000\" stroke-opacity=\"1\" stroke-width=\"0\"/>\n",
       "<circle clip-path=\"url(#clip302)\" cx=\"6355.1\" cy=\"546.89\" r=\"7\" fill=\"#009af9\" fill-rule=\"evenodd\" fill-opacity=\"1\" stroke=\"#000000\" stroke-opacity=\"1\" stroke-width=\"0\"/>\n",
       "<circle clip-path=\"url(#clip302)\" cx=\"5390.16\" cy=\"1151.04\" r=\"7\" fill=\"#009af9\" fill-rule=\"evenodd\" fill-opacity=\"1\" stroke=\"#000000\" stroke-opacity=\"1\" stroke-width=\"0\"/>\n",
       "<circle clip-path=\"url(#clip302)\" cx=\"5637.08\" cy=\"998.553\" r=\"7\" fill=\"#009af9\" fill-rule=\"evenodd\" fill-opacity=\"1\" stroke=\"#000000\" stroke-opacity=\"1\" stroke-width=\"0\"/>\n",
       "<circle clip-path=\"url(#clip302)\" cx=\"6419.33\" cy=\"507.946\" r=\"7\" fill=\"#009af9\" fill-rule=\"evenodd\" fill-opacity=\"1\" stroke=\"#000000\" stroke-opacity=\"1\" stroke-width=\"0\"/>\n",
       "<circle clip-path=\"url(#clip302)\" cx=\"6418.6\" cy=\"513.93\" r=\"7\" fill=\"#009af9\" fill-rule=\"evenodd\" fill-opacity=\"1\" stroke=\"#000000\" stroke-opacity=\"1\" stroke-width=\"0\"/>\n",
       "<circle clip-path=\"url(#clip302)\" cx=\"5570.65\" cy=\"1037.59\" r=\"7\" fill=\"#009af9\" fill-rule=\"evenodd\" fill-opacity=\"1\" stroke=\"#000000\" stroke-opacity=\"1\" stroke-width=\"0\"/>\n",
       "<circle clip-path=\"url(#clip302)\" cx=\"5238.99\" cy=\"1248.96\" r=\"7\" fill=\"#009af9\" fill-rule=\"evenodd\" fill-opacity=\"1\" stroke=\"#000000\" stroke-opacity=\"1\" stroke-width=\"0\"/>\n",
       "<circle clip-path=\"url(#clip302)\" cx=\"5871.53\" cy=\"849.382\" r=\"7\" fill=\"#009af9\" fill-rule=\"evenodd\" fill-opacity=\"1\" stroke=\"#000000\" stroke-opacity=\"1\" stroke-width=\"0\"/>\n",
       "<circle clip-path=\"url(#clip302)\" cx=\"6423.97\" cy=\"511.167\" r=\"7\" fill=\"#009af9\" fill-rule=\"evenodd\" fill-opacity=\"1\" stroke=\"#000000\" stroke-opacity=\"1\" stroke-width=\"0\"/>\n",
       "<circle clip-path=\"url(#clip302)\" cx=\"6464.52\" cy=\"492.793\" r=\"7\" fill=\"#009af9\" fill-rule=\"evenodd\" fill-opacity=\"1\" stroke=\"#000000\" stroke-opacity=\"1\" stroke-width=\"0\"/>\n",
       "<circle clip-path=\"url(#clip302)\" cx=\"5517.65\" cy=\"1072\" r=\"7\" fill=\"#009af9\" fill-rule=\"evenodd\" fill-opacity=\"1\" stroke=\"#000000\" stroke-opacity=\"1\" stroke-width=\"0\"/>\n",
       "<circle clip-path=\"url(#clip302)\" cx=\"5976.31\" cy=\"787.742\" r=\"7\" fill=\"#009af9\" fill-rule=\"evenodd\" fill-opacity=\"1\" stroke=\"#000000\" stroke-opacity=\"1\" stroke-width=\"0\"/>\n",
       "<circle clip-path=\"url(#clip302)\" cx=\"5699.35\" cy=\"964.826\" r=\"7\" fill=\"#009af9\" fill-rule=\"evenodd\" fill-opacity=\"1\" stroke=\"#000000\" stroke-opacity=\"1\" stroke-width=\"0\"/>\n",
       "<circle clip-path=\"url(#clip302)\" cx=\"7025.75\" cy=\"136.17\" r=\"7\" fill=\"#009af9\" fill-rule=\"evenodd\" fill-opacity=\"1\" stroke=\"#000000\" stroke-opacity=\"1\" stroke-width=\"0\"/>\n",
       "<circle clip-path=\"url(#clip302)\" cx=\"6256.43\" cy=\"617.528\" r=\"7\" fill=\"#009af9\" fill-rule=\"evenodd\" fill-opacity=\"1\" stroke=\"#000000\" stroke-opacity=\"1\" stroke-width=\"0\"/>\n",
       "<circle clip-path=\"url(#clip302)\" cx=\"6810.58\" cy=\"271.283\" r=\"7\" fill=\"#009af9\" fill-rule=\"evenodd\" fill-opacity=\"1\" stroke=\"#000000\" stroke-opacity=\"1\" stroke-width=\"0\"/>\n",
       "<circle clip-path=\"url(#clip302)\" cx=\"5943.58\" cy=\"808.562\" r=\"7\" fill=\"#009af9\" fill-rule=\"evenodd\" fill-opacity=\"1\" stroke=\"#000000\" stroke-opacity=\"1\" stroke-width=\"0\"/>\n",
       "<circle clip-path=\"url(#clip302)\" cx=\"5380.88\" cy=\"1166.58\" r=\"7\" fill=\"#009af9\" fill-rule=\"evenodd\" fill-opacity=\"1\" stroke=\"#000000\" stroke-opacity=\"1\" stroke-width=\"0\"/>\n",
       "<circle clip-path=\"url(#clip302)\" cx=\"6941.49\" cy=\"182.616\" r=\"7\" fill=\"#009af9\" fill-rule=\"evenodd\" fill-opacity=\"1\" stroke=\"#000000\" stroke-opacity=\"1\" stroke-width=\"0\"/>\n",
       "<circle clip-path=\"url(#clip302)\" cx=\"7088.51\" cy=\"83.7868\" r=\"7\" fill=\"#009af9\" fill-rule=\"evenodd\" fill-opacity=\"1\" stroke=\"#000000\" stroke-opacity=\"1\" stroke-width=\"0\"/>\n",
       "<circle clip-path=\"url(#clip302)\" cx=\"5671.02\" cy=\"978.307\" r=\"7\" fill=\"#009af9\" fill-rule=\"evenodd\" fill-opacity=\"1\" stroke=\"#000000\" stroke-opacity=\"1\" stroke-width=\"0\"/>\n",
       "<circle clip-path=\"url(#clip302)\" cx=\"5154.24\" cy=\"1301.88\" r=\"7\" fill=\"#009af9\" fill-rule=\"evenodd\" fill-opacity=\"1\" stroke=\"#000000\" stroke-opacity=\"1\" stroke-width=\"0\"/>\n",
       "<circle clip-path=\"url(#clip302)\" cx=\"6661.36\" cy=\"357.212\" r=\"7\" fill=\"#009af9\" fill-rule=\"evenodd\" fill-opacity=\"1\" stroke=\"#000000\" stroke-opacity=\"1\" stroke-width=\"0\"/>\n",
       "<circle clip-path=\"url(#clip302)\" cx=\"6581.99\" cy=\"415.181\" r=\"7\" fill=\"#009af9\" fill-rule=\"evenodd\" fill-opacity=\"1\" stroke=\"#000000\" stroke-opacity=\"1\" stroke-width=\"0\"/>\n",
       "<circle clip-path=\"url(#clip302)\" cx=\"5315.43\" cy=\"1207.72\" r=\"7\" fill=\"#009af9\" fill-rule=\"evenodd\" fill-opacity=\"1\" stroke=\"#000000\" stroke-opacity=\"1\" stroke-width=\"0\"/>\n",
       "<circle clip-path=\"url(#clip302)\" cx=\"5311.52\" cy=\"1203.6\" r=\"7\" fill=\"#009af9\" fill-rule=\"evenodd\" fill-opacity=\"1\" stroke=\"#000000\" stroke-opacity=\"1\" stroke-width=\"0\"/>\n",
       "<circle clip-path=\"url(#clip302)\" cx=\"5815.12\" cy=\"878.451\" r=\"7\" fill=\"#009af9\" fill-rule=\"evenodd\" fill-opacity=\"1\" stroke=\"#000000\" stroke-opacity=\"1\" stroke-width=\"0\"/>\n",
       "<circle clip-path=\"url(#clip302)\" cx=\"5835.14\" cy=\"872.316\" r=\"7\" fill=\"#009af9\" fill-rule=\"evenodd\" fill-opacity=\"1\" stroke=\"#000000\" stroke-opacity=\"1\" stroke-width=\"0\"/>\n",
       "<circle clip-path=\"url(#clip302)\" cx=\"6632.54\" cy=\"370.427\" r=\"7\" fill=\"#009af9\" fill-rule=\"evenodd\" fill-opacity=\"1\" stroke=\"#000000\" stroke-opacity=\"1\" stroke-width=\"0\"/>\n",
       "<circle clip-path=\"url(#clip302)\" cx=\"6265.96\" cy=\"596.465\" r=\"7\" fill=\"#009af9\" fill-rule=\"evenodd\" fill-opacity=\"1\" stroke=\"#000000\" stroke-opacity=\"1\" stroke-width=\"0\"/>\n",
       "<circle clip-path=\"url(#clip302)\" cx=\"6581.26\" cy=\"422.355\" r=\"7\" fill=\"#009af9\" fill-rule=\"evenodd\" fill-opacity=\"1\" stroke=\"#000000\" stroke-opacity=\"1\" stroke-width=\"0\"/>\n",
       "<circle clip-path=\"url(#clip302)\" cx=\"6711.67\" cy=\"321.997\" r=\"7\" fill=\"#009af9\" fill-rule=\"evenodd\" fill-opacity=\"1\" stroke=\"#000000\" stroke-opacity=\"1\" stroke-width=\"0\"/>\n",
       "<circle clip-path=\"url(#clip302)\" cx=\"5937.47\" cy=\"811.243\" r=\"7\" fill=\"#009af9\" fill-rule=\"evenodd\" fill-opacity=\"1\" stroke=\"#000000\" stroke-opacity=\"1\" stroke-width=\"0\"/>\n",
       "<circle clip-path=\"url(#clip302)\" cx=\"6140.67\" cy=\"680.828\" r=\"7\" fill=\"#009af9\" fill-rule=\"evenodd\" fill-opacity=\"1\" stroke=\"#000000\" stroke-opacity=\"1\" stroke-width=\"0\"/>\n",
       "<circle clip-path=\"url(#clip302)\" cx=\"6855.77\" cy=\"234.189\" r=\"7\" fill=\"#009af9\" fill-rule=\"evenodd\" fill-opacity=\"1\" stroke=\"#000000\" stroke-opacity=\"1\" stroke-width=\"0\"/>\n",
       "<circle clip-path=\"url(#clip302)\" cx=\"5520.09\" cy=\"1078.37\" r=\"7\" fill=\"#009af9\" fill-rule=\"evenodd\" fill-opacity=\"1\" stroke=\"#000000\" stroke-opacity=\"1\" stroke-width=\"0\"/>\n",
       "<circle clip-path=\"url(#clip302)\" cx=\"6917.8\" cy=\"208.576\" r=\"7\" fill=\"#009af9\" fill-rule=\"evenodd\" fill-opacity=\"1\" stroke=\"#000000\" stroke-opacity=\"1\" stroke-width=\"0\"/>\n",
       "<circle clip-path=\"url(#clip302)\" cx=\"5210.41\" cy=\"1277.51\" r=\"7\" fill=\"#009af9\" fill-rule=\"evenodd\" fill-opacity=\"1\" stroke=\"#000000\" stroke-opacity=\"1\" stroke-width=\"0\"/>\n",
       "<circle clip-path=\"url(#clip302)\" cx=\"5497.38\" cy=\"1087.73\" r=\"7\" fill=\"#009af9\" fill-rule=\"evenodd\" fill-opacity=\"1\" stroke=\"#000000\" stroke-opacity=\"1\" stroke-width=\"0\"/>\n",
       "<circle clip-path=\"url(#clip302)\" cx=\"7006.45\" cy=\"166.024\" r=\"7\" fill=\"#009af9\" fill-rule=\"evenodd\" fill-opacity=\"1\" stroke=\"#000000\" stroke-opacity=\"1\" stroke-width=\"0\"/>\n",
       "<circle clip-path=\"url(#clip302)\" cx=\"6448.89\" cy=\"503.776\" r=\"7\" fill=\"#009af9\" fill-rule=\"evenodd\" fill-opacity=\"1\" stroke=\"#000000\" stroke-opacity=\"1\" stroke-width=\"0\"/>\n",
       "<circle clip-path=\"url(#clip302)\" cx=\"6878.72\" cy=\"227.389\" r=\"7\" fill=\"#009af9\" fill-rule=\"evenodd\" fill-opacity=\"1\" stroke=\"#000000\" stroke-opacity=\"1\" stroke-width=\"0\"/>\n",
       "<circle clip-path=\"url(#clip302)\" cx=\"6913.4\" cy=\"200.985\" r=\"7\" fill=\"#009af9\" fill-rule=\"evenodd\" fill-opacity=\"1\" stroke=\"#000000\" stroke-opacity=\"1\" stroke-width=\"0\"/>\n",
       "<circle clip-path=\"url(#clip302)\" cx=\"5415.32\" cy=\"1143.22\" r=\"7\" fill=\"#009af9\" fill-rule=\"evenodd\" fill-opacity=\"1\" stroke=\"#000000\" stroke-opacity=\"1\" stroke-width=\"0\"/>\n",
       "<circle clip-path=\"url(#clip302)\" cx=\"6958.34\" cy=\"184.949\" r=\"7\" fill=\"#009af9\" fill-rule=\"evenodd\" fill-opacity=\"1\" stroke=\"#000000\" stroke-opacity=\"1\" stroke-width=\"0\"/>\n",
       "<circle clip-path=\"url(#clip302)\" cx=\"5171.82\" cy=\"1287.62\" r=\"7\" fill=\"#009af9\" fill-rule=\"evenodd\" fill-opacity=\"1\" stroke=\"#000000\" stroke-opacity=\"1\" stroke-width=\"0\"/>\n",
       "<circle clip-path=\"url(#clip302)\" cx=\"5748.2\" cy=\"941.273\" r=\"7\" fill=\"#009af9\" fill-rule=\"evenodd\" fill-opacity=\"1\" stroke=\"#000000\" stroke-opacity=\"1\" stroke-width=\"0\"/>\n",
       "<circle clip-path=\"url(#clip302)\" cx=\"6581.26\" cy=\"414.256\" r=\"7\" fill=\"#009af9\" fill-rule=\"evenodd\" fill-opacity=\"1\" stroke=\"#000000\" stroke-opacity=\"1\" stroke-width=\"0\"/>\n",
       "<circle clip-path=\"url(#clip302)\" cx=\"6803.26\" cy=\"281.065\" r=\"7\" fill=\"#009af9\" fill-rule=\"evenodd\" fill-opacity=\"1\" stroke=\"#000000\" stroke-opacity=\"1\" stroke-width=\"0\"/>\n",
       "<circle clip-path=\"url(#clip302)\" cx=\"5148.38\" cy=\"1286.69\" r=\"7\" fill=\"#009af9\" fill-rule=\"evenodd\" fill-opacity=\"1\" stroke=\"#000000\" stroke-opacity=\"1\" stroke-width=\"0\"/>\n",
       "<circle clip-path=\"url(#clip302)\" cx=\"5490.78\" cy=\"1093.89\" r=\"7\" fill=\"#009af9\" fill-rule=\"evenodd\" fill-opacity=\"1\" stroke=\"#000000\" stroke-opacity=\"1\" stroke-width=\"0\"/>\n",
       "<circle clip-path=\"url(#clip302)\" cx=\"5993.65\" cy=\"780.148\" r=\"7\" fill=\"#009af9\" fill-rule=\"evenodd\" fill-opacity=\"1\" stroke=\"#000000\" stroke-opacity=\"1\" stroke-width=\"0\"/>\n",
       "<circle clip-path=\"url(#clip302)\" cx=\"5865.18\" cy=\"862.053\" r=\"7\" fill=\"#009af9\" fill-rule=\"evenodd\" fill-opacity=\"1\" stroke=\"#000000\" stroke-opacity=\"1\" stroke-width=\"0\"/>\n",
       "<circle clip-path=\"url(#clip302)\" cx=\"5888.14\" cy=\"838.135\" r=\"7\" fill=\"#009af9\" fill-rule=\"evenodd\" fill-opacity=\"1\" stroke=\"#000000\" stroke-opacity=\"1\" stroke-width=\"0\"/>\n",
       "<circle clip-path=\"url(#clip302)\" cx=\"6793\" cy=\"273.724\" r=\"7\" fill=\"#009af9\" fill-rule=\"evenodd\" fill-opacity=\"1\" stroke=\"#000000\" stroke-opacity=\"1\" stroke-width=\"0\"/>\n",
       "<circle clip-path=\"url(#clip302)\" cx=\"5426.06\" cy=\"1146.55\" r=\"7\" fill=\"#009af9\" fill-rule=\"evenodd\" fill-opacity=\"1\" stroke=\"#000000\" stroke-opacity=\"1\" stroke-width=\"0\"/>\n",
       "<circle clip-path=\"url(#clip302)\" cx=\"6238.61\" cy=\"612.997\" r=\"7\" fill=\"#009af9\" fill-rule=\"evenodd\" fill-opacity=\"1\" stroke=\"#000000\" stroke-opacity=\"1\" stroke-width=\"0\"/>\n",
       "<circle clip-path=\"url(#clip302)\" cx=\"6377.33\" cy=\"544.513\" r=\"7\" fill=\"#009af9\" fill-rule=\"evenodd\" fill-opacity=\"1\" stroke=\"#000000\" stroke-opacity=\"1\" stroke-width=\"0\"/>\n",
       "<circle clip-path=\"url(#clip302)\" cx=\"6481.61\" cy=\"487.21\" r=\"7\" fill=\"#009af9\" fill-rule=\"evenodd\" fill-opacity=\"1\" stroke=\"#000000\" stroke-opacity=\"1\" stroke-width=\"0\"/>\n",
       "<circle clip-path=\"url(#clip302)\" cx=\"7076.55\" cy=\"112.236\" r=\"7\" fill=\"#009af9\" fill-rule=\"evenodd\" fill-opacity=\"1\" stroke=\"#000000\" stroke-opacity=\"1\" stroke-width=\"0\"/>\n",
       "<circle clip-path=\"url(#clip302)\" cx=\"6006.35\" cy=\"768.773\" r=\"7\" fill=\"#009af9\" fill-rule=\"evenodd\" fill-opacity=\"1\" stroke=\"#000000\" stroke-opacity=\"1\" stroke-width=\"0\"/>\n",
       "<circle clip-path=\"url(#clip302)\" cx=\"5322.27\" cy=\"1196.99\" r=\"7\" fill=\"#009af9\" fill-rule=\"evenodd\" fill-opacity=\"1\" stroke=\"#000000\" stroke-opacity=\"1\" stroke-width=\"0\"/>\n",
       "<circle clip-path=\"url(#clip302)\" cx=\"5355.73\" cy=\"1174.63\" r=\"7\" fill=\"#009af9\" fill-rule=\"evenodd\" fill-opacity=\"1\" stroke=\"#000000\" stroke-opacity=\"1\" stroke-width=\"0\"/>\n",
       "<circle clip-path=\"url(#clip302)\" cx=\"6750.51\" cy=\"315.141\" r=\"7\" fill=\"#009af9\" fill-rule=\"evenodd\" fill-opacity=\"1\" stroke=\"#000000\" stroke-opacity=\"1\" stroke-width=\"0\"/>\n",
       "<circle clip-path=\"url(#clip302)\" cx=\"5979.48\" cy=\"784.528\" r=\"7\" fill=\"#009af9\" fill-rule=\"evenodd\" fill-opacity=\"1\" stroke=\"#000000\" stroke-opacity=\"1\" stroke-width=\"0\"/>\n",
       "<circle clip-path=\"url(#clip302)\" cx=\"5967.76\" cy=\"798.476\" r=\"7\" fill=\"#009af9\" fill-rule=\"evenodd\" fill-opacity=\"1\" stroke=\"#000000\" stroke-opacity=\"1\" stroke-width=\"0\"/>\n",
       "<circle clip-path=\"url(#clip302)\" cx=\"6255.7\" cy=\"618.358\" r=\"7\" fill=\"#009af9\" fill-rule=\"evenodd\" fill-opacity=\"1\" stroke=\"#000000\" stroke-opacity=\"1\" stroke-width=\"0\"/>\n",
       "<circle clip-path=\"url(#clip302)\" cx=\"6722.42\" cy=\"333.336\" r=\"7\" fill=\"#009af9\" fill-rule=\"evenodd\" fill-opacity=\"1\" stroke=\"#000000\" stroke-opacity=\"1\" stroke-width=\"0\"/>\n",
       "<circle clip-path=\"url(#clip302)\" cx=\"5818.05\" cy=\"883.83\" r=\"7\" fill=\"#009af9\" fill-rule=\"evenodd\" fill-opacity=\"1\" stroke=\"#000000\" stroke-opacity=\"1\" stroke-width=\"0\"/>\n",
       "<circle clip-path=\"url(#clip302)\" cx=\"6450.35\" cy=\"487.573\" r=\"7\" fill=\"#009af9\" fill-rule=\"evenodd\" fill-opacity=\"1\" stroke=\"#000000\" stroke-opacity=\"1\" stroke-width=\"0\"/>\n",
       "<circle clip-path=\"url(#clip302)\" cx=\"6136.76\" cy=\"690.903\" r=\"7\" fill=\"#009af9\" fill-rule=\"evenodd\" fill-opacity=\"1\" stroke=\"#000000\" stroke-opacity=\"1\" stroke-width=\"0\"/>\n",
       "<circle clip-path=\"url(#clip302)\" cx=\"6020.51\" cy=\"771.312\" r=\"7\" fill=\"#009af9\" fill-rule=\"evenodd\" fill-opacity=\"1\" stroke=\"#000000\" stroke-opacity=\"1\" stroke-width=\"0\"/>\n",
       "<circle clip-path=\"url(#clip302)\" cx=\"6571.49\" cy=\"426.29\" r=\"7\" fill=\"#009af9\" fill-rule=\"evenodd\" fill-opacity=\"1\" stroke=\"#000000\" stroke-opacity=\"1\" stroke-width=\"0\"/>\n",
       "<circle clip-path=\"url(#clip302)\" cx=\"5968.25\" cy=\"785.953\" r=\"7\" fill=\"#009af9\" fill-rule=\"evenodd\" fill-opacity=\"1\" stroke=\"#000000\" stroke-opacity=\"1\" stroke-width=\"0\"/>\n",
       "<circle clip-path=\"url(#clip302)\" cx=\"6383.92\" cy=\"534.955\" r=\"7\" fill=\"#009af9\" fill-rule=\"evenodd\" fill-opacity=\"1\" stroke=\"#000000\" stroke-opacity=\"1\" stroke-width=\"0\"/>\n",
       "<circle clip-path=\"url(#clip302)\" cx=\"5581.64\" cy=\"1030.81\" r=\"7\" fill=\"#009af9\" fill-rule=\"evenodd\" fill-opacity=\"1\" stroke=\"#000000\" stroke-opacity=\"1\" stroke-width=\"0\"/>\n",
       "<circle clip-path=\"url(#clip302)\" cx=\"6634.01\" cy=\"343.409\" r=\"7\" fill=\"#009af9\" fill-rule=\"evenodd\" fill-opacity=\"1\" stroke=\"#000000\" stroke-opacity=\"1\" stroke-width=\"0\"/>\n",
       "<circle clip-path=\"url(#clip302)\" cx=\"5994.87\" cy=\"784.04\" r=\"7\" fill=\"#009af9\" fill-rule=\"evenodd\" fill-opacity=\"1\" stroke=\"#000000\" stroke-opacity=\"1\" stroke-width=\"0\"/>\n",
       "<circle clip-path=\"url(#clip302)\" cx=\"6291.11\" cy=\"583.203\" r=\"7\" fill=\"#009af9\" fill-rule=\"evenodd\" fill-opacity=\"1\" stroke=\"#000000\" stroke-opacity=\"1\" stroke-width=\"0\"/>\n",
       "<circle clip-path=\"url(#clip302)\" cx=\"5810.97\" cy=\"902.103\" r=\"7\" fill=\"#009af9\" fill-rule=\"evenodd\" fill-opacity=\"1\" stroke=\"#000000\" stroke-opacity=\"1\" stroke-width=\"0\"/>\n",
       "<circle clip-path=\"url(#clip302)\" cx=\"7035.27\" cy=\"117.337\" r=\"7\" fill=\"#009af9\" fill-rule=\"evenodd\" fill-opacity=\"1\" stroke=\"#000000\" stroke-opacity=\"1\" stroke-width=\"0\"/>\n",
       "<circle clip-path=\"url(#clip302)\" cx=\"5771.89\" cy=\"908.075\" r=\"7\" fill=\"#009af9\" fill-rule=\"evenodd\" fill-opacity=\"1\" stroke=\"#000000\" stroke-opacity=\"1\" stroke-width=\"0\"/>\n",
       "<circle clip-path=\"url(#clip302)\" cx=\"5554.53\" cy=\"1050.17\" r=\"7\" fill=\"#009af9\" fill-rule=\"evenodd\" fill-opacity=\"1\" stroke=\"#000000\" stroke-opacity=\"1\" stroke-width=\"0\"/>\n",
       "<circle clip-path=\"url(#clip302)\" cx=\"5325.44\" cy=\"1191.71\" r=\"7\" fill=\"#009af9\" fill-rule=\"evenodd\" fill-opacity=\"1\" stroke=\"#000000\" stroke-opacity=\"1\" stroke-width=\"0\"/>\n",
       "<circle clip-path=\"url(#clip302)\" cx=\"6908.76\" cy=\"206.232\" r=\"7\" fill=\"#009af9\" fill-rule=\"evenodd\" fill-opacity=\"1\" stroke=\"#000000\" stroke-opacity=\"1\" stroke-width=\"0\"/>\n",
       "<circle clip-path=\"url(#clip302)\" cx=\"6494.8\" cy=\"482.445\" r=\"7\" fill=\"#009af9\" fill-rule=\"evenodd\" fill-opacity=\"1\" stroke=\"#000000\" stroke-opacity=\"1\" stroke-width=\"0\"/>\n",
       "<circle clip-path=\"url(#clip302)\" cx=\"6623.26\" cy=\"400.185\" r=\"7\" fill=\"#009af9\" fill-rule=\"evenodd\" fill-opacity=\"1\" stroke=\"#000000\" stroke-opacity=\"1\" stroke-width=\"0\"/>\n",
       "<circle clip-path=\"url(#clip302)\" cx=\"6005.86\" cy=\"764.738\" r=\"7\" fill=\"#009af9\" fill-rule=\"evenodd\" fill-opacity=\"1\" stroke=\"#000000\" stroke-opacity=\"1\" stroke-width=\"0\"/>\n",
       "<circle clip-path=\"url(#clip302)\" cx=\"5390.9\" cy=\"1172.69\" r=\"7\" fill=\"#009af9\" fill-rule=\"evenodd\" fill-opacity=\"1\" stroke=\"#000000\" stroke-opacity=\"1\" stroke-width=\"0\"/>\n",
       "<circle clip-path=\"url(#clip302)\" cx=\"5704.24\" cy=\"964.309\" r=\"7\" fill=\"#009af9\" fill-rule=\"evenodd\" fill-opacity=\"1\" stroke=\"#000000\" stroke-opacity=\"1\" stroke-width=\"0\"/>\n",
       "<circle clip-path=\"url(#clip302)\" cx=\"6220.05\" cy=\"634.432\" r=\"7\" fill=\"#009af9\" fill-rule=\"evenodd\" fill-opacity=\"1\" stroke=\"#000000\" stroke-opacity=\"1\" stroke-width=\"0\"/>\n",
       "<circle clip-path=\"url(#clip302)\" cx=\"6789.83\" cy=\"299.621\" r=\"7\" fill=\"#009af9\" fill-rule=\"evenodd\" fill-opacity=\"1\" stroke=\"#000000\" stroke-opacity=\"1\" stroke-width=\"0\"/>\n",
       "<circle clip-path=\"url(#clip302)\" cx=\"5396.27\" cy=\"1150.51\" r=\"7\" fill=\"#009af9\" fill-rule=\"evenodd\" fill-opacity=\"1\" stroke=\"#000000\" stroke-opacity=\"1\" stroke-width=\"0\"/>\n",
       "<circle clip-path=\"url(#clip302)\" cx=\"7023.79\" cy=\"135.462\" r=\"7\" fill=\"#009af9\" fill-rule=\"evenodd\" fill-opacity=\"1\" stroke=\"#000000\" stroke-opacity=\"1\" stroke-width=\"0\"/>\n",
       "<circle clip-path=\"url(#clip302)\" cx=\"6158.99\" cy=\"691.526\" r=\"7\" fill=\"#009af9\" fill-rule=\"evenodd\" fill-opacity=\"1\" stroke=\"#000000\" stroke-opacity=\"1\" stroke-width=\"0\"/>\n",
       "<circle clip-path=\"url(#clip302)\" cx=\"6872.37\" cy=\"222.092\" r=\"7\" fill=\"#009af9\" fill-rule=\"evenodd\" fill-opacity=\"1\" stroke=\"#000000\" stroke-opacity=\"1\" stroke-width=\"0\"/>\n",
       "<circle clip-path=\"url(#clip302)\" cx=\"5447.31\" cy=\"1122.28\" r=\"7\" fill=\"#009af9\" fill-rule=\"evenodd\" fill-opacity=\"1\" stroke=\"#000000\" stroke-opacity=\"1\" stroke-width=\"0\"/>\n",
       "<circle clip-path=\"url(#clip302)\" cx=\"6867.25\" cy=\"233.68\" r=\"7\" fill=\"#009af9\" fill-rule=\"evenodd\" fill-opacity=\"1\" stroke=\"#000000\" stroke-opacity=\"1\" stroke-width=\"0\"/>\n",
       "<circle clip-path=\"url(#clip302)\" cx=\"6865.05\" cy=\"212.399\" r=\"7\" fill=\"#009af9\" fill-rule=\"evenodd\" fill-opacity=\"1\" stroke=\"#000000\" stroke-opacity=\"1\" stroke-width=\"0\"/>\n",
       "<circle clip-path=\"url(#clip302)\" cx=\"6131.88\" cy=\"689.02\" r=\"7\" fill=\"#009af9\" fill-rule=\"evenodd\" fill-opacity=\"1\" stroke=\"#000000\" stroke-opacity=\"1\" stroke-width=\"0\"/>\n",
       "<circle clip-path=\"url(#clip302)\" cx=\"6898.02\" cy=\"219.429\" r=\"7\" fill=\"#009af9\" fill-rule=\"evenodd\" fill-opacity=\"1\" stroke=\"#000000\" stroke-opacity=\"1\" stroke-width=\"0\"/>\n",
       "<circle clip-path=\"url(#clip302)\" cx=\"7009.63\" cy=\"157.142\" r=\"7\" fill=\"#009af9\" fill-rule=\"evenodd\" fill-opacity=\"1\" stroke=\"#000000\" stroke-opacity=\"1\" stroke-width=\"0\"/>\n",
       "<circle clip-path=\"url(#clip302)\" cx=\"5288.81\" cy=\"1221.25\" r=\"7\" fill=\"#009af9\" fill-rule=\"evenodd\" fill-opacity=\"1\" stroke=\"#000000\" stroke-opacity=\"1\" stroke-width=\"0\"/>\n",
       "<circle clip-path=\"url(#clip302)\" cx=\"6515.31\" cy=\"460.528\" r=\"7\" fill=\"#009af9\" fill-rule=\"evenodd\" fill-opacity=\"1\" stroke=\"#000000\" stroke-opacity=\"1\" stroke-width=\"0\"/>\n",
       "<circle clip-path=\"url(#clip302)\" cx=\"5229.95\" cy=\"1256.65\" r=\"7\" fill=\"#009af9\" fill-rule=\"evenodd\" fill-opacity=\"1\" stroke=\"#000000\" stroke-opacity=\"1\" stroke-width=\"0\"/>\n",
       "<circle clip-path=\"url(#clip302)\" cx=\"6449.86\" cy=\"482.367\" r=\"7\" fill=\"#009af9\" fill-rule=\"evenodd\" fill-opacity=\"1\" stroke=\"#000000\" stroke-opacity=\"1\" stroke-width=\"0\"/>\n",
       "<circle clip-path=\"url(#clip302)\" cx=\"5965.32\" cy=\"795.843\" r=\"7\" fill=\"#009af9\" fill-rule=\"evenodd\" fill-opacity=\"1\" stroke=\"#000000\" stroke-opacity=\"1\" stroke-width=\"0\"/>\n",
       "<circle clip-path=\"url(#clip302)\" cx=\"6138.72\" cy=\"683.682\" r=\"7\" fill=\"#009af9\" fill-rule=\"evenodd\" fill-opacity=\"1\" stroke=\"#000000\" stroke-opacity=\"1\" stroke-width=\"0\"/>\n",
       "<circle clip-path=\"url(#clip302)\" cx=\"5952.86\" cy=\"810.396\" r=\"7\" fill=\"#009af9\" fill-rule=\"evenodd\" fill-opacity=\"1\" stroke=\"#000000\" stroke-opacity=\"1\" stroke-width=\"0\"/>\n",
       "<circle clip-path=\"url(#clip302)\" cx=\"5704.73\" cy=\"958.622\" r=\"7\" fill=\"#009af9\" fill-rule=\"evenodd\" fill-opacity=\"1\" stroke=\"#000000\" stroke-opacity=\"1\" stroke-width=\"0\"/>\n",
       "<circle clip-path=\"url(#clip302)\" cx=\"6096.71\" cy=\"725.016\" r=\"7\" fill=\"#009af9\" fill-rule=\"evenodd\" fill-opacity=\"1\" stroke=\"#000000\" stroke-opacity=\"1\" stroke-width=\"0\"/>\n",
       "<circle clip-path=\"url(#clip302)\" cx=\"6192.94\" cy=\"671.498\" r=\"7\" fill=\"#009af9\" fill-rule=\"evenodd\" fill-opacity=\"1\" stroke=\"#000000\" stroke-opacity=\"1\" stroke-width=\"0\"/>\n",
       "<circle clip-path=\"url(#clip302)\" cx=\"5809.99\" cy=\"887.322\" r=\"7\" fill=\"#009af9\" fill-rule=\"evenodd\" fill-opacity=\"1\" stroke=\"#000000\" stroke-opacity=\"1\" stroke-width=\"0\"/>\n",
       "<circle clip-path=\"url(#clip302)\" cx=\"6523.86\" cy=\"447.059\" r=\"7\" fill=\"#009af9\" fill-rule=\"evenodd\" fill-opacity=\"1\" stroke=\"#000000\" stroke-opacity=\"1\" stroke-width=\"0\"/>\n",
       "<circle clip-path=\"url(#clip302)\" cx=\"5394.56\" cy=\"1158.79\" r=\"7\" fill=\"#009af9\" fill-rule=\"evenodd\" fill-opacity=\"1\" stroke=\"#000000\" stroke-opacity=\"1\" stroke-width=\"0\"/>\n",
       "<circle clip-path=\"url(#clip302)\" cx=\"5154.24\" cy=\"1296.41\" r=\"7\" fill=\"#009af9\" fill-rule=\"evenodd\" fill-opacity=\"1\" stroke=\"#000000\" stroke-opacity=\"1\" stroke-width=\"0\"/>\n",
       "<circle clip-path=\"url(#clip302)\" cx=\"6669.67\" cy=\"354.06\" r=\"7\" fill=\"#009af9\" fill-rule=\"evenodd\" fill-opacity=\"1\" stroke=\"#000000\" stroke-opacity=\"1\" stroke-width=\"0\"/>\n",
       "<circle clip-path=\"url(#clip302)\" cx=\"5974.84\" cy=\"787.246\" r=\"7\" fill=\"#009af9\" fill-rule=\"evenodd\" fill-opacity=\"1\" stroke=\"#000000\" stroke-opacity=\"1\" stroke-width=\"0\"/>\n",
       "<circle clip-path=\"url(#clip302)\" cx=\"5739.65\" cy=\"930.128\" r=\"7\" fill=\"#009af9\" fill-rule=\"evenodd\" fill-opacity=\"1\" stroke=\"#000000\" stroke-opacity=\"1\" stroke-width=\"0\"/>\n",
       "<circle clip-path=\"url(#clip302)\" cx=\"6159.97\" cy=\"675.422\" r=\"7\" fill=\"#009af9\" fill-rule=\"evenodd\" fill-opacity=\"1\" stroke=\"#000000\" stroke-opacity=\"1\" stroke-width=\"0\"/>\n",
       "<circle clip-path=\"url(#clip302)\" cx=\"5825.62\" cy=\"877.869\" r=\"7\" fill=\"#009af9\" fill-rule=\"evenodd\" fill-opacity=\"1\" stroke=\"#000000\" stroke-opacity=\"1\" stroke-width=\"0\"/>\n",
       "<circle clip-path=\"url(#clip302)\" cx=\"5482.48\" cy=\"1092.7\" r=\"7\" fill=\"#009af9\" fill-rule=\"evenodd\" fill-opacity=\"1\" stroke=\"#000000\" stroke-opacity=\"1\" stroke-width=\"0\"/>\n",
       "<circle clip-path=\"url(#clip302)\" cx=\"6924.15\" cy=\"200.423\" r=\"7\" fill=\"#009af9\" fill-rule=\"evenodd\" fill-opacity=\"1\" stroke=\"#000000\" stroke-opacity=\"1\" stroke-width=\"0\"/>\n",
       "<circle clip-path=\"url(#clip302)\" cx=\"6260.1\" cy=\"599.815\" r=\"7\" fill=\"#009af9\" fill-rule=\"evenodd\" fill-opacity=\"1\" stroke=\"#000000\" stroke-opacity=\"1\" stroke-width=\"0\"/>\n",
       "<circle clip-path=\"url(#clip302)\" cx=\"5404.57\" cy=\"1142.79\" r=\"7\" fill=\"#009af9\" fill-rule=\"evenodd\" fill-opacity=\"1\" stroke=\"#000000\" stroke-opacity=\"1\" stroke-width=\"0\"/>\n",
       "<circle clip-path=\"url(#clip302)\" cx=\"6874.82\" cy=\"232.856\" r=\"7\" fill=\"#009af9\" fill-rule=\"evenodd\" fill-opacity=\"1\" stroke=\"#000000\" stroke-opacity=\"1\" stroke-width=\"0\"/>\n",
       "<circle clip-path=\"url(#clip302)\" cx=\"6814.98\" cy=\"263.568\" r=\"7\" fill=\"#009af9\" fill-rule=\"evenodd\" fill-opacity=\"1\" stroke=\"#000000\" stroke-opacity=\"1\" stroke-width=\"0\"/>\n",
       "<circle clip-path=\"url(#clip302)\" cx=\"5770.42\" cy=\"912.872\" r=\"7\" fill=\"#009af9\" fill-rule=\"evenodd\" fill-opacity=\"1\" stroke=\"#000000\" stroke-opacity=\"1\" stroke-width=\"0\"/>\n",
       "<circle clip-path=\"url(#clip302)\" cx=\"6326.04\" cy=\"563.075\" r=\"7\" fill=\"#009af9\" fill-rule=\"evenodd\" fill-opacity=\"1\" stroke=\"#000000\" stroke-opacity=\"1\" stroke-width=\"0\"/>\n",
       "<circle clip-path=\"url(#clip302)\" cx=\"6629.61\" cy=\"386.111\" r=\"7\" fill=\"#009af9\" fill-rule=\"evenodd\" fill-opacity=\"1\" stroke=\"#000000\" stroke-opacity=\"1\" stroke-width=\"0\"/>\n",
       "<circle clip-path=\"url(#clip302)\" cx=\"7023.55\" cy=\"135.144\" r=\"7\" fill=\"#009af9\" fill-rule=\"evenodd\" fill-opacity=\"1\" stroke=\"#000000\" stroke-opacity=\"1\" stroke-width=\"0\"/>\n",
       "<circle clip-path=\"url(#clip302)\" cx=\"6170.96\" cy=\"671.786\" r=\"7\" fill=\"#009af9\" fill-rule=\"evenodd\" fill-opacity=\"1\" stroke=\"#000000\" stroke-opacity=\"1\" stroke-width=\"0\"/>\n",
       "<circle clip-path=\"url(#clip302)\" cx=\"5364.03\" cy=\"1176.46\" r=\"7\" fill=\"#009af9\" fill-rule=\"evenodd\" fill-opacity=\"1\" stroke=\"#000000\" stroke-opacity=\"1\" stroke-width=\"0\"/>\n",
       "<circle clip-path=\"url(#clip302)\" cx=\"5735.99\" cy=\"936.861\" r=\"7\" fill=\"#009af9\" fill-rule=\"evenodd\" fill-opacity=\"1\" stroke=\"#000000\" stroke-opacity=\"1\" stroke-width=\"0\"/>\n",
       "<circle clip-path=\"url(#clip302)\" cx=\"6972.02\" cy=\"163.522\" r=\"7\" fill=\"#009af9\" fill-rule=\"evenodd\" fill-opacity=\"1\" stroke=\"#000000\" stroke-opacity=\"1\" stroke-width=\"0\"/>\n",
       "<circle clip-path=\"url(#clip302)\" cx=\"5372.09\" cy=\"1160.17\" r=\"7\" fill=\"#009af9\" fill-rule=\"evenodd\" fill-opacity=\"1\" stroke=\"#000000\" stroke-opacity=\"1\" stroke-width=\"0\"/>\n",
       "<circle clip-path=\"url(#clip302)\" cx=\"5716.69\" cy=\"944.9\" r=\"7\" fill=\"#009af9\" fill-rule=\"evenodd\" fill-opacity=\"1\" stroke=\"#000000\" stroke-opacity=\"1\" stroke-width=\"0\"/>\n",
       "<circle clip-path=\"url(#clip302)\" cx=\"5168.41\" cy=\"1286.5\" r=\"7\" fill=\"#009af9\" fill-rule=\"evenodd\" fill-opacity=\"1\" stroke=\"#000000\" stroke-opacity=\"1\" stroke-width=\"0\"/>\n",
       "<circle clip-path=\"url(#clip302)\" cx=\"6969.33\" cy=\"171.571\" r=\"7\" fill=\"#009af9\" fill-rule=\"evenodd\" fill-opacity=\"1\" stroke=\"#000000\" stroke-opacity=\"1\" stroke-width=\"0\"/>\n",
       "<circle clip-path=\"url(#clip302)\" cx=\"6098.66\" cy=\"715.614\" r=\"7\" fill=\"#009af9\" fill-rule=\"evenodd\" fill-opacity=\"1\" stroke=\"#000000\" stroke-opacity=\"1\" stroke-width=\"0\"/>\n",
       "<circle clip-path=\"url(#clip302)\" cx=\"6172.91\" cy=\"675.408\" r=\"7\" fill=\"#009af9\" fill-rule=\"evenodd\" fill-opacity=\"1\" stroke=\"#000000\" stroke-opacity=\"1\" stroke-width=\"0\"/>\n",
       "<circle clip-path=\"url(#clip302)\" cx=\"6038.1\" cy=\"744.628\" r=\"7\" fill=\"#009af9\" fill-rule=\"evenodd\" fill-opacity=\"1\" stroke=\"#000000\" stroke-opacity=\"1\" stroke-width=\"0\"/>\n",
       "<circle clip-path=\"url(#clip302)\" cx=\"6464.76\" cy=\"489.179\" r=\"7\" fill=\"#009af9\" fill-rule=\"evenodd\" fill-opacity=\"1\" stroke=\"#000000\" stroke-opacity=\"1\" stroke-width=\"0\"/>\n",
       "<circle clip-path=\"url(#clip302)\" cx=\"6905.59\" cy=\"212.971\" r=\"7\" fill=\"#009af9\" fill-rule=\"evenodd\" fill-opacity=\"1\" stroke=\"#000000\" stroke-opacity=\"1\" stroke-width=\"0\"/>\n",
       "<circle clip-path=\"url(#clip302)\" cx=\"5719.14\" cy=\"950.785\" r=\"7\" fill=\"#009af9\" fill-rule=\"evenodd\" fill-opacity=\"1\" stroke=\"#000000\" stroke-opacity=\"1\" stroke-width=\"0\"/>\n",
       "<circle clip-path=\"url(#clip302)\" cx=\"6039.32\" cy=\"754.669\" r=\"7\" fill=\"#009af9\" fill-rule=\"evenodd\" fill-opacity=\"1\" stroke=\"#000000\" stroke-opacity=\"1\" stroke-width=\"0\"/>\n",
       "<circle clip-path=\"url(#clip302)\" cx=\"6072.29\" cy=\"720.61\" r=\"7\" fill=\"#009af9\" fill-rule=\"evenodd\" fill-opacity=\"1\" stroke=\"#000000\" stroke-opacity=\"1\" stroke-width=\"0\"/>\n",
       "<circle clip-path=\"url(#clip302)\" cx=\"5293.21\" cy=\"1219.26\" r=\"7\" fill=\"#009af9\" fill-rule=\"evenodd\" fill-opacity=\"1\" stroke=\"#000000\" stroke-opacity=\"1\" stroke-width=\"0\"/>\n",
       "<circle clip-path=\"url(#clip302)\" cx=\"6522.64\" cy=\"443.565\" r=\"7\" fill=\"#009af9\" fill-rule=\"evenodd\" fill-opacity=\"1\" stroke=\"#000000\" stroke-opacity=\"1\" stroke-width=\"0\"/>\n",
       "<circle clip-path=\"url(#clip302)\" cx=\"5906.7\" cy=\"838.06\" r=\"7\" fill=\"#009af9\" fill-rule=\"evenodd\" fill-opacity=\"1\" stroke=\"#000000\" stroke-opacity=\"1\" stroke-width=\"0\"/>\n",
       "<circle clip-path=\"url(#clip302)\" cx=\"5178.17\" cy=\"1288.57\" r=\"7\" fill=\"#009af9\" fill-rule=\"evenodd\" fill-opacity=\"1\" stroke=\"#000000\" stroke-opacity=\"1\" stroke-width=\"0\"/>\n",
       "<circle clip-path=\"url(#clip302)\" cx=\"5227.75\" cy=\"1263.37\" r=\"7\" fill=\"#009af9\" fill-rule=\"evenodd\" fill-opacity=\"1\" stroke=\"#000000\" stroke-opacity=\"1\" stroke-width=\"0\"/>\n",
       "<circle clip-path=\"url(#clip302)\" cx=\"5337.41\" cy=\"1187.18\" r=\"7\" fill=\"#009af9\" fill-rule=\"evenodd\" fill-opacity=\"1\" stroke=\"#000000\" stroke-opacity=\"1\" stroke-width=\"0\"/>\n",
       "<circle clip-path=\"url(#clip302)\" cx=\"6411.52\" cy=\"503.689\" r=\"7\" fill=\"#009af9\" fill-rule=\"evenodd\" fill-opacity=\"1\" stroke=\"#000000\" stroke-opacity=\"1\" stroke-width=\"0\"/>\n",
       "<circle clip-path=\"url(#clip302)\" cx=\"6379.04\" cy=\"542.937\" r=\"7\" fill=\"#009af9\" fill-rule=\"evenodd\" fill-opacity=\"1\" stroke=\"#000000\" stroke-opacity=\"1\" stroke-width=\"0\"/>\n",
       "</svg>\n"
      ]
     },
     "execution_count": 286,
     "metadata": {},
     "output_type": "execute_result"
    }
   ],
   "source": [
    "x_all = Flux.unsqueeze(data_fid, 3) |> gpu\n",
    "\n",
    "ξ = 0.1f0\n",
    "x_all .= log10.(add_noise(exp10.(x_all), ξ, dist=:uniform))\n",
    "\n",
    "pars_all = pars_fid[1:2, :]\n",
    "cep_all = pars_fid[3:3, :]\n",
    "y_all = vcat(cos.(cep_all), sin.(cep_all)) |> gpu\n",
    "\n",
    "let (x, cep)=(test_data_cep[1], cep_tst), (y, pars)=(test_data_p[1], pars_tst), ind=1\n",
    "    z = M_cep(x)[1:2,:] |> cpu\n",
    "    φ_rec = mapslices(rec_angle, z, dims=1) #atan.(z[2,:], z[1,:]) |> permutedims #\n",
    "    φ_rec[φ_rec .< 0] .+= 2π\n",
    "    \n",
    "    pars_rec = rev_norm(M_pars(y) |> cpu, minmax=(pars_min, pars_max))\n",
    "    pars_unorm = rev_norm(pars |> cpu, minmax=(pars_min, pars_max))\n",
    "    \n",
    "    println(sqrt.(2 .*(1 .- mean(cos.(cpu(cep) .- φ_rec)))))\n",
    "    \n",
    "    p1 = plot(cos.(cep) |> vec |> cpu, cos.(φ_rec) |> vec, seriestype=:scatter, \n",
    "        legend=false, markerstrokealpha=0.0, markerstrokewidth=0, \n",
    "        xlabel=L\"\\cos\\varphi_{true}\", ylabel=L\"\\cos\\varphi_{rec}\", markersize=2, left_margin=10mm, bottom_margin=10mm)\n",
    "    \n",
    "    println(std(pars_rec .- pars_unorm, dims=2))\n",
    "    \n",
    "    pp = [plot(pars_unorm[j,:] |> cpu, pars_rec[j,:] |> cpu, seriestype=:scatter, \n",
    "            legend=false, markerstrokealpha=0.0, markerstrokewidth=0, \n",
    "            xlabel=\"True parameter value, eV\", ylabel=\"Recovered parameter value, eV\", markersize=2) for j=1:2]\n",
    "    \n",
    "    plot(p1, pp..., layout=(1, 3), size=(1800, 400))\n",
    "    \n",
    "    #plot(sum(y.*z_norm, dims=1) |> vec |> cpu, err, marker_z=log10.(norms) |> vec |> cpu, seriestype=:scatter, legend=false, markerstrokewidth=0)\n",
    "    #plot!([0.0], [cos(φ_aug[cs_j+1])], seriestype=:scatter, c=:red)\n",
    "end"
   ]
  },
  {
   "cell_type": "code",
   "execution_count": 279,
   "id": "d4d1fcda",
   "metadata": {},
   "outputs": [],
   "source": [
    "mrk = Dates.format(now(), \"ddmm_HHMM\")\n",
    "\n",
    "savefig(\"output-$mrk.png\")"
   ]
  },
  {
   "cell_type": "code",
   "execution_count": 251,
   "id": "c78d2560",
   "metadata": {},
   "outputs": [
    {
     "name": "stdout",
     "output_type": "stream",
     "text": [
      "Absolute parameter errors:\n",
      "Float32[0.349, 0.893]\n",
      "\n",
      "Relative parameter errors:\n",
      "Float32[80.0, 115.0]\n",
      "\n"
     ]
    }
   ],
   "source": [
    "disp_par_err(M_pars, test_data_p)"
   ]
  },
  {
   "cell_type": "code",
   "execution_count": 266,
   "id": "054e6d83",
   "metadata": {},
   "outputs": [],
   "source": [
    "M_cep = unnest(M_cep, 2);\n",
    "Flux.loadparams!(M_cep, pulse_model)\n",
    "M_cep = unnest(M_cep, size(data_yφ, 1));"
   ]
  },
  {
   "cell_type": "code",
   "execution_count": 68,
   "id": "113a849e",
   "metadata": {},
   "outputs": [
    {
     "name": "stdout",
     "output_type": "stream",
     "text": [
      "0.3957275\n",
      "0.39321405\n"
     ]
    }
   ],
   "source": [
    "println(L_cep_aug(test_data_cep...))\n",
    "println(L_cep_aug(P, R))"
   ]
  },
  {
   "cell_type": "code",
   "execution_count": 267,
   "id": "8d756346",
   "metadata": {},
   "outputs": [],
   "source": [
    "N_epochs = 400\n",
    "opt = Flux.Optimiser(Flux.ExpDecay(0.001, 0.1, length(train_loader_cep)*Int(N_epochs*0.75)), AdaBelief());"
   ]
  },
  {
   "cell_type": "code",
   "execution_count": 280,
   "id": "4c288f7b",
   "metadata": {},
   "outputs": [
    {
     "name": "stdout",
     "output_type": "stream",
     "text": [
      "CEP error:\n",
      "0.0184\n"
     ]
    }
   ],
   "source": [
    "disp_cep_err(M_cep, test_data_cep)"
   ]
  },
  {
   "cell_type": "markdown",
   "id": "60d8e113",
   "metadata": {},
   "source": [
    "Even in spite of training the entire network rather than just the initial layers, the lines below do not result in an overfit. The error when training both the FC and the conv layers is about 0.019, and about 0.072 when you limit it to FC"
   ]
  },
  {
   "cell_type": "code",
   "execution_count": 270,
   "id": "d551e314",
   "metadata": {
    "scrolled": true
   },
   "outputs": [
    {
     "name": "stderr",
     "output_type": "stream",
     "text": [
      "┌ Warning: ProgressMeter by default refresh meters with additional information in IJulia via `IJulia.clear_output`, which clears all outputs in the cell. \n",
      "│  - To prevent this behaviour, do `ProgressMeter.ijulia_behavior(:append)`. \n",
      "│  - To disable this warning message, do `ProgressMeter.ijulia_behavior(:clear)`.\n",
      "└ @ ProgressMeter /home/n.klimkin/.julia/packages/ProgressMeter/l7LEt/src/ProgressMeter.jl:593\n",
      "\u001b[32mProgress: 100%|█████████████████████████████████████████| Time: 0:03:21\u001b[39m\r\n",
      "\u001b[34m  epoch:      400\u001b[39m\r\n",
      "\u001b[34m  loss:       0.00016885783\u001b[39m\r\n",
      "\u001b[34m  loss_test:  0.00019793573\u001b[39m\n"
     ]
    },
    {
     "name": "stdout",
     "output_type": "stream",
     "text": [
      "CEP error:\n",
      "0.0184\n"
     ]
    }
   ],
   "source": [
    "pulse_model_trans, loss = train_NN!(N_epochs, M_cep, train_loader_cep, test_data_cep, L_cep_aug; doplot=true)\n",
    "disp_cep_err(M_cep, test_data_cep)"
   ]
  },
  {
   "cell_type": "code",
   "execution_count": 272,
   "id": "c33e2448",
   "metadata": {},
   "outputs": [],
   "source": [
    "train_loader_p = Flux.Data.DataLoader((P, Q), batchsize=512, shuffle=true);"
   ]
  },
  {
   "cell_type": "code",
   "execution_count": 273,
   "id": "dbd66ddd",
   "metadata": {},
   "outputs": [],
   "source": [
    "N_epochs = 2000\n",
    "opt = Flux.Optimiser(Flux.ExpDecay(0.001, 0.1, length(train_loader_p)*Int(N_epochs*0.95)), AdaBelief());"
   ]
  },
  {
   "cell_type": "code",
   "execution_count": 274,
   "id": "3993ddd5",
   "metadata": {},
   "outputs": [
    {
     "name": "stderr",
     "output_type": "stream",
     "text": [
      "┌ Warning: ProgressMeter by default refresh meters with additional information in IJulia via `IJulia.clear_output`, which clears all outputs in the cell. \n",
      "│  - To prevent this behaviour, do `ProgressMeter.ijulia_behavior(:append)`. \n",
      "│  - To disable this warning message, do `ProgressMeter.ijulia_behavior(:clear)`.\n",
      "└ @ ProgressMeter /home/n.klimkin/.julia/packages/ProgressMeter/l7LEt/src/ProgressMeter.jl:593\n",
      "\u001b[32mProgress: 100%|█████████████████████████████████████████| Time: 0:17:21\u001b[39m\r\n",
      "\u001b[34m  epoch:      2000\u001b[39m\r\n",
      "\u001b[34m  loss:       4.1298277e-5\u001b[39m\r\n",
      "\u001b[34m  loss_test:  4.3213025e-5\u001b[39m\n"
     ]
    },
    {
     "name": "stdout",
     "output_type": "stream",
     "text": [
      "Absolute parameter errors:\n",
      "[0.0211, 0.000534]\n",
      "\n",
      "Relative parameter errors:\n",
      "[0.0039, 0.00455]\n",
      "\n"
     ]
    }
   ],
   "source": [
    "band_model_trans, loss = train_NN!(N_epochs, M_pars, train_loader_p, test_data_p, L_pars_aug; doplot=true)\n",
    "disp_par_err(M_pars, test_data_p; minmax=(pars_min, pars_max))"
   ]
  },
  {
   "cell_type": "code",
   "execution_count": 290,
   "id": "1f56230b",
   "metadata": {},
   "outputs": [],
   "source": [
    "inp_noisy = log10.(add_noise(exp10.(test_data_cep[1]), 0.1f0))\n",
    "\n",
    "pulse_true = test_data_cep[2] |> cpu\n",
    "pulse_infd = inp_noisy |> M_cep |> cpu\n",
    "\n",
    "pars_eval = rev_norm(test_data_p[2] |> cpu; minmax=(pars_min, pars_max))\n",
    "pars_infd = rev_norm(inp_noisy |> M_pars |> cpu; minmax=(pars_min, pars_max));"
   ]
  },
  {
   "cell_type": "code",
   "execution_count": 291,
   "id": "26d86ddd",
   "metadata": {},
   "outputs": [],
   "source": [
    "mrk = Dates.format(now(), \"ddmm_HHMM\")\n",
    "\n",
    "jldopen(\"trained-weights/results-transfer-$prefix-$mrk.jld2\", true, true, true, IOStream) do io\n",
    "    write(io, \"logamp\", logamp)\n",
    "    write(io, \"data_tst\", data_tst)\n",
    "    write(io, \"cep_tst\", cep_tst)\n",
    "    write(io, \"M1\", cpu(collect(band_model)))\n",
    "    write(io, \"M2\", cpu(collect(pulse_model)))\n",
    "    write(io, \"M1t\", cpu(collect(band_model_trans)))\n",
    "    write(io, \"M2t\", cpu(collect(pulse_model_trans)))\n",
    "    write(io, \"cep_model\", cpu(M_cep))\n",
    "    write(io, \"par_model\", cpu(M_pars))\n",
    "    write(io, \"pars_true\", pars_eval)\n",
    "    write(io, \"pars_infd\", pars_infd)\n",
    "    write(io, \"pulse_true\", pulse_true)\n",
    "    write(io, \"pulse_infd\", pulse_infd)\n",
    "end"
   ]
  },
  {
   "cell_type": "code",
   "execution_count": 292,
   "id": "c967e0bf",
   "metadata": {},
   "outputs": [],
   "source": [
    "h5open(\"trained-weights/results-transfer-$prefix-$mrk.hdf5\", \"w\") do io\n",
    "    write(io, \"pars_true\", pars_eval)\n",
    "    write(io, \"pars_infd\", pars_infd)\n",
    "    write(io, \"pulse_true\", pulse_true)\n",
    "    write(io, \"pulse_infd\", pulse_infd)\n",
    "end"
   ]
  }
 ],
 "metadata": {
  "kernelspec": {
   "display_name": "Julia 1.6.1",
   "language": "julia",
   "name": "julia-1.6"
  },
  "language_info": {
   "file_extension": ".jl",
   "mimetype": "application/julia",
   "name": "julia",
   "version": "1.6.1"
  }
 },
 "nbformat": 4,
 "nbformat_minor": 5
}
